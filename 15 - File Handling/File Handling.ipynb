{
 "cells": [
  {
   "cell_type": "markdown",
   "metadata": {},
   "source": [
    "<b><h1 style=\"color:#ff0066;\" ><center>File Handling in Python</center></h1><br>\n",
    "<center><img src='https://i.morioh.com/2021/12/27/36c6de2a.webp' width=\"900\" height=\"600\"><br>\n",
    "<b>File Handling In Python - Read Write Open Close Files In Python<br><br></center>\n",
    "<b>Heres Main Takeaways are :<br><br>\n",
    "<b><li> What is File & File Handling</li><br>\n",
    "<b><li>Types Of Files & File Path Supported By Python</li><br>\n",
    "<b><li>Basic File Operations</li><br>\n",
    "<b><li>Importance of with keyword in file handling</li><br>\n",
    "<b><li>Methods of File objects</li><br>\n",
    "<b><li>Python Directory and File Management</li>"
   ]
  },
  {
   "cell_type": "markdown",
   "metadata": {},
   "source": [
    "<b><h2 style=\"color:#FF5733;\" >What is File ? :</h2><br>\n",
    "<b><li>File is named location on disk (hard drive) to store related information. </li><br>\n",
    "<b><li>They are used to permanently store data in a non-volatile memory (e.g. hard disk)</li><br>\n",
    "<b><li>Data in all systems in stored in the form of files</li><br>\n",
    "<b><li>We use files for future use of the data by permanently storing them.</li><br>\n",
    "<b><li>A file is the collection of data stored on a disk in one unit identified by filename.</li><br>\n",
    "    \n",
    "<center><img src=\"https://www.diskpart.com/screenshot/en/others/windows-7/file-system.png\" width=\"500\" height=\"400\" ></center>\n",
    "\n",
    "<b><h2 style=\"color:#cc33ff;\" >What is Python File Handling ? : </h2><br>\n",
    "<b><li>File handling is basically the management of the files on a file system.</li><br>\n",
    "<b><li>Every operating system has its own way to store files.</li><br>\n",
    "<b><li>Python File handling is useful to work with files in our programs</li><br>\n",
    "<b><li>We don’t have to worry about the underlying operating system and its file system rules and operations.</li>\n",
    "    \n",
    "<b><h2 style=\"color:#028E8B;\" >Why Do You Need File Handling ?: </h2><br>\n",
    "<b><li>Data Persistence i-e keeping data safe for future use is the requirement of every software application. </li><br>\n",
    "<b><li>The data in python program is only available when program is in execution</li><br>\n",
    "<b><li>We can save this data in computer, available even after program exit through File Handling in Python</li><br>\n",
    "<b><li>Imagine You have a server up and running and you need to access files present on that server</li><br>\n",
    "<b><li>You can do this remotely or you need to work with files locally by giving some input to your python program on the server or so.</li><br>\n",
    "<center><img src=\"https://www.freecodecamp.org/news/content/images/2021/02/filesystem-1.jpg\" width=\"800\" height=\"500\" ></center>"
   ]
  },
  {
   "cell_type": "markdown",
   "metadata": {},
   "source": [
    "<b><h2 style=\"color:#FF00F7;\" >Types Of Files Supported By Python :  </h2><br>\n",
    "There are 2 types of files mainly Supported By Python : <br><br>\n",
    "<b><li><font style=\"color:#FF5733\">Text File : </font> Text files are structured as a sequence of lines, where each line includes a sequence of characters. For example, test.txt</li><br>\n",
    "<b><li><font style=\"color:#FF5733\">Binary File: </font> A binary file is any type of file that is not a text file which are used to store binary data such as images, video files, audio files, etc.<br><br>Binary files are categorized as the generic 0’s and 1’s in Python too.</li><br>\n",
    "    <center><img src=\"https://miro.medium.com/max/786/1*0UfyFZf-nQk2bDhlyX3kJg.jpeg\" width=\"400\" height=\"300\" ></center>\n",
    "<b><h2 style=\"color:#FF00F7;\" >Types Of Files Supported By Python :  </h2><br>\n",
    "A file path defines the location of a file or folder in the computer system. There are two ways to specify a file path : <br><br>\n",
    "<b><li><font style=\"color:#FF5733\">Absolute path : </font>Which always begins with the root folder</li><br>\n",
    "<b><li><font style=\"color:#FF5733\">Relative path : </font>which is relative to the program's current working directory</li><br>\n",
    "    <center><img src=\"https://pynative.com/wp-content/uploads/2021/07/file_path.png\" width=\"400\" height=\"300\" ></center>"
   ]
  },
  {
   "cell_type": "markdown",
   "metadata": {},
   "source": [
    "<b><h2 style=\"color:#FF0013;\" >Basic File Operations</h2><br>\n",
    "<b><li>In file handling when we want to read a file from or we want to write a file first we need to open that file first</li><br>\n",
    "<b><li>And when we are done it needs to be closed, so that recourses that are tied with the file are freed.</li><br>\n",
    "<center><img src=\"https://miro.medium.com/max/828/1*6fWHNDvjZN_U3rxqoaIFOw.jpeg\" width=\"500\" height=\"500\" ></center>\n",
    "\n",
    "<b>Following are the basic operations in File Handling in Python:-<br><br>\n",
    "<b><li>Open File in Python</li><br>\n",
    "<b><li>Read File in Python</li><br>\n",
    "<b><li>Write in File</li><br>\n",
    "<b><li>Append to File</li><br>\n",
    "<b><li>Closing File in Python</li>"
   ]
  },
  {
   "cell_type": "markdown",
   "metadata": {},
   "source": [
    "<b><h3 style=\"color:#FF00F7;\" >OPEN A FILE: :  </h3><br>\n",
    "<b><li>The key function for working with files in python is open ( ) function</li><br>\n",
    "<b><li>The open method returns a file object which is used to access the write, read and other in-built methods.</li><br>\n",
    "<center><img src=\"https://www.freecodecamp.org/news/content/images/2020/05/image-48.png\" width=\"500\" height=\"500\" ></center><br>\n",
    "<b><li>The open ( ) function has two parameters. They are : </li><br>\n",
    "<b><li><font style=\"color:#FF5733\">Filename : </font> It is the name of the file with path </li><br>\n",
    "<b><li><font style=\"color:#FF5733\">Mode : </font>It tells the program in which mode the file has to be open.</li>"
   ]
  },
  {
   "cell_type": "markdown",
   "metadata": {},
   "source": [
    "<b><h3 style=\"color:#028E8B;\" >Modes: </h3><br>\n",
    "<b>It really makes sense for Python to grant only certain permissions based what you are planning to do with the file<br><br>\n",
    "<b>Modes available are :<br><br>\n",
    "<b><li>Read (\"r\").</li><br>\n",
    "<b><li>Append (\"a\")</li><br>\n",
    "<b><li>Write (\"w\")</li><br>\n",
    "<b><li>Create (\"x\")</li><br>\n",
    "<b>We can also choose to open the file in:<br><br>\n",
    "<b><li>Text mode (\"t\")</li><br>\n",
    "<b><li>Binary mode (\"b\")</li><br>\n",
    "<b>To be able to read a file and perform another operation in the same program, you need to add the \"+\" symbol to the mode<br><br>\n",
    "<center><img src=\"https://d20p74l5mne5au.cloudfront.net/ExWNT-white-bg.png\" width=\"800\" height=\"500\" ></center>"
   ]
  },
  {
   "cell_type": "code",
   "execution_count": 1,
   "metadata": {},
   "outputs": [
    {
     "name": "stdout",
     "output_type": "stream",
     "text": [
      "<class '_io.TextIOWrapper'>\n"
     ]
    }
   ],
   "source": [
    "#Opening the file\n",
    "demo_file = open('Demo.txt', 'r')\n",
    "#close the file, very important\n",
    "print(type(demo_file))\n",
    "demo_file.close()"
   ]
  },
  {
   "cell_type": "markdown",
   "metadata": {},
   "source": [
    "<b><h3 style=\"color:#FF5733;\" >File Objects :  </h3><br>\n",
    "<li>File Object is an object exposing a file-oriented API (with methods such as read() or write()) to an underlying resource.</li><br>\n",
    "<li>A file object is an object that lets us work and interact with existing files in our Python program.</li><br>\n",
    "<li>File objects have attributes, such as:</li>\n",
    "<pre>\n",
    "name: the name of the file.\n",
    "closed: True if the file is closed. False otherwise.\n",
    "mode: the mode used to open the file.</pre><br>\n",
    "<center><img src=\"https://www.freecodecamp.org/news/content/images/2020/05/image-57.png\" width=\"500\" height=\"500\" ></center>"
   ]
  },
  {
   "cell_type": "markdown",
   "metadata": {},
   "source": [
    "<b><h2 style=\"color:#FF00F7;\" >read ( ) function :  </h2><br>\n",
    "The read ( ) function is used to read the contents of the file."
   ]
  },
  {
   "cell_type": "code",
   "execution_count": 2,
   "metadata": {},
   "outputs": [
    {
     "name": "stdout",
     "output_type": "stream",
     "text": [
      "Open is used to open the file\n",
      "Read is used to read the file\n"
     ]
    }
   ],
   "source": [
    "demo_file = open(\"Demo.txt\", \"r\")\n",
    "print(demo_file.read())\n",
    "demo_file.close()"
   ]
  },
  {
   "cell_type": "markdown",
   "metadata": {},
   "source": [
    "<b>we can also read characters of file from read ( ) method.<br><br>\n",
    "<center><img src=\"https://www.freecodecamp.org/news/content/images/2020/05/image-11.png\" width=\"500\" height=\"500\" ></center>"
   ]
  },
  {
   "cell_type": "code",
   "execution_count": 3,
   "metadata": {},
   "outputs": [
    {
     "name": "stdout",
     "output_type": "stream",
     "text": [
      "Open \n",
      "is used to\n"
     ]
    }
   ],
   "source": [
    "demo_file = open(\"Demo.txt\", \"r\")\n",
    "print(demo_file.read(5))\n",
    "#if we now use the read() method again then it start reading from the current location of cursor.\n",
    "print(demo_file.read(10))"
   ]
  },
  {
   "cell_type": "markdown",
   "metadata": {},
   "source": [
    "<pre><b>current cursor location can be changed using seek().\n",
    "\n",
    "tell() method is use to know the current position of cursor.</pre>"
   ]
  },
  {
   "cell_type": "code",
   "execution_count": 4,
   "metadata": {},
   "outputs": [
    {
     "name": "stdout",
     "output_type": "stream",
     "text": [
      "15\n",
      "0\n",
      "0\n"
     ]
    }
   ],
   "source": [
    "print(demo_file.tell())\n",
    "print(demo_file.seek(0))\n",
    "print(demo_file.tell())"
   ]
  },
  {
   "cell_type": "code",
   "execution_count": 5,
   "metadata": {},
   "outputs": [
    {
     "name": "stdout",
     "output_type": "stream",
     "text": [
      "Open is used to\n"
     ]
    }
   ],
   "source": [
    "print(demo_file.read(15))"
   ]
  },
  {
   "cell_type": "markdown",
   "metadata": {},
   "source": [
    "<b>we can also read a file line by line using a for loop."
   ]
  },
  {
   "cell_type": "code",
   "execution_count": 6,
   "metadata": {},
   "outputs": [
    {
     "name": "stdout",
     "output_type": "stream",
     "text": [
      "Open is used to open the file\n",
      "\n",
      "Read is used to read the file\n"
     ]
    }
   ],
   "source": [
    "demo_file.seek(0)\n",
    "for line in demo_file:\n",
    "    print(line)"
   ]
  },
  {
   "cell_type": "markdown",
   "metadata": {},
   "source": [
    "\n",
    "<b><h2 style=\"color:#cc33ff;\" >close ( ) function</h2><br>\n",
    "<b><li>The close ( ) function is used to close a particular file post manipulations on it.</li><br>\n",
    "<b><li>After writing to a file, if we do not call the close() method, all the data written to the file will not be saved in it.</li><br>\n",
    "<b><li>It’s always a good idea to close the file after we are done with it to release the resources.</li><br>\n",
    "<center><img src=\"https://www.freecodecamp.org/news/content/images/2020/05/image-22.png\" width=\"500\" height=\"500\" ></center>"
   ]
  },
  {
   "cell_type": "code",
   "execution_count": null,
   "metadata": {},
   "outputs": [],
   "source": [
    "demo_file.close()"
   ]
  },
  {
   "cell_type": "markdown",
   "metadata": {},
   "source": [
    "<b><h3 style=\"color:#cc33ff;\" >Readline ( ) vs. Readlines ( )</h3><br>\n",
    "We can also read a file line by line with Readline ( ) and  Readlines ( ) Methods .<br><br>\n",
    "<b><li><font style=\"color:#FF5733\">readline ( ) : </font> readline ( ) reads one line of the file until it reaches the end of that line</li><br>\n",
    "<b><li><font style=\"color:#FF5733\">readlines ( ) : </font>In contrast, readlines ( ) returns a list with all the lines of the file as individual elements (strings)</li><br>\n",
    "<center><img src=\"https://www.freecodecamp.org/news/content/images/2020/05/image-19.png\" width=\"500\" height=\"500\" ></center>"
   ]
  },
  {
   "cell_type": "code",
   "execution_count": 10,
   "metadata": {},
   "outputs": [
    {
     "name": "stdout",
     "output_type": "stream",
     "text": [
      "Open is used to open the file\n",
      "\n",
      "['Read is used to read the file\\n', 'Readlines reading this line']\n"
     ]
    }
   ],
   "source": [
    "demo_file = open(\"Demo.txt\", \"r\")\n",
    "print(demo_file.readline())\n",
    "print(demo_file.readlines())\n",
    "demo_file.close()"
   ]
  },
  {
   "cell_type": "markdown",
   "metadata": {},
   "source": [
    "<b><h2 style=\"color:#FF00F7;\" >write ( ) function:  </h2><br>\n",
    "Sometimes, you may want to delete the content of a file and replace it entirely with new content. You can do this with the write ( ) method if you open the file with the \"w\" mode.<br>\n",
    "<center><img src=\"https://www.freecodecamp.org/news/content/images/2020/05/image-52.png\" width=\"500\" height=\"500\" ></center>"
   ]
  },
  {
   "cell_type": "code",
   "execution_count": 11,
   "metadata": {},
   "outputs": [],
   "source": [
    "#write function - mode = w+ -Read and Write\n",
    "demo_file = open('Demo.txt','w')\n",
    "demo_file.write(\"When we use write previous data is earased.\\n\")\n",
    "demo_file.write(\"And new data is appended.\")\n",
    "demo_file.close()"
   ]
  },
  {
   "cell_type": "code",
   "execution_count": 12,
   "metadata": {},
   "outputs": [
    {
     "name": "stdout",
     "output_type": "stream",
     "text": [
      "When we use write previous data is earased.\n",
      "And new data is appended.\n"
     ]
    }
   ],
   "source": [
    "demo_file = open(\"Demo.txt\", \"r\")\n",
    "print(demo_file.read())\n",
    "demo_file.close()"
   ]
  },
  {
   "cell_type": "markdown",
   "metadata": {},
   "source": [
    "<b><h2 style=\"color:#FF00F7;\" >Append : </h2><br>\n",
    "Appending means adding something to the end of another thing. The \"a\" mode allows you to open a file to append some content to it."
   ]
  },
  {
   "cell_type": "code",
   "execution_count": 13,
   "metadata": {},
   "outputs": [],
   "source": [
    "demo_file = open('Demo.txt','a')\n",
    "demo_file.write(\"\\nStatement added to the end of the file..\")\n",
    "demo_file.close()"
   ]
  },
  {
   "cell_type": "code",
   "execution_count": null,
   "metadata": {},
   "outputs": [],
   "source": [
    "demo_file = open(\"Demo.txt\", \"r\")\n",
    "print(demo_file.read())\n",
    "demo_file.close()"
   ]
  },
  {
   "cell_type": "markdown",
   "metadata": {},
   "source": [
    "<b><h2 style=\"color:#FF5733;\" >Create a File</h2><br>\n",
    "If we need to create a file \"dynamically\" using Python, we can do it with the \"x\" mode.<br><br>\n",
    "<center><img src=\"https://www.freecodecamp.org/news/content/images/2020/05/image-58.png\" width=\"500\" height=\"500\" ></center>"
   ]
  },
  {
   "cell_type": "code",
   "execution_count": 14,
   "metadata": {},
   "outputs": [],
   "source": [
    "#Creating a file\n",
    "f = open(\"new_file.txt\", \"x\")"
   ]
  },
  {
   "cell_type": "markdown",
   "metadata": {},
   "source": [
    "<b><h2 style=\"color:#FF5733;\" >Context Managers</h2><br>\n",
    "<b><li>By using Context Manager -- with Keyword you don't need to remember to close a file at the end of your program</li><br>\n",
    "<b><li>And we have access to the file in the particular part of the program that you choose.</li><br>\n",
    "<b><li>The body of the context manager has to be indented, just like we indent loops, functions, and classes.</li><br>\n",
    "<center><img src=\"https://www.freecodecamp.org/news/content/images/2020/05/image-33.png\" width=\"500\" height=\"500\" ></center>"
   ]
  },
  {
   "cell_type": "code",
   "execution_count": 15,
   "metadata": {},
   "outputs": [
    {
     "name": "stdout",
     "output_type": "stream",
     "text": [
      "When we use write previous data is earased.\n",
      "\n"
     ]
    }
   ],
   "source": [
    "with open(\"demo.txt\", \"r\") as f:\n",
    "    print(f.readline()) "
   ]
  },
  {
   "cell_type": "code",
   "execution_count": 16,
   "metadata": {},
   "outputs": [
    {
     "name": "stdout",
     "output_type": "stream",
     "text": [
      "When we use write previous data is earased.\n",
      "\n"
     ]
    },
    {
     "ename": "ValueError",
     "evalue": "I/O operation on closed file.",
     "output_type": "error",
     "traceback": [
      "\u001b[1;31m---------------------------------------------------------------------------\u001b[0m",
      "\u001b[1;31mValueError\u001b[0m                                Traceback (most recent call last)",
      "Input \u001b[1;32mIn [16]\u001b[0m, in \u001b[0;36m<cell line: 4>\u001b[1;34m()\u001b[0m\n\u001b[0;32m      2\u001b[0m     \u001b[38;5;28mprint\u001b[39m(f\u001b[38;5;241m.\u001b[39mreadline()) \n\u001b[0;32m      3\u001b[0m \u001b[38;5;66;03m# Trying to read the file again, outside of the context manager\u001b[39;00m\n\u001b[1;32m----> 4\u001b[0m \u001b[38;5;28mprint\u001b[39m(\u001b[43mf\u001b[49m\u001b[38;5;241;43m.\u001b[39;49m\u001b[43mreadlines\u001b[49m\u001b[43m(\u001b[49m\u001b[43m)\u001b[49m)\n",
      "\u001b[1;31mValueError\u001b[0m: I/O operation on closed file."
     ]
    }
   ],
   "source": [
    "with open(\"demo.txt\", \"r\") as f:\n",
    "    print(f.readline()) \n",
    "#demo.txt.closed()\n",
    "# Trying to read the file again, outside of the context manager\n",
    "print(f.readlines())"
   ]
  },
  {
   "cell_type": "markdown",
   "metadata": {},
   "source": [
    "<b><h2 style=\"color:#028E8B;\" >Handle Exceptions When Working With Files</h2><br>\n",
    "    <b><li><font style=\"color:#FF5733\">FileNotFoundError :</font> Raised when a file or directory is requested but doesn’t exist.</li><br>\n",
    "<b><li><font style=\"color:#FF5733\">PermissionError :</font> Raised when trying to run an operation without the adequate access rights - for example filesystem permissions.</li><br>\n",
    "<b><li><font style=\"color:#FF5733\">IsADirectoryError :</font> Raised when a file operation is requested on a directory.</li>"
   ]
  },
  {
   "cell_type": "code",
   "execution_count": 17,
   "metadata": {},
   "outputs": [
    {
     "ename": "FileNotFoundError",
     "evalue": "[Errno 2] No such file or directory: 'names.txt'",
     "output_type": "error",
     "traceback": [
      "\u001b[1;31m---------------------------------------------------------------------------\u001b[0m",
      "\u001b[1;31mFileNotFoundError\u001b[0m                         Traceback (most recent call last)",
      "Input \u001b[1;32mIn [17]\u001b[0m, in \u001b[0;36m<cell line: 1>\u001b[1;34m()\u001b[0m\n\u001b[1;32m----> 1\u001b[0m f \u001b[38;5;241m=\u001b[39m \u001b[38;5;28;43mopen\u001b[39;49m\u001b[43m(\u001b[49m\u001b[38;5;124;43m\"\u001b[39;49m\u001b[38;5;124;43mnames.txt\u001b[39;49m\u001b[38;5;124;43m\"\u001b[39;49m\u001b[43m)\u001b[49m\n",
      "\u001b[1;31mFileNotFoundError\u001b[0m: [Errno 2] No such file or directory: 'names.txt'"
     ]
    }
   ],
   "source": [
    "f = open(\"names.txt\")"
   ]
  },
  {
   "cell_type": "code",
   "execution_count": 18,
   "metadata": {},
   "outputs": [
    {
     "name": "stdout",
     "output_type": "stream",
     "text": [
      "The file doesn't exist\n"
     ]
    }
   ],
   "source": [
    "#file not foind error\n",
    "try:\n",
    "    f = open(\"names.txt\")\n",
    "except FileNotFoundError:\n",
    "    print(\"The file doesn't exist\")"
   ]
  },
  {
   "cell_type": "markdown",
   "metadata": {},
   "source": [
    "<b><h2 style=\"color:#028E8B;\" >Python Directory and File Management : </h2><br>\n",
    "<center><img src=\"https://www.cs.colostate.edu/~cs155/filecabinetsystem.gif\" width=\"300\" height=\"500\" ></center>"
   ]
  },
  {
   "cell_type": "code",
   "execution_count": 20,
   "metadata": {},
   "outputs": [],
   "source": [
    "import os \n",
    "#shutil , psutil"
   ]
  },
  {
   "cell_type": "code",
   "execution_count": 21,
   "metadata": {},
   "outputs": [
    {
     "data": {
      "text/plain": [
       "'C:\\\\Users\\\\nithe\\\\OneDrive\\\\Desktop\\\\TNR\\\\Data Science\\\\Course Bundle\\\\01 - Python\\\\15 - File Handling'"
      ]
     },
     "execution_count": 21,
     "metadata": {},
     "output_type": "execute_result"
    }
   ],
   "source": [
    "#Get current Directory\n",
    "os.getcwd()"
   ]
  },
  {
   "cell_type": "code",
   "execution_count": 22,
   "metadata": {},
   "outputs": [
    {
     "data": {
      "text/plain": [
       "'C:\\\\Users\\\\nithe\\\\OneDrive\\\\Desktop'"
      ]
     },
     "execution_count": 22,
     "metadata": {},
     "output_type": "execute_result"
    }
   ],
   "source": [
    "#Changing Directory\n",
    "os.chdir(\"/Users/nithe/OneDrive/Desktop\")\n",
    "os.getcwd()"
   ]
  },
  {
   "cell_type": "code",
   "execution_count": 23,
   "metadata": {},
   "outputs": [],
   "source": [
    "#Making New Directory\n",
    "os.mkdir(\"hey\")"
   ]
  },
  {
   "cell_type": "code",
   "execution_count": 24,
   "metadata": {},
   "outputs": [],
   "source": [
    "#removing directory\n",
    "os.rmdir(\"hey\")"
   ]
  },
  {
   "cell_type": "code",
   "execution_count": 26,
   "metadata": {},
   "outputs": [
    {
     "name": "stdout",
     "output_type": "stream",
     "text": [
      "\n"
     ]
    }
   ],
   "source": [
    "#Creating a Directory\n",
    "os.mkdir('sample')\n",
    "\n",
    "#Changing the directory\n",
    "os.chdir('./sample')\n",
    "\n",
    "#creating a file\n",
    "f=open('testfile.txt','x+')\n",
    "\n",
    "#writing to the file\n",
    "f.write(\"hello world\")\n",
    "\n",
    "#Reading the flie without closing\n",
    "print(f.read())\n",
    "\n",
    "#Closing the flie  \n",
    "f.close() "
   ]
  },
  {
   "cell_type": "code",
   "execution_count": 27,
   "metadata": {},
   "outputs": [
    {
     "name": "stdout",
     "output_type": "stream",
     "text": [
      "hello world\n"
     ]
    }
   ],
   "source": [
    "#reading a flie after closing using context manager\n",
    "with open(\"testfile.txt\", \"r\") as f:\n",
    "    print(f.read()) "
   ]
  },
  {
   "cell_type": "code",
   "execution_count": 28,
   "metadata": {},
   "outputs": [],
   "source": [
    "#Renaming a file\n",
    "os.rename(\"testfile.txt\",\"sample.txt\")"
   ]
  },
  {
   "cell_type": "code",
   "execution_count": 29,
   "metadata": {},
   "outputs": [
    {
     "data": {
      "text/plain": [
       "'hello world'"
      ]
     },
     "execution_count": 29,
     "metadata": {},
     "output_type": "execute_result"
    }
   ],
   "source": [
    "f=open('sample.txt','r')\n",
    "f.readline()"
   ]
  },
  {
   "cell_type": "code",
   "execution_count": 30,
   "metadata": {},
   "outputs": [
    {
     "ename": "FileNotFoundError",
     "evalue": "[Errno 2] No such file or directory: 'sample.txt'",
     "output_type": "error",
     "traceback": [
      "\u001b[1;31m---------------------------------------------------------------------------\u001b[0m",
      "\u001b[1;31mFileNotFoundError\u001b[0m                         Traceback (most recent call last)",
      "Input \u001b[1;32mIn [30]\u001b[0m, in \u001b[0;36m<cell line: 4>\u001b[1;34m()\u001b[0m\n\u001b[0;32m      2\u001b[0m f\u001b[38;5;241m.\u001b[39mclose()\n\u001b[0;32m      3\u001b[0m os\u001b[38;5;241m.\u001b[39mremove(\u001b[38;5;124m\"\u001b[39m\u001b[38;5;124msample.txt\u001b[39m\u001b[38;5;124m\"\u001b[39m)\n\u001b[1;32m----> 4\u001b[0m f\u001b[38;5;241m=\u001b[39m\u001b[38;5;28;43mopen\u001b[39;49m\u001b[43m(\u001b[49m\u001b[38;5;124;43m\"\u001b[39;49m\u001b[38;5;124;43msample.txt\u001b[39;49m\u001b[38;5;124;43m\"\u001b[39;49m\u001b[43m,\u001b[49m\u001b[38;5;124;43m'\u001b[39;49m\u001b[38;5;124;43mr\u001b[39;49m\u001b[38;5;124;43m'\u001b[39;49m\u001b[43m)\u001b[49m\n\u001b[0;32m      5\u001b[0m f\u001b[38;5;241m.\u001b[39mreadline()\n",
      "\u001b[1;31mFileNotFoundError\u001b[0m: [Errno 2] No such file or directory: 'sample.txt'"
     ]
    }
   ],
   "source": [
    "#removing a file\n",
    "f.close()\n",
    "os.remove(\"sample.txt\")\n",
    "\n",
    "f=open(\"sample.txt\",'r')\n",
    "f.readline()"
   ]
  },
  {
   "cell_type": "markdown",
   "metadata": {},
   "source": [
    "<b><h2 style=\"color:#FF5733;\" > FAQ's on Flie Handling:  </h2><br>\n",
    "<b><li>Can you explain the different modes of opening a file in Python ?</li><br>\n",
    "<b><li>How do you create a text file using Python ?</li><br>\n",
    "<b><li>How do you read and write to an existing file in Python ?</li><br>\n",
    "<b><li>Is it possible to open multiple files using Python ? If yes, then how ?</li><br>\n",
    "<b><li>How should you handle exceptions when dealing with files in Python ?</li><br>\n",
    "<b><li>What are some important methods used for reading from a file in Python ?</li><br>\n",
    "<b><li>What are some common errors that can occur while working with files in Python ?</li><br>\n",
    "<b><li> What’s the difference between binary and text files in Python ?</li>"
   ]
  },
  {
   "cell_type": "markdown",
   "metadata": {},
   "source": [
    "&copy; **Nitheesh Reddy**"
   ]
  }
 ],
 "metadata": {
  "kernelspec": {
   "display_name": "Python 3 (ipykernel)",
   "language": "python",
   "name": "python3"
  },
  "language_info": {
   "codemirror_mode": {
    "name": "ipython",
    "version": 3
   },
   "file_extension": ".py",
   "mimetype": "text/x-python",
   "name": "python",
   "nbconvert_exporter": "python",
   "pygments_lexer": "ipython3",
   "version": "3.9.12"
  }
 },
 "nbformat": 4,
 "nbformat_minor": 4
}

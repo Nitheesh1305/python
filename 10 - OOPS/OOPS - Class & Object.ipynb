{
 "cells": [
  {
   "cell_type": "markdown",
   "metadata": {},
   "source": [
    "<b><h1 style=\"color:#ff0066;\" ><center>Object-Oriented Programming in Python</center></h1><br>\n",
    "<img src='https://res.cloudinary.com/practicaldev/image/fetch/s--yQO2tA1L--/c_limit%2Cf_auto%2Cfl_progressive%2Cq_auto%2Cw_880/https://cdn.fs.teachablecdn.com/ySDOMxZwTAio4hQ6k68G'><br>\n",
    "<li>Python is an object-oriented programming language where programming stresses more on objects.</li><br>\n",
    "<li>Almost everything in Python is objects.</li>"
   ]
  },
  {
   "cell_type": "markdown",
   "metadata": {},
   "source": [
    "<b><h1 style=\"color:#cc33ff;\" >What is OOP ?</h1>\n",
    "<br>\n",
    "<li>Object-oriented programming (OOP) is a programming concept based on the \"Objects\" that interact with each other to perform the functions</li><br>\n",
    "<li>Which may contain data, in the form of fields, often known as attributes and code, in the form of procedures, often known as methods.</li><br>\n",
    "<li>Example : A person is an object which has certain properties such as height, gender, age, etc.It also has certain methods such as move, talk..</li>"
   ]
  },
  {
   "cell_type": "markdown",
   "metadata": {},
   "source": [
    "<b><h1 style=\"color:#FF5733;\" >Why Object-Oriented Programming Matters ? </h1>\n",
    "<br>\n",
    "<li>They reduce the redundancy of the code by writing clear and re-usable codes</li><br>\n",
    "<li>They are easier to visualize because they completely relate to real-world scenarios.</li><br>\n",
    "<li>Every object in oops represent a different part of the code and have their own logic and data to communicate with each other</li><br>\n",
    "<li>It is more secure</li><br>\n",
    "<li>Group together data and behavior in one place</li><br>\n",
    "<li>Isolates different parts of the program from each other.</li>"
   ]
  },
  {
   "cell_type": "markdown",
   "metadata": {},
   "source": [
    "<b><h1 style=\"color:#FF33FF;\" >What is Class ?</h1>\n",
    "<br>\n",
    "<li>Class in Python is a collection of objects, we can think of a class as a blueprint or sketch or prototype. It contains all the details of an object.</li><br>\n",
    "<li>A class is like a container that holds all of our functions (methods) and we can use this class whenever we need to make a call to a function</li><br>\n",
    "<li>A more formal definition would be, that a class is an extensible program-code-template for creating objects, providing initial values <br><br>for state (member variables) and implementations of behavior (member functions or methods)</li><br>\n",
    "<h3 style=\"color:#6833FF;\" >Some points on Python class :  </h3><br>\n",
    "<li>Classes are created by keyword class.</li><br>\n",
    "    <li>There is no memory allocation until we create its object.</li><br>\n",
    "<li>Attributes are the variables that belong to a class.</li><br>\n",
    "<li>Attributes are always public and can be accessed using the dot (.) operator. Eg.: Myclass.Myattribute</li>"
   ]
  },
  {
   "cell_type": "code",
   "execution_count": 1,
   "metadata": {},
   "outputs": [],
   "source": [
    "#To define a class in Python, you use the class keyword followed by the class name and a colon\n",
    "class Person:\n",
    "   pass"
   ]
  },
  {
   "cell_type": "markdown",
   "metadata": {},
   "source": [
    "<b><h1 style=\"color:#FF33FF;\" >What is Object ?</h1>\n",
    "<br>\n",
    "<li>An object is usually an instance of a class. It is used to access everything present inside the class.</li><br>\n",
    "<li>An object is container that contains state and behavior.</li><br>\n",
    "<li>There can be multiple instances of a class in a program</li>\n",
    "<h3 style=\"color:#6833FF;\" >An object consists of :  </h3><br>\n",
    "<li>State : It is represented by the attributes of an object. It also reflects the properties of an object.</li><br>\n",
    "<li>Behavior : It is represented by the methods of an object. It also reflects the response of an object to other objects.</li><br>\n",
    "<li>Identity : It gives a unique name to an object and enables one object to interact with other objects.</li>"
   ]
  },
  {
   "cell_type": "code",
   "execution_count": 2,
   "metadata": {},
   "outputs": [
    {
     "name": "stdout",
     "output_type": "stream",
     "text": [
      "<__main__.Person object at 0x000001DE90043070>\n"
     ]
    }
   ],
   "source": [
    "#This will create an object named obj of the class Person defined above.\n",
    "obj = Person()\n",
    "print(obj)"
   ]
  },
  {
   "cell_type": "markdown",
   "metadata": {},
   "source": [
    "<b><h1 style=\"color:#028E8B;\" >Constructor in Python</h1>\n",
    "<br>\n",
    "<li>Constructor in Python is a special method which is used to initialize the members of a class during run-time when an object is created.</li><br>\n",
    "<li>In Python, we have some special built-in class methods which start with a double underscore (__) and they have a special meaning in Python.</li><br>\n",
    "<li>Every class must have a constructor, even if you don’t create a constructor explicitly it will create a default constructor by itself.</li><br>\n",
    "<h3 style=\"color:#6833FF;\" >Properties of Constructor :  </h3><br>\n",
    "<li>If we create three objects, the constructor is called three times and initialize each object.</li><br>\n",
    "<li>The __init__( ) function can contain any number of parameters, but the first argument must always be the self variable.</li><br>\n",
    "<li>The name of the constructor will always be __init__(self).</li><br>\n",
    "\n",
    "<img src='https://pynative.com/wp-content/uploads/2021/07/types_of_constructor.png'> "
   ]
  },
  {
   "cell_type": "code",
   "execution_count": 3,
   "metadata": {},
   "outputs": [],
   "source": [
    "# Adding details to the Person class\n",
    "class Person:\n",
    "    '''Doc Strings : This Class is to store person Details'''\n",
    "    def __init__(self, name, age, gender):\n",
    "        #Instance Variables\n",
    "        self.name = name\n",
    "        self.age = age\n",
    "        self.gender = gender"
   ]
  },
  {
   "cell_type": "code",
   "execution_count": 5,
   "metadata": {},
   "outputs": [
    {
     "name": "stdout",
     "output_type": "stream",
     "text": [
      "<__main__.Person object at 0x000001DE90043310>\n"
     ]
    }
   ],
   "source": [
    "#Our class Person now has three attributes, name, age, and company. \n",
    "#When we create a new person, we can pass these parameters in to make our person a bit more interesting!\n",
    "\n",
    "# Creating our first Person instance\n",
    "Nit = Person('Nitheesh', 25, 'Male')\n",
    "print(Nit)"
   ]
  },
  {
   "cell_type": "markdown",
   "metadata": {},
   "source": [
    "If we observe in the above example, we are not calling the __init__( ) method, because it will be called automatically when we create an object to that class and initialize the data members if any.\n",
    "\n",
    "Always remember that a constructor will never return any values, hence it does not contain any return statements."
   ]
  },
  {
   "cell_type": "markdown",
   "metadata": {},
   "source": [
    "<b><h1 style=\"color:#B228F3;\" >Self in Python</h1>\n",
    "<br>\n",
    "<li>The self in python represents or points the instance which it was called.</li><br>\n",
    "<li>self let’s Python know that the attribute or methods should be applied to that object (and only that object)</li><br>\n",
    "<li>In essence, the self parameter binds the attributes with the given arguments.</li><br>\n",
    "<li>When you created the first object above, the variables that were passed in were assigned the self bindings.</li><br>\n",
    "<li>So, for example : self.name was assigned the argument of the name parameter</li>"
   ]
  },
  {
   "cell_type": "code",
   "execution_count": 6,
   "metadata": {},
   "outputs": [],
   "source": [
    "#The class does not know which variable values belong to which object.\n",
    "obj1 = Person('Nitheesh', 25, 'Male')\n",
    "obj2 = Person('Bharat', 27, 'Male')\n",
    "obj3 = Person('Manikanta', 28, 'Male')"
   ]
  },
  {
   "cell_type": "code",
   "execution_count": 7,
   "metadata": {},
   "outputs": [
    {
     "name": "stdout",
     "output_type": "stream",
     "text": [
      "Nitheesh\n",
      "Bharat\n",
      "Manikanta\n"
     ]
    }
   ],
   "source": [
    "print(obj1.name)\n",
    "print(obj2.name)\n",
    "print(obj3.name)"
   ]
  },
  {
   "cell_type": "markdown",
   "metadata": {},
   "source": [
    "<li>In object orientated programming, you can create many objects from a class.Each object can have unique values for variables.</li><br>\n",
    "<li>The class does not know which variable values belong to which object.</li><br>\n",
    "<li>By using the self variable, it can set or get the objects variables.Python then knows it should access the variables for that objects.</li><br>"
   ]
  },
  {
   "cell_type": "markdown",
   "metadata": {},
   "source": [
    "<b><h1 style=\"color:#382C5E;\" >Python Class and Instance Attributes</h1>\n",
    "<br>\n",
    "There are two main types of attributes contained in Python classes<br><br>\n",
    "<li>Class Attributes</li><br>\n",
    "<li>Instance attributes</li>"
   ]
  },
  {
   "cell_type": "code",
   "execution_count": 8,
   "metadata": {},
   "outputs": [],
   "source": [
    "# Let’s load some code again and take a look at the difference between class and instance attributes\n",
    "\n",
    "class Person:\n",
    "    # Class attribute\n",
    "    species = 'Human'\n",
    "    def __init__(self, name, age, gender):\n",
    "        #Instance Variables\n",
    "        self.name = name\n",
    "        self.age = age\n",
    "        self.gender = gender\n",
    "        \n",
    "Nit = Person('Nitheesh', 25, 'Male')"
   ]
  },
  {
   "cell_type": "markdown",
   "metadata": {},
   "source": [
    "\n",
    "<table border = \"1\",style=\"font-size:28px\">\n",
    "  <caption>Key differences between class and instance attributes</caption>\n",
    "  <thead>\n",
    "    <tr>\n",
    "      <th scope=\"col\">Description</th>\n",
    "      <th scope=\"col\">Instance Attribute</th>\n",
    "      <th scope=\"col\">Class Attribute</th>\n",
    "    </tr>\n",
    "  </thead>\n",
    "  <tbody>\n",
    "    <tr>\n",
    "      <th scope=\"row\">Created</th>\n",
    "      <td>Inside the __init__() function</td>\n",
    "      <td>Created before the __init__() function</td>\n",
    "    </tr>     \n",
    "    <tr>\n",
    "      <th scope=\"row\">References - Self</th>\n",
    "      <td>Is specified using self.attribute_name</td>\n",
    "      <td>Doesn’t reference self</td>\n",
    "    </tr>\n",
    "    <tr>\n",
    "      <th scope=\"row\">Generic / Specific</th>\n",
    "      <td>Generic for all instances, unless modified</td>\n",
    "      <td>Specific to a class instance</td>\n",
    "    </tr> \n",
    "  </tbody>\n",
    "</table>"
   ]
  },
  {
   "cell_type": "markdown",
   "metadata": {},
   "source": [
    "<b>So, when should you use one over the other ?<br><br>\n",
    "\n",
    "<li>If you want an attribute to be the same for every instance of your class, such as the species attribute in the Person class, then use a class attribute.</li><br>\n",
    "<li>This prevents you from needing to pass it in as a value each time you create a class.</li><br>\n",
    "<li>If you want an attribute to specific to an object, then use an instance attribute. </li><br>\n",
    "<li>This lets you customize the object to meet your needs.</li><br>"
   ]
  },
  {
   "cell_type": "code",
   "execution_count": 9,
   "metadata": {},
   "outputs": [
    {
     "name": "stdout",
     "output_type": "stream",
     "text": [
      "Human\n",
      "Human\n",
      "Hi! My name is Manikanta. I am a Male, and I am 28 years old\n",
      "Hi! My name is Bharat. I am a Male, and I am 27 years old\n"
     ]
    }
   ],
   "source": [
    "# x and y are instances of class Person\n",
    "x = Person('Manikanta', 28, 'Male')\n",
    "y = Person('Bharat', 27, 'Male')\n",
    "\n",
    "print(x.species)  # species are class attributes, hence will have same value for all instances\n",
    "print(y.species)\n",
    "\n",
    "# name, gender and age will have different values per instance, because they are instance attributes\n",
    "print(f\"Hi! My name is {x.name}. I am a {x.gender}, and I am {x.age} years old\")\n",
    "print(f\"Hi! My name is {y.name}. I am a {y.gender}, and I am {y.age} years old\")"
   ]
  },
  {
   "cell_type": "markdown",
   "metadata": {},
   "source": [
    "<b><h1 style=\"color:#599E78;\" >Python Functions and Methods</h1>\n",
    "<br>\n",
    "<li>In object-oriented programming, functions also exist. However, methods refer to functions contained in an object.</li><br>\n",
    "<li>While a function can be called from anywhere, a class method can only be called from an instance of that class</li><br>\n",
    "<li>Because of this, every method is a function but not every function is a method.</li>"
   ]
  },
  {
   "cell_type": "code",
   "execution_count": 10,
   "metadata": {},
   "outputs": [
    {
     "name": "stdout",
     "output_type": "stream",
     "text": [
      "Hi there! My name is  Nitheesh\n"
     ]
    }
   ],
   "source": [
    "# Writing your first object method\n",
    "class Person:\n",
    "    # Class attribute\n",
    "    species = 'Human'\n",
    "    def __init__(self, name, age, gender):\n",
    "        #Instance Variables\n",
    "        self.name = name\n",
    "        self.age = age\n",
    "        self.gender = gender\n",
    "    #instance method\n",
    "    def greet(self):\n",
    "        print('Hi there! My name is ', self.name)\n",
    "        \n",
    "Nit = Person('Nitheesh', 25, 'Male')\n",
    "Nit.greet()"
   ]
  },
  {
   "cell_type": "markdown",
   "metadata": {},
   "source": [
    "<b>Defining an object method is nearly the same as creating a regular function. There are a number of key differences:\n",
    "<br><br>\n",
    "<li>The function is defined inside the object</li><br>\n",
    "<li>The self argument is required</li><br>\n",
    "<li>The first argument is required to be self</li>"
   ]
  },
  {
   "cell_type": "code",
   "execution_count": 11,
   "metadata": {},
   "outputs": [
    {
     "name": "stdout",
     "output_type": "stream",
     "text": [
      "Hi there! My name is  Nitheesh\n",
      "25\n",
      "26\n"
     ]
    }
   ],
   "source": [
    "#Let’s now create a method that modifies the object itself.\n",
    "\n",
    "class Person:\n",
    "    # Class attribute\n",
    "    species = 'Human'\n",
    "    def __init__(self, name, age, gender):\n",
    "        #Instance Variables\n",
    "        self.name = name\n",
    "        self.age = age\n",
    "        self.gender = gender\n",
    "    #instance method\n",
    "    def greet(self):\n",
    "        print('Hi there! My name is ', self.name)\n",
    "        \n",
    "    def have_birthday(self):\n",
    "        self.age += 1\n",
    "        \n",
    "Nit = Person('Nitheesh', 25, 'Male')\n",
    "Nit.greet()\n",
    "print(Nit.age)          # Returns: 25\n",
    "Nit.have_birthday()\n",
    "print(Nit.age)   # Returns: 26"
   ]
  },
  {
   "cell_type": "markdown",
   "metadata": {},
   "source": [
    "&copy; **Nitheesh Reddy**"
   ]
  }
 ],
 "metadata": {
  "kernelspec": {
   "display_name": "Python 3",
   "language": "python",
   "name": "python3"
  },
  "language_info": {
   "codemirror_mode": {
    "name": "ipython",
    "version": 3
   },
   "file_extension": ".py",
   "mimetype": "text/x-python",
   "name": "python",
   "nbconvert_exporter": "python",
   "pygments_lexer": "ipython3",
   "version": "3.8.5"
  }
 },
 "nbformat": 4,
 "nbformat_minor": 4
}

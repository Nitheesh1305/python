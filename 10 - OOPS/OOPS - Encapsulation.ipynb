{
 "cells": [
  {
   "cell_type": "markdown",
   "metadata": {},
   "source": [
    "<b><h1 style=\"color:#ff0066;\" ><center>Encapsulation In Python</center></h1><br>\n",
    "<center><img src='https://logicmojo.com/assets/dist/new_pages/images/encapsulation-image.jpg' width=\"600\" height=\"600\"></center>"
   ]
  },
  {
   "cell_type": "markdown",
   "metadata": {},
   "source": [
    "<b><h1 style=\"color:#cc33ff;\" >What Is Meant By Encpsulation ?</h1>\n",
    "<br>\n",
    "<li>Encapsulation in Python is the process of wrapping up variables and methods into a single entity</li><br>\n",
    "<li>In programming, a class is an example that wraps all the variables and methods defined inside it</li><br>\n",
    "<li>By doing so, you can hide the internal state of the object from the outside. This is known as Information Hiding.</li> <br>\n",
    "<center><img src='http://www.btechsmartclass.com/java/java_images/OOP-Concept-Encapsulation.png' width=\"600\" height=\"600\"></center><br>\n",
    "<h3 style=\"color:#FF900C;\" >How To Use Encapsulation In Python :  </h3><br>\n",
    "<li>Encapsulation means restricting the access of methods and variables</li><br>\n",
    "<li>We add the direct access and change restriction feature to methods or variables</li> \n",
    "<h3 style=\"color:#FF900C;\" >Why Are We Doing This :  </h3><br>\n",
    "<li> The codes we write should not be changed or the values we change should be changed in a controlled manner.</li>\n",
    "<b><h3 style=\"color:#FF900C;\" >Benefits of Encapsulation :</h3>\n",
    "<br>\n",
    "<li>Encapsulation provides well-defined, readable code.</li><br>\n",
    "<li>Prevents Accidental Modification or Deletion.</li><br>\n",
    "<li>Encapsulation provides security.</li><br>\n",
    "<li>It also ensures that objects are self-sufficient functioning pieces and can work independently. </li>"
   ]
  },
  {
   "cell_type": "code",
   "execution_count": 3,
   "metadata": {},
   "outputs": [],
   "source": [
    "#The following defines the Counter class:\n",
    "class Counter:\n",
    "    #constructer\n",
    "    def __init__(self):\n",
    "        self.current = 0\n",
    "\n",
    "    def increment(self):\n",
    "        self.current += 1\n",
    "\n",
    "    def value(self):\n",
    "        return self.current\n",
    "\n",
    "    def reset(self):\n",
    "        self.current = 0"
   ]
  },
  {
   "cell_type": "code",
   "execution_count": 4,
   "metadata": {},
   "outputs": [
    {
     "name": "stdout",
     "output_type": "stream",
     "text": [
      "3\n"
     ]
    }
   ],
   "source": [
    "#The following creates a new instance of the Counter class and calls the increment():\n",
    "counter = Counter()\n",
    "\n",
    "counter.increment()\n",
    "counter.increment()\n",
    "counter.increment()\n",
    "\n",
    "print(counter.value())"
   ]
  },
  {
   "cell_type": "code",
   "execution_count": 6,
   "metadata": {},
   "outputs": [
    {
     "name": "stdout",
     "output_type": "stream",
     "text": [
      "-999\n"
     ]
    }
   ],
   "source": [
    "#From the outside of the Counter class, \n",
    "# We still can access the current attribute and change it to whatever you wan\n",
    "counter = Counter()\n",
    "\n",
    "counter.increment()\n",
    "counter.increment()\n",
    "counter.current = -999\n",
    "\n",
    "print(counter.value())"
   ]
  },
  {
   "cell_type": "markdown",
   "metadata": {},
   "source": [
    "<b><h2 style=\"color:#FF5733;\" >Access Modifiers in Python :</h2>\n",
    "<br>\n",
    "<li>Encapsulation can be achieved by declaring the data members and methods of a class either as private or protected</li><br>\n",
    "<li>But In Python, we don’t have direct access modifiers like public, private, and protected.</li><br>\n",
    "<li>We can achieve this by using single underscore and double underscores.</li><br>\n",
    "<li>Access modifiers limit access to the variables and methods of a class.</li><br>\n",
    "<li>Python provides three types of access modifiers private, public, and protected :<br>\n",
    "    <ol>\n",
    "    <li>Public Member : Accessible anywhere from outside class.</li><br>\n",
    "    <li>Private Member : Accessible within the class.</li><br>\n",
    "        <li>Protected Member : Accessible within the class and its sub-classes.</li><br></ol>\n",
    "</li><br>\n",
    "<center><img src='https://pynative.com/wp-content/uploads/2021/08/python_data_hiding.jpg' width=\"600\" height=\"600\"></center>"
   ]
  },
  {
   "cell_type": "markdown",
   "metadata": {},
   "source": [
    "<b><h3 style=\"color:#024C4C;\" >Public Member :</h3>\n",
    "<br>\n",
    "<li>Public data members are accessible within and outside of a class.</li><br>\n",
    "<li>All member variables of the class are by default public.</li>"
   ]
  },
  {
   "cell_type": "code",
   "execution_count": 8,
   "metadata": {},
   "outputs": [
    {
     "name": "stdout",
     "output_type": "stream",
     "text": [
      "Name:  Nitheesh Salary: 30000\n",
      "Name:  Nitheesh Salary: 30000\n"
     ]
    }
   ],
   "source": [
    "class Employee:\n",
    "    # constructor\n",
    "    def __init__(self, name, salary):\n",
    "        # public data members\n",
    "        self.name = name\n",
    "        self.salary = salary\n",
    "\n",
    "    # public instance methods\n",
    "    def show(self):\n",
    "        # accessing public data member\n",
    "        print(\"Name: \", self.name, 'Salary:', self.salary)\n",
    "\n",
    "# creating object of a class\n",
    "emp = Employee('Nitheesh', 30000)\n",
    "\n",
    "# accessing public data members\n",
    "print(\"Name: \", emp.name, 'Salary:', emp.salary)\n",
    "\n",
    "# calling public method of the class\n",
    "emp.show()"
   ]
  },
  {
   "cell_type": "markdown",
   "metadata": {},
   "source": [
    "<b><h3 style=\"color:#024C4C;\" >Private Member :</h3>\n",
    "<br>\n",
    "<li>We can protect variables in the class by marking them private.</li><br>\n",
    "<li>To define a private variable add two underscores as a prefix at the start of a variable name.</li><br>\n",
    "<li>Private members are accessible only within the class, and we can’t access them directly from the class objects.</li><br>"
   ]
  },
  {
   "cell_type": "code",
   "execution_count": 1,
   "metadata": {},
   "outputs": [
    {
     "ename": "AttributeError",
     "evalue": "'Employee' object has no attribute '__salary'",
     "output_type": "error",
     "traceback": [
      "\u001b[1;31m---------------------------------------------------------------------------\u001b[0m",
      "\u001b[1;31mAttributeError\u001b[0m                            Traceback (most recent call last)",
      "\u001b[1;32m<ipython-input-1-50f8e8ff4fab>\u001b[0m in \u001b[0;36m<module>\u001b[1;34m\u001b[0m\n\u001b[0;32m     11\u001b[0m \u001b[1;33m\u001b[0m\u001b[0m\n\u001b[0;32m     12\u001b[0m \u001b[1;31m# accessing private data members\u001b[0m\u001b[1;33m\u001b[0m\u001b[1;33m\u001b[0m\u001b[1;33m\u001b[0m\u001b[0m\n\u001b[1;32m---> 13\u001b[1;33m \u001b[0mprint\u001b[0m\u001b[1;33m(\u001b[0m\u001b[1;34m'Salary:'\u001b[0m\u001b[1;33m,\u001b[0m \u001b[0memp\u001b[0m\u001b[1;33m.\u001b[0m\u001b[0m__salary\u001b[0m\u001b[1;33m)\u001b[0m\u001b[1;33m\u001b[0m\u001b[1;33m\u001b[0m\u001b[0m\n\u001b[0m",
      "\u001b[1;31mAttributeError\u001b[0m: 'Employee' object has no attribute '__salary'"
     ]
    }
   ],
   "source": [
    "class Employee:\n",
    "    # constructor\n",
    "    def __init__(self, name, salary):\n",
    "        # public data member\n",
    "        self.name = name\n",
    "        # private member\n",
    "        self.__salary = salary\n",
    "\n",
    "# creating object of a class\n",
    "emp = Employee('Nitheesh', 30000)\n",
    "\n",
    "# accessing private data members\n",
    "print('Salary:', emp.__salary)"
   ]
  },
  {
   "cell_type": "markdown",
   "metadata": {},
   "source": [
    "<b><h4 style=\"color:#cc33ff;\" >Access Private Members  </h4>\n",
    "<br>\n",
    "<li>Create public method to access private members</li><br>\n",
    "<li>Use name mangling</li>"
   ]
  },
  {
   "cell_type": "markdown",
   "metadata": {},
   "source": [
    "<b><h4 style=\"color:#028E8B;\" >Public method to access private members</h4>"
   ]
  },
  {
   "cell_type": "code",
   "execution_count": 5,
   "metadata": {},
   "outputs": [
    {
     "name": "stdout",
     "output_type": "stream",
     "text": [
      "Name:  Nitheesh Salary: 30000\n"
     ]
    }
   ],
   "source": [
    "class Employee:\n",
    "    # constructor\n",
    "    def __init__(self, name, salary):\n",
    "        # public data member\n",
    "        self.name = name\n",
    "        # private member\n",
    "        self.__salary = salary\n",
    "\n",
    "    # public instance methods\n",
    "    def show(self):\n",
    "        # private members are accessible from a class\n",
    "        print(\"Name: \", self.name, 'Salary:', self.__salary)\n",
    "\n",
    "# creating object of a class\n",
    "emp = Employee('Nitheesh', 30000)\n",
    "\n",
    "# calling public method of the class\n",
    "emp.show()"
   ]
  },
  {
   "cell_type": "markdown",
   "metadata": {},
   "source": [
    "<b><h4 style=\"color:#028E8B;\" >Name Mangling to access private members</h4>\n",
    "<br>\n",
    "<li>The name mangling is created on an identifier by adding two leading underscores and one trailing underscore.</li><br>\n",
    "<li>_classname__dataMember, where classname is the current class, and data member is the private variable name.</li><br>"
   ]
  },
  {
   "cell_type": "code",
   "execution_count": 6,
   "metadata": {},
   "outputs": [
    {
     "name": "stdout",
     "output_type": "stream",
     "text": [
      "Name: Nitheesh\n",
      "Salary: 30000\n"
     ]
    }
   ],
   "source": [
    "class Employee:\n",
    "    # constructor\n",
    "    def __init__(self, name, salary):\n",
    "        # public data member\n",
    "        self.name = name\n",
    "        # private member\n",
    "        self.__salary = salary\n",
    "\n",
    "# creating object of a class\n",
    "emp = Employee('Nitheesh', 30000)\n",
    "\n",
    "print('Name:', emp.name)\n",
    "# direct access to private member using name mangling\n",
    "print('Salary:', emp._Employee__salary)"
   ]
  },
  {
   "cell_type": "markdown",
   "metadata": {},
   "source": [
    "<b><h3 style=\"color:#024C4C;\" >Protected Member :</h3>\n",
    "<br>\n",
    "<li>Protected members are accessible within the class and also available to its sub-classes.</li><br>\n",
    "<li>To define a protected member, prefix the member name with a single underscore _.</li><br>\n",
    "<li>These are used when we implement inheritance and want data members access to only child classes.</li><br>"
   ]
  },
  {
   "cell_type": "code",
   "execution_count": 7,
   "metadata": {},
   "outputs": [
    {
     "name": "stdout",
     "output_type": "stream",
     "text": [
      "Employee name : Nitheesh\n",
      "Working on project : NLP\n",
      "Project: NLP\n"
     ]
    }
   ],
   "source": [
    "# base class\n",
    "class Company:\n",
    "    def __init__(self):\n",
    "        # Protected member\n",
    "        self._project = \"NLP\"\n",
    "\n",
    "# child class\n",
    "class Employee(Company):\n",
    "    def __init__(self, name):\n",
    "        self.name = name\n",
    "        Company.__init__(self)\n",
    "    #public method\n",
    "    def show(self):\n",
    "        print(\"Employee name :\", self.name)\n",
    "        # Accessing protected member in child class\n",
    "        print(\"Working on project :\", self._project)\n",
    "\n",
    "c = Employee(\"Nitheesh\")\n",
    "c.show()\n",
    "\n",
    "# Direct access protected data member\n",
    "print('Project:', c._project)"
   ]
  },
  {
   "cell_type": "markdown",
   "metadata": {},
   "source": [
    "<b><h2 style=\"color:#028E8B;\" >Getters and Setters in Python</h2>\n",
    "<br>\n",
    "<li>To implement proper encapsulation in Python, we need to use setters and getters</li><br>\n",
    "<li>Use the getter method to access data members and the setter methods to modify the data members.</li><br>\n",
    "<li>In Python, private variables are not hidden fields like in other programming languages</li><br>\n",
    "The getters and setters methods are often used when : <br><br>\n",
    "<li>When we want to avoid direct access to private variables</li><br>\n",
    "<li>To add validation logic for setting a value</li><br>"
   ]
  },
  {
   "cell_type": "code",
   "execution_count": 13,
   "metadata": {},
   "outputs": [
    {
     "name": "stdout",
     "output_type": "stream",
     "text": [
      "Name: Nitheesh 25\n",
      "Name: Nitheesh 21\n"
     ]
    }
   ],
   "source": [
    "class Student:\n",
    "    def __init__(self, name, age):\n",
    "        self.name = name\n",
    "        # private member\n",
    "        self.__age = age\n",
    "\n",
    "    # getter method\n",
    "    def get_age(self):\n",
    "        return self.__age\n",
    "\n",
    "    # setter method\n",
    "    def set_age(self, age):\n",
    "        self.__age = age\n",
    "\n",
    "stud = Student('Nitheesh', 25)\n",
    "\n",
    "# retrieving age using getter\n",
    "print('Name:', stud.name, stud.get_age())\n",
    "\n",
    "# changing age using setter\n",
    "stud.set_age(21)\n",
    "\n",
    "# retrieving age using getter\n",
    "print('Name:', stud.name, stud.get_age())"
   ]
  },
  {
   "cell_type": "code",
   "execution_count": 8,
   "metadata": {},
   "outputs": [
    {
     "name": "stdout",
     "output_type": "stream",
     "text": [
      "Student Details: Nitheesh 10\n",
      "Invalid roll no. Please set correct roll number\n"
     ]
    },
    {
     "data": {
      "text/plain": [
       "25"
      ]
     },
     "execution_count": 8,
     "metadata": {},
     "output_type": "execute_result"
    }
   ],
   "source": [
    "#Information Hiding and conditional logic for setting an object attributes\n",
    "class Student:\n",
    "    def __init__(self, name, roll_no, age):\n",
    "        # public member\n",
    "        self.name = name\n",
    "        # private members to restrict access\n",
    "        # avoid direct data modification\n",
    "        self.__roll_no = roll_no\n",
    "        self.__age = age\n",
    "\n",
    "    def show(self):\n",
    "        print('Student Details:', self.name, self.__roll_no)\n",
    "\n",
    "    # getter methods\n",
    "    def get_roll_no(self):\n",
    "        return self.__roll_no\n",
    "\n",
    "    # setter method to modify data member\n",
    "    # condition to allow data modification with rules\n",
    "    def set_roll_no(self, number):\n",
    "        if number > 50:\n",
    "            print('Invalid roll no. Please set correct roll number')\n",
    "        else:\n",
    "            self.__roll_no = number\n",
    "\n",
    "Nit = Student('Nitheesh', 10, 15)\n",
    "\n",
    "# before Modify\n",
    "Nit.show()\n",
    "# changing roll number using setter\n",
    "Nit.set_roll_no(120)\n",
    "\n",
    "\n",
    "Nit.set_roll_no(25)\n",
    "Nit.get_roll_no()"
   ]
  },
  {
   "cell_type": "markdown",
   "metadata": {},
   "source": [
    "<b><h3 style=\"color:#B228F3;\" >Using @property decorators to achieve getters and setters behaviour</h3>\n",
    "<br>\n",
    "<li>In Python property( )is a built-in function that creates and returns a property object.</li><br>\n",
    "<li> A property object has three methods, getter(), setter(), and delete().</li>"
   ]
  },
  {
   "cell_type": "code",
   "execution_count": 11,
   "metadata": {},
   "outputs": [
    {
     "name": "stdout",
     "output_type": "stream",
     "text": [
      "setter method called\n",
      "getter method called\n",
      "19\n"
     ]
    }
   ],
   "source": [
    "# Python program showing the use of @property\n",
    "\n",
    "class Student:\n",
    "    def __init__(self):\n",
    "        self.__age = 0\n",
    "    # using property decorator a getter function\n",
    "    @property\n",
    "    def age(self):\n",
    "        print(\"getter method called\")\n",
    "        return self.__age\n",
    "\n",
    "    # a setter function\n",
    "    @age.setter\n",
    "    def age(self, a):\n",
    "        if(a < 18):\n",
    "            raise ValueError(\"Sorry you age is below eligibility criteria\")\n",
    "        print(\"setter method called\")\n",
    "        self.__age = a\n",
    "\n",
    "mark = Student()\n",
    "mark.age = 19\n",
    "\n",
    "print(mark.age)"
   ]
  },
  {
   "cell_type": "markdown",
   "metadata": {},
   "source": [
    "<b><h2 style=\"color:#FF5733;\" >Encapsulation In Python FAQs :</h2>\n",
    "<br>\n",
    "<li>What is Encapsulation in Python ?</li><br>\n",
    "<li>How can we achieve Encapsulation in Python ?</li><br>\n",
    "<li>How can we define a variable as Private ?</li><br>\n",
    "<li>How can we define a variable as Protected ?</li><br>\n",
    "<li>What are acess modifiers ?</li><br>"
   ]
  },
  {
   "cell_type": "markdown",
   "metadata": {},
   "source": [
    "&copy; **Nitheesh Reddy**"
   ]
  }
 ],
 "metadata": {
  "kernelspec": {
   "display_name": "Python 3",
   "language": "python",
   "name": "python3"
  },
  "language_info": {
   "codemirror_mode": {
    "name": "ipython",
    "version": 3
   },
   "file_extension": ".py",
   "mimetype": "text/x-python",
   "name": "python",
   "nbconvert_exporter": "python",
   "pygments_lexer": "ipython3",
   "version": "3.8.5"
  }
 },
 "nbformat": 4,
 "nbformat_minor": 4
}

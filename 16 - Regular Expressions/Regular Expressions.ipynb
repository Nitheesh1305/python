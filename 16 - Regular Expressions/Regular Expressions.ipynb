{
 "cells": [
  {
   "cell_type": "markdown",
   "metadata": {},
   "source": [
    "<b><h1 style=\"color:#ff0066;\" ><center>Regular Expressions : Regex in Python</center></h1><br>\n",
    "<center><img src='https://files.realpython.com/media/Regular-Expressions-Regexes-in-Python-Part-1_Watermarked.0423050c5371.jpg' width=\"950\" height=\"600\"> <br>\n",
    "<b>An Introduction to Regular expressions aka Regex with Python<br><br></center>\n",
    "<b>In this tutorial, we’ll learn :<br><br>\n",
    "    <li>What is Regular Expression ?</li><br>\n",
    "    <li>How to use Regular Expression in Python ?</li><br>\n",
    "    <li>How to create complex matching pattern with regex metacharacters</li><br>\n",
    "    <li>Regular Expression Functions</li>"
   ]
  },
  {
   "cell_type": "markdown",
   "metadata": {},
   "source": [
    "<b><h2 style=\"color:#FF5733;\" >What is Regular Expression ? </h2><br>\n",
    "<b><li>A RegEx, or Regular Expression,is a sequence of characters that form a pattern that matches the text.</li><br>\n",
    "<b><li>You can target specific segments you are interested in, and specify what it should include or exclude.</li><br>\n",
    "<b><li>We can then use this pattern in a string-searching algorithm to “find” or “find and replace” on strings.</li><br>\n",
    "<b><li>They are used everywhere from data pre-processing to natural language processing, pattern matching, web scraping, data extraction...</li><br>\n",
    "<b><li>Regular expression is used for replacing a text within a string, validating form, extract a substring from a string based upon a pattern match..</li><br>\n",
    "<b><li>Typical examples of regular expressions are the patterns for matching email addresses, phone numbers, and credit card numbers.</li><br>\n",
    "<b><li>A real world use case is password validation.Performing multiple checks like string length and the type of characters allowed </li><br>\n",
    "<b><center><img src=\"https://frontendscript.com/wp-content/uploads/2020/07/jquery-password-validation-while-typing.png\" width=\"500\" height=\"400\" ></center><br>"
   ]
  },
  {
   "cell_type": "markdown",
   "metadata": {},
   "source": [
    "<b><h2 style=\"color:#028E8B;\" >Regex Syntax Summary : </h2><br>\n",
    "    \n",
    "<b><center><img src=\"https://i.imgur.com/7fBxXMM.png\"></center>"
   ]
  },
  {
   "cell_type": "markdown",
   "metadata": {},
   "source": [
    "<b><h2 style=\"color:#028E8B;\" >Jargons of Regex: </h2><br>\n",
    "\n",
    "<b><li><font style=\"color:#FF5733\">Pattern : </font> This refers to a regular expression string, and contains the information we are looking for in a long string.<br><br> It could be a word, a series of regex special symbols, or a combination of both</li><br>\n",
    "<b><li><font style=\"color:#FF5733\">Match : </font> If the pattern is found in the string, we call this substring a match, and say that the pattern has been matched.<br><br> There can be many matches in one operation</li>\n"
   ]
  },
  {
   "cell_type": "markdown",
   "metadata": {},
   "source": [
    "<b><h2 style=\"color:#cc33ff;\" >RegEx in Python : </h2><br>\n",
    "<b><li>Though regex implementation is mostly similar across different programming languages, there can be minor differences</li><br>\n",
    "<b><li>Python’s engine for handling regular expression is in the built-in library called <font style=\"color:#FF5733\"> \"re\" </font></li><br>\n",
    "<b><center><img src=\"https://www.pythontutorial.net/wp-content/uploads/2021/11/python-regular-expressions.svg\" width=\"500\" height=\"400\" ></center><br>\n",
    "<b><li>In addition to a few functions, objects and methods, regular expressions include a syntax</li><br>\n",
    "<li><a href=\"https://docs.python.org/3/library/re.html\">Read its documentation</a></li>"
   ]
  },
  {
   "cell_type": "markdown",
   "metadata": {},
   "source": [
    "<b><h2 style=\"color:#FF5733;\" >Python Regex Functions: </h2><br>\n",
    "    <b>Once we import re library into your code, we can use any of its powerful functions mentioned below.<br><br>\n",
    "<b><ol>\n",
    "    <li>Methods to search for matches</li><br>\n",
    "    <li>Methods on a match object</li><br>\n",
    "    <li>Modification methods</li>\n",
    "        </ol>"
   ]
  },
  {
   "cell_type": "markdown",
   "metadata": {},
   "source": [
    "<b><h3 style=\"color:#FF5733;\" >re.compile(pattern, flags=0)</h3><br>\n",
    "<b>\n",
    "<b><li>Using regexes, you specify the rules for the set of possible strings that you want to match.</li><br>\n",
    "<b><li>Typically we first define our pattern that we want to search for, and use re.compile( ) on it.</li><br>\n",
    "<b><li>re.compile( ) Compile a regular expression pattern provided as a string into a re.Pattern object</li><br>\n",
    "<b><li>We can compile a regular expression into a regex object to look for occurrences of the same pattern inside various <br><br>target strings without rewriting it.</li><br>\n",
    "<b><li>By default, our pattern is case sensitive.</li><br>\n",
    "<b><li>Note: It is recommended to use raw strings for the search</li>"
   ]
  },
  {
   "cell_type": "code",
   "execution_count": null,
   "metadata": {},
   "outputs": [],
   "source": [
    "import re\n",
    "test_string = '123abc456789abc123ABC'\n",
    "pattern = re.compile(r'abc')\n",
    "print(type(pattern))"
   ]
  },
  {
   "cell_type": "code",
   "execution_count": null,
   "metadata": {},
   "outputs": [],
   "source": [
    "## Use raw strings for the search pattern\n",
    "a = '\\tHello'\n",
    "b = r'\\tHello'\n",
    "print(a)\n",
    "print(b)"
   ]
  },
  {
   "cell_type": "markdown",
   "metadata": {},
   "source": [
    "<b><h3 style=\"color:#028E8B;\" >1.Performing matches with compiled objects: </h3><br>\n",
    "<b>Once we have our pattern, we can search for the pattern in the text / string that we want to look up with following Regex Methods<br><br>\n",
    "<b><ol>\n",
    "    <li><font style=\"color:#FF5733\">match (pattern, str )</font></li><br>\n",
    "    <li><font style=\"color:#FF5733\">search (pattern, str)</font></li><br>\n",
    "    <li><font style=\"color:#FF5733\">findall (pattern, str)</font></li><br>\n",
    "    <li><font style=\"color:#FF5733\">finditer (pattern, str)</font></li><br>\n",
    "</ol> \n",
    "<b><ul>    \n",
    "<li>These functions take following arguments:</li><br>\n",
    "<ul>\n",
    "<li>the pattern to search for</li><br>\n",
    "<li>the string of text to search in</li><br>\n",
    "<li>an optional flags parameter that alters the behavior of the regex engine. An example is flags=re.I that makes the pattern case-insensitive.</li>\n",
    "    </ul>"
   ]
  },
  {
   "cell_type": "markdown",
   "metadata": {},
   "source": [
    "<b><h3 style=\"color:#FF5733;\" ><font style=\"color:#028E8B\">1.1 : </font>re.match(pattern, string, flags=0)</h3><br>\n",
    "<b><li>Python re.match( ) method looks for the regex pattern only at the beginning of the target string</li><br>\n",
    "<b><li>Returns match object if match found; otherwise, it will return None.</li><br>\n",
    "<b><li>The re.Match object contains the locations at which the match starts and ends and the actual match value</li><br>\n",
    "<center><img src=\"https://techbeamers.com/wp-content/uploads/2019/03/Python-Regular-Expression-Match-Function.png\" ></center>"
   ]
  },
  {
   "cell_type": "code",
   "execution_count": null,
   "metadata": {},
   "outputs": [],
   "source": [
    "import re\n",
    "\n",
    "target_string = \"Emma is a basketball player who was born on June 17\"\n",
    "\n",
    "pattern = r\"\\w{4}\"  # - match any four-letter word\n",
    "\n",
    "result = re.match(pattern, target_string)\n",
    "\n",
    "# printing the Match object\n",
    "print(\"Match object of Pattern 1: \", result)\n",
    "print('*'*10)\n",
    "\n",
    "pattern2 = r\"\\w{5}\"  # - match any four-letter word\n",
    "\n",
    "result2 = re.match(pattern2, target_string)\n",
    "\n",
    "# printing the Match object\n",
    "print(\"Match object of Pattern 2: \", result2)"
   ]
  },
  {
   "cell_type": "markdown",
   "metadata": {},
   "source": [
    "<b>Note  : we can use the group( ) method of a Match object to retrieve the exact match value"
   ]
  },
  {
   "cell_type": "markdown",
   "metadata": {},
   "source": [
    "<b><h3 style=\"color:#FF5733;\" ><font style=\"color:#028E8B\">1.2 : </font>re.search(pattern, string, flags=0)</h3><br>\n",
    "<ul>\n",
    "<b><li>Python regex re.search( ) method looks for occurrences of the regex pattern inside the entire target string </li><br>\n",
    "<b><li>It returns only the first match to the pattern from the target string.</li><br>\n",
    "<b><li>This method returns a Match object ( i.e., re.Match). This match object contains the following two items.</li><br>\n",
    "<ul>\n",
    "    <b><li>The tuple object contains the start and end index of a successful match.</li><br>\n",
    "    <b><li>Second, it contains an actual matching value that we can retrieve using a group() method.</li><br>\n",
    "</ul>\n",
    "<li>If it fails to locate the occurrences of the pattern or such a pattern doesn’t exist in a target string it will return a None type.</li><br>\n",
    "</ul>\n",
    "<center><img src=\"https://techbeamers.com/wp-content/uploads/2019/03/Python-Regular-Expression-Search-Function.png\" ></center><br>"
   ]
  },
  {
   "cell_type": "code",
   "execution_count": null,
   "metadata": {},
   "outputs": [],
   "source": [
    "import re\n",
    "\n",
    "target_string = \"Emma is a basketball player who was born on June 17\"\n",
    "\n",
    "# search() for six-letter word\n",
    "result1 = re.search(r\"\\w{6}\", target_string)\n",
    "\n",
    "# Print match object\n",
    "print(\"Match Object 1\", result1)\n",
    "print('*'*10)\n",
    "# find substring 'ball'\n",
    "result2 = re.search(r\"ball\", target_string)\n",
    "\n",
    "# Print match object\n",
    "print(\"Match Object 2\", result2)\n",
    "print('*'*10)\n",
    "\n",
    "# find exact word/substring surrounded by word boundary\n",
    "result3 = re.search(r\"\\bball\\b\", target_string)\n",
    "\n",
    "# Print match object\n",
    "print(\"Match Object 3\", result3)"
   ]
  },
  {
   "cell_type": "markdown",
   "metadata": {},
   "source": [
    "<b><h3 style=\"color:#FF5733;\" ><font style=\"color:#028E8B\">1.3 : </font>re.findall(pattern, string, flags=0)</h3><br>\n",
    "<b><li>This method scans the regex pattern through the entire target string and returns all the matches that were found in the form of a list.</li><br>\n",
    "<b><li>It returns None if it fails to locate the occurrences of the pattern or such a pattern doesn’t exist in a target string.</li>"
   ]
  },
  {
   "cell_type": "code",
   "execution_count": null,
   "metadata": {},
   "outputs": [],
   "source": [
    "import re\n",
    "\n",
    "target_string = f\"Emma is a basketball player who was born on June 17, 1993.\\\n",
    "She played 112 matches with scoring average 26.12 points per game. Her weight is 51 kg.\"\n",
    "#find all digits\n",
    "result = re.findall(r\"\\d+\", target_string) \n",
    "\n",
    "# print all matches\n",
    "print(\"Found following matches\")\n",
    "print(result)"
   ]
  },
  {
   "cell_type": "markdown",
   "metadata": {},
   "source": [
    "<b><h3 style=\"color:#FF5733;\" >search vs match vs findall</h3><br>\n",
    "<center><img src=\"https://i.imgur.com/UAhvbHi.png\" ></center>"
   ]
  },
  {
   "cell_type": "code",
   "execution_count": null,
   "metadata": {},
   "outputs": [],
   "source": [
    "import re\n",
    "\n",
    "target_string = \"Jessa loves Python and pandas\"\n",
    "# Match six-letter word\n",
    "pattern = r\"\\w{6}\"\n",
    "\n",
    "# match() method\n",
    "result = re.match(pattern, target_string)\n",
    "print(\"Match Object : \",result)\n",
    "print('*'*10)\n",
    "\n",
    "# search() method\n",
    "result = re.search(pattern, target_string)\n",
    "print(\"Search Object : \",result.group()) \n",
    "print('*'*10)\n",
    "\n",
    "# findall() method\n",
    "result = re.findall(pattern, target_string)\n",
    "print(\"Findall Object : \",result) "
   ]
  },
  {
   "cell_type": "markdown",
   "metadata": {},
   "source": [
    "<b><h3 style=\"color:#FF5733;\" ><font style=\"color:#028E8B\">1.4 : </font>re.finditer(pattern, string, flags=0)</h3><br>\n",
    "<b><li>The re.finditer() works exactly the same as the re.findall() method except it returns an iterator yielding match objects <br><br>matching the regex pattern in a string instead of a list.</li><br>\n",
    "<b><li>In simple words, finditer() returns an iterator over MatchObject objects.</li>"
   ]
  },
  {
   "cell_type": "code",
   "execution_count": null,
   "metadata": {},
   "outputs": [],
   "source": [
    "import re\n",
    "\n",
    "target_string = f\"Emma is a basketball player who was born on June 17, 1993.\\\n",
    "She played 112 matches with a scoring average of 26.12 points per game. Her weight is 51 kg.\"\n",
    "\n",
    "# finditer() with regex pattern and target string\n",
    "# \\d{2} to match two consecutive digits \n",
    "result = re.finditer(r\"\\d{2}\", target_string)\n",
    "\n",
    "# print all match object\n",
    "for match_obj in result:\n",
    "    # print each re.Match object\n",
    "    print(match_obj)\n",
    "    # extract each matching number\n",
    "    print(match_obj.group())\n",
    "    print(\"*\"*10)"
   ]
  },
  {
   "cell_type": "markdown",
   "metadata": {},
   "source": [
    "<b><h3 style=\"color:#028E8B;\" >2.Understand the Match objects: </h3><br>\n",
    "As we know, the match() and search() method returns a re.Match object if a match found .Let’s see the structure of a re.Match object\n",
    "<pre>\n",
    "re.Match object; span=(0, 4), match='Emma'\n",
    "</pre>\n",
    "<ul>    \n",
    "<b><li>This re.Match object contains the following items:</li><br>\n",
    "<ul><b>\n",
    "<li>A span attribute that shows the locations at which the match starts and ends. i.e., is the tuple object contains the start and end index of a successful match.</li><br>\n",
    "<li>Save this tuple and use it whenever you want to retrieve a matching string from the target string</li><br>\n",
    "<li>Second, A match attribute contains an actual match value that we can retrieve using a group() method.</li><br>\n",
    "    </ul>\n",
    "    <li>The Match object has several methods and attributes to get the information about the matching string. </li><br>\n",
    "    <ol>\n",
    "<b>\n",
    "    <li><font style=\"color:#FF5733\">group ( ) : </font>Return the string matched by the regex</li><br>\n",
    "    <li><font style=\"color:#FF5733\">start ( ) : </font>Return the starting position of the match</li><br>\n",
    "    <li><font style=\"color:#FF5733\">end ( ) : </font>\tReturn the ending position of the match</li><br>\n",
    "    <li><font style=\"color:#FF5733\">span ( ) : </font>\tReturn a tuple containing the (start, end) positions of the match.</li><br>\n",
    "    </ol>\n",
    "        </ul>\n",
    "<center><img src=\"https://i.imgur.com/41WdRoo.png\" ></center>"
   ]
  },
  {
   "cell_type": "code",
   "execution_count": 1,
   "metadata": {},
   "outputs": [
    {
     "name": "stdout",
     "output_type": "stream",
     "text": [
      "Match Object :  <re.Match object; span=(3, 6), match='abc'>\n",
      "Match Span :  (3, 6)\n",
      "Match Start Position :  3\n",
      "Match End Position :  6\n",
      "The Substring That Was Matched :  abc\n",
      "* * * * * * * * * * * * * * * * * * * * * * * * * * * * * * \n",
      "Match Object :  <re.Match object; span=(12, 15), match='abc'>\n",
      "Match Span :  (12, 15)\n",
      "Match Start Position :  12\n",
      "Match End Position :  15\n",
      "The Substring That Was Matched :  abc\n",
      "* * * * * * * * * * * * * * * * * * * * * * * * * * * * * * \n"
     ]
    }
   ],
   "source": [
    "import re\n",
    "test_string = '123abc456789abc123ABC'\n",
    "pattern = re.compile(r'abc')\n",
    "matches = pattern.finditer(test_string)\n",
    "for match in matches:\n",
    "    print(\"Match Object : \",match)\n",
    "    print(\"Match Span : \",match.span())\n",
    "    print(\"Match Start Position : \",match.start())\n",
    "    print(\"Match End Position : \",match.end())\n",
    "    print(\"The Substring That Was Matched : \",match.group()) \n",
    "    print(\"* \"*30)"
   ]
  },
  {
   "cell_type": "markdown",
   "metadata": {},
   "source": [
    "<b><h3 style=\"color:#028E8B;\" >3.Modification methods: </h3><br>\n",
    "<b><ol>\n",
    "    <li><font style=\"color:#FF5733\">split ( ) : </font>Split the string into a list, splitting it wherever the RE matches</li><br>\n",
    "    <li><font style=\"color:#FF5733\">sub ( ) : </font> Find all substrings where the RE matches, and replace them with a different string</li><br>\n",
    "</ol> "
   ]
  },
  {
   "cell_type": "code",
   "execution_count": 2,
   "metadata": {},
   "outputs": [
    {
     "name": "stdout",
     "output_type": "stream",
     "text": [
      "['abc', 'ABCDEF', 'abc']\n"
     ]
    }
   ],
   "source": [
    "#re.split\n",
    "import re\n",
    "my_string = 'abc123ABCDEF123abc'\n",
    "pattern = re.compile(r'123') #  no escape for the . here in the set\n",
    "matches = pattern.split(my_string)\n",
    "print(matches)"
   ]
  },
  {
   "cell_type": "code",
   "execution_count": 3,
   "metadata": {},
   "outputs": [
    {
     "name": "stdout",
     "output_type": "stream",
     "text": [
      "hello planet, you are the best planet\n"
     ]
    }
   ],
   "source": [
    "#re.sub\n",
    "my_string = \"hello world, you are the best world\"\n",
    "pattern = re.compile(r'world')\n",
    "subbed_string = pattern.sub(r'planet', my_string)\n",
    "print(subbed_string)"
   ]
  },
  {
   "cell_type": "markdown",
   "metadata": {},
   "source": [
    "<b><h2 style=\"color:#028E8B;\" >Meta characters: </h2><br>\n",
    "<b>Metacharacters are characters with a special meaning.Here is list of all mete characters :\n",
    "<pre>\n",
    "^  : Matches the start of the string\n",
    "\n",
    "$  : Matches the end of the string\n",
    "\n",
    ".  : Matches any character except a newline\n",
    "\n",
    "?  : Repeats a character zero or one time\n",
    "\n",
    "+  : Matches one or more repetitions of the preceding RE\n",
    "\n",
    "+? : Matches one or more repetitions of the preceding RE(non-greedy)\n",
    "\n",
    "*  : Matches zero or more repetitions of the preceding RE\n",
    "\n",
    "*? : Matches zero or more repetitions of the preceding RE(non-greedy)\n",
    "\n",
    "\\  : Signals a special sequence\n",
    "\n",
    "|  : Used for alternation\n",
    "\n",
    "[] : Used to indicate a set of characters\n",
    "\n",
    "() : Matches whatever regular expression is inside the parentheses, and indicates the start and end of a group\n",
    "\n",
    "{m}: Specifies that exactly m copies of the previous RE should be matched\n",
    "\n",
    "{m,n} : Matches from m to n repetitions of the preceding RE, attempting to match as many repetitions as possible\n"
   ]
  },
  {
   "cell_type": "code",
   "execution_count": 6,
   "metadata": {},
   "outputs": [
    {
     "name": "stdout",
     "output_type": "stream",
     "text": [
      "['Hello']\n"
     ]
    }
   ],
   "source": [
    "# ^ (Caret) - It matches the start of the string\n",
    "import re\n",
    "string = \"Hello World! Hello Hello\"\n",
    "x = re.findall(\"^Hello\", string)\n",
    "print(x)"
   ]
  },
  {
   "cell_type": "code",
   "execution_count": 11,
   "metadata": {},
   "outputs": [
    {
     "name": "stdout",
     "output_type": "stream",
     "text": [
      "['World!']\n"
     ]
    }
   ],
   "source": [
    "# $ (Dollar) - It matches the end of the string\n",
    "string = \"World! Hello World!\"\n",
    "x = re.findall(\"World!$\", string)\n",
    "print(x)"
   ]
  },
  {
   "cell_type": "code",
   "execution_count": 15,
   "metadata": {},
   "outputs": [
    {
     "name": "stdout",
     "output_type": "stream",
     "text": [
      "['Hello']\n"
     ]
    }
   ],
   "source": [
    "#. (Dot) - It matches any character except a newline.\n",
    "string = \"Hello World!\"\n",
    "x = re.findall(\"H.ll.\", string)\n",
    "print(x)"
   ]
  },
  {
   "cell_type": "code",
   "execution_count": 20,
   "metadata": {},
   "outputs": [
    {
     "name": "stdout",
     "output_type": "stream",
     "text": [
      "['man']\n"
     ]
    }
   ],
   "source": [
    "#? (Question Mark) -It matches zero or one repetition of the preceding RE\n",
    "string = \"man\"\n",
    "x = re.findall(\"ma?n\", string)\n",
    "print(x)"
   ]
  },
  {
   "cell_type": "code",
   "execution_count": 36,
   "metadata": {},
   "outputs": [
    {
     "name": "stdout",
     "output_type": "stream",
     "text": [
      "['Hello']\n"
     ]
    }
   ],
   "source": [
    "# + (Plus) - It matches one or more repetitions of the preceding RE\n",
    "string = \"Hello World!\"\n",
    "x = re.findall(\"Hel+o\", string)\n",
    "\n",
    "print(x)"
   ]
  },
  {
   "cell_type": "code",
   "execution_count": 25,
   "metadata": {},
   "outputs": [
    {
     "name": "stdout",
     "output_type": "stream",
     "text": [
      "['From : using the :']\n"
     ]
    }
   ],
   "source": [
    "# ^ , . , +\n",
    "string = \"From : using the : character\"\n",
    "x = re.findall(\"^F.+:\", string)\n",
    "print(x)"
   ]
  },
  {
   "cell_type": "code",
   "execution_count": 27,
   "metadata": {},
   "outputs": [
    {
     "name": "stdout",
     "output_type": "stream",
     "text": [
      "['From :']\n"
     ]
    }
   ],
   "source": [
    "# +? - It matches one or more repetitions of the preceding RE (non-greedy). \n",
    "#Non-greedy means it matches as little string (or text) as possible\n",
    "string = \"From : using the : character\"\n",
    "x = re.findall(\"^F.+?:\", string)\n",
    "print(x)"
   ]
  },
  {
   "cell_type": "code",
   "execution_count": 28,
   "metadata": {},
   "outputs": [
    {
     "name": "stdout",
     "output_type": "stream",
     "text": [
      "['Hellllo']\n"
     ]
    }
   ],
   "source": [
    "#* (Star) - It matches zero or more repetitions of the preceding RE.(Greddy)\n",
    "\n",
    "string = \"Hellllo World!\"\n",
    "x = re.findall(\"Hel*o\", string)\n",
    "print(x)"
   ]
  },
  {
   "cell_type": "code",
   "execution_count": 41,
   "metadata": {},
   "outputs": [
    {
     "name": "stdout",
     "output_type": "stream",
     "text": [
      "[]\n",
      "['He']\n"
     ]
    }
   ],
   "source": [
    "#difference between + - 1 and * - 0\n",
    "string = \"Heo World!\"\n",
    "x = re.findall(\"Hel+o\", string)\n",
    "print(x)\n",
    "\n",
    "string = \"Heo World!\"\n",
    "x = re.findall(\"Hel*\", string)\n",
    "print(x)"
   ]
  },
  {
   "cell_type": "code",
   "execution_count": 43,
   "metadata": {},
   "outputs": [
    {
     "name": "stdout",
     "output_type": "stream",
     "text": [
      "['He', 'He']\n"
     ]
    }
   ],
   "source": [
    "#*? - It matches zero or more repetitions of the preceding RE (non-greedy)\n",
    "string = \"Hello World! Hello\"\n",
    "x = re.findall(\"Hel*?\", string)\n",
    "print(x)"
   ]
  },
  {
   "cell_type": "code",
   "execution_count": 46,
   "metadata": {},
   "outputs": [
    {
     "name": "stdout",
     "output_type": "stream",
     "text": [
      "['World', 'Bye']\n"
     ]
    }
   ],
   "source": [
    "#| (Alternation) - It is used for alternation. Like A|B, where A and B can be arbitrary REs, \n",
    "# it will match any string that contains either A or B.\n",
    "\n",
    "string = \"Hello World! Bye\"\n",
    "x = re.findall(\"Bye|World\", string)\n",
    "print(x)"
   ]
  },
  {
   "cell_type": "markdown",
   "metadata": {},
   "source": [
    "<pre>\n",
    "[] (Square Brackets) - It is used to indicate a set of characters.\n",
    "\n",
    "[aeiou] : Matches a single character in the listed set\n",
    "[^xyz] : Matches a single character not in the listed set\n",
    "[a-z0-9] : Matches a single character between a to z or 0 to 9.\n"
   ]
  },
  {
   "cell_type": "code",
   "execution_count": 47,
   "metadata": {},
   "outputs": [
    {
     "name": "stdout",
     "output_type": "stream",
     "text": [
      "['e', 'o', 'o']\n"
     ]
    }
   ],
   "source": [
    "#[] - Sets \n",
    "string = \"Hello World!\"\n",
    "x = re.findall(\"[aeiou]\", string)\n",
    "\n",
    "print(x)"
   ]
  },
  {
   "cell_type": "code",
   "execution_count": 48,
   "metadata": {},
   "outputs": [
    {
     "name": "stdout",
     "output_type": "stream",
     "text": [
      "['H', 'l', 'l', ' ', 'W', 'r', 'l', 'd', '!']\n"
     ]
    }
   ],
   "source": [
    "string = \"Hello World!\"\n",
    "x = re.findall(\"[^aeiou]\", string)\n",
    "\n",
    "print(x)"
   ]
  },
  {
   "cell_type": "code",
   "execution_count": 49,
   "metadata": {},
   "outputs": [
    {
     "name": "stdout",
     "output_type": "stream",
     "text": [
      "['9211']\n"
     ]
    }
   ],
   "source": [
    "string = \"Hello World! 9211\"\n",
    "x = re.findall(\"[0-9]+\", string)\n",
    "print(x)"
   ]
  },
  {
   "cell_type": "code",
   "execution_count": 50,
   "metadata": {},
   "outputs": [
    {
     "name": "stdout",
     "output_type": "stream",
     "text": [
      "['act.ac.in']\n"
     ]
    }
   ],
   "source": [
    "# () (Parentheses) - It matches whatever regular expression is inside the parentheses and \n",
    "# indicates the start and end of a group\n",
    "string = \"From john.marq@act.ac.in Tue Jan 5\"\n",
    "x = re.findall(\"^From .*@([^ ]*)\", string)\n",
    "print(x)"
   ]
  },
  {
   "cell_type": "code",
   "execution_count": 51,
   "metadata": {},
   "outputs": [
    {
     "name": "stdout",
     "output_type": "stream",
     "text": [
      "['Mississippiii']\n"
     ]
    }
   ],
   "source": [
    "#Quantifiers\n",
    "# {m} - It specifies that exactly m copies of the previous RE should be matched.\n",
    "string = \"Mississippi Mississippiii Mississippii\"\n",
    "x = re.findall('Mississippi{3}', string)\n",
    "print(x)"
   ]
  },
  {
   "cell_type": "code",
   "execution_count": 52,
   "metadata": {},
   "outputs": [
    {
     "name": "stdout",
     "output_type": "stream",
     "text": [
      "['Mississippiii', 'Mississippii']\n"
     ]
    }
   ],
   "source": [
    "#{m,n} - It matches from m to n repetitions of the preceding RE, attempting to match as many repetitions as possible\n",
    "string = \"Mississippi Mississippiii Mississippii\"\n",
    "x = re.findall('Mississippi{2,3}', string)\n",
    "print(x)"
   ]
  },
  {
   "cell_type": "markdown",
   "metadata": {},
   "source": [
    "<b><h2 style=\"color:#028E8B;\" >Special Sequences: </h2><br>\n",
    "<pre>\n",
    "\\s : Matches any whitespace character (i.e. equivalent to the class [ \\t\\n\\r\\f\\v])\n",
    "\n",
    "\\S : Matches any non-whitespace character (i.e. equivalent to the class [^ \\t\\n\\r\\f\\v])\n",
    "\n",
    "\\d : Matches any decimal digit (i.e. equivalent to the class [0-9])\n",
    "\n",
    "\\D : Matches any non-digit character (i.e. equivalent to the class      [^0-9])\n",
    "\n",
    "\\w : Matches any alphanumeric character (i.e. equivalent to the class [a-zA-Z0-9_])\n",
    "\n",
    "\\W : Matches any non-alphanumeric character (i.e. equivalent to the class [^a-zA-Z0-9_])"
   ]
  },
  {
   "cell_type": "code",
   "execution_count": 53,
   "metadata": {},
   "outputs": [
    {
     "name": "stdout",
     "output_type": "stream",
     "text": [
      "['abc@gmail.com']\n"
     ]
    }
   ],
   "source": [
    "string = \"My email id is abc@gmail.com which i have created on 5th Jan.\"\n",
    "x = re.findall('\\S+@\\S+', string)\n",
    "print(x)"
   ]
  },
  {
   "cell_type": "code",
   "execution_count": 54,
   "metadata": {},
   "outputs": [
    {
     "name": "stdout",
     "output_type": "stream",
     "text": [
      "['My', 'email', 'id', 'is', 'abc', 'gmail', 'com', 'which', 'i', 'have', 'created', 'on', '5th', 'Jan']\n"
     ]
    }
   ],
   "source": [
    "string = \"My email id is abc@gmail.com which i have created on 5th Jan.\"\n",
    "x = re.findall('\\w+', string)\n",
    "print(x)"
   ]
  },
  {
   "cell_type": "markdown",
   "metadata": {},
   "source": [
    "<b><h2 style=\"color:#028E8B;\" >Useful regex examples: </h2><br>"
   ]
  },
  {
   "cell_type": "code",
   "execution_count": 56,
   "metadata": {},
   "outputs": [
    {
     "name": "stdout",
     "output_type": "stream",
     "text": [
      "['9/1/2023']\n"
     ]
    }
   ],
   "source": [
    "#Example 1: Extracting date from string\n",
    "string = \"My email id is abc@gmail.com which i have created on 9/1/2023\"\n",
    "x = re.findall('[0-9]{1,2}\\/[0-9]{1,2}\\/[0-9]{4}', string)\n",
    "print(x)"
   ]
  },
  {
   "cell_type": "code",
   "execution_count": 57,
   "metadata": {},
   "outputs": [
    {
     "name": "stdout",
     "output_type": "stream",
     "text": [
      "Valid Email\n"
     ]
    }
   ],
   "source": [
    "#Example 2: Check Email is valid or not\n",
    "string = \"abc123@gmail.com\"\n",
    "x = re.findall('[a-z0-9]+[\\._]?[a-z0-9]+[@]\\w+[.]\\w{2,3}$', string)\n",
    "if x:\n",
    "  print(\"Valid Email\")\n",
    "else:\n",
    "  print(\"Not Valid\")"
   ]
  },
  {
   "cell_type": "code",
   "execution_count": 58,
   "metadata": {},
   "outputs": [
    {
     "name": "stdout",
     "output_type": "stream",
     "text": [
      "Valid URL\n"
     ]
    }
   ],
   "source": [
    "# Example 3: Check URL is valid or not\n",
    "string = \"https://sohanlalgupta.tech\"\n",
    "x = re.search('((http|https)://)(www.)?[a-zA-Z0-9@:%._\\\\+~#?&//=]{2,256}\\\\.[a-z]{2,6}\\\\b([-a-zA-Z0-9@:%._\\\\+~#?&//=]*)', string)\n",
    "\n",
    "if x:\n",
    "  print(\"Valid URL\")\n",
    "else:\n",
    "  print(\"Not Valid\")"
   ]
  },
  {
   "cell_type": "markdown",
   "metadata": {},
   "source": [
    "&copy; **Nitheesh Reddy**"
   ]
  }
 ],
 "metadata": {
  "kernelspec": {
   "display_name": "Python 3 (ipykernel)",
   "language": "python",
   "name": "python3"
  },
  "language_info": {
   "codemirror_mode": {
    "name": "ipython",
    "version": 3
   },
   "file_extension": ".py",
   "mimetype": "text/x-python",
   "name": "python",
   "nbconvert_exporter": "python",
   "pygments_lexer": "ipython3",
   "version": "3.9.12"
  }
 },
 "nbformat": 4,
 "nbformat_minor": 4
}

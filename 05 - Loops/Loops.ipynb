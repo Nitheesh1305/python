{
 "cells": [
  {
   "cell_type": "markdown",
   "metadata": {},
   "source": [
    "<center><b><h1 style=\"color:#ff0066;\" >Loops : While & For</h1>"
   ]
  },
  {
   "cell_type": "markdown",
   "metadata": {},
   "source": [
    "<b><h1 style=\"color:#cc33ff;\" >While</h1>"
   ]
  },
  {
   "cell_type": "code",
   "execution_count": 1,
   "metadata": {},
   "outputs": [
    {
     "name": "stdout",
     "output_type": "stream",
     "text": [
      "2\n",
      "1\n",
      "Loop Ended\n"
     ]
    }
   ],
   "source": [
    "#while Loop\n",
    "a=2\n",
    "while(a>0):\n",
    "\tprint(a)\n",
    "\ta-=1 #Decrement of value \n",
    "print('Loop Ended')"
   ]
  },
  {
   "cell_type": "code",
   "execution_count": 2,
   "metadata": {},
   "outputs": [],
   "source": [
    "# Exit condition is false at the start\n",
    "x = 0 #flase \n",
    "while x:\n",
    "    print(x)\n",
    "    x -= 1"
   ]
  },
  {
   "cell_type": "code",
   "execution_count": 3,
   "metadata": {},
   "outputs": [
    {
     "name": "stdout",
     "output_type": "stream",
     "text": [
      "\n"
     ]
    }
   ],
   "source": [
    "# Infinte loop with while statement\n",
    "# while True:\n",
    "#     print('Press Ctrl+C to stop me!')\n",
    "print()"
   ]
  },
  {
   "cell_type": "code",
   "execution_count": 4,
   "metadata": {},
   "outputs": [
    {
     "name": "stdout",
     "output_type": "stream",
     "text": [
      "3\n",
      "2\n",
      "1\n"
     ]
    }
   ],
   "source": [
    "#single-line while Loop \n",
    "a=3\n",
    "while a>0 : print(a) ; a-=1"
   ]
  },
  {
   "cell_type": "markdown",
   "metadata": {},
   "source": [
    "### Nested While"
   ]
  },
  {
   "cell_type": "code",
   "execution_count": 5,
   "metadata": {},
   "outputs": [
    {
     "name": "stdout",
     "output_type": "stream",
     "text": [
      "\n",
      "* \n",
      "* * \n",
      "* * * \n",
      "* * * * \n",
      "* * * * * \n"
     ]
    }
   ],
   "source": [
    "#Printing Star Pattern \n",
    "i=6\n",
    "while(i>0): #outer loop\n",
    "    j=6\n",
    "    while(j>i): #inner loop\n",
    "        print(\"*\",end=' ')\n",
    "        j-=1\n",
    "    i-=1\n",
    "    print()"
   ]
  },
  {
   "cell_type": "markdown",
   "metadata": {},
   "source": [
    "### While - Else :"
   ]
  },
  {
   "cell_type": "code",
   "execution_count": 6,
   "metadata": {},
   "outputs": [
    {
     "name": "stdout",
     "output_type": "stream",
     "text": [
      "3\n",
      "2\n",
      "1\n",
      "Reached 0\n"
     ]
    }
   ],
   "source": [
    "a=3\n",
    "while(a>0):\n",
    "    print(a)\n",
    "    a-=1\n",
    "else:\n",
    "    print(\"Reached 0\")\n"
   ]
  },
  {
   "cell_type": "code",
   "execution_count": 7,
   "metadata": {},
   "outputs": [
    {
     "name": "stdout",
     "output_type": "stream",
     "text": [
      "6\n",
      "5\n",
      "4\n"
     ]
    }
   ],
   "source": [
    "#If the loop terminates prematurely with break, \n",
    "# the else clause won’t be executed.\n",
    "x = 6\n",
    "while x:\n",
    "    print(x)\n",
    "    x -= 1\n",
    "    if x == 3:\n",
    "        break\n",
    "else:\n",
    "    print('Done!')\n",
    "# Prints 6 5 4"
   ]
  },
  {
   "cell_type": "markdown",
   "metadata": {},
   "source": [
    "<b><h1 style=\"color:#cc33ff;\" >For</h1>"
   ]
  },
  {
   "cell_type": "code",
   "execution_count": 8,
   "metadata": {},
   "outputs": [
    {
     "name": "stdout",
     "output_type": "stream",
     "text": [
      "Iterating over a Numeric Range : \n",
      "0\n",
      "1\n",
      "2\n",
      "3\n",
      "4\n",
      "\n"
     ]
    }
   ],
   "source": [
    "#For loop \n",
    "#Numeric range :\n",
    "print(\"Iterating over a Numeric Range : \")\n",
    "for n in (0, 1, 2, 3, 4):\n",
    "    print(n)\n",
    "print()"
   ]
  },
  {
   "cell_type": "code",
   "execution_count": 9,
   "metadata": {},
   "outputs": [
    {
     "name": "stdout",
     "output_type": "stream",
     "text": [
      "Iterating over a list: \n",
      "1\n",
      "2\n",
      "3\n",
      "\n"
     ]
    }
   ],
   "source": [
    "#over a list\n",
    "print(\"Iterating over a list: \")\n",
    "for a in [1,2,3]:\n",
    "    print(a)\n",
    "print()"
   ]
  },
  {
   "cell_type": "code",
   "execution_count": 10,
   "metadata": {},
   "outputs": [
    {
     "name": "stdout",
     "output_type": "stream",
     "text": [
      "Iterating over a list: \n",
      "Red\n",
      "Green\n",
      "White\n",
      "Black\n",
      "\n"
     ]
    }
   ],
   "source": [
    "#over a list\n",
    "print(\"Iterating over a list: \")\n",
    "colors = [\"Red\",\"Green\",\"White\",\"Black\"]\n",
    "for a in colors:\n",
    "    print(a)\n",
    "print()"
   ]
  },
  {
   "cell_type": "code",
   "execution_count": 11,
   "metadata": {},
   "outputs": [
    {
     "name": "stdout",
     "output_type": "stream",
     "text": [
      "Iterating over a set : \n",
      "2\n",
      "3\n",
      "4\n",
      "\n"
     ]
    }
   ],
   "source": [
    "#over a set\n",
    "print(\"Iterating over a set : \")\n",
    "for i in {2,3,3,4}:\n",
    "    print(i)\n",
    "print()"
   ]
  },
  {
   "cell_type": "code",
   "execution_count": 12,
   "metadata": {},
   "outputs": [
    {
     "name": "stdout",
     "output_type": "stream",
     "text": [
      "Iterating over a String: \n",
      "w\n",
      "i\n",
      "s\n",
      "d\n",
      "o\n",
      "m\n"
     ]
    }
   ],
   "source": [
    "#over a string \n",
    "print(\"Iterating over a String: \")\n",
    "for i in 'wisdom':\n",
    "    print(i)"
   ]
  },
  {
   "cell_type": "markdown",
   "metadata": {},
   "source": [
    "### Range "
   ]
  },
  {
   "cell_type": "code",
   "execution_count": 13,
   "metadata": {},
   "outputs": [
    {
     "name": "stdout",
     "output_type": "stream",
     "text": [
      "range(0, 10)\n",
      "<class 'range'>\n",
      "[0, 1, 2, 3, 4, 5, 6, 7, 8, 9]\n"
     ]
    }
   ],
   "source": [
    "#Range \n",
    "a=range(10)\n",
    "print(a)\n",
    "print(type(a))\n",
    "print(list(a))"
   ]
  },
  {
   "cell_type": "code",
   "execution_count": 14,
   "metadata": {},
   "outputs": [
    {
     "name": "stdout",
     "output_type": "stream",
     "text": [
      "[0, 1, 2, 3, 4, 5, 6, 7, 8, 9, 10, 11, 12, 13, 14, 15, 16, 17, 18, 19]\n",
      "[20, 21, 22, 23, 24, 25, 26, 27, 28, 29, 30, 31, 32, 33, 34, 35, 36, 37, 38, 39]\n",
      "[20, 23, 26, 29, 32, 35, 38]\n",
      "[20, 18, 16, 14, 12]\n"
     ]
    }
   ],
   "source": [
    "# range(stop) – One argument\n",
    "\n",
    "print(list(range(20)))\n",
    "\n",
    "# range(start,stop) – Two arguments\n",
    "\n",
    "print(list(range(20,40)))\n",
    "\n",
    "# range(start,stop,step) – Three arguments\n",
    "\n",
    "print(list(range(20,40,3)))\n",
    "\n",
    "#step can be negetive \n",
    "print(list(range(20,10,-2)))"
   ]
  },
  {
   "cell_type": "code",
   "execution_count": 15,
   "metadata": {},
   "outputs": [
    {
     "name": "stdout",
     "output_type": "stream",
     "text": [
      "5\n",
      "7\n",
      "9\n",
      "11\n",
      "\n"
     ]
    }
   ],
   "source": [
    "#Iterating on numeric range with range():\n",
    "for x in range(5,13,2):\n",
    "    print(x)\n",
    "print()"
   ]
  },
  {
   "cell_type": "code",
   "execution_count": 16,
   "metadata": {},
   "outputs": [
    {
     "name": "stdout",
     "output_type": "stream",
     "text": [
      "Romanian\n",
      "Spanish\n",
      "Gujarati\n"
     ]
    }
   ],
   "source": [
    "#Iterating on indices of a list \n",
    "list=['Romanian','Spanish','Gujarati']\n",
    "for i in range(len(list)): #3- 0,1,2\n",
    "\tprint(list[i])"
   ]
  },
  {
   "cell_type": "markdown",
   "metadata": {},
   "source": [
    "### Nested For"
   ]
  },
  {
   "cell_type": "code",
   "execution_count": 17,
   "metadata": {},
   "outputs": [
    {
     "name": "stdout",
     "output_type": "stream",
     "text": [
      "-------------------------------------------\n",
      "I am outer loop iteration 0\n",
      "****************************\n",
      "I am inner loop iteration 0\n",
      "****************************\n",
      "I am inner loop iteration 1\n",
      "****************************\n",
      "I am inner loop iteration 2\n",
      "****************************\n",
      "I am inner loop iteration 3\n",
      "****************************\n",
      "I am inner loop iteration 4\n",
      "-------------------------------------------\n",
      "I am outer loop iteration 1\n",
      "****************************\n",
      "I am inner loop iteration 0\n",
      "****************************\n",
      "I am inner loop iteration 1\n",
      "****************************\n",
      "I am inner loop iteration 2\n",
      "****************************\n",
      "I am inner loop iteration 3\n",
      "****************************\n",
      "I am inner loop iteration 4\n",
      "-------------------------------------------\n",
      "I am outer loop iteration 2\n",
      "****************************\n",
      "I am inner loop iteration 0\n",
      "****************************\n",
      "I am inner loop iteration 1\n",
      "****************************\n",
      "I am inner loop iteration 2\n",
      "****************************\n",
      "I am inner loop iteration 3\n",
      "****************************\n",
      "I am inner loop iteration 4\n"
     ]
    }
   ],
   "source": [
    "# Print the below statement 3 times\n",
    "for number in range(3) :  \n",
    "    print(\"-------------------------------------------\")\n",
    "    print(\"I am outer loop iteration \"+str(number))\n",
    "    # Inner loop\n",
    "    for another_number in range(5):  \n",
    "        print(\"****************************\")\n",
    "        print(\"I am inner loop iteration \"+str(another_number))"
   ]
  },
  {
   "cell_type": "code",
   "execution_count": 18,
   "metadata": {},
   "outputs": [
    {
     "name": "stdout",
     "output_type": "stream",
     "text": [
      "yes or no : yes\n",
      "number of people2\n",
      "Name : Nitheesh\n",
      "Age : 26\n",
      "Gender : M\n",
      "Details of 1 Passenger : \n",
      "Nitheesh\n",
      "26\n",
      "M\n",
      "Name : Sai Nitheesh Reddy\n",
      "Age : 27\n",
      "Gender : M\n",
      "Details of 2 Passenger : \n",
      "Sai Nitheesh Reddy\n",
      "27\n",
      "M\n",
      "oops missed someone ? NO\n"
     ]
    }
   ],
   "source": [
    "#An example to show a for loop inside a while loop\n",
    "\n",
    "travelling = input(\"yes or no : \")\n",
    "travelling = travelling.lower()\n",
    "while travelling == \"yes\":\n",
    "    num = int(input(\"number of people\"))\n",
    "    for num in range( 1 , num+1):\n",
    "        name = input(\"Name : \")\n",
    "        age = input(\"Age : \")\n",
    "        gender = input(\"Gender : \")\n",
    "        print(\"Details of %d Passenger : \"%num)\n",
    "        print(name)\n",
    "        print(age)\n",
    "        print(gender)\n",
    "    travelling = input(\"oops missed someone ? \")\n",
    "    travelling = travelling.lower()"
   ]
  },
  {
   "cell_type": "markdown",
   "metadata": {},
   "source": [
    "### For-Else"
   ]
  },
  {
   "cell_type": "code",
   "execution_count": 19,
   "metadata": {},
   "outputs": [
    {
     "name": "stdout",
     "output_type": "stream",
     "text": [
      "0\n",
      "1\n",
      "2\n",
      "3\n",
      "4\n",
      "5\n",
      "6\n",
      "7\n",
      "8\n",
      "9\n",
      "Reached else\n"
     ]
    }
   ],
   "source": [
    "for i in range(10):\n",
    "    print(i)\n",
    "else:\n",
    "    print(\"Reached else\")"
   ]
  },
  {
   "cell_type": "code",
   "execution_count": 20,
   "metadata": {},
   "outputs": [
    {
     "name": "stdout",
     "output_type": "stream",
     "text": [
      "0\n",
      "1\n",
      "2\n",
      "3\n",
      "4\n",
      "5\n",
      "6\n",
      "7\n",
      "Following Statement\n"
     ]
    }
   ],
   "source": [
    "#Break\n",
    "for i in range(10):\n",
    "    print(i)\n",
    "    if(i==7): break\n",
    "else:\n",
    "    print(\"Reached else\")\n",
    "print('Following Statement')"
   ]
  },
  {
   "cell_type": "code",
   "execution_count": 21,
   "metadata": {},
   "outputs": [
    {
     "name": "stdout",
     "output_type": "stream",
     "text": [
      "not overlapping\n",
      "not overlapping\n",
      "not overlapping\n",
      "not overlapping\n",
      "Overlapping\n"
     ]
    }
   ],
   "source": [
    "#Guess the outpt \n",
    "list1 = [1,2,3,4,5]\n",
    "list2 = [6,7,8,9,5]\n",
    "for i in list1:\n",
    "    if i in list2:\n",
    "        print('Overlapping')\n",
    "    else:\n",
    "        print('not overlapping')"
   ]
  },
  {
   "cell_type": "markdown",
   "metadata": {},
   "source": [
    "    "
   ]
  },
  {
   "cell_type": "markdown",
   "metadata": {},
   "source": [
    "&copy; **Nitheesh Reddy**"
   ]
  }
 ],
 "metadata": {
  "kernelspec": {
   "display_name": "Python 3",
   "language": "python",
   "name": "python3"
  },
  "language_info": {
   "codemirror_mode": {
    "name": "ipython",
    "version": 3
   },
   "file_extension": ".py",
   "mimetype": "text/x-python",
   "name": "python",
   "nbconvert_exporter": "python",
   "pygments_lexer": "ipython3",
   "version": "3.8.5"
  }
 },
 "nbformat": 4,
 "nbformat_minor": 4
}

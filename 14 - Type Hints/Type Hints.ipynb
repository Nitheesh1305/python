{
 "cells": [
  {
   "cell_type": "markdown",
   "metadata": {},
   "source": [
    "<b><center><h1 style=\"color:#ff0066;\" >Type Hints in Python</h1><br>\n",
    "<img src='https://www.askpython.com/wp-content/uploads/2022/09/type-hints-annotations-python.jpg.webp' width=\"700\" height=\"600\"><br>"
   ]
  },
  {
   "cell_type": "markdown",
   "metadata": {},
   "source": [
    "<b><h2 style=\"color:#FF5733;\" >PEP 484 </h2>\n",
    "<br>\n",
    "\n",
    "<li>Python has always been a dynamically typed language, which means you don’t have to specify data types</li><br>\n",
    "<li>PEP 484 introduced type hints — a way to make Python feel statically typed.</li><br>\n",
    "<li>While type hints can help structure our projects better, they are just that hints and by default do not affect runtime</li><br>\n",
    "<li> However, there is a way to force type checks on runtime</li><br>"
   ]
  },
  {
   "cell_type": "code",
   "execution_count": 1,
   "metadata": {},
   "outputs": [
    {
     "name": "stdout",
     "output_type": "stream",
     "text": [
      "8\n"
     ]
    }
   ],
   "source": [
    "#Let’s start simple by exploring a function without type hints\n",
    "def add_numbers(num1, num2):\n",
    "    return num1 + num2\n",
    "print(add_numbers(3, 5))"
   ]
  },
  {
   "cell_type": "markdown",
   "metadata": {},
   "source": [
    "<b><h4 style=\"color:#FF5733;\" >Here’s how you can add type hints to our function:</h4><br>\n",
    "    <li>Add a colon and a data type after each function parameter</li><br>\n",
    "    <li>Add an arrow -> and a data type after the function to specify the return data type</li>\n",
    "    <pre> variable name: data type = value </pre>"
   ]
  },
  {
   "cell_type": "code",
   "execution_count": 2,
   "metadata": {},
   "outputs": [
    {
     "name": "stdout",
     "output_type": "stream",
     "text": [
      "8\n"
     ]
    }
   ],
   "source": [
    "#function with type hint\n",
    "def add_numbers(num1: int, num2: int) -> int:\n",
    "    return num1 + num2\n",
    "print(add_numbers(3, 5))"
   ]
  },
  {
   "cell_type": "code",
   "execution_count": 3,
   "metadata": {},
   "outputs": [
    {
     "name": "stdout",
     "output_type": "stream",
     "text": [
      "8\n"
     ]
    }
   ],
   "source": [
    "#If you’re working with a function that shouldn’t return anything,\n",
    "#you can specify None as the return type\n",
    "\n",
    "def add_numbers(num1: int, num2: int) -> None:\n",
    "    print(num1 + num2)\n",
    "add_numbers(3, 5)"
   ]
  },
  {
   "cell_type": "code",
   "execution_count": 4,
   "metadata": {},
   "outputs": [
    {
     "name": "stdout",
     "output_type": "stream",
     "text": [
      "13\n"
     ]
    }
   ],
   "source": [
    "#you can also set a default value for the parameter\n",
    "def add_numbers(num1: int, num2: int = 10) -> int:\n",
    "    return num1 + num2\n",
    "print(add_numbers(3)) "
   ]
  },
  {
   "cell_type": "code",
   "execution_count": 5,
   "metadata": {},
   "outputs": [
    {
     "name": "stdout",
     "output_type": "stream",
     "text": [
      "8.61\n"
     ]
    }
   ],
   "source": [
    "#what if we decide to call the add_numbers() function with floating-point numbers ? Let’s check:\n",
    "\n",
    "def add_numbers(num1: int, num2: int) -> int:\n",
    "    return num1 + num2\n",
    "print(add_numbers(3.5, 5.11))"
   ]
  },
  {
   "cell_type": "markdown",
   "metadata": {},
   "source": [
    "<pre>As you can see, everything still works. Adding type hints has no runtime effect by default. \n",
    "\n",
    "A static type checker like mypy can solve this “issue”\n",
    "\n",
    "Let’s explore variable annotations next.\n",
    "\n",
    "Variable Annotations :\n",
    "\n",
    "Just like with functions, you can add type hints to variables.\n",
    "\n",
    "While helpful,type hints on variables can be a bit too verbose for simple functions & scripts.\n",
    "</pre>"
   ]
  },
  {
   "cell_type": "code",
   "execution_count": 6,
   "metadata": {},
   "outputs": [],
   "source": [
    "#Let’s take a look at an example:\n",
    "a: int = 3\n",
    "b: float = 3.14\n",
    "c: str = 'abc'\n",
    "d: bool = False\n",
    "e: list = ['a', 'b', 'c']\n",
    "f: tuple = (1, 2, 3)\n",
    "g: dict = {'a': 1, 'b': 2}"
   ]
  },
  {
   "cell_type": "code",
   "execution_count": 7,
   "metadata": {},
   "outputs": [
    {
     "data": {
      "text/plain": [
       "'Hello, Bob'"
      ]
     },
     "execution_count": 7,
     "metadata": {},
     "output_type": "execute_result"
    }
   ],
   "source": [
    "#You can also include type annotations for variables inside a function:\n",
    "def greet(name: str) -> str:\n",
    "    base: str = 'Hello, '\n",
    "    return f'{base}{name}'\n",
    "greet('Bob')  # Hello, Bob"
   ]
  },
  {
   "cell_type": "markdown",
   "metadata": {},
   "source": [
    "<pre> let’s explore the built-in typing module</pre>"
   ]
  },
  {
   "cell_type": "code",
   "execution_count": 8,
   "metadata": {},
   "outputs": [],
   "source": [
    "from typing import List, Tuple, Dict\n",
    "e: List[str] = ['a', 'b', 'c']\n",
    "f: Tuple[int, int, int] = (1, 2, 3)\n",
    "g: Dict[str, int] = {'a': 1, 'b': 2}"
   ]
  },
  {
   "cell_type": "code",
   "execution_count": 11,
   "metadata": {},
   "outputs": [
    {
     "name": "stdout",
     "output_type": "stream",
     "text": [
      "[1, 4, 9]\n"
     ]
    }
   ],
   "source": [
    "#Let’s see how to include these to a function.\n",
    "#It will take a list of floats and returns the same list with the items squared:\n",
    "\n",
    "def squre(arr: List[float]) -> List[float]:\n",
    "    return [x ** 2 for x in arr]\n",
    "print(squre([1, 2, 3])) "
   ]
  },
  {
   "cell_type": "markdown",
   "metadata": {},
   "source": [
    "<pre>\n",
    "let’s explore one important concept in type hints — the Union operator.\n",
    "\n",
    "It allows you to specify multiple possible data types for variables and return values.</pre>"
   ]
  },
  {
   "cell_type": "code",
   "execution_count": 10,
   "metadata": {},
   "outputs": [
    {
     "name": "stdout",
     "output_type": "stream",
     "text": [
      "[1, 4, 9]\n"
     ]
    }
   ],
   "source": [
    "#Here’s the implementation of the previous function:\n",
    "from typing import Union\n",
    "\n",
    "def square(arr: List[Union[int, float]]) -> List[Union[int, float]]:\n",
    "    return [x ** 2 for x in arr]\n",
    "print(squre([1, 2, 3]))"
   ]
  },
  {
   "cell_type": "markdown",
   "metadata": {},
   "source": [
    "<pre>\n",
    "The function can now both accept and return a list of integers or floats, warning-free.\n",
    "\n",
    "Finally, let’s explore how to force type checks on runtime.\n",
    "\n",
    "Forcing Type Checks on Runtime\n",
    "\n",
    "You can force type checks on runtime with mypy. \n",
    "\n",
    "Before doing so, install it with either pip or conda:\n",
    "\n",
    "pip install mypy\n",
    "\n",
    "conda install mypy\n",
    "</pre>"
   ]
  },
  {
   "cell_type": "markdown",
   "metadata": {},
   "source": [
    "&copy; **Nitheesh Reddy**"
   ]
  }
 ],
 "metadata": {
  "kernelspec": {
   "display_name": "Python 3",
   "language": "python",
   "name": "python3"
  },
  "language_info": {
   "codemirror_mode": {
    "name": "ipython",
    "version": 3
   },
   "file_extension": ".py",
   "mimetype": "text/x-python",
   "name": "python",
   "nbconvert_exporter": "python",
   "pygments_lexer": "ipython3",
   "version": "3.8.5"
  }
 },
 "nbformat": 4,
 "nbformat_minor": 4
}

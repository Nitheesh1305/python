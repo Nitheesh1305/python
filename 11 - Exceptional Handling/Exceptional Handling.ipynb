{
 "cells": [
  {
   "cell_type": "markdown",
   "metadata": {},
   "source": [
    "<b><h1 style=\"color:#ff0066;\" ><center>Exception Handling in Python</center></h1><br>\n",
    "<center><img src='https://i0.wp.com/tutorial.eyehunts.com/wp-content/uploads/2018/10/Python-exception-Handling-Error-Handling-print-Raising-types.png?resize=768%2C324&ssl=1' width=\"600\" height=\"600\"></center><br>\n",
    "A Python program terminates as soon as it encounters an error. In case of an error, a good program should be able<br><br> to recover from it , if not our program should report it in an appropriate manner.<br><br>\n",
    "Here, we will discuss :<br><br>\n",
    "    <li>Catch exceptions with a try … except block</li><br>\n",
    "    <li>Use the additional keywords else and finally</li><br>\n",
    "    <li>Handling Multiple Exception Clause</li><br>\n",
    "    <li>Raising exceptions and making assertions</li><br>"
   ]
  },
  {
   "cell_type": "markdown",
   "metadata": {},
   "source": [
    "<b><h2 style=\"color:#FF5733;\" >What is Exception Handling ? </h2>\n",
    "<br>\n",
    "<center><img src=\"https://miro.medium.com/max/1125/0*JUrOkzXjBKChkcUt.png\" width=\"600\" height=\"600\" ></center><br>\n",
    "<li>Suppose you are travelling from your house to office but in the midway your car get punctured <br><br>hence your car will stop this scenario is called Exception</li><br>\n",
    "<li>Mechanic will come and repair your car and you will reach office and process of repairing the <br><br>puncture is known as exception handling.</li><br>\n",
    "<b><h4 style=\"color:#cc33ff;\" >Why do we Require Exception Handling ?</h4><br>\n",
    "    <li><font style=\"color:#FF33F2\">Error Handling :</font> We can handle the scenario of Failures and avoid termination of the program.</li><br>\n",
    "    <li><font style=\"color:#FF33F2\">Code Separation : </font>Exceptions separate the error-handling code from regular code</li><br>\n",
    "    <li><font style=\"color:#FF33F2\">Grouping Error Type and Error Differentiation : </font>It can help us to segregate different kinds of errors </li>"
   ]
  },
  {
   "cell_type": "markdown",
   "metadata": {},
   "source": [
    "<b><h2 style=\"color:#028E8B;\" >How we can write it in Python ?</h2>\n",
    "<br>\n",
    "<li>Try and except statements are used to catch and handle exceptions in Python</li><br>\n",
    "<li>Define risky code that can raise an exception inside the try block.</li><br>\n",
    "<li>And corresponding handling code inside the except block.</li><br>\n",
    "<center><img src=\"https://www.freecodecamp.org/news/content/images/2019/12/image-11.png\" width=\"400\" height=\"400\" ></center>"
   ]
  },
  {
   "cell_type": "code",
   "execution_count": 2,
   "metadata": {},
   "outputs": [
    {
     "name": "stdout",
     "output_type": "stream",
     "text": [
      "Enter first number : 10\n",
      "Enter second number : 0\n",
      "Can't divide with zero. Provide different number\n"
     ]
    }
   ],
   "source": [
    "#Try and Except\n",
    "a = int(input(\"Enter first number : \"))\n",
    "b = int(input(\"Enter second number : \"))\n",
    "try:\n",
    "    c = a/b\n",
    "    print(\"The answer of a divide by b:\", c)\n",
    "except:\n",
    "    print(\"Can't divide with zero. Provide different number\")"
   ]
  },
  {
   "cell_type": "markdown",
   "metadata": {},
   "source": [
    "<b><h4 style=\"color:#FF5733;\" >Catching Specific Exceptions</h4>\n",
    "<br>\n",
    "Since not all types of exceptions are handled in same way, we can specify which exceptions we would like to handle<br><br>\n",
    "<center><img src=\"https://www.freecodecamp.org/news/content/images/2019/12/image-15.png\" width=\"400\" height=\"400\" ></center>"
   ]
  },
  {
   "cell_type": "code",
   "execution_count": 4,
   "metadata": {},
   "outputs": [
    {
     "name": "stdout",
     "output_type": "stream",
     "text": [
      "Enter value of a:10\n",
      "Enter value of b:0\n",
      "Can't divide by zero\n"
     ]
    }
   ],
   "source": [
    "#Catching Specific Exceptions\n",
    "try:\n",
    "    a = int(input(\"Enter value of a:\"))\n",
    "    b = int(input(\"Enter value of b:\"))\n",
    "    c = a/b\n",
    "    print(\"The answer of a divide by b:\", c)\n",
    "except ValueError:\n",
    "    print(\"Entered value is wrong\")\n",
    "except ZeroDivisionError:\n",
    "    print(\"Can't divide by zero\")"
   ]
  },
  {
   "cell_type": "code",
   "execution_count": 7,
   "metadata": {},
   "outputs": [
    {
     "name": "stdout",
     "output_type": "stream",
     "text": [
      "sum does not exist\n"
     ]
    }
   ],
   "source": [
    "#A Generic except After All Excepts\n",
    "try:\n",
    "    print(su)\n",
    "    print(1/0)\n",
    "    print('1'+1)\n",
    "except NameError:\n",
    "    print(\"sum does not exist\")\n",
    "except ZeroDivisionError:\n",
    "    print(\"Cannot divide by 0\")\n",
    "except:\n",
    "    print(\"Something went wrong\")"
   ]
  },
  {
   "cell_type": "code",
   "execution_count": 33,
   "metadata": {},
   "outputs": [
    {
     "name": "stdout",
     "output_type": "stream",
     "text": [
      "Enter value of a:10\n",
      "Enter value of b:4\n",
      "The answer of a divide by b: 2.5\n"
     ]
    }
   ],
   "source": [
    "#Handle multiple exceptions with a single except clause\n",
    "try:\n",
    "    a = int(input(\"Enter value of a:\"))\n",
    "    b = int(input(\"Enter value of b:\"))\n",
    "    c = a / b\n",
    "    print(\"The answer of a divide by b:\", c)\n",
    "except(ValueError, ZeroDivisionError):\n",
    "    print(\"Please enter a valid value\")"
   ]
  },
  {
   "cell_type": "markdown",
   "metadata": {},
   "source": [
    "<b><h4 style=\"color:#028E8B;\" >Handling Exceptions Raised by Functions Called in the try Clause</h4>\n",
    "<br>\n",
    "Exception handlers don’t just handle exceptions if they occur immediately in the try clause,<br><br> but also if they occur inside functions that are called (even indirectly) in the try clause."
   ]
  },
  {
   "cell_type": "code",
   "execution_count": 8,
   "metadata": {},
   "outputs": [
    {
     "name": "stdout",
     "output_type": "stream",
     "text": [
      "Please enter a valid index\n"
     ]
    }
   ],
   "source": [
    "def f(i):\n",
    "    try:\n",
    "        g(i)\n",
    "    except IndexError:\n",
    "        print(\"Please enter a valid index\")\n",
    "\n",
    "def g(i):\n",
    "    a = \"Hello\"\n",
    "    return a[i]\n",
    "\n",
    "f(50)"
   ]
  },
  {
   "cell_type": "markdown",
   "metadata": {},
   "source": [
    "<b><h4 style=\"color:#FF5733;\" >Accessing Specific Details of Exceptions</h4>\n",
    "<br>\n",
    "    <li>The except clause may specify a variable after the exception name.</li><br>\n",
    "    <li>The variable is bound to an exception instance with the arguments stored in instance.args.</li>"
   ]
  },
  {
   "cell_type": "code",
   "execution_count": 9,
   "metadata": {},
   "outputs": [
    {
     "name": "stdout",
     "output_type": "stream",
     "text": [
      "Enter value of a:10\n",
      "Enter value of b:0\n",
      "<class 'ZeroDivisionError'>\n",
      "division by zero\n",
      "('division by zero',)\n"
     ]
    }
   ],
   "source": [
    "#Accessing Specific Details of Exceptions\n",
    "try:\n",
    "    a = int(input(\"Enter value of a:\"))\n",
    "    b = int(input(\"Enter value of b:\"))\n",
    "    c = a/b\n",
    "    print(\"The answer of a divide by b:\", c)\n",
    "except Exception as e:\n",
    "    print(type(e))\n",
    "    print(e)\n",
    "    print(e.args)"
   ]
  },
  {
   "cell_type": "markdown",
   "metadata": {},
   "source": [
    "<b><h3 style=\"color:#cc33ff;\" > Using try with else clause :  </h3><br>\n",
    "<li>We can use else block with the try-except block which is optional </li><br>\n",
    "<li>The else block will be executed if and only if there are no exception is the try block</li><br>\n",
    "<li>It lets us execute code that should only run if no exceptions were raised in the try clause</li><br>\n",
    "<center><img src='https://www.freecodecamp.org/news/content/images/2019/12/image-17.png' width=\"400\" height=\"400\"></center>"
   ]
  },
  {
   "cell_type": "code",
   "execution_count": 11,
   "metadata": {},
   "outputs": [
    {
     "name": "stdout",
     "output_type": "stream",
     "text": [
      "Enter value of a:10\n",
      "Enter value of b:0\n",
      "Can't divide by zero\n"
     ]
    }
   ],
   "source": [
    "#using else with try-except\n",
    "try:\n",
    "    a = int(input(\"Enter value of a:\"))\n",
    "    b = int(input(\"Enter value of b:\"))\n",
    "    c = a / b\n",
    "except ZeroDivisionError:\n",
    "    #if an exception is raised, the result is not printed\n",
    "    print(\"Can't divide by zero\")\n",
    "else:\n",
    "    print(\"We are in else block \")\n",
    "    print(\"a/b = %d\" % c)"
   ]
  },
  {
   "cell_type": "markdown",
   "metadata": {},
   "source": [
    "<b><h3 style=\"color:#cc33ff;\" > The \"finally\" Clause :  </h3><br>\n",
    "<li>The finally clause is the last clause in this sequence. </li><br>\n",
    "<li>It is optional, but if you include it, it has to be the last clause in the sequence.</li><br>\n",
    "<li>The finally clause is always executed, whether or not the try statement produces an exception. </li><br>\n",
    "<li>If an exception is not handled by except clause, then finally block executes first, then the exception is thrown.</li><br>\n",
    "<li> This process is known as clean-up action.</li><br>\n",
    "\n",
    "<center><img src='https://www.freecodecamp.org/news/content/images/2019/12/image-19.png' width=\"400\" height=\"400\"></center>"
   ]
  },
  {
   "cell_type": "code",
   "execution_count": 13,
   "metadata": {},
   "outputs": [
    {
     "name": "stdout",
     "output_type": "stream",
     "text": [
      "Enter value of a:10\n",
      "Enter value of b:0\n",
      "Inside a finally block\n"
     ]
    },
    {
     "ename": "ZeroDivisionError",
     "evalue": "division by zero",
     "output_type": "error",
     "traceback": [
      "\u001b[1;31m---------------------------------------------------------------------------\u001b[0m",
      "\u001b[1;31mZeroDivisionError\u001b[0m                         Traceback (most recent call last)",
      "\u001b[1;32m<ipython-input-13-ba6c27363c3c>\u001b[0m in \u001b[0;36m<module>\u001b[1;34m\u001b[0m\n\u001b[0;32m      4\u001b[0m         \u001b[0ma\u001b[0m \u001b[1;33m=\u001b[0m \u001b[0mint\u001b[0m\u001b[1;33m(\u001b[0m\u001b[0minput\u001b[0m\u001b[1;33m(\u001b[0m\u001b[1;34m\"Enter value of a:\"\u001b[0m\u001b[1;33m)\u001b[0m\u001b[1;33m)\u001b[0m\u001b[1;33m\u001b[0m\u001b[1;33m\u001b[0m\u001b[0m\n\u001b[0;32m      5\u001b[0m         \u001b[0mb\u001b[0m \u001b[1;33m=\u001b[0m \u001b[0mint\u001b[0m\u001b[1;33m(\u001b[0m\u001b[0minput\u001b[0m\u001b[1;33m(\u001b[0m\u001b[1;34m\"Enter value of b:\"\u001b[0m\u001b[1;33m)\u001b[0m\u001b[1;33m)\u001b[0m\u001b[1;33m\u001b[0m\u001b[1;33m\u001b[0m\u001b[0m\n\u001b[1;32m----> 6\u001b[1;33m         \u001b[0mc\u001b[0m \u001b[1;33m=\u001b[0m \u001b[0ma\u001b[0m \u001b[1;33m/\u001b[0m \u001b[0mb\u001b[0m\u001b[1;33m\u001b[0m\u001b[1;33m\u001b[0m\u001b[0m\n\u001b[0m\u001b[0;32m      7\u001b[0m         \u001b[0mprint\u001b[0m\u001b[1;33m(\u001b[0m\u001b[1;34m\"The answer of a divide by b:\"\u001b[0m\u001b[1;33m,\u001b[0m \u001b[0mc\u001b[0m\u001b[1;33m)\u001b[0m\u001b[1;33m\u001b[0m\u001b[1;33m\u001b[0m\u001b[0m\n\u001b[0;32m      8\u001b[0m         \u001b[1;32mbreak\u001b[0m\u001b[1;33m\u001b[0m\u001b[1;33m\u001b[0m\u001b[0m\n",
      "\u001b[1;31mZeroDivisionError\u001b[0m: division by zero"
     ]
    }
   ],
   "source": [
    "#Try - Finally\n",
    "while(True):\n",
    "    try:\n",
    "        a = int(input(\"Enter value of a:\"))\n",
    "        b = int(input(\"Enter value of b:\"))\n",
    "        c = a / b\n",
    "        print(\"The answer of a divide by b:\", c)\n",
    "        break\n",
    "    finally:\n",
    "        print(\"Inside a finally block\")"
   ]
  },
  {
   "cell_type": "code",
   "execution_count": 39,
   "metadata": {},
   "outputs": [
    {
     "name": "stdout",
     "output_type": "stream",
     "text": [
      "Enter value of a:10\n",
      "Enter value of b:0\n",
      "Can't divide with zero\n",
      "Inside a finally block\n"
     ]
    }
   ],
   "source": [
    "#try - except - finally\n",
    "try:\n",
    "    a = int(input(\"Enter value of a:\"))\n",
    "    b = int(input(\"Enter value of b:\"))\n",
    "    c = a / b\n",
    "    print(\"The answer of a divide by b:\", c)\n",
    "\n",
    "except ZeroDivisionError:\n",
    "    print(\"Can't divide with zero\")\n",
    "finally:\n",
    "    print(\"Inside a finally block\")"
   ]
  },
  {
   "cell_type": "code",
   "execution_count": 14,
   "metadata": {},
   "outputs": [
    {
     "ename": "SyntaxError",
     "evalue": "invalid syntax (<ipython-input-14-2caf002420da>, line 6)",
     "output_type": "error",
     "traceback": [
      "\u001b[1;36m  File \u001b[1;32m\"<ipython-input-14-2caf002420da>\"\u001b[1;36m, line \u001b[1;32m6\u001b[0m\n\u001b[1;33m    else:\u001b[0m\n\u001b[1;37m    ^\u001b[0m\n\u001b[1;31mSyntaxError\u001b[0m\u001b[1;31m:\u001b[0m invalid syntax\n"
     ]
    }
   ],
   "source": [
    "#finally can be used without except but not else\n",
    "try:\n",
    "    a = int(input(\"Please enter the numerator: \"))\n",
    "    b = int(input(\"Please enter the denominator: \"))\n",
    "    result = a / b\n",
    "else:\n",
    "    print(result)\n",
    "finally:\n",
    "    print(\"Inside the finally clause\")"
   ]
  },
  {
   "cell_type": "code",
   "execution_count": 55,
   "metadata": {},
   "outputs": [
    {
     "name": "stdout",
     "output_type": "stream",
     "text": [
      "Please enter the numerator: 10\n",
      "Please enter the denominator: 5\n",
      "Inside the finally clause\n"
     ]
    }
   ],
   "source": [
    "#try - except - else - finally\n",
    "try:\n",
    "    a = int(input(\"Please enter the numerator: \"))\n",
    "    b = int(input(\"Please enter the denominator: \"))\n",
    "    result = a / b\n",
    "except (ZeroDivisionError, ValueError):\n",
    "    print(\"Please enter valid integers. The denominator can't be zero\")\n",
    "else:\n",
    "    print(result)\n",
    "finally:\n",
    "    print(\"Inside the finally clause\")"
   ]
  },
  {
   "cell_type": "markdown",
   "metadata": {},
   "source": [
    "❗️<b>Important : Remember that the else clause and the finally clause are optional,<br><br> but if you decide to include both, the finally clause has to be the last clause in the sequence."
   ]
  },
  {
   "cell_type": "markdown",
   "metadata": {},
   "source": [
    "<b><h3 style=\"color:#028E8B;\" >Handling process</h3>\n",
    "<br>\n",
    "<center><img src='https://miro.medium.com/max/1313/1*5Ij1KuJ-nfRyLYpXAC2yWA.jpeg' width=\"700\" height=\"400\"></center>"
   ]
  },
  {
   "cell_type": "markdown",
   "metadata": {},
   "source": [
    "<b><h2 style=\"color:#FF5733;\" >Raising an Exception : </h2><br>\n",
    "<li>We can also choose when to raise exceptions in your code.</li><br>\n",
    "<li>In Python, the raise statement allows us to throw an exception.</li><br>\n",
    "<li>The single arguments in the raise statement show an exception to be raised.</li><br>\n",
    "<li>This can be either an exception object or an Exception class that is derived from the Exception class.</li><br>\n",
    "<li>The raise statement is useful in situations where we need to raise an exception to the caller program</li><br>\n",
    "<li>We can raise exceptions in cases such as wrong data received or any validation failure.</li><br>\n",
    "<center><img src='https://www.freecodecamp.org/news/content/images/2019/12/image-20.png' width=\"700\" height=\"300\"></center>"
   ]
  },
  {
   "cell_type": "code",
   "execution_count": 17,
   "metadata": {},
   "outputs": [
    {
     "ename": "ValueError",
     "evalue": "The argument must have five elements",
     "output_type": "error",
     "traceback": [
      "\u001b[1;31m---------------------------------------------------------------------------\u001b[0m",
      "\u001b[1;31mValueError\u001b[0m                                Traceback (most recent call last)",
      "\u001b[1;32m<ipython-input-17-8b5d48671123>\u001b[0m in \u001b[0;36m<module>\u001b[1;34m\u001b[0m\n\u001b[0;32m      6\u001b[0m         \u001b[0mprint\u001b[0m\u001b[1;33m(\u001b[0m\u001b[0mitem\u001b[0m\u001b[1;33m)\u001b[0m\u001b[1;33m\u001b[0m\u001b[1;33m\u001b[0m\u001b[0m\n\u001b[0;32m      7\u001b[0m \u001b[1;33m\u001b[0m\u001b[0m\n\u001b[1;32m----> 8\u001b[1;33m \u001b[0mprint_five_items\u001b[0m\u001b[1;33m(\u001b[0m\u001b[1;33m[\u001b[0m\u001b[1;36m5\u001b[0m\u001b[1;33m,\u001b[0m\u001b[1;36m2\u001b[0m\u001b[1;33m,\u001b[0m\u001b[1;36m8\u001b[0m\u001b[1;33m,\u001b[0m\u001b[1;36m0\u001b[0m\u001b[1;33m,\u001b[0m\u001b[1;36m1\u001b[0m\u001b[1;33m,\u001b[0m\u001b[1;36m8\u001b[0m\u001b[1;33m]\u001b[0m\u001b[1;33m)\u001b[0m\u001b[1;33m\u001b[0m\u001b[1;33m\u001b[0m\u001b[0m\n\u001b[0m",
      "\u001b[1;32m<ipython-input-17-8b5d48671123>\u001b[0m in \u001b[0;36mprint_five_items\u001b[1;34m(data)\u001b[0m\n\u001b[0;32m      2\u001b[0m \u001b[1;32mdef\u001b[0m \u001b[0mprint_five_items\u001b[0m\u001b[1;33m(\u001b[0m\u001b[0mdata\u001b[0m\u001b[1;33m)\u001b[0m\u001b[1;33m:\u001b[0m\u001b[1;33m\u001b[0m\u001b[1;33m\u001b[0m\u001b[0m\n\u001b[0;32m      3\u001b[0m     \u001b[1;32mif\u001b[0m \u001b[0mlen\u001b[0m\u001b[1;33m(\u001b[0m\u001b[0mdata\u001b[0m\u001b[1;33m)\u001b[0m \u001b[1;33m!=\u001b[0m \u001b[1;36m5\u001b[0m\u001b[1;33m:\u001b[0m\u001b[1;33m\u001b[0m\u001b[1;33m\u001b[0m\u001b[0m\n\u001b[1;32m----> 4\u001b[1;33m         \u001b[1;32mraise\u001b[0m \u001b[0mValueError\u001b[0m\u001b[1;33m(\u001b[0m\u001b[1;34m\"The argument must have five elements\"\u001b[0m\u001b[1;33m)\u001b[0m\u001b[1;33m\u001b[0m\u001b[1;33m\u001b[0m\u001b[0m\n\u001b[0m\u001b[0;32m      5\u001b[0m     \u001b[1;32mfor\u001b[0m \u001b[0mitem\u001b[0m \u001b[1;32min\u001b[0m \u001b[0mdata\u001b[0m\u001b[1;33m:\u001b[0m\u001b[1;33m\u001b[0m\u001b[1;33m\u001b[0m\u001b[0m\n\u001b[0;32m      6\u001b[0m         \u001b[0mprint\u001b[0m\u001b[1;33m(\u001b[0m\u001b[0mitem\u001b[0m\u001b[1;33m)\u001b[0m\u001b[1;33m\u001b[0m\u001b[1;33m\u001b[0m\u001b[0m\n",
      "\u001b[1;31mValueError\u001b[0m: The argument must have five elements"
     ]
    }
   ],
   "source": [
    "#we will throw an exception if len(data) not equal to 5\n",
    "def print_five_items(data):\n",
    "    if len(data) != 5:\n",
    "        raise ValueError(\"The argument must have five elements\")\n",
    "    for item in data:\n",
    "        print(item)\n",
    "\n",
    "print_five_items([5,2,8,0,1,8])"
   ]
  },
  {
   "cell_type": "code",
   "execution_count": 18,
   "metadata": {},
   "outputs": [
    {
     "name": "stdout",
     "output_type": "stream",
     "text": [
      "Case 1\n",
      "The Simple Interest is 384.0\n",
      "Case 2\n",
      "interest rate is out of range 800\n"
     ]
    }
   ],
   "source": [
    "#Raise with try and except\n",
    "#we will throw an exception if interest rate is greater than 100.\n",
    "def simple_interest(amount, year, rate):\n",
    "    try:\n",
    "        if rate > 100:\n",
    "            raise ValueError(rate)\n",
    "        interest = (amount * year * rate) / 100\n",
    "        print('The Simple Interest is', interest)\n",
    "        return interest\n",
    "    except ValueError:\n",
    "        print('interest rate is out of range', rate)\n",
    "\n",
    "print('Case 1')\n",
    "simple_interest(800, 6, 8)\n",
    "\n",
    "print('Case 2')\n",
    "simple_interest(800, 6, 800)"
   ]
  },
  {
   "cell_type": "code",
   "execution_count": 19,
   "metadata": {},
   "outputs": [
    {
     "ename": "TypeError",
     "evalue": "can only concatenate str (not \"int\") to str",
     "output_type": "error",
     "traceback": [
      "\u001b[1;31m---------------------------------------------------------------------------\u001b[0m",
      "\u001b[1;31mTypeError\u001b[0m                                 Traceback (most recent call last)",
      "\u001b[1;32m<ipython-input-19-7cd1044ab131>\u001b[0m in \u001b[0;36m<module>\u001b[1;34m\u001b[0m\n\u001b[0;32m      1\u001b[0m \u001b[1;31m#raise without argument reraises the exception that occurred.\u001b[0m\u001b[1;33m\u001b[0m\u001b[1;33m\u001b[0m\u001b[1;33m\u001b[0m\u001b[0m\n\u001b[0;32m      2\u001b[0m \u001b[1;32mtry\u001b[0m\u001b[1;33m:\u001b[0m\u001b[1;33m\u001b[0m\u001b[1;33m\u001b[0m\u001b[0m\n\u001b[1;32m----> 3\u001b[1;33m      \u001b[0mprint\u001b[0m\u001b[1;33m(\u001b[0m\u001b[1;34m'1'\u001b[0m\u001b[1;33m+\u001b[0m\u001b[1;36m1\u001b[0m\u001b[1;33m)\u001b[0m\u001b[1;33m\u001b[0m\u001b[1;33m\u001b[0m\u001b[0m\n\u001b[0m\u001b[0;32m      4\u001b[0m \u001b[1;32mexcept\u001b[0m\u001b[1;33m:\u001b[0m\u001b[1;33m\u001b[0m\u001b[1;33m\u001b[0m\u001b[0m\n\u001b[0;32m      5\u001b[0m      \u001b[1;32mraise\u001b[0m\u001b[1;33m\u001b[0m\u001b[1;33m\u001b[0m\u001b[0m\n",
      "\u001b[1;31mTypeError\u001b[0m: can only concatenate str (not \"int\") to str"
     ]
    }
   ],
   "source": [
    "#raise without argument reraises the exception that occurred.\n",
    "try:\n",
    "     print('1'+1)\n",
    "except:\n",
    "     raise"
   ]
  },
  {
   "cell_type": "code",
   "execution_count": 45,
   "metadata": {},
   "outputs": [
    {
     "ename": "RuntimeError",
     "evalue": "No active exception to reraise",
     "output_type": "error",
     "traceback": [
      "\u001b[1;31m---------------------------------------------------------------------------\u001b[0m",
      "\u001b[1;31mRuntimeError\u001b[0m                              Traceback (most recent call last)",
      "\u001b[1;32m<ipython-input-45-9c9a2cba73bf>\u001b[0m in \u001b[0;36m<module>\u001b[1;34m\u001b[0m\n\u001b[1;32m----> 1\u001b[1;33m \u001b[1;32mraise\u001b[0m\u001b[1;33m\u001b[0m\u001b[1;33m\u001b[0m\u001b[0m\n\u001b[0m",
      "\u001b[1;31mRuntimeError\u001b[0m: No active exception to reraise"
     ]
    }
   ],
   "source": [
    "#cannot use without a active exception\n",
    "raise"
   ]
  },
  {
   "cell_type": "markdown",
   "metadata": {},
   "source": [
    "<b><h4 style=\"color:#FF5733;\" >Exception Chaining</h4>\n",
    "<br>\n",
    "    <li>The raise statements allow use of a optional from statement, which enables chaining exceptions</li><br>\n",
    "    <li>So we can implement exception chaining in python3 by using raise…from clause to chain exception.</li>"
   ]
  },
  {
   "cell_type": "code",
   "execution_count": 20,
   "metadata": {},
   "outputs": [
    {
     "name": "stdout",
     "output_type": "stream",
     "text": [
      "Enter value of a:10\n",
      "Enter value of b:0\n"
     ]
    },
    {
     "ename": "ValueError",
     "evalue": "Division failed",
     "output_type": "error",
     "traceback": [
      "\u001b[1;31m---------------------------------------------------------------------------\u001b[0m",
      "\u001b[1;31mZeroDivisionError\u001b[0m                         Traceback (most recent call last)",
      "\u001b[1;32m<ipython-input-20-4f997c2d2f9e>\u001b[0m in \u001b[0;36m<module>\u001b[1;34m\u001b[0m\n\u001b[0;32m      4\u001b[0m         \u001b[0mb\u001b[0m \u001b[1;33m=\u001b[0m \u001b[0mint\u001b[0m\u001b[1;33m(\u001b[0m\u001b[0minput\u001b[0m\u001b[1;33m(\u001b[0m\u001b[1;34m\"Enter value of b:\"\u001b[0m\u001b[1;33m)\u001b[0m\u001b[1;33m)\u001b[0m\u001b[1;33m\u001b[0m\u001b[1;33m\u001b[0m\u001b[0m\n\u001b[1;32m----> 5\u001b[1;33m         \u001b[0mc\u001b[0m \u001b[1;33m=\u001b[0m \u001b[0ma\u001b[0m\u001b[1;33m/\u001b[0m\u001b[0mb\u001b[0m\u001b[1;33m\u001b[0m\u001b[1;33m\u001b[0m\u001b[0m\n\u001b[0m\u001b[0;32m      6\u001b[0m         \u001b[0mprint\u001b[0m\u001b[1;33m(\u001b[0m\u001b[1;34m\"The answer of a divide by b:\"\u001b[0m\u001b[1;33m,\u001b[0m \u001b[0mc\u001b[0m\u001b[1;33m)\u001b[0m\u001b[1;33m\u001b[0m\u001b[1;33m\u001b[0m\u001b[0m\n",
      "\u001b[1;31mZeroDivisionError\u001b[0m: division by zero",
      "\nThe above exception was the direct cause of the following exception:\n",
      "\u001b[1;31mValueError\u001b[0m                                Traceback (most recent call last)",
      "\u001b[1;32m<ipython-input-20-4f997c2d2f9e>\u001b[0m in \u001b[0;36m<module>\u001b[1;34m\u001b[0m\n\u001b[0;32m      7\u001b[0m         \u001b[1;32mbreak\u001b[0m\u001b[1;33m\u001b[0m\u001b[1;33m\u001b[0m\u001b[0m\n\u001b[0;32m      8\u001b[0m     \u001b[1;32mexcept\u001b[0m \u001b[0mZeroDivisionError\u001b[0m \u001b[1;32mas\u001b[0m \u001b[0me\u001b[0m\u001b[1;33m:\u001b[0m\u001b[1;33m\u001b[0m\u001b[1;33m\u001b[0m\u001b[0m\n\u001b[1;32m----> 9\u001b[1;33m         \u001b[1;32mraise\u001b[0m \u001b[0mValueError\u001b[0m\u001b[1;33m(\u001b[0m\u001b[1;34m\"Division failed\"\u001b[0m\u001b[1;33m)\u001b[0m \u001b[1;32mfrom\u001b[0m \u001b[0me\u001b[0m\u001b[1;33m\u001b[0m\u001b[1;33m\u001b[0m\u001b[0m\n\u001b[0m",
      "\u001b[1;31mValueError\u001b[0m: Division failed"
     ]
    }
   ],
   "source": [
    "while(True):\n",
    "    try:\n",
    "        a = int(input(\"Enter value of a:\"))\n",
    "        b = int(input(\"Enter value of b:\"))\n",
    "        c = a/b\n",
    "        print(\"The answer of a divide by b:\", c)\n",
    "        break\n",
    "    except ZeroDivisionError as e:\n",
    "        raise ValueError(\"Division failed\") from e"
   ]
  },
  {
   "cell_type": "markdown",
   "metadata": {},
   "source": [
    "<b><h2 style=\"color:#FF5733;\" >Custom and User-defined Exceptions: </h2><br>\n",
    "<li>Sometimes we have to define and raise exceptions explicitly to indicate that something goes wrong.</li><br>\n",
    "<li> Such a type of exception is called a user-defined exception or customized exception.</li><br>\n",
    "<li>The single arguments in the raise statement show an exception to be raised.</li><br>\n",
    "<li>The user can define custom exceptions by creating a new class.</li><br>\n",
    "<li>This new exception class has to derive either directly or indirectly from the built-in class Exception</li><br>"
   ]
  },
  {
   "cell_type": "code",
   "execution_count": 22,
   "metadata": {},
   "outputs": [],
   "source": [
    "#Custom Exceptions\n",
    "class Error(Exception):\n",
    "    \"\"\"Base class for other exceptions\"\"\"\n",
    "    pass\n",
    "\n",
    "class ValueTooSmallError(Error):\n",
    "    \"\"\"Raised when the input value is small\"\"\"\n",
    "    pass\n",
    "\n",
    "class ValueTooLargeError(Error):\n",
    "    \"\"\"Raised when the input value is large\"\"\"\n",
    "    pass"
   ]
  },
  {
   "cell_type": "code",
   "execution_count": 23,
   "metadata": {},
   "outputs": [
    {
     "name": "stdout",
     "output_type": "stream",
     "text": [
      "Enter any value in 10 to 50 range: 9\n",
      "Value is below range..try again\n",
      "Enter any value in 10 to 50 range: 55\n",
      "value out of range...try again\n",
      "Enter any value in 10 to 50 range: 40\n",
      "Great! value in correct range.\n"
     ]
    }
   ],
   "source": [
    "while(True):\n",
    "    try:\n",
    "        num = int(input(\"Enter any value in 10 to 50 range: \"))\n",
    "        if num < 10:\n",
    "            raise ValueTooSmallError\n",
    "        elif num > 50:\n",
    "            raise ValueTooLargeError\n",
    "        break\n",
    "    except ValueTooSmallError:\n",
    "            print(\"Value is below range..try again\")\n",
    "\n",
    "    except ValueTooLargeError:\n",
    "            print(\"value out of range...try again\")\n",
    "\n",
    "print(\"Great! value in correct range.\")"
   ]
  },
  {
   "cell_type": "code",
   "execution_count": 25,
   "metadata": {},
   "outputs": [],
   "source": [
    "#We can customize the classes by accepting arguments as per our requirements\n",
    "class NegativeAgeError(Exception):\n",
    "\n",
    "    def __init__(self, age, ):\n",
    "        message = \"Age should not be negative\"\n",
    "        self.age = age\n",
    "        self.message = message"
   ]
  },
  {
   "cell_type": "code",
   "execution_count": 26,
   "metadata": {},
   "outputs": [
    {
     "name": "stdout",
     "output_type": "stream",
     "text": [
      "Enter age: -10\n",
      "-10\n",
      "Age should not be negative\n"
     ]
    }
   ],
   "source": [
    "age = int(input(\"Enter age: \"))\n",
    "try:\n",
    "    if age < 0:\n",
    "        raise NegativeAgeError(age)\n",
    "except Exception as e:\n",
    "    print(e.age)\n",
    "    print(e.message)"
   ]
  },
  {
   "cell_type": "markdown",
   "metadata": {},
   "source": [
    "<b><h2 style=\"color:#FF5733;\" >Assertions in Python: </h2><br>\n",
    "<li>Assertions are statements that assert or state a fact confidently in your program.</li><br>\n",
    "<li>The easiest way to think of an assertion is to liken it to a raise-if statement</li><br>\n",
    "<li>Assertions are simply boolean expressions that check if the conditions return true or not.</li><br>\n",
    "<li>If the asserted condition is false, the program  throws an error. Otherwise, it performs a No-operation (NOP).</li><br>\n",
    "<center><img src='https://www.softwaretestinghelp.com/wp-content/qa/uploads/2021/05/working-of-the-Assertion-in-Python.png' width=\"400\" height=\"400\"></center> <br> \n",
    "<b><h4 style=\"color:#cc33ff;\" > Why are Assertions Used? :  </h4><br>\n",
    "<li>These statements are meant only for the developer as assert statements are a part of testing and debugging.</li><br>\n",
    "<li>It ensure that certain conditions are met before or after the execution of blocks</li><br>\n",
    "<li>So that logical errors and exceptions can be avoided later in the program</li><br>\n",
    "<li>Assertions are not supposed to handle run-time errors.</li>\n",
    "<b><h4 style=\"color:#cc33ff;\" > Implementing Assertions in Python :  </h4><br>\n",
    "<li>Python has built-in assert statement to use assertion condition in the program</li><br>\n",
    "<li>assert statement takes an expression and optional message</li><br>\n",
    "<center><img src='https://files.realpython.com/media/assert.f6d344f0c0b4.png' width=\"600\" height=\"200\"></center>"
   ]
  },
  {
   "cell_type": "code",
   "execution_count": 28,
   "metadata": {},
   "outputs": [],
   "source": [
    "assert(True)"
   ]
  },
  {
   "cell_type": "code",
   "execution_count": 29,
   "metadata": {},
   "outputs": [
    {
     "ename": "AssertionError",
     "evalue": "",
     "output_type": "error",
     "traceback": [
      "\u001b[1;31m---------------------------------------------------------------------------\u001b[0m",
      "\u001b[1;31mAssertionError\u001b[0m                            Traceback (most recent call last)",
      "\u001b[1;32m<ipython-input-29-be22fd15d4b9>\u001b[0m in \u001b[0;36m<module>\u001b[1;34m\u001b[0m\n\u001b[0;32m      1\u001b[0m \u001b[1;31m#he keyword assert must always be followed by an expression\u001b[0m\u001b[1;33m\u001b[0m\u001b[1;33m\u001b[0m\u001b[1;33m\u001b[0m\u001b[0m\n\u001b[1;32m----> 2\u001b[1;33m \u001b[1;32massert\u001b[0m\u001b[1;33m(\u001b[0m\u001b[1;36m1\u001b[0m\u001b[1;33m==\u001b[0m\u001b[1;36m0\u001b[0m\u001b[1;33m)\u001b[0m\u001b[1;33m\u001b[0m\u001b[1;33m\u001b[0m\u001b[0m\n\u001b[0m",
      "\u001b[1;31mAssertionError\u001b[0m: "
     ]
    }
   ],
   "source": [
    "#he keyword assert must always be followed by an expression\n",
    "assert(1==0)"
   ]
  },
  {
   "cell_type": "code",
   "execution_count": 31,
   "metadata": {},
   "outputs": [
    {
     "ename": "AssertionError",
     "evalue": "",
     "output_type": "error",
     "traceback": [
      "\u001b[1;31m---------------------------------------------------------------------------\u001b[0m",
      "\u001b[1;31mAssertionError\u001b[0m                            Traceback (most recent call last)",
      "\u001b[1;32m<ipython-input-31-ef876c197674>\u001b[0m in \u001b[0;36m<module>\u001b[1;34m\u001b[0m\n\u001b[0;32m      5\u001b[0m \u001b[1;33m\u001b[0m\u001b[0m\n\u001b[0;32m      6\u001b[0m \u001b[0mmark1\u001b[0m \u001b[1;33m=\u001b[0m \u001b[1;33m[\u001b[0m\u001b[1;33m]\u001b[0m\u001b[1;33m\u001b[0m\u001b[1;33m\u001b[0m\u001b[0m\n\u001b[1;32m----> 7\u001b[1;33m \u001b[0mprint\u001b[0m\u001b[1;33m(\u001b[0m\u001b[1;34m\"Average of mark1:\"\u001b[0m\u001b[1;33m,\u001b[0m\u001b[0mavg\u001b[0m\u001b[1;33m(\u001b[0m\u001b[0mmark1\u001b[0m\u001b[1;33m)\u001b[0m\u001b[1;33m)\u001b[0m\u001b[1;33m\u001b[0m\u001b[1;33m\u001b[0m\u001b[0m\n\u001b[0m",
      "\u001b[1;32m<ipython-input-31-ef876c197674>\u001b[0m in \u001b[0;36mavg\u001b[1;34m(marks)\u001b[0m\n\u001b[0;32m      1\u001b[0m \u001b[1;31m# Using assert without Error Message\u001b[0m\u001b[1;33m\u001b[0m\u001b[1;33m\u001b[0m\u001b[1;33m\u001b[0m\u001b[0m\n\u001b[0;32m      2\u001b[0m \u001b[1;32mdef\u001b[0m \u001b[0mavg\u001b[0m\u001b[1;33m(\u001b[0m\u001b[0mmarks\u001b[0m\u001b[1;33m)\u001b[0m\u001b[1;33m:\u001b[0m\u001b[1;33m\u001b[0m\u001b[1;33m\u001b[0m\u001b[0m\n\u001b[1;32m----> 3\u001b[1;33m     \u001b[1;32massert\u001b[0m \u001b[0mlen\u001b[0m\u001b[1;33m(\u001b[0m\u001b[0mmarks\u001b[0m\u001b[1;33m)\u001b[0m \u001b[1;33m!=\u001b[0m \u001b[1;36m0\u001b[0m\u001b[1;33m\u001b[0m\u001b[1;33m\u001b[0m\u001b[0m\n\u001b[0m\u001b[0;32m      4\u001b[0m     \u001b[1;32mreturn\u001b[0m \u001b[0msum\u001b[0m\u001b[1;33m(\u001b[0m\u001b[0mmarks\u001b[0m\u001b[1;33m)\u001b[0m\u001b[1;33m/\u001b[0m\u001b[0mlen\u001b[0m\u001b[1;33m(\u001b[0m\u001b[0mmarks\u001b[0m\u001b[1;33m)\u001b[0m\u001b[1;33m\u001b[0m\u001b[1;33m\u001b[0m\u001b[0m\n\u001b[0;32m      5\u001b[0m \u001b[1;33m\u001b[0m\u001b[0m\n",
      "\u001b[1;31mAssertionError\u001b[0m: "
     ]
    }
   ],
   "source": [
    "# Using assert without Error Message\n",
    "def avg(marks):\n",
    "    assert len(marks) != 0\n",
    "    return sum(marks)/len(marks)\n",
    "\n",
    "mark1 = []\n",
    "print(\"Average of mark1:\",avg(mark1))"
   ]
  },
  {
   "cell_type": "code",
   "execution_count": 67,
   "metadata": {},
   "outputs": [
    {
     "name": "stdout",
     "output_type": "stream",
     "text": [
      "Average of mark2: 78.0\n"
     ]
    },
    {
     "ename": "AssertionError",
     "evalue": "List is empty.",
     "output_type": "error",
     "traceback": [
      "\u001b[1;31m---------------------------------------------------------------------------\u001b[0m",
      "\u001b[1;31mAssertionError\u001b[0m                            Traceback (most recent call last)",
      "\u001b[1;32m<ipython-input-67-de2c08ba8cc8>\u001b[0m in \u001b[0;36m<module>\u001b[1;34m\u001b[0m\n\u001b[0;32m      8\u001b[0m \u001b[1;33m\u001b[0m\u001b[0m\n\u001b[0;32m      9\u001b[0m \u001b[0mmark1\u001b[0m \u001b[1;33m=\u001b[0m \u001b[1;33m[\u001b[0m\u001b[1;33m]\u001b[0m\u001b[1;33m\u001b[0m\u001b[1;33m\u001b[0m\u001b[0m\n\u001b[1;32m---> 10\u001b[1;33m \u001b[0mprint\u001b[0m\u001b[1;33m(\u001b[0m\u001b[1;34m\"Average of mark1:\"\u001b[0m\u001b[1;33m,\u001b[0m\u001b[0mavg\u001b[0m\u001b[1;33m(\u001b[0m\u001b[0mmark1\u001b[0m\u001b[1;33m)\u001b[0m\u001b[1;33m)\u001b[0m\u001b[1;33m\u001b[0m\u001b[1;33m\u001b[0m\u001b[0m\n\u001b[0m",
      "\u001b[1;32m<ipython-input-67-de2c08ba8cc8>\u001b[0m in \u001b[0;36mavg\u001b[1;34m(marks)\u001b[0m\n\u001b[0;32m      1\u001b[0m \u001b[1;31m#Using assert with error message\u001b[0m\u001b[1;33m\u001b[0m\u001b[1;33m\u001b[0m\u001b[1;33m\u001b[0m\u001b[0m\n\u001b[0;32m      2\u001b[0m \u001b[1;32mdef\u001b[0m \u001b[0mavg\u001b[0m\u001b[1;33m(\u001b[0m\u001b[0mmarks\u001b[0m\u001b[1;33m)\u001b[0m\u001b[1;33m:\u001b[0m\u001b[1;33m\u001b[0m\u001b[1;33m\u001b[0m\u001b[0m\n\u001b[1;32m----> 3\u001b[1;33m     \u001b[1;32massert\u001b[0m \u001b[0mlen\u001b[0m\u001b[1;33m(\u001b[0m\u001b[0mmarks\u001b[0m\u001b[1;33m)\u001b[0m \u001b[1;33m!=\u001b[0m \u001b[1;36m0\u001b[0m\u001b[1;33m,\u001b[0m\u001b[1;34m\"List is empty.\"\u001b[0m\u001b[1;33m\u001b[0m\u001b[1;33m\u001b[0m\u001b[0m\n\u001b[0m\u001b[0;32m      4\u001b[0m     \u001b[1;32mreturn\u001b[0m \u001b[0msum\u001b[0m\u001b[1;33m(\u001b[0m\u001b[0mmarks\u001b[0m\u001b[1;33m)\u001b[0m\u001b[1;33m/\u001b[0m\u001b[0mlen\u001b[0m\u001b[1;33m(\u001b[0m\u001b[0mmarks\u001b[0m\u001b[1;33m)\u001b[0m\u001b[1;33m\u001b[0m\u001b[1;33m\u001b[0m\u001b[0m\n\u001b[0;32m      5\u001b[0m \u001b[1;33m\u001b[0m\u001b[0m\n",
      "\u001b[1;31mAssertionError\u001b[0m: List is empty."
     ]
    }
   ],
   "source": [
    "#Using assert with error message\n",
    "def avg(marks):\n",
    "    assert len(marks) != 0,\"List is empty.\"\n",
    "    return sum(marks)/len(marks)\n",
    "\n",
    "mark2 = [55,88,78,90,79]\n",
    "print(\"Average of mark2:\",avg(mark2))\n",
    "\n",
    "mark1 = []\n",
    "print(\"Average of mark1:\",avg(mark1))"
   ]
  },
  {
   "cell_type": "code",
   "execution_count": 68,
   "metadata": {},
   "outputs": [
    {
     "name": "stdout",
     "output_type": "stream",
     "text": [
      "1\n",
      "2\n",
      "An assert failed.\n"
     ]
    }
   ],
   "source": [
    "#This is like any other exception, and it can be handled in a try-except-clause,\n",
    "try:\n",
    "    print(1)\n",
    "    assert 2+2==4\n",
    "    print(2)\n",
    "    assert 1+2==4\n",
    "    print(3)\n",
    "except:\n",
    "    #however, doing so defeats the purpose of assertions, \n",
    "    #as they are supposed to notify the programmer of a possible bug in the program.\n",
    "       print(\"An assert failed.\")"
   ]
  },
  {
   "cell_type": "markdown",
   "metadata": {},
   "source": [
    "<b><h3 style=\"color:#cc33ff;\" > Conflicts in Python Exception Handling :  </h3><br>\n",
    "<li>Yes, it does make our codes robust and secure from potential errors, but exception handling has a side effect too.</li><br>\n",
    "<li>When programs using try-except to handle exception in Python run slightly slower</li><br>\n",
    "<li>The size of our code increases</li><br>\n",
    "<li>Therefore, we should use exceptions in Python only when we are unsure of a certain part of the code</li>"
   ]
  },
  {
   "cell_type": "markdown",
   "metadata": {},
   "source": [
    "<b><h2 style=\"color:#FF5733;\" >Summing Up :</h2><br>\n",
    "<center><img src='https://files.realpython.com/media/intro.8915db1758d8.png' width=\"600\" height=\"200\"></center><br>\n",
    "<li>Errors are two types : sytanx errors and exceptions</li><br>\n",
    "<li>Exceptionals can be handled using try-except-else-finally</li><br>\n",
    "<li>In the try clause, all statements are executed until an exception is encountered.</li><br>\n",
    "<li>except is used to catch and handle the exception(s) that are encountered in the try clause.</li><br>\n",
    "<li>else lets you code sections that should run only when no exceptions are encountered in the try clause.</li><br>\n",
    "<li>finally enables you to execute sections of code that should always run, with or without exceptions.</li><br>\n",
    "<li>raise allows you to throw an exception at any time. </li><br>\n",
    "<li>assert enables you to verify if a certain condition is met and throw an exception if it isn’t.</li>"
   ]
  },
  {
   "cell_type": "markdown",
   "metadata": {},
   "source": [
    "<b><h2 style=\"color:#FF5733;\" >Exceptional Handling FAQ's :</h2><br>\n",
    "<li>What is Python exception handling ? Explain with example.</li><br>\n",
    "<li>Why exception handling is important in Python ?</li><br>\n",
    "<li>How to handle multiple exceptions in Python ?</li><br>\n",
    "<li>What is purpose of assert ?</li><br>\n",
    "<li>What are different types of errors ?</li><br>\n",
    "<li>When else caluse is excuted ?</li><br>\n",
    "<li>When finally caluse is excuted ? </li><br>\n",
    "<li>Can assertion error be handled in python</li>"
   ]
  },
  {
   "cell_type": "markdown",
   "metadata": {},
   "source": [
    "&copy; **Nitheesh Reddy**"
   ]
  }
 ],
 "metadata": {
  "kernelspec": {
   "display_name": "Python 3",
   "language": "python",
   "name": "python3"
  },
  "language_info": {
   "codemirror_mode": {
    "name": "ipython",
    "version": 3
   },
   "file_extension": ".py",
   "mimetype": "text/x-python",
   "name": "python",
   "nbconvert_exporter": "python",
   "pygments_lexer": "ipython3",
   "version": "3.8.5"
  }
 },
 "nbformat": 4,
 "nbformat_minor": 4
}

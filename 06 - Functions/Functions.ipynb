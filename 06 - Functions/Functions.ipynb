{
 "cells": [
  {
   "cell_type": "markdown",
   "metadata": {},
   "source": [
    "<h1><center>  Functions"
   ]
  },
  {
   "cell_type": "markdown",
   "metadata": {},
   "source": [
    "## In-Built Functions"
   ]
  },
  {
   "cell_type": "code",
   "execution_count": 1,
   "metadata": {},
   "outputs": [
    {
     "name": "stdout",
     "output_type": "stream",
     "text": [
      "0b111\n",
      "a\n",
      "(2+3j)\n",
      "Help on built-in function isinstance in module builtins:\n",
      "\n",
      "isinstance(obj, class_or_tuple, /)\n",
      "    Return whether an object is an instance of a class or of a subclass thereof.\n",
      "    \n",
      "    A tuple, as in ``isinstance(x, (A, B, ...))``, may be given as the target to\n",
      "    check against. This is equivalent to ``isinstance(x, A) or isinstance(x, B)\n",
      "    or ...`` etc.\n",
      "\n",
      "None\n",
      "print(value, ..., sep=' ', end='\\n', file=sys.stdout, flush=False)\n",
      "\n",
      "Prints the values to a stream, or to sys.stdout by default.\n",
      "Optional keyword arguments:\n",
      "file:  a file-like object (stream); defaults to the current sys.stdout.\n",
      "sep:   string inserted between values, default a space.\n",
      "end:   string appended after the last value, default a newline.\n",
      "flush: whether to forcibly flush the stream.\n",
      "\n"
     ]
    }
   ],
   "source": [
    "# Built-in Functions\n",
    "# name_of_the_function(parameters)\n",
    "\n",
    "print(bin(7))\n",
    "\n",
    "print(chr(97))\n",
    "\n",
    "print(complex(2,3))\n",
    "\n",
    "print(help(isinstance))\n",
    "\n",
    "print(print.__doc__)\n",
    "print()\n",
    "#(Shift+Tab)  - shortcut to view docstring"
   ]
  },
  {
   "cell_type": "markdown",
   "metadata": {},
   "source": [
    "## User-Defined Functions"
   ]
  },
  {
   "cell_type": "code",
   "execution_count": 2,
   "metadata": {},
   "outputs": [
    {
     "name": "stdout",
     "output_type": "stream",
     "text": [
      "Hello, World!\n",
      "Hello, World!\n",
      "Hello, World!\n",
      "Hello, World!\n",
      "Hello, World!\n",
      "Hello, World!\n",
      "Hello, World!\n",
      "Hello, World!\n"
     ]
    }
   ],
   "source": [
    "#hello( ) #Throws name error - Function call should be after defining the function\n",
    "\n",
    "def hello(): #Defining Function\n",
    "    print('Hello, World!')\n",
    "\n",
    "hello()\n",
    "hello()\n",
    "hello()\n",
    "hello()\n",
    "hello()\n",
    "hello()\n",
    "hello()\n",
    "hello()\n",
    "#Calling Function"
   ]
  },
  {
   "cell_type": "code",
   "execution_count": 2,
   "metadata": {},
   "outputs": [
    {
     "name": "stdout",
     "output_type": "stream",
     "text": [
      "True\n",
      "False\n",
      "False\n",
      "True\n"
     ]
    }
   ],
   "source": [
    "#Identifiers are user-defined names to represent a variable, function, class, module or any other object\n",
    "\n",
    "# check if an identifier is valid or not is by calling the str.isidentifier() function.\n",
    "\n",
    "print('python'.isidentifier())\n",
    "\n",
    "print('1python'.isidentifier())\n",
    "\n",
    "print('python.com'.isidentifier())\n",
    "\n",
    "print('python_com'.isidentifier())"
   ]
  },
  {
   "cell_type": "markdown",
   "metadata": {},
   "source": [
    "## Type of Arguments :\n",
    "$$ $$\n",
    "\n",
    "<li>Default Arguments</li>\n",
    "$$ $$\n",
    "<li>Positional Arguments</li>\n",
    "$$ $$\n",
    "<li>Keyword Arguments</li>\n",
    "$$ $$\n",
    "<li>Variable Length Arguments - Aribitary Aruguments</li>"
   ]
  },
  {
   "cell_type": "code",
   "execution_count": 8,
   "metadata": {},
   "outputs": [
    {
     "name": "stdout",
     "output_type": "stream",
     "text": [
      "Hello, Bob\n",
      "Hello, Sam\n"
     ]
    }
   ],
   "source": [
    "# Pass single argument to a function\n",
    "\n",
    "def hello(name):\n",
    "    print('Hello,', name) \n",
    "\n",
    "hello('Bob') # Prints Hello, Bob\n",
    "\n",
    "hello('Sam') # Prints Hello, Sam"
   ]
  },
  {
   "cell_type": "code",
   "execution_count": 3,
   "metadata": {},
   "outputs": [
    {
     "name": "stdout",
     "output_type": "stream",
     "text": [
      "Bob is a developer\n"
     ]
    }
   ],
   "source": [
    "# Pass two arguments\n",
    "#Positional Aruguments\n",
    "\n",
    "def func(name, job):\n",
    "    print(name, 'is a', job)\n",
    "    \n",
    "func('Bob', 'developer') # Prints Bob is a developer"
   ]
  },
  {
   "cell_type": "code",
   "execution_count": 5,
   "metadata": {},
   "outputs": [
    {
     "name": "stdout",
     "output_type": "stream",
     "text": [
      "Bob is a developer\n",
      "developer is a Bob\n"
     ]
    }
   ],
   "source": [
    "#positional Aruguments\n",
    "\n",
    "def func(name, job):\n",
    "    print(name, 'is a', job)\n",
    "\n",
    "func( 'Bob' ,'developer') # Prints Bob  is a developer\n",
    "func( 'developer','Bob' ) # Prints developer is a Bob\n",
    "\n",
    "#func('nitheesh',234,'trainee') # throws error"
   ]
  },
  {
   "cell_type": "code",
   "execution_count": 10,
   "metadata": {},
   "outputs": [
    {
     "name": "stdout",
     "output_type": "stream",
     "text": [
      "Bob is a developer\n",
      "Bob is a developer\n"
     ]
    }
   ],
   "source": [
    "# Keyword arguments can be put in any order\n",
    "\n",
    "def func(name, job):\n",
    "    print(name, 'is a', job)\n",
    "\n",
    "func(name='Bob', job='developer') # Prints Bob is a developer\n",
    "\n",
    "func(job='developer', name='Bob') # Prints Bob is a developer"
   ]
  },
  {
   "cell_type": "code",
   "execution_count": 13,
   "metadata": {},
   "outputs": [
    {
     "name": "stdout",
     "output_type": "stream",
     "text": [
      "Bob is a manager\n",
      "Bob is a developer\n"
     ]
    }
   ],
   "source": [
    "# Set default value 'developer' to a 'job' parameter\n",
    "\n",
    "def func(name,job='developer',):\n",
    "    print(name, 'is a', job)\n",
    "    \n",
    "func('Bob', 'manager')# Prints Bob is a manager\n",
    "\n",
    "func('Bob')# Prints Bob is a developer\n",
    "\n",
    "#Positional - Keyword - Default - Order"
   ]
  },
  {
   "cell_type": "code",
   "execution_count": 14,
   "metadata": {},
   "outputs": [
    {
     "name": "stdout",
     "output_type": "stream",
     "text": [
      "(1, 54, 60, 8, 98, 12)\n",
      "(8, 98, 12)\n",
      "(8,)\n"
     ]
    }
   ],
   "source": [
    "#Variable length Positional Aruguments - Aribitary\n",
    "\n",
    "def print_arguments(*args):\n",
    "    print(args)\n",
    "    \n",
    "print_arguments(1, 54, 60, 8, 98, 12)\n",
    "\n",
    "print_arguments( 8, 98, 12)\n",
    "\n",
    "print_arguments(8)\n",
    " # Prints (1, 54, 60, 8, 98, 12)"
   ]
  },
  {
   "cell_type": "code",
   "execution_count": 7,
   "metadata": {},
   "outputs": [
    {
     "name": "stdout",
     "output_type": "stream",
     "text": [
      "{'name': 'Bob'}\n"
     ]
    }
   ],
   "source": [
    "#Variable Length Keyword Aruguments\n",
    "\n",
    "def print_arguments(**kwargs):\n",
    "\t print(kwargs)\n",
    "     \n",
    "print_arguments(name='Bob', age=25, job='dev',gender='male',) "
   ]
  },
  {
   "cell_type": "markdown",
   "metadata": {},
   "source": [
    "#### To-Do : Args  vs Kwargs"
   ]
  },
  {
   "cell_type": "code",
   "execution_count": 8,
   "metadata": {},
   "outputs": [
    {
     "name": "stdout",
     "output_type": "stream",
     "text": [
      "-3.133115067780141e-14\n"
     ]
    }
   ],
   "source": [
    "import math\n",
    "\n",
    "x = math.sin(360*2*math.pi) #mathematical expression as argument\n",
    "\n",
    "print(x) # Prints -3.133115067780141e-14"
   ]
  },
  {
   "cell_type": "markdown",
   "metadata": {},
   "source": [
    "#### To-Do : Parameters vs Aruguments"
   ]
  },
  {
   "cell_type": "markdown",
   "metadata": {},
   "source": [
    "## Aruguments Passing : Pass by Reference vs Value\n",
    "$$ $$\n",
    "**Python’s argument passing model is neither “Pass by Value” nor “Pass by Reference” but it is “Pass by Object Reference”.**\n",
    "$$ $$\n",
    "**If you pass immutable arguments like integers, strings or tuples to a function, the passing acts like Call-by-value. It's different, if we pass mutable arguments.**"
   ]
  },
  {
   "cell_type": "code",
   "execution_count": 16,
   "metadata": {},
   "outputs": [
    {
     "name": "stdout",
     "output_type": "stream",
     "text": [
      "[1, 2, 3]  -  2129788300160\n",
      "[1, 2, 3, 4]  -  2129788300160\n",
      "[1, 2, 3, 4]  -  2129788300160\n"
     ]
    }
   ],
   "source": [
    "# Passed by reference : It means if you change what a parameter refers to within a function, \n",
    "# the change also reflects back in the calling function.\n",
    "def val(lst):\n",
    "    lst.append(4)\n",
    "    print(lst,\" - \",id(lst))\n",
    "\n",
    "lst=[1,2,3]\n",
    "print(lst,\" - \",id(lst))\n",
    "val(lst)\n",
    "print(lst,\" - \",id(lst))"
   ]
  },
  {
   "cell_type": "code",
   "execution_count": 17,
   "metadata": {},
   "outputs": [
    {
     "name": "stdout",
     "output_type": "stream",
     "text": [
      "15  -  140710238759136\n",
      "10  -  140710238758976\n"
     ]
    }
   ],
   "source": [
    "#Passed by value Any changes made in the function variable won’t change the nature of the caller variable \n",
    "def val(x):\n",
    "    x=15\n",
    "    print(x,\" - \",id(x))\n",
    "\n",
    "x=10\n",
    "val(x)\n",
    "print(x,\" - \",id(x))"
   ]
  },
  {
   "cell_type": "markdown",
   "metadata": {},
   "source": [
    "## Variable Scope - Local & Global\n",
    "<li><b>Scope : Scope refers to the region within the code where a particular variable is visible</li>"
   ]
  },
  {
   "cell_type": "code",
   "execution_count": 2,
   "metadata": {},
   "outputs": [
    {
     "name": "stdout",
     "output_type": "stream",
     "text": [
      "within the function :  42\n"
     ]
    },
    {
     "ename": "NameError",
     "evalue": "name 'y' is not defined",
     "output_type": "error",
     "traceback": [
      "\u001b[1;31m---------------------------------------------------------------------------\u001b[0m",
      "\u001b[1;31mNameError\u001b[0m                                 Traceback (most recent call last)",
      "\u001b[1;32m<ipython-input-2-d5652346c62a>\u001b[0m in \u001b[0;36m<module>\u001b[1;34m\u001b[0m\n\u001b[0;32m      6\u001b[0m \u001b[0mmyfunc\u001b[0m\u001b[1;33m(\u001b[0m\u001b[1;33m)\u001b[0m        \u001b[1;31m# prints 42\u001b[0m\u001b[1;33m\u001b[0m\u001b[1;33m\u001b[0m\u001b[0m\n\u001b[0;32m      7\u001b[0m \u001b[1;33m\u001b[0m\u001b[0m\n\u001b[1;32m----> 8\u001b[1;33m \u001b[0mprint\u001b[0m\u001b[1;33m(\u001b[0m\u001b[0my\u001b[0m\u001b[1;33m)\u001b[0m \u001b[1;31m# Triggers NameError: x does not exist\u001b[0m\u001b[1;33m\u001b[0m\u001b[1;33m\u001b[0m\u001b[0m\n\u001b[0m",
      "\u001b[1;31mNameError\u001b[0m: name 'y' is not defined"
     ]
    }
   ],
   "source": [
    "#local Variable \n",
    "\n",
    "def myfunc():\n",
    "    y = 42      # local scope y\n",
    "    print(\"within the function : \",y)\n",
    "myfunc()        # prints 42\n",
    "\n",
    "print(y) # Triggers NameError: y does not exist"
   ]
  },
  {
   "cell_type": "code",
   "execution_count": 8,
   "metadata": {},
   "outputs": [
    {
     "name": "stdout",
     "output_type": "stream",
     "text": [
      "Inside the function 42\n",
      "Outside the function 42 \n"
     ]
    }
   ],
   "source": [
    "#Global variable\n",
    "\n",
    "x = 42          # global scope x\n",
    "\n",
    "def myfunc():\n",
    "    print(f'Inside the function {x}')     # x is 42 inside def\n",
    "myfunc( )\n",
    "\n",
    "print(f'Outside the function {x} ')        # x is 42 outside def"
   ]
  },
  {
   "cell_type": "code",
   "execution_count": 3,
   "metadata": {},
   "outputs": [
    {
     "name": "stdout",
     "output_type": "stream",
     "text": [
      "Local X: 0\n",
      "Global X : 42\n"
     ]
    }
   ],
   "source": [
    "#Reassiging Global Variable\n",
    "\n",
    "x = 42          # global scope x\n",
    "\n",
    "def myfunc():\n",
    "    x = 0\n",
    "    print(\"Local X:\",x)    # local x is 0\n",
    "    \n",
    "myfunc( )\n",
    "\n",
    "print(\"Global X :\",x)        # global x is still 42"
   ]
  },
  {
   "cell_type": "code",
   "execution_count": 9,
   "metadata": {},
   "outputs": [
    {
     "name": "stdout",
     "output_type": "stream",
     "text": [
      "0\n",
      "0\n"
     ]
    }
   ],
   "source": [
    "#Global Keyword\n",
    "\n",
    "x = 42          # global scope x\n",
    "\n",
    "def myfunc():\n",
    "    global x    # declare x global\n",
    "    x = 0\n",
    "    print(x)    # global x is now 0\n",
    "    \n",
    "myfunc( )\n",
    "print(x)        # x is 0"
   ]
  },
  {
   "cell_type": "code",
   "execution_count": 6,
   "metadata": {},
   "outputs": [
    {
     "name": "stdout",
     "output_type": "stream",
     "text": [
      "42\n",
      "43\n",
      "43\n"
     ]
    }
   ],
   "source": [
    "#global Keyword \n",
    "\n",
    "x=42\n",
    "print(x)   \n",
    "def myfunc():\n",
    "    global x\n",
    "    x = x + 1   # global x is now 43\n",
    "    print(x)\n",
    "    \n",
    "myfunc()\n",
    "print(x)        # x is 43"
   ]
  },
  {
   "cell_type": "code",
   "execution_count": 5,
   "metadata": {},
   "outputs": [],
   "source": [
    "#Globals() - returns the dictionary of current global symbol table.\n",
    "\n",
    "a = 100\n",
    "b = 4\n",
    "\n",
    "def foo():\n",
    "    x = 100 # x is a local variable\n",
    "    print(x)\n",
    "\n",
    "#print(globals())"
   ]
  },
  {
   "cell_type": "code",
   "execution_count": 13,
   "metadata": {},
   "outputs": [
    {
     "name": "stdout",
     "output_type": "stream",
     "text": [
      "100\n"
     ]
    }
   ],
   "source": [
    "print( globals( )['a'])"
   ]
  },
  {
   "cell_type": "code",
   "execution_count": 11,
   "metadata": {},
   "outputs": [
    {
     "name": "stdout",
     "output_type": "stream",
     "text": [
      "15\n",
      "15\n"
     ]
    }
   ],
   "source": [
    "#Globals\n",
    "\n",
    "a = 5\n",
    "\n",
    "def  func(): \n",
    "    c = 10\n",
    "    d = c + a \n",
    "    globals( )['a'] = d # Calling globals() \n",
    "    print(a)\n",
    "\n",
    "\n",
    "func()\n",
    "print(a)"
   ]
  },
  {
   "cell_type": "code",
   "execution_count": 6,
   "metadata": {},
   "outputs": [
    {
     "name": "stdout",
     "output_type": "stream",
     "text": [
      "Inner Function - Local 0\n",
      "Outer Function - Non Local 42\n",
      "Outside of Functions - Global 50\n"
     ]
    }
   ],
   "source": [
    "# Non-Local \n",
    "x=50 # Global\n",
    "def f1():\n",
    "    #outer function\n",
    "    x = 42  #Non-local variable - Enclosing Scope \n",
    "    def f2():  # nested function\n",
    "        #inner function\n",
    "        x = 0\n",
    "        print(f'Inner Function - Local {x}')    # x is 0\n",
    "    f2()\n",
    "    print((f'Outer Function - Non Local {x}') )\n",
    "f1()\n",
    "print((f'Outside of Functions - Global {x}') )"
   ]
  },
  {
   "cell_type": "code",
   "execution_count": 17,
   "metadata": {},
   "outputs": [
    {
     "name": "stdout",
     "output_type": "stream",
     "text": [
      "0\n",
      "0\n"
     ]
    }
   ],
   "source": [
    "#Non-Local \n",
    "\n",
    "def f1():\n",
    "    x = 42  #Non-local variable\n",
    "    def f2():  # nested function\n",
    "        nonlocal x\n",
    "        x = 0\n",
    "        print(x)    # x is 0\n",
    "    f2()\n",
    "    print(x)\n",
    "f1()"
   ]
  },
  {
   "cell_type": "markdown",
   "metadata": {},
   "source": [
    "# Return"
   ]
  },
  {
   "cell_type": "code",
   "execution_count": 11,
   "metadata": {},
   "outputs": [
    {
     "name": "stdout",
     "output_type": "stream",
     "text": [
      "7\n",
      "9\n"
     ]
    }
   ],
   "source": [
    "#Retruning Values\n",
    "\n",
    "def sum(a, b):\n",
    "    return a + b\n",
    "x = sum(3, 4)\n",
    "print(x) # Prints 7`\n",
    "print(sum(4,5))"
   ]
  },
  {
   "cell_type": "code",
   "execution_count": 19,
   "metadata": {},
   "outputs": [
    {
     "name": "stdout",
     "output_type": "stream",
     "text": [
      "(5, 1, 6)\n"
     ]
    }
   ],
   "source": [
    "#Retruning Multiple Values\n",
    "\n",
    "def func(a, b):\n",
    "    return a+b, a-b , a*b\n",
    "\n",
    "result = func(3, 2)\n",
    "\n",
    "print(result) # Prints (5, 1 , 6)"
   ]
  },
  {
   "cell_type": "code",
   "execution_count": 8,
   "metadata": {},
   "outputs": [
    {
     "name": "stdout",
     "output_type": "stream",
     "text": [
      "(5, 1)\n",
      "5\n",
      "1\n"
     ]
    }
   ],
   "source": [
    "#Retruning Multiple Values\n",
    "\n",
    "def func(a, b):\n",
    "    return a+b, a-b\n",
    "\n",
    "result = func(3, 2)\n",
    "print(result)\n",
    "\n",
    "add, sub = func(3, 2)\n",
    "print(add) # Prints 5\n",
    "print(sub) # Prints 1"
   ]
  },
  {
   "cell_type": "code",
   "execution_count": 21,
   "metadata": {},
   "outputs": [
    {
     "name": "stdout",
     "output_type": "stream",
     "text": [
      "8\n"
     ]
    },
    {
     "data": {
      "text/plain": [
       "13"
      ]
     },
     "execution_count": 21,
     "metadata": {},
     "output_type": "execute_result"
    }
   ],
   "source": [
    "#Calling one function in other function\n",
    "def function1(): \n",
    "    def function2(a,b): \n",
    "        return a+b\n",
    "    c=function2(3,5)\n",
    "    print(c)\n",
    "    return c+5\n",
    "\n",
    "function1()"
   ]
  },
  {
   "cell_type": "code",
   "execution_count": 15,
   "metadata": {},
   "outputs": [
    {
     "data": {
      "text/plain": [
       "30"
      ]
     },
     "execution_count": 15,
     "metadata": {},
     "output_type": "execute_result"
    }
   ],
   "source": [
    "def multiply(a, b):\n",
    "    c = a*b\n",
    "    return c\n",
    "    print(c) #-Return is end of function\n",
    "      \n",
    "multiply(10, 3)"
   ]
  },
  {
   "cell_type": "markdown",
   "metadata": {},
   "source": [
    "#### To-Do : Retrun vs Yeild"
   ]
  },
  {
   "cell_type": "markdown",
   "metadata": {},
   "source": [
    "### Docstring"
   ]
  },
  {
   "cell_type": "code",
   "execution_count": 9,
   "metadata": {},
   "outputs": [
    {
     "name": "stdout",
     "output_type": "stream",
     "text": [
      "Hello, World!\n",
      "Help on function hello in module __main__:\n",
      "\n",
      "hello()\n",
      "    This function prints message on the screen\n",
      "    param : No parameters Required\n",
      "    return: No Value Returned\n",
      "\n",
      "None\n",
      " This function prints message on the screen\n",
      "        param : No parameters Required\n",
      "        return: No Value Returned\n",
      "        \n"
     ]
    }
   ],
   "source": [
    "def hello():\n",
    "    \"\"\" This function prints message on the screen\n",
    "        param : No parameters Required\n",
    "        return: No Value Returned\n",
    "        \"\"\"  \n",
    "    print('Hello, World!')\n",
    "hello()\n",
    "print(help(hello))\n",
    "\n",
    "print(hello.__doc__)"
   ]
  },
  {
   "cell_type": "markdown",
   "metadata": {},
   "source": [
    "##  Function is an First-Class Object"
   ]
  },
  {
   "cell_type": "markdown",
   "metadata": {},
   "source": [
    "#### Functions Can Be Stored in Data structures"
   ]
  },
  {
   "cell_type": "code",
   "execution_count": 27,
   "metadata": {},
   "outputs": [
    {
     "name": "stdout",
     "output_type": "stream",
     "text": [
      "[<function yell at 0x0000022E6196EB80>, <method 'lower' of 'str' objects>, <method 'capitalize' of 'str' objects>]\n"
     ]
    }
   ],
   "source": [
    "from yell import yell #importing a function from python file - Realted concept - modules\n",
    "\n",
    "funcs = [yell, str.lower, str.capitalize]\n",
    "\n",
    "print(funcs)"
   ]
  },
  {
   "cell_type": "code",
   "execution_count": 28,
   "metadata": {},
   "outputs": [
    {
     "name": "stdout",
     "output_type": "stream",
     "text": [
      "<function yell at 0x0000022E6196EB80> HEY THERE!\n",
      "<method 'lower' of 'str' objects> hey there\n",
      "<method 'capitalize' of 'str' objects> Hey there\n",
      "HEYHO!\n"
     ]
    }
   ],
   "source": [
    "#Accessing Functions From List \n",
    "\n",
    "for f in funcs:\n",
    "    print(f, f('hey there'))\n",
    "\n",
    "#Accessing Single Function\n",
    "\n",
    "print(funcs[0]('heyho'))"
   ]
  },
  {
   "cell_type": "markdown",
   "metadata": {},
   "source": [
    "#### Functions Can Be Passed To Other Functions"
   ]
  },
  {
   "cell_type": "code",
   "execution_count": 30,
   "metadata": {},
   "outputs": [
    {
     "name": "stdout",
     "output_type": "stream",
     "text": [
      "HI, I AM A PYTHON PROGRAM!\n",
      "hi, i am a python program...\n"
     ]
    }
   ],
   "source": [
    "def greet(func):\n",
    "    greeting = func('Hi, I am a Python program') #yell()\n",
    "    print(greeting)\n",
    "\n",
    "greet(yell) \n",
    "\n",
    "def whisper(text):\n",
    "    return text.lower() + '...'\n",
    "greet(whisper)"
   ]
  },
  {
   "cell_type": "markdown",
   "metadata": {},
   "source": [
    "#### Functions Can Be Nested"
   ]
  },
  {
   "cell_type": "code",
   "execution_count": 34,
   "metadata": {},
   "outputs": [
    {
     "name": "stdout",
     "output_type": "stream",
     "text": [
      "hello, world...\n"
     ]
    }
   ],
   "source": [
    "def speak(text):\n",
    "    def whispers(t):\n",
    "        return t.lower() + '...'\n",
    "    return whisper(text)\n",
    "\n",
    "s = speak('Hello, World')\n",
    "\n",
    "print(s)\n",
    "\n",
    "#whispers('Yo') #Inner Function cannot Be Accessed outside outer function"
   ]
  },
  {
   "cell_type": "code",
   "execution_count": 35,
   "metadata": {},
   "outputs": [
    {
     "name": "stdout",
     "output_type": "stream",
     "text": [
      "hello...\n",
      "HELLO!\n"
     ]
    }
   ],
   "source": [
    "#Nested Functions\n",
    "\n",
    "def get_speak_func(volume):\n",
    "    def whisper(text):\n",
    "        return text.lower() + '...'\n",
    "    def yell(text):\n",
    "        return text.upper() + '!'\n",
    "    if volume > 0.5:\n",
    "        return yell\n",
    "    else:\n",
    "        return whisper\n",
    "        \n",
    "s = get_speak_func(0.3)\n",
    "\n",
    "print(s('HELLO'))\n",
    "\n",
    "s = get_speak_func(0.7)\n",
    "\n",
    "print(s('hello'))"
   ]
  },
  {
   "cell_type": "code",
   "execution_count": 36,
   "metadata": {},
   "outputs": [
    {
     "name": "stdout",
     "output_type": "stream",
     "text": [
      "hello...\n"
     ]
    }
   ],
   "source": [
    "#Nested Functions\n",
    "\n",
    "def get_speak_func(volume,text):\n",
    "    def whisper():\n",
    "        return text.lower() + '...'\n",
    "    def yell():\n",
    "        return text.upper() + '!'\n",
    "    if volume > 0.5:\n",
    "        return yell\n",
    "    else:\n",
    "        return whisper\n",
    "        \n",
    "s = get_speak_func(0.3,'HELLO')()\n",
    "\n",
    "print(s)"
   ]
  },
  {
   "cell_type": "markdown",
   "metadata": {},
   "source": [
    "#### Assigning and Deleting of Function"
   ]
  },
  {
   "cell_type": "code",
   "execution_count": 17,
   "metadata": {},
   "outputs": [
    {
     "name": "stdout",
     "output_type": "stream",
     "text": [
      "I AM FROM BARK!\n",
      "FUNCTION DELETED!\n"
     ]
    }
   ],
   "source": [
    "from yell import yell\n",
    "\n",
    "#Assiging To Variable\n",
    "\n",
    "bark = yell\n",
    "\n",
    "print(bark('i am from bark'))\n",
    "\n",
    "#delting function\n",
    "\n",
    "del yell\n",
    "\n",
    "#yell('hello?') - Throws an error - NameError: name 'yell' is not defined\n",
    "\n",
    "print(bark('function deleted'))"
   ]
  },
  {
   "cell_type": "markdown",
   "metadata": {},
   "source": [
    "## Python Function Redefinition"
   ]
  },
  {
   "cell_type": "code",
   "execution_count": 19,
   "metadata": {},
   "outputs": [
    {
     "name": "stdout",
     "output_type": "stream",
     "text": [
      "Ready.\n",
      "04:15:51\n",
      "Processing\n"
     ]
    }
   ],
   "source": [
    "#function redefination - Realted concepts - Method Overloading , Method Over Riding \n",
    "from time import gmtime, strftime\n",
    "def show_message(msg):\n",
    "    print(msg)\n",
    "show_message(\"Ready.\")\n",
    "\n",
    "def show_message(msg):\n",
    "    print(strftime(\"%H:%M:%S\", gmtime()))\n",
    "    print(msg)\n",
    "show_message(\"Processing\")"
   ]
  },
  {
   "cell_type": "code",
   "execution_count": 20,
   "metadata": {},
   "outputs": [
    {
     "name": "stdout",
     "output_type": "stream",
     "text": [
      "15\n"
     ]
    }
   ],
   "source": [
    "#Similar to variables reassiging \n",
    "x = 10\n",
    "x = 15\n",
    "print(x)"
   ]
  },
  {
   "cell_type": "markdown",
   "metadata": {},
   "source": [
    "___"
   ]
  },
  {
   "cell_type": "markdown",
   "metadata": {},
   "source": [
    "## Code Challenges\n"
   ]
  },
  {
   "cell_type": "markdown",
   "metadata": {},
   "source": [
    "#### Challenge 1 : \n",
    "We have been assigned to work on an existing program for an ATM system. The current program has bugs and needs to be fixed so we can provide the best experience for our users. Fix the scoping bugs to get the program to function properly.\n",
    "When fixed, the program should output : \n",
    "<li>Your balance is 1000\n",
    "<li>Your new balance is 500\n",
    "<li>You will gain interest on: 500\n",
    "<li>You will be taxed: 65.0\n"
   ]
  },
  {
   "cell_type": "code",
   "execution_count": null,
   "metadata": {},
   "outputs": [],
   "source": [
    "#Fix the scoping bugs\n",
    "def print_balance(): \n",
    "    balance = 1000\n",
    "    print(\"Your balance is \" + str(balance))\n",
    "\n",
    "def deduct(amount):\n",
    "    print(\"Your new balance is \" + str(balance - amount))\n",
    "\n",
    "def calculate_interest_on_savings():\n",
    "  print(\"You will gain interest on: \" + str(savings))\n",
    "  def calculate_taxes():\n",
    "    savings = 500\n",
    "    tax_amount = savings * 0.13\n",
    "    print(\"You will be taxed: \" + str(tax_amount))\n",
    "  calculate_taxes()\n",
    "\n",
    "print_balance()\n",
    "deduct(500)\n",
    "calculate_interest_on_savings()"
   ]
  },
  {
   "cell_type": "markdown",
   "metadata": {},
   "source": [
    "#### Challenge 2 : Describe the scope of the variables a, b, c and d in this example "
   ]
  },
  {
   "cell_type": "code",
   "execution_count": 3,
   "metadata": {},
   "outputs": [
    {
     "name": "stdout",
     "output_type": "stream",
     "text": [
      "3\n"
     ]
    }
   ],
   "source": [
    "#Describe the scope \n",
    "def my_function(a):\n",
    "    b = a - 2\n",
    "    return b\n",
    "\n",
    "c = 3\n",
    "\n",
    "if c > 2:\n",
    "    d = my_function(5)\n",
    "    print(d)"
   ]
  },
  {
   "cell_type": "markdown",
   "metadata": {},
   "source": [
    " What is the lifetime of these variables? When will they be created and destroyed ?"
   ]
  },
  {
   "cell_type": "markdown",
   "metadata": {},
   "source": [
    "&copy; **Nitheesh Reddy**"
   ]
  }
 ],
 "metadata": {
  "kernelspec": {
   "display_name": "Python 3",
   "language": "python",
   "name": "python3"
  },
  "language_info": {
   "codemirror_mode": {
    "name": "ipython",
    "version": 3
   },
   "file_extension": ".py",
   "mimetype": "text/x-python",
   "name": "python",
   "nbconvert_exporter": "python",
   "pygments_lexer": "ipython3",
   "version": "3.8.5"
  }
 },
 "nbformat": 4,
 "nbformat_minor": 4
}

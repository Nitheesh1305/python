{
 "cells": [
  {
   "cell_type": "markdown",
   "metadata": {},
   "source": [
    "<center><b><h1 style=\"color:#ff0066;\" >Python Data Structures - Lists</h1>"
   ]
  },
  {
   "cell_type": "markdown",
   "metadata": {},
   "source": [
    "<b><h1 style=\"color:#cc33ff;\" >Lists</h1>\n",
    "<br>\n",
    "A list can be defined as a collection of values or items of different types.\n",
    "<br> <br>\n",
    "The items in the list are separated with the comma (,) and enclosed with the square brackets [ ]\n",
    "<br><br>\n",
    "Refrered as Sequence / Container / Collection of Items"
   ]
  },
  {
   "cell_type": "markdown",
   "metadata": {},
   "source": [
    "<b><h2 style=\"color:#FF3333;\" >Characteristics of Lists :</h2> <br>\n",
    "    <li>The lists are ordered</li><br>\n",
    "    <li>The element of the list can access by index.</li><br>\n",
    "    <li>The lists are the mutable type</li><br>\n",
    "    <li>A list can have any number of items and they may be of different types (Heterogenous)</li><br>\n",
    "    <li>A list may contain duplicate values</li>"
   ]
  },
  {
   "cell_type": "markdown",
   "metadata": {},
   "source": [
    "<b><h3 style=\"color:#6833FF;\" >Creating a List </h3>"
   ]
  },
  {
   "cell_type": "code",
   "execution_count": 1,
   "metadata": {},
   "outputs": [
    {
     "name": "stdout",
     "output_type": "stream",
     "text": [
      "[] : <class 'list'>\n",
      "[1, 2, 3] : <class 'list'>\n",
      "['Welocme', 'To', 'Python', 'Tutorial'] : <class 'list'>\n"
     ]
    }
   ],
   "source": [
    "#Lists in Python can be created by just placing the sequence inside the square brackets[] separated by commas (,).\n",
    "\n",
    "# empty list\n",
    "emptyList = []\n",
    "print(emptyList ,\":\", type(emptyList))\n",
    "\n",
    "# list of integers\n",
    "integerElements = [1, 2, 3]\n",
    "print(integerElements ,\":\", type(integerElements))\n",
    "\n",
    "# list of strings\n",
    "stringElements = [\"Welocme\", \"To\", \"Python\",\"Tutorial\"]\n",
    "print(stringElements ,\":\", type(stringElements))"
   ]
  },
  {
   "cell_type": "code",
   "execution_count": 2,
   "metadata": {},
   "outputs": [
    {
     "name": "stdout",
     "output_type": "stream",
     "text": [
      "[1, 'Hello', 3.4] : <class 'list'>\n",
      "[1, 2, 4, 4, 3, 3, 3, 6, 5] : <class 'list'>\n",
      "['mouse', [8, 4, 6], ['a']] : <class 'list'>\n"
     ]
    }
   ],
   "source": [
    "#A list can have any number of items and they may be of different types\n",
    "\n",
    "# list with mixed data types - Heterogenous\n",
    "heterogenousElements = [1, \"Hello\", 3.4]\n",
    "print(heterogenousElements,\":\", type(heterogenousElements))\n",
    "\n",
    "#List Can have Duplicte Vales \n",
    "duplicatesList = [1, 2, 4, 4, 3, 3, 3, 6, 5]\n",
    "print(duplicatesList  ,\":\", type(duplicatesList))\n",
    "\n",
    "#A list can also have another list as an item. This is called a nested list.\n",
    "\n",
    "# nested list\n",
    "nestedList = [\"mouse\", [8, 4, 6], ['a']]\n",
    "print(nestedList ,\":\", type(nestedList))"
   ]
  },
  {
   "cell_type": "code",
   "execution_count": 3,
   "metadata": {},
   "outputs": [
    {
     "name": "stdout",
     "output_type": "stream",
     "text": [
      "Enter elements of a list (Space-Separated): 10 20 30 40 50\n",
      "The list is: ['10', '20', '30', '40', '50']\n"
     ]
    }
   ],
   "source": [
    "#Taking Input of a List\n",
    "string = input(\"Enter elements of a list (Space-Separated): \")\n",
    "lst = string.split()  # split the strings and store it to a list\n",
    "print('The list is:', lst)"
   ]
  },
  {
   "cell_type": "markdown",
   "metadata": {},
   "source": [
    "<b><h3 style=\"color:#6833FF;\" >Accessing elements from the List Using Index</h3><br>\n",
    "    The indexing is processed in the same way as it happens with the strings.\n",
    "    <br> <br>\n",
    "    The elements of the list can be accessed by using the index operator [ ] - list_name[Index Number]\n",
    "    <br> <br>\n",
    "    And lists can be sliced, concatenated and so on.\n",
    "    <br><br>\n",
    "    <img src='1.png'>"
   ]
  },
  {
   "cell_type": "code",
   "execution_count": 4,
   "metadata": {},
   "outputs": [
    {
     "name": "stdout",
     "output_type": "stream",
     "text": [
      "5\n",
      "red\n",
      "blue\n",
      "yellow\n",
      "black\n",
      "green\n"
     ]
    }
   ],
   "source": [
    "#The index starts from 0 and goes to length - 1\n",
    "my_list = ['red', 'green', 'blue', 'yellow', 'black']\n",
    "\n",
    "#len of list\n",
    "print(len(my_list))\n",
    "\n",
    "#Postive Indexing \n",
    "\n",
    "# first item\n",
    "print(my_list[0])  # red\n",
    "\n",
    "# third item\n",
    "print(my_list[2])  # blue\n",
    "\n",
    "# fourth item\n",
    "print(my_list[3])  # yellow\n",
    "\n",
    "#Negetive Indexing\n",
    "\n",
    "# last item\n",
    "print(my_list[-1]) #black\n",
    "\n",
    "# fourth last item\n",
    "print(my_list[-4]) #green"
   ]
  },
  {
   "cell_type": "code",
   "execution_count": 53,
   "metadata": {},
   "outputs": [
    {
     "ename": "TypeError",
     "evalue": "list indices must be integers or slices, not float",
     "output_type": "error",
     "traceback": [
      "\u001b[1;31m---------------------------------------------------------------------------\u001b[0m",
      "\u001b[1;31mTypeError\u001b[0m                                 Traceback (most recent call last)",
      "\u001b[1;32m<ipython-input-53-b36699f2f7b3>\u001b[0m in \u001b[0;36m<module>\u001b[1;34m\u001b[0m\n\u001b[0;32m      1\u001b[0m \u001b[1;31m# Error! Only integer can be used for indexing\u001b[0m\u001b[1;33m\u001b[0m\u001b[1;33m\u001b[0m\u001b[1;33m\u001b[0m\u001b[0m\n\u001b[1;32m----> 2\u001b[1;33m \u001b[0mprint\u001b[0m\u001b[1;33m(\u001b[0m\u001b[0mmy_list\u001b[0m\u001b[1;33m[\u001b[0m\u001b[1;36m4.0\u001b[0m\u001b[1;33m]\u001b[0m\u001b[1;33m)\u001b[0m\u001b[1;33m\u001b[0m\u001b[1;33m\u001b[0m\u001b[0m\n\u001b[0m",
      "\u001b[1;31mTypeError\u001b[0m: list indices must be integers or slices, not float"
     ]
    }
   ],
   "source": [
    "# Error! Only integer can be used for indexing\n",
    "print(my_list[4.0])"
   ]
  },
  {
   "cell_type": "code",
   "execution_count": 54,
   "metadata": {},
   "outputs": [
    {
     "ename": "IndexError",
     "evalue": "list index out of range",
     "output_type": "error",
     "traceback": [
      "\u001b[1;31m---------------------------------------------------------------------------\u001b[0m",
      "\u001b[1;31mIndexError\u001b[0m                                Traceback (most recent call last)",
      "\u001b[1;32m<ipython-input-54-647c57c7b09b>\u001b[0m in \u001b[0;36m<module>\u001b[1;34m\u001b[0m\n\u001b[0;32m      1\u001b[0m \u001b[1;31m# Triggers IndexError: list index out of range\u001b[0m\u001b[1;33m\u001b[0m\u001b[1;33m\u001b[0m\u001b[1;33m\u001b[0m\u001b[0m\n\u001b[1;32m----> 2\u001b[1;33m \u001b[0mprint\u001b[0m\u001b[1;33m(\u001b[0m\u001b[0mmy_list\u001b[0m\u001b[1;33m[\u001b[0m\u001b[1;36m10\u001b[0m\u001b[1;33m]\u001b[0m\u001b[1;33m)\u001b[0m\u001b[1;33m\u001b[0m\u001b[1;33m\u001b[0m\u001b[0m\n\u001b[0m",
      "\u001b[1;31mIndexError\u001b[0m: list index out of range"
     ]
    }
   ],
   "source": [
    "# Triggers IndexError: list index out of range\n",
    "print(my_list[10])"
   ]
  },
  {
   "cell_type": "markdown",
   "metadata": {},
   "source": [
    "<b><h3 style=\"color:#6833FF;\" >Access Nested List Items</h3><br>\n",
    "<img src='2.png' >"
   ]
  },
  {
   "cell_type": "code",
   "execution_count": 56,
   "metadata": {},
   "outputs": [
    {
     "name": "stdout",
     "output_type": "stream",
     "text": [
      "Happy\n",
      "[2, 0, 1, 5]\n",
      "1\n"
     ]
    }
   ],
   "source": [
    "# Nested List\n",
    "n_list = [\"Happy\", [2, 0, 1, 5]]\n",
    "\n",
    "# Nested indexing\n",
    "print(n_list[0])\n",
    "\n",
    "print(n_list[1])\n",
    "\n",
    "print(n_list[1][2])"
   ]
  },
  {
   "cell_type": "code",
   "execution_count": 59,
   "metadata": {},
   "outputs": [
    {
     "name": "stdout",
     "output_type": "stream",
     "text": [
      "dd\n",
      "['eee', 'fff']\n",
      "fff\n"
     ]
    }
   ],
   "source": [
    "nestedList = ['a', 'b', ['cc', 'dd', ['eee', 'fff']], 'g', 'h']\n",
    "\n",
    "print(nestedList[2][1]) \n",
    "\n",
    "print(nestedList[2][2]) # Prints ['eee', 'fff']\n",
    "\n",
    "print(nestedList[2][2][1]) # Prints eee"
   ]
  },
  {
   "cell_type": "markdown",
   "metadata": {},
   "source": [
    "<b><h3 style=\"color:#6833FF;\" >Slicing A List</h3><br>\n",
    "A segment of a list is called a slice and you can extract one by using a slice operator[ : ].\n",
    "<br><br>\n",
    "A slice of a list is also a list."
   ]
  },
  {
   "cell_type": "code",
   "execution_count": 8,
   "metadata": {},
   "outputs": [
    {
     "name": "stdout",
     "output_type": "stream",
     "text": [
      "['c', 'd', 'e', 'f', 'g']\n",
      "['c', 'd', 'e', 'f', 'g']\n",
      "['c', 'd']\n",
      "['c', 'e', 'g']\n",
      "['g', 'e', 'c']\n",
      "['a', 'b', 'c']\n",
      "['g', 'h', 'i']\n",
      "['i', 'h', 'g', 'f', 'e', 'd', 'c', 'b', 'a']\n"
     ]
    }
   ],
   "source": [
    "L = ['a', 'b', 'c', 'd', 'e', 'f', 'g', 'h', 'i']\n",
    "\n",
    "\n",
    "##Slice with postive Indices\n",
    "print(L[2:7])    # Prints ['c', 'd', 'e', 'f', 'g']\n",
    "\n",
    "#Slice with Negative Indices\n",
    "print(L[-7:-2])  # Prints ['c', 'd', 'e', 'f', 'g']\n",
    "\n",
    "#Slice with Positive & Negative Indices\n",
    "print(L[2:-5])   # Prints ['c', 'd']\n",
    "\n",
    "#Specify Step of the Slicing\n",
    "print(L[2:7:2])  # Prints ['c', 'e', 'g']\n",
    "\n",
    "#Negative Step Size\n",
    "print(L[6:1:-2]) # Prints ['g', 'e', 'c']\n",
    "\n",
    "#Slice at Beginning & End\n",
    "print(L[:3])     # Prints ['a', 'b', 'c']\n",
    "\n",
    "print(L[6:])     # Prints ['g', 'h', 'i']\n",
    "\n",
    "#Reverse a List\n",
    "print(L[::-1])   # Prints ['i', 'h', 'g', 'f', 'e', 'd', 'c', 'b', 'a']"
   ]
  },
  {
   "cell_type": "markdown",
   "metadata": {},
   "source": [
    "<b><h3 style=\"color:#6833FF;\" >Change List Elements</h3><br>\n",
    "Lists are mutable, meaning their elements can be changed unlike string or tuple..\n",
    "<br><br>\n",
    "We can use the assignment operator = to change an item or a range of items."
   ]
  },
  {
   "cell_type": "code",
   "execution_count": 9,
   "metadata": {},
   "outputs": [
    {
     "name": "stdout",
     "output_type": "stream",
     "text": [
      "Before Changeing : [2, 4, 6, 8]\n",
      "After Changeing 1st Element: [1, 4, 6, 8]\n",
      "After Changeing Multiple Elements: [1, 3, 5, 7]\n"
     ]
    }
   ],
   "source": [
    "# Correcting mistake values in a list\n",
    "odd = [2, 4, 6, 8]\n",
    "print('Before Changeing :',odd)\n",
    "\n",
    "# change the 1st item    \n",
    "odd[0] = 1            \n",
    "\n",
    "print('After Changeing 1st Element:',odd)\n",
    "\n",
    "#Modify multiple list items - change 2nd to 4th items\n",
    "odd[1:4] = [3, 5, 7]  \n",
    "\n",
    "print('After Changeing Multiple Elements:',odd)"
   ]
  },
  {
   "cell_type": "markdown",
   "metadata": {},
   "source": [
    "<b><h3 style=\"color:#6833FF;\" >Add List Elements</h3><br>\n",
    "    <li>We can add one item to a list using the  <font style=\"color:#FF33F2\">append( )</font> method </li><br>\n",
    "    <li>We can add several items using the <font style=\"color:#FF33F2\">extend( )</font> method.</li><br>\n",
    "    <li>We can insert one item at a desired location by using the method <font style=\"color:#FF33F2\">insert( )</font></li><br>\n",
    "    <li>Insert multiple items by squeezing it into an <font style=\"color:#FF33F2\">empty slice of a list</font></li><br>"
   ]
  },
  {
   "cell_type": "code",
   "execution_count": 10,
   "metadata": {},
   "outputs": [
    {
     "name": "stdout",
     "output_type": "stream",
     "text": [
      "Before Changeing : [1, 3, 5]\n",
      "Appended List : [1, 3, 5, 7]\n",
      "Extended List : [1, 3, 5, 7, 9, 11, 13]\n",
      "Inserted List : [1, 3, 9]\n",
      "Insert in the middle : [1, 3, 5, 7, 9]\n",
      "Insert at the end : [1, 3, 5, 7, 9, 11, 13]\n"
     ]
    }
   ],
   "source": [
    "# Appending lists in Python\n",
    "odd = [1, 3, 5]\n",
    "print('Before Changeing :',odd)\n",
    "\n",
    "odd.append(7)\n",
    "\n",
    "print('Appended List :', odd)\n",
    "\n",
    "#Extending lists in Python\n",
    "odd.extend([9, 11, 13])\n",
    "\n",
    "print('Extended List :', odd)\n",
    "\n",
    "# list insert() method\n",
    "odd = [1, 9]\n",
    "\n",
    "odd.insert(1,3) # insert(index,value)\n",
    "\n",
    "print('Inserted List :', odd)\n",
    "\n",
    "#empty slice of list\n",
    "#odd[:0]  = Insert at the start\n",
    "\n",
    "odd[2:2] = [5, 7]\n",
    "\n",
    "print('Insert in the middle :', odd)\n",
    "\n",
    "odd[len(odd):] = [11,13]\n",
    "\n",
    "print('Insert at the end :',odd)"
   ]
  },
  {
   "cell_type": "markdown",
   "metadata": {},
   "source": [
    "<b><h3 style=\"color:#6833FF;\" >Delete List Elements</h3><br>\n",
    "    <li>We can delete one or more items from a list using the Python <font style=\"color:#FF33F2\">del</font> statement  </li><br>\n",
    "    <li>We can use  <font style=\"color:#FF33F2\">remove( )</font> to remove the given item.</li><br>\n",
    "    <li>We can use  <font style=\"color:#FF33F2\">pop( )</font> to remove an item at the given index.</li><br>\n",
    "    <li> If we have to empty the whole list, we can use the <font style=\"color:#FF33F2\"> clear( ) .</font>method</li><br>\n",
    "    <li>we can also delete items in a list by assigning an  <font style=\"color:#FF33F2\">empty list to a slice of elements.</font></li><br>"
   ]
  },
  {
   "cell_type": "code",
   "execution_count": 11,
   "metadata": {},
   "outputs": [
    {
     "name": "stdout",
     "output_type": "stream",
     "text": [
      "Before Deleting : ['p', 'r', 'o', 'b', 'l', 'e', 'm']\n",
      "After Deleting 3rd Element: ['p', 'r', 'b', 'l', 'e', 'm']\n",
      "After Deleting Multiple Elements : ['p', 'm']\n",
      "After Deleting Entire List\n"
     ]
    },
    {
     "ename": "NameError",
     "evalue": "name 'my_list' is not defined",
     "output_type": "error",
     "traceback": [
      "\u001b[1;31m---------------------------------------------------------------------------\u001b[0m",
      "\u001b[1;31mNameError\u001b[0m                                 Traceback (most recent call last)",
      "\u001b[1;32m<ipython-input-11-263717e52d4f>\u001b[0m in \u001b[0;36m<module>\u001b[1;34m\u001b[0m\n\u001b[0;32m     18\u001b[0m \u001b[0mprint\u001b[0m\u001b[1;33m(\u001b[0m\u001b[1;34m'After Deleting Entire List'\u001b[0m\u001b[1;33m)\u001b[0m\u001b[1;33m\u001b[0m\u001b[1;33m\u001b[0m\u001b[0m\n\u001b[0;32m     19\u001b[0m \u001b[1;31m# Error: List not defined\u001b[0m\u001b[1;33m\u001b[0m\u001b[1;33m\u001b[0m\u001b[1;33m\u001b[0m\u001b[0m\n\u001b[1;32m---> 20\u001b[1;33m \u001b[0mprint\u001b[0m\u001b[1;33m(\u001b[0m\u001b[0mmy_list\u001b[0m\u001b[1;33m)\u001b[0m\u001b[1;33m\u001b[0m\u001b[1;33m\u001b[0m\u001b[0m\n\u001b[0m",
      "\u001b[1;31mNameError\u001b[0m: name 'my_list' is not defined"
     ]
    }
   ],
   "source": [
    "# Deleting list items\n",
    "my_list = ['p', 'r', 'o', 'b', 'l', 'e', 'm']\n",
    "print('Before Deleting :',my_list)\n",
    "\n",
    "# delete one item\n",
    "del my_list[2]\n",
    "\n",
    "print('After Deleting 3rd Element:',my_list)\n",
    "\n",
    "# delete multiple items\n",
    "del my_list[1:5]\n",
    "\n",
    "print('After Deleting Multiple Elements :',my_list)\n",
    "\n",
    "# delete the entire list\n",
    "del my_list\n",
    "\n",
    "print('After Deleting Entire List')\n",
    "# Error: List not defined\n",
    "print(my_list)"
   ]
  },
  {
   "cell_type": "code",
   "execution_count": 60,
   "metadata": {},
   "outputs": [
    {
     "name": "stdout",
     "output_type": "stream",
     "text": [
      "Before Removing : ['p', 'r', 'o', 'b', 'l', 'e', 'm']\n",
      "After Removing Element p : ['r', 'o', 'b', 'l', 'e', 'm']\n",
      "Popped Element :  o\n",
      "After Popping Element o using index : ['r', 'b', 'l', 'e', 'm']\n",
      "Popped Element :  m\n",
      "After Popping Last Element: ['r', 'b', 'l', 'e']\n",
      "After Clearing The List: []\n"
     ]
    }
   ],
   "source": [
    "#List Methods - Remove ,Pop , Clear\n",
    "\n",
    "my_list = ['p','r','o','b','l','e','m']\n",
    "print('Before Removing :',my_list)\n",
    "\n",
    "#remove - Triggers ValueError if element not present\n",
    "my_list.remove('p') # Output: ['r', 'o', 'b', 'l', 'e', 'm']\n",
    "print('After Removing Element p :',my_list)\n",
    "\n",
    "#pop\n",
    "print('Popped Element : ',my_list.pop(1)) # Output: 'o'\n",
    "\n",
    "print('After Popping Element o using index :',my_list)     # Output: ['r', 'b', 'l', 'e', 'm']\n",
    "\n",
    "'''\n",
    "The pop() method removes and returns the last item if the index is not provided. \n",
    "This helps us implement lists as stacks (first in, last out data structure). \n",
    "'''\n",
    "\n",
    "print('Popped Element : ',my_list.pop())  # Output: 'm'\n",
    "\n",
    "print('After Popping Last Element:',my_list)    # Output: ['r', 'b', 'l', 'e']\n",
    "\n",
    "#clear \n",
    "my_list.clear()\n",
    "\n",
    "print('After Clearing The List:',my_list)    # Output: []"
   ]
  },
  {
   "cell_type": "markdown",
   "metadata": {},
   "source": [
    "Time Complexity for the above methods, considering n elements in the List and i is the index mentioned:\n",
    " <li>del O(n - i)</li>\n",
    " <li>pop O(n - i)</li>\n",
    " <li>remove O(n)</li>"
   ]
  },
  {
   "cell_type": "code",
   "execution_count": 13,
   "metadata": {},
   "outputs": [
    {
     "name": "stdout",
     "output_type": "stream",
     "text": [
      "List Before Reassigning : ['a', 'b', 'c', 'd', 'e']\n",
      "List After Reassigning : ['a']\n",
      "List After Deleting a Slice : ['a']\n"
     ]
    }
   ],
   "source": [
    "#assigning the appropriate slice to an empty list.\n",
    "\n",
    "L = ['a', 'b', 'c', 'd', 'e']\n",
    "print('List Before Reassigning :',L)\n",
    "\n",
    "L[1:5] = []\n",
    "print('List After Reassigning :',L)  # Prints ['a']\n",
    "\n",
    "#You can also use the del statement with the same slice.\n",
    "L = ['a', 'b', 'c', 'd', 'e']\n",
    "\n",
    "del L[1:5]\n",
    "\n",
    "print('List After Deleting a Slice :',L)  # Prints ['a']\n"
   ]
  },
  {
   "cell_type": "markdown",
   "metadata": {},
   "source": [
    "<b><h3 style=\"color:#6833FF;\" >Clone or Copy a List</h3><br>\n",
    "    <li>Using <font style=\"color:#FF33F2\">=</font> (assignment operator)</li><br>\n",
    "    <li>Using the <font style=\"color:#FF33F2\">slicing</font> technique </li><br>\n",
    "    <li>Using the <font style=\"color:#FF33F2\">copy( )</font> method </li><br>\n",
    "    <li>Using the <font style=\"color:#FF33F2\">deepcopy( )</font> method</li><br>"
   ]
  },
  {
   "cell_type": "code",
   "execution_count": 14,
   "metadata": {},
   "outputs": [
    {
     "name": "stdout",
     "output_type": "stream",
     "text": [
      "New List: [1, 2, 3, 'a', 'b']\n",
      "Old List: [1, 2, 3, 'a', 'b']\n",
      "True\n"
     ]
    }
   ],
   "source": [
    "# use the = operator to copy a list. \n",
    "\n",
    "old_list = [1, 2, 3]\n",
    "\n",
    "# copy list using =\n",
    "new_list = old_list\n",
    "\n",
    "# add an element to list\n",
    "new_list.append('a')\n",
    "old_list.append('b')\n",
    "\n",
    "'''Assignment statements do not copy objects, they create bindings between a target and an object.\n",
    "If you modify new_list, old_list is also modified.\n",
    "It is because the new list is referencing or pointing to the same old_list object.'''\n",
    "\n",
    "print('New List:', new_list)\n",
    "print('Old List:', old_list)\n",
    "print(old_list is new_list)"
   ]
  },
  {
   "cell_type": "markdown",
   "metadata": {},
   "source": [
    "<img src='3.gif'><br>\n",
    "<b><li>Deep copy stores copies of an absolute object’s values, whereas a shallow copy stores references which are absolute to the original memory address in the runtime code.</li><br>\n",
    "<li>Deep copy doesn’t reflect any change made to the new/copied object in the original object; but shallow copy does the same in the run time code.</li>"
   ]
  },
  {
   "cell_type": "code",
   "execution_count": 15,
   "metadata": {},
   "outputs": [
    {
     "name": "stdout",
     "output_type": "stream",
     "text": [
      "Old List: [1, 2, [7, 5], 4, 12]\n",
      "New List: [1, 2, [7, 5], 4, 10]\n",
      "False\n",
      "True\n"
     ]
    }
   ],
   "source": [
    "# Shallow Copy using the copy\n",
    "\n",
    "import copy \n",
    "\n",
    "# mixed list\n",
    "old_list = [1, 2, [3,5], 4]\n",
    "\n",
    "# copying a list using copy\n",
    "new_list = copy.copy(old_list)\n",
    "\n",
    "# Adding an element to the new list\n",
    "new_list[2][0] = 7\n",
    "new_list.append(10)\n",
    "old_list.append(12)\n",
    "\n",
    "'''we don’t find the new element that was appended. It’s because it’s still pointing to the \n",
    "old list reference. It won’t have any information about the newly added element done by after copy\n",
    "command. Now, if we try to change the new list element that also exists in old list, \n",
    "you might see the change in old list b as well because it has all the references of the old except \n",
    "that, was added later.'''\n",
    "\n",
    "# Printing new and old list\n",
    "print('Old List:', old_list)\n",
    "print('New List:', new_list)\n",
    "print(old_list is new_list)\n",
    "print(old_list[0] is new_list[0])"
   ]
  },
  {
   "cell_type": "code",
   "execution_count": 16,
   "metadata": {},
   "outputs": [
    {
     "name": "stdout",
     "output_type": "stream",
     "text": [
      "Old List: [1, 2, [11, 5], 4, 12]\n",
      "New List: [1, 2, [11, 5], 4, 10]\n",
      "False\n",
      "True\n"
     ]
    }
   ],
   "source": [
    "# Shallow Copy using the slicing syntax\n",
    "\n",
    "# mixed list\n",
    "old_list = [1, 2, [3,5], 4]\n",
    "\n",
    "# copying a list using slicing\n",
    "new_list = old_list[:]\n",
    "\n",
    "\n",
    "# Adding an element to the new list\n",
    "new_list[2][0] = 11\n",
    "new_list.append(10)\n",
    "old_list.append(12)\n",
    "\n",
    "# Printing new and old list\n",
    "print('Old List:', old_list)\n",
    "print('New List:', new_list)\n",
    "print(old_list is new_list)\n",
    "print(old_list[0] is new_list[0])"
   ]
  },
  {
   "cell_type": "code",
   "execution_count": 17,
   "metadata": {},
   "outputs": [
    {
     "name": "stdout",
     "output_type": "stream",
     "text": [
      "Old List: [[1, 2, 3], [4, 5, 6], [7, 8, 9], 12]\n",
      "New List: [[1, 2, 3], [4, 5, 6], [11, 8, 9], 10]\n",
      "False\n",
      "False\n"
     ]
    }
   ],
   "source": [
    "#Deep Copy \n",
    "\n",
    "import copy\n",
    "\n",
    "# mixed list\n",
    "old_list = [[1,2,3],[4,5,6],[7,8,9]]\n",
    "\n",
    "# copying a list using copy\n",
    "new_list = copy.deepcopy(old_list)\n",
    "\n",
    "# Adding an element to the new list\n",
    "new_list[2][0] = 11\n",
    "new_list.append(10)\n",
    "old_list.append(12)\n",
    "#any changes made to a copy of object do not reflect in the original object\n",
    "\n",
    "# Printing new and old list\n",
    "print('Old List:', old_list)\n",
    "print('New List:', new_list)\n",
    "print(old_list is new_list) \n",
    "print(old_list[0] is new_list[0])"
   ]
  },
  {
   "cell_type": "markdown",
   "metadata": {},
   "source": [
    "<center><h4>Assignment vs Shallow Copy vs Deep Copy</h4>\n",
    "<img src='4.png'>"
   ]
  },
  {
   "cell_type": "markdown",
   "metadata": {},
   "source": [
    "<b><h3 style=\"color:#6833FF;\" >Basic List Operations</h3><br>\n",
    "    <li>Lists respond to the <font style=\"color:#FF33F2\">+ and * </font> operators much like strings; they mean concatenation and repetition here too</li><br>\n",
    "\n",
    "<li>We can test if an item exists in a list or not, using the <font style=\"color:#FF33F2\">in , not in </font>operators</li><br>\n",
    "    \n",
    "<li>Using a <font style=\"color:#FF33F2\">for loop we can iterate</font> through each item in a list.</li>"
   ]
  },
  {
   "cell_type": "code",
   "execution_count": 18,
   "metadata": {},
   "outputs": [
    {
     "name": "stdout",
     "output_type": "stream",
     "text": [
      "['red', 'green', 'blue', 1, 2, 3]\n",
      "['red', 'green', 'blue', 1, 2, 3]\n"
     ]
    }
   ],
   "source": [
    "# concatenation operator\n",
    "L = ['red', 'green', 'blue']\n",
    "L = L + [1,2,3]\n",
    "print(L)                 # Prints ['red', 'green', 'blue', 1, 2, 3]\n",
    "\n",
    "# augmented assignment operator\n",
    "L = ['red', 'green', 'blue']\n",
    "L += [1,2,3]\n",
    "print(L)                # Prints ['red', 'green', 'blue', 1, 2, 3]"
   ]
  },
  {
   "cell_type": "code",
   "execution_count": 19,
   "metadata": {},
   "outputs": [
    {
     "name": "stdout",
     "output_type": "stream",
     "text": [
      "['red', 'red', 'red']\n"
     ]
    }
   ],
   "source": [
    "#Replication\n",
    "L = ['red']\n",
    "L = L * 3\n",
    "print(L)                # Prints ['red', 'red', 'red']"
   ]
  },
  {
   "cell_type": "code",
   "execution_count": 20,
   "metadata": {},
   "outputs": [
    {
     "name": "stdout",
     "output_type": "stream",
     "text": [
      "True\n",
      "False\n",
      "yes\n",
      "yes\n"
     ]
    }
   ],
   "source": [
    "# Check for presence using membership operators\n",
    "L = ['red', 'green', 'blue']\n",
    "\n",
    "print('green' in L)\n",
    "print('blue' not in L)\n",
    "\n",
    "#With If Condition\n",
    "if 'red' in L:\n",
    "    print('yes')\n",
    "    \n",
    "if 'yellow' not in L:\n",
    "    print('yes')"
   ]
  },
  {
   "cell_type": "code",
   "execution_count": 21,
   "metadata": {},
   "outputs": [
    {
     "name": "stdout",
     "output_type": "stream",
     "text": [
      "red\n",
      "green\n",
      "blue\n",
      "[2, 4, 6, 8]\n"
     ]
    }
   ],
   "source": [
    "#Iterate through a List\n",
    "L = ['red', 'green', 'blue']\n",
    "\n",
    "for item in L:\n",
    "    print(item)\n",
    "    \n",
    "# Loop through the list and double each item\n",
    "squareList = [1, 2, 3, 4]\n",
    "for i in range(len(squareList)):\n",
    "    squareList[i] = squareList[i] * 2\n",
    "\n",
    "print(squareList)"
   ]
  },
  {
   "cell_type": "markdown",
   "metadata": {},
   "source": [
    "<b><h3 style=\"color:#6833FF;\" >Python List Methods</h3><br>\n",
    "    <li><font style=\"color:#FF33F2\">append ( )</font> - Adds an item to the end of the list</li><br>\n",
    "    <li><font style=\"color:#FF33F2\">insert ( )</font> - Inserts an item at a given position passed as an argument </li><br>\n",
    "    <li><font style=\"color:#FF33F2\">extend ( )</font> - Extends the list by appending all the items from the iterable </li><br>\n",
    "    <li><font style=\"color:#FF33F2\">remove ( )</font> - Removes first instance of the specified item</li><br>\n",
    "    <li><font style=\"color:#FF33F2\">pop ( )</font> - Removes the item at the given position in the list</li><br>\n",
    "    <li><font style=\"color:#FF33F2\">clear ( )</font> - Removes all items from the list</li><br>\n",
    "    <li><font style=\"color:#FF33F2\">copy ( )</font> - Returns a shallow copy of the list</li><br>\n",
    "    <li><font style=\"color:#FF33F2\">index ( )</font> - returns the index of the first matched item</li><br>\n",
    "    <li><font style=\"color:#FF33F2\">count ( )</font> - returns the count of the number of items passed as an argument </li><br>\n",
    "    <li><font style=\"color:#FF33F2\">sort ( )</font> - sort items in a list in ascending order </li><br>\n",
    "    <li><font style=\"color:#FF33F2\">reverse ( )</font> - reverse the order of items in the list</li><br>"
   ]
  },
  {
   "cell_type": "code",
   "execution_count": 22,
   "metadata": {},
   "outputs": [
    {
     "name": "stdout",
     "output_type": "stream",
     "text": [
      "1\n",
      "3\n",
      "[4, 8, 8, 6, 1, 8, 3]\n"
     ]
    }
   ],
   "source": [
    "# Example on Python list methods\n",
    "\n",
    "my_list = [3, 8, 1, 6, 8, 8, 4]\n",
    "\n",
    "# Index of first occurrence of 8\n",
    "print(my_list.index(8))   # Output: 1\n",
    "\n",
    "# Count of 8 in the list\n",
    "print(my_list.count(8))  # Output: 3 \n",
    "\n",
    "#reverse the list\n",
    "my_list.reverse()\n",
    "print(my_list) "
   ]
  },
  {
   "cell_type": "code",
   "execution_count": 23,
   "metadata": {},
   "outputs": [
    {
     "name": "stdout",
     "output_type": "stream",
     "text": [
      "[1, 3, 4, 6, 8, 8, 8]\n",
      "[8, 8, 8, 6, 4, 3, 1]\n",
      "['blue', 'green', 'orange', 'red']\n",
      "['red', 'blue', 'green', 'orange']\n"
     ]
    }
   ],
   "source": [
    "#sorting the list of numbers\n",
    "my_list.sort()\n",
    "print(my_list)\n",
    "\n",
    "#Sort with reverse\n",
    "my_list.sort(reverse=True)\n",
    "print(my_list)\n",
    "\n",
    "#sorting the list of Strings\n",
    "L = ['red', 'green', 'blue', 'orange']\n",
    "L.sort()\n",
    "print(L)\n",
    "\n",
    "#sort with key\n",
    "L.sort(key=len)\n",
    "print(L)"
   ]
  },
  {
   "cell_type": "markdown",
   "metadata": {},
   "source": [
    "<b><h3 style=\"color:#6833FF;\" >Built-in Functions with List</h3><br>\n",
    "    <li><font style=\"color:#FF33F2\">all ( )</font> - Returns True if all list items are true</li><br>\n",
    "    <li><font style=\"color:#FF33F2\">any ( )</font> - Returns True if any list item is true </li><br>\n",
    "    <li><font style=\"color:#FF33F2\">len ( )</font> - Returns the number of items in the list</li><br>\n",
    "    <li><font style=\"color:#FF33F2\">list ( )</font> - Converts an iterable (tuple, string, set etc.) to a list</li><br>\n",
    "    <li><font style=\"color:#FF33F2\">enumerate ( )</font> - \tTakes a list and returns an enumerate object</li><br>\n",
    "    <li><font style=\"color:#FF33F2\">max ( )</font> - Returns the largest item of the list </li><br>\n",
    "    <li><font style=\"color:#FF33F2\">min ( )</font> - Returns the smallest item of the list</li><br>\n",
    "    <li><font style=\"color:#FF33F2\">sorted ( )</font> - Returns a sorted list</li><br>\n",
    "    <li><font style=\"color:#FF33F2\">sum ( )</font> - Sums items of the list</li><br>"
   ]
  },
  {
   "cell_type": "code",
   "execution_count": 24,
   "metadata": {},
   "outputs": [
    {
     "name": "stdout",
     "output_type": "stream",
     "text": [
      "True\n",
      "False\n",
      "False\n",
      "True\n"
     ]
    }
   ],
   "source": [
    "# Check if all items in a list are True\n",
    "\n",
    "L = [1, 1, 1]\n",
    "print(all(L))   # Prints True\n",
    "\n",
    "L = [0, 1, 1]\n",
    "print(all(L))   # Prints False\n",
    "\n",
    "# Check if any item in a list is True\n",
    "\n",
    "L = [0, 0, 0]\n",
    "print(any(L))   # Prints False\n",
    "\n",
    "L = [0, 1, 0]\n",
    "print(any(L))   # Prints True"
   ]
  },
  {
   "cell_type": "code",
   "execution_count": 25,
   "metadata": {},
   "outputs": [
    {
     "name": "stdout",
     "output_type": "stream",
     "text": [
      "[(0, 'red'), (1, 'green'), (2, 'blue')]\n",
      "(0, 'red')\n",
      "(1, 'green')\n",
      "(2, 'blue')\n"
     ]
    }
   ],
   "source": [
    "# Create a list that can be enumerated\n",
    "L = ['red', 'green', 'blue']\n",
    "x = list(enumerate(L))\n",
    "print(x)\n",
    "# Prints [(0, 'red'), (1, 'green'), (2, 'blue')]\n",
    "\n",
    "#Iterate Enumerate Object\n",
    "for pair in enumerate(L):\n",
    "    print(pair)\n",
    "# Prints (0, 'red')\n",
    "# Prints (1, 'green')\n",
    "# Prints (2, 'blue')"
   ]
  },
  {
   "cell_type": "code",
   "execution_count": 26,
   "metadata": {},
   "outputs": [
    {
     "name": "stdout",
     "output_type": "stream",
     "text": [
      "[]\n",
      "['a', 'b', 'c']\n",
      "[1, 2, 3]\n",
      "[0, 1, 2, 3]\n",
      "['name', 'age']\n",
      "[1, 2, 3]\n"
     ]
    }
   ],
   "source": [
    "#empty list\n",
    "L = list()\n",
    "print(L)\n",
    "# Prints []\n",
    "\n",
    "# string into list\n",
    "T = list('abc')\n",
    "print(T)\n",
    "# Prints ['a', 'b', 'c']\n",
    "\n",
    "# tuple into list\n",
    "L = list((1, 2, 3))\n",
    "print(L)\n",
    "# Prints [1, 2, 3]\n",
    "\n",
    "# sequence into list\n",
    "L = list(range(0, 4))\n",
    "print(L)\n",
    "# Prints [0, 1, 2, 3]\n",
    "\n",
    "# dictionary keys into list\n",
    "L = list({'name': 'Bob', 'age': 25})\n",
    "print(L)\n",
    "# Prints ['age', 'name']\n",
    "\n",
    "# set into list\n",
    "L = list({1, 2, 3})\n",
    "print(L)\n",
    "# Prints [1, 2, 3]"
   ]
  },
  {
   "cell_type": "code",
   "execution_count": 27,
   "metadata": {},
   "outputs": [
    {
     "name": "stdout",
     "output_type": "stream",
     "text": [
      "500\n",
      "100\n",
      "orange\n",
      "red\n"
     ]
    }
   ],
   "source": [
    "#Find Maximum and Minimumin a list\n",
    "L = [300, 500, 100, 400, 200,100]\n",
    "print(max(L))   # Prints 500\n",
    "print(min(L))  # Prints 100\n",
    "\n",
    "\n",
    "L = ['red', 'green', 'blue', 'black', 'orange']\n",
    "print(max(L, key=len))    #Prints orange\n",
    "print(min(L, key=len))    #Prints red\n"
   ]
  },
  {
   "cell_type": "code",
   "execution_count": 1,
   "metadata": {},
   "outputs": [
    {
     "name": "stdout",
     "output_type": "stream",
     "text": [
      "['blue', 'green', 'orange', 'red']\n",
      "[1, 12, 42, 99]\n"
     ]
    }
   ],
   "source": [
    "# strings are sorted alphabetically\n",
    "L = ['red', 'green', 'blue', 'orange']\n",
    "x = sorted(L)\n",
    "print(x)\n",
    "# Prints ['blue', 'green', 'orange', 'red']\n",
    "'''If you want to sort the list in-place, use built-in sort() method.\n",
    "\n",
    "sort() is actually faster than sorted() as it doesn’t need to create a new list.'''\n",
    "# numbers are sorted numerically\n",
    "L = [42, 99, 1, 12]\n",
    "x = sorted(L)\n",
    "print(x)\n",
    "# Prints [1, 12, 42, 99]\n",
    "\n"
   ]
  },
  {
   "cell_type": "code",
   "execution_count": 29,
   "metadata": {},
   "outputs": [
    {
     "name": "stdout",
     "output_type": "stream",
     "text": [
      "15\n",
      "25\n"
     ]
    }
   ],
   "source": [
    "# Return the sum of all items in a list\n",
    "L = [1, 2, 3, 4, 5]\n",
    "x = sum(L)\n",
    "print(x)\n",
    "# Prints 15\n",
    "\n",
    "# Start with '10' and add all items in a list\n",
    "L = [1, 2, 3, 4, 5]\n",
    "x = sum(L, 10)\n",
    "print(x)\n",
    "# Prints 25"
   ]
  },
  {
   "cell_type": "markdown",
   "metadata": {},
   "source": [
    "<b><h3 style=\"color:#900C3F;\" >Programming Examples</h3>"
   ]
  },
  {
   "cell_type": "code",
   "execution_count": 30,
   "metadata": {},
   "outputs": [
    {
     "name": "stdout",
     "output_type": "stream",
     "text": [
      "[1, 2, 3, 55, 98, 65, 13, 29]\n"
     ]
    }
   ],
   "source": [
    "#Example: 1- Write the program to remove the duplicate element of the list.\n",
    "list1 = [1,2,2,3,55,98,65,65,13,29]  \n",
    "# Declare an empty list that will store unique values  \n",
    "list2 = []  \n",
    "for i in list1:  \n",
    "    if i not in list2:  \n",
    "        list2.append(i)  \n",
    "print(list2)  "
   ]
  },
  {
   "cell_type": "code",
   "execution_count": 31,
   "metadata": {},
   "outputs": [
    {
     "name": "stdout",
     "output_type": "stream",
     "text": [
      "The sum is: 67\n"
     ]
    }
   ],
   "source": [
    "#Example:2- Write a program to find the sum of the element in the list.\n",
    "list1 = [3,4,5,9,10,12,24]  \n",
    "sum = 0  \n",
    "for i in list1:  \n",
    "    sum = sum+i      \n",
    "print(\"The sum is:\",sum)  "
   ]
  },
  {
   "cell_type": "code",
   "execution_count": 32,
   "metadata": {},
   "outputs": [
    {
     "name": "stdout",
     "output_type": "stream",
     "text": [
      "The common element is: 2\n"
     ]
    }
   ],
   "source": [
    "#Example: 3- Write the program to find the lists consist of at least one common element.\n",
    "list1 = [1,2,3,4,5,6]  \n",
    "list2 = [7,8,9,2,10]  \n",
    "for x in list1:  \n",
    "    for y in list2:  \n",
    "        if x == y:  \n",
    "            print(\"The common element is:\",x)  "
   ]
  },
  {
   "cell_type": "markdown",
   "metadata": {},
   "source": [
    "<b><h3 style=\"color:#FFC300;\" >List Comprehension : Elegant way to create Lists</h3><br>\n",
    "    <li> A comprehension is a compact way of creating a Python data structure from iterators.</li><br>\n",
    "    <li>With comprehensions, you can combine loops and conditional tests with a less verbose syntax.</li>"
   ]
  },
  {
   "cell_type": "code",
   "execution_count": 33,
   "metadata": {},
   "outputs": [
    {
     "name": "stdout",
     "output_type": "stream",
     "text": [
      "[0, 1, 4, 9, 16]\n"
     ]
    }
   ],
   "source": [
    "#a list of all integer square numbers from 0 to 4 using for loop \n",
    "\n",
    "L = []\n",
    "for x in range(5):\n",
    "    L.append(x**2)\n",
    "print(L)"
   ]
  },
  {
   "cell_type": "markdown",
   "metadata": {},
   "source": [
    "<img src='5.png'>"
   ]
  },
  {
   "cell_type": "code",
   "execution_count": 34,
   "metadata": {},
   "outputs": [
    {
     "name": "stdout",
     "output_type": "stream",
     "text": [
      "[0, 1, 4, 9, 16]\n"
     ]
    }
   ],
   "source": [
    "#a list comprehension would build the above list\n",
    "L = [x**2 for x in range(5)]\n",
    "print(L)"
   ]
  },
  {
   "cell_type": "code",
   "execution_count": 35,
   "metadata": {},
   "outputs": [
    {
     "name": "stdout",
     "output_type": "stream",
     "text": [
      "['RRR', 'EEE', 'DDD']\n"
     ]
    }
   ],
   "source": [
    "#List comprehensions can iterate over any type of iterable such as lists, strings, files, ranges,\n",
    "# a simple list comprehension that uses string as an iterable\n",
    "\n",
    "L = [x*3 for x in 'RED']\n",
    "print(L)"
   ]
  },
  {
   "cell_type": "code",
   "execution_count": 36,
   "metadata": {},
   "outputs": [
    {
     "name": "stdout",
     "output_type": "stream",
     "text": [
      "['red', 'green', 'blue']\n"
     ]
    }
   ],
   "source": [
    "## Remove whitespaces of list items\n",
    "colors = ['  red', '  green ', 'blue  ']\n",
    "L = [color.strip() for color in colors]\n",
    "print(L)"
   ]
  },
  {
   "cell_type": "code",
   "execution_count": 37,
   "metadata": {},
   "outputs": [
    {
     "name": "stdout",
     "output_type": "stream",
     "text": [
      "[(0, 0), (1, 1), (2, 4), (3, 9)]\n"
     ]
    }
   ],
   "source": [
    "#Following example creates a list of (number, square) tuples\n",
    "L = [(x, x**2) for x in range(4)]\n",
    "print(L)"
   ]
  },
  {
   "cell_type": "code",
   "execution_count": 38,
   "metadata": {},
   "outputs": [
    {
     "name": "stdout",
     "output_type": "stream",
     "text": [
      "Time taken for_loop: 0.32\n",
      "Time taken for list_comprehension: 0.28\n"
     ]
    }
   ],
   "source": [
    "#list Comprehensions vs for loop --  list comprehensions are quite faster than for loop.\n",
    "\n",
    "# Import required module\n",
    "import time\n",
    "\n",
    "\n",
    "# define function to implement for loop\n",
    "def for_loop(n):\n",
    "\tresult = []\n",
    "\tfor i in range(n):\n",
    "\t\tresult.append(i**2)\n",
    "\treturn result\n",
    "\n",
    "\n",
    "# define function to implement list comprehension\n",
    "def list_comprehension(n):\n",
    "\treturn [i**2 for i in range(n)]\n",
    "\n",
    "\n",
    "# Calculate time takens by for_loop()\n",
    "begin = time.time()\n",
    "for_loop(10**6)\n",
    "end = time.time()\n",
    "\n",
    "# Display time taken by for_loop()\n",
    "print('Time taken for_loop:', round(end-begin, 2))\n",
    "\n",
    "# Calculate time takens by list_comprehension()\n",
    "begin = time.time()\n",
    "list_comprehension(10**6)\n",
    "end = time.time()\n",
    "\n",
    "# Display time taken by for_loop()\n",
    "print('Time taken for list_comprehension:', round(end-begin, 2))\n"
   ]
  },
  {
   "cell_type": "markdown",
   "metadata": {},
   "source": [
    "<b>List Comprehension with if Clause\n",
    "    \n",
    "<img src = '6.png'>"
   ]
  },
  {
   "cell_type": "code",
   "execution_count": 39,
   "metadata": {},
   "outputs": [
    {
     "name": "stdout",
     "output_type": "stream",
     "text": [
      "[0, 2, 4]\n"
     ]
    }
   ],
   "source": [
    "# Filter list to exclude negative numbers\n",
    "vec = [-4, -2, 0, 2, 4]\n",
    "L = [x for x in vec if x >= 0]\n",
    "print(L)"
   ]
  },
  {
   "cell_type": "code",
   "execution_count": 40,
   "metadata": {},
   "outputs": [
    {
     "name": "stdout",
     "output_type": "stream",
     "text": [
      "[0, 2, 4]\n"
     ]
    }
   ],
   "source": [
    "#This list comprehension is the same as a for loop that contains an if statement:\n",
    "vec = [-4, -2, 0, 2, 4]\n",
    "L = []\n",
    "for x in vec:\n",
    "    if x >= 0:\n",
    "        L.append(x)\n",
    "print(L)"
   ]
  },
  {
   "cell_type": "code",
   "execution_count": 41,
   "metadata": {},
   "outputs": [
    {
     "name": "stdout",
     "output_type": "stream",
     "text": [
      "['Even number', 'Odd number', 'Even number', 'Odd number', 'Even number', 'Odd number', 'Even number', 'Odd number']\n"
     ]
    }
   ],
   "source": [
    "#Even and odd - if - else\n",
    "lis = [\"Even number\" if i % 2 == 0 else \"Odd number\" for i in range(8)]\n",
    "print(lis)"
   ]
  },
  {
   "cell_type": "code",
   "execution_count": 42,
   "metadata": {},
   "outputs": [
    {
     "name": "stdout",
     "output_type": "stream",
     "text": [
      "[0, 10, 20, 30, 40, 50, 60, 70, 80, 90]\n"
     ]
    }
   ],
   "source": [
    "# Nested IF with List Comprehension\n",
    "lis = [num for num in range(100) if num % 5 == 0 if num % 10 == 0]\n",
    "print(lis)"
   ]
  },
  {
   "cell_type": "markdown",
   "metadata": {},
   "source": [
    "<b>Nested List Comprehension \n",
    "    \n",
    "<img src = '7.png'>"
   ]
  },
  {
   "cell_type": "code",
   "execution_count": 43,
   "metadata": {},
   "outputs": [
    {
     "name": "stdout",
     "output_type": "stream",
     "text": [
      "[1, 2, 3, 4, 5, 6, 7, 8, 9]\n"
     ]
    }
   ],
   "source": [
    "#simple list comprehension that flattens a nested list into a single list of items.\n",
    "vector = [[1, 2, 3], [4, 5, 6], [7, 8, 9]]\n",
    "L = [number for vec in vector for number in vec]\n",
    "print(L)"
   ]
  },
  {
   "cell_type": "code",
   "execution_count": 44,
   "metadata": {},
   "outputs": [
    {
     "name": "stdout",
     "output_type": "stream",
     "text": [
      "[1, 2, 3, 4, 5, 6, 7, 8, 9]\n"
     ]
    }
   ],
   "source": [
    "# equivalent to the following plain, old nested loop:\n",
    "vector = [[1, 2, 3], [4, 5, 6], [7, 8, 9]]\n",
    "L = []\n",
    "for vec in vector:\n",
    "    for number in vec:\n",
    "        L.append(number)\n",
    "print(L)"
   ]
  },
  {
   "cell_type": "code",
   "execution_count": 45,
   "metadata": {},
   "outputs": [
    {
     "name": "stdout",
     "output_type": "stream",
     "text": [
      "[[1, 4, 7], [2, 5, 8], [3, 6, 9]]\n"
     ]
    }
   ],
   "source": [
    "#another list comprehension that transposes rows and columns.\n",
    "matrix = [[1, 2, 3],\n",
    "          [4, 5, 6],\n",
    "          [7, 8, 9]]\n",
    "L = [[row[i] for row in matrix] for i in range(3)]\n",
    "print(L)"
   ]
  },
  {
   "cell_type": "code",
   "execution_count": 52,
   "metadata": {},
   "outputs": [
    {
     "name": "stdout",
     "output_type": "stream",
     "text": [
      "[[1, 4, 7], [2, 5, 8], [3, 6, 9]]\n"
     ]
    }
   ],
   "source": [
    "## equivalent to the following nested for loop \n",
    "transposed = []\n",
    "for i in range(len(matrix[0])):\n",
    "    transposed_row = []\n",
    "\n",
    "    for row in matrix:\n",
    "        transposed_row.append(row[i])\n",
    "    transposed.append(transposed_row)\n",
    "\n",
    "print(transposed)"
   ]
  },
  {
   "cell_type": "code",
   "execution_count": 49,
   "metadata": {},
   "outputs": [
    {
     "name": "stdout",
     "output_type": "stream",
     "text": [
      "[0, 1, 4, 9, 16]\n",
      "[0, 1, 4, 9, 16]\n"
     ]
    }
   ],
   "source": [
    "#List Comprehension vs map() + lambda\n",
    "\n",
    "# With list comprehension\n",
    "L = [x ** 2 for x in range(5)]\n",
    "print(L)\n",
    "# Prints [0, 1, 4, 9, 16]\n",
    "\n",
    "# With map() function\n",
    "L = list(map((lambda x: x ** 2), range(5)))\n",
    "print(L)\n",
    "# Prints [0, 1, 4, 9, 16]"
   ]
  },
  {
   "cell_type": "code",
   "execution_count": 50,
   "metadata": {},
   "outputs": [
    {
     "name": "stdout",
     "output_type": "stream",
     "text": [
      "[10, 20, 30, 40, 50]\n"
     ]
    }
   ],
   "source": [
    "# using lambda along with list compreshion to print table of 10\n",
    "numbers = list(map(lambda i: i*10, [i for i in range(1, 6)]))\n",
    " \n",
    "print(numbers)"
   ]
  },
  {
   "cell_type": "code",
   "execution_count": 51,
   "metadata": {},
   "outputs": [
    {
     "name": "stdout",
     "output_type": "stream",
     "text": [
      "[0, 2, 4, 6, 8]\n",
      "[0, 2, 4, 6, 8]\n"
     ]
    }
   ],
   "source": [
    "#List Comprehension vs filter() + lambda\n",
    "#List comprehension with if clause can be thought of as analogous to the filter() function\n",
    "\n",
    "# With list comprehension\n",
    "L = [x for x in range(10) if x % 2 == 0]\n",
    "print(L)\n",
    "\n",
    "# With filter() function\n",
    "L = list(filter((lambda x: x % 2 == 0), range(10)))\n",
    "print(L)"
   ]
  },
  {
   "cell_type": "markdown",
   "metadata": {},
   "source": [
    "<b><h2>Key Points to Remember : </h2> <br>\n",
    "    \n",
    "<img src = '8.png'>\n",
    "<br>\n",
    "<li>However, when we are working with large lists (e.g. 1 billion elements), list comprehension should be avoided. </li><br>\n",
    "<li>It may cause your computer to crash due to the extreme amount of memory requirement.</li><br>\n",
    "\n",
    "<li>A better alternative for such large lists is using a generator that does not actually create a large data structure in memory</li>"
   ]
  },
  {
   "cell_type": "markdown",
   "metadata": {},
   "source": [
    "<b><h3>Python Interview Questions on List Comprehension</h3><br>\n",
    "<li>What is a Python list comprehension?</li><br>\n",
    "<li>How Python list comprehension is useful?</li><br>\n",
    "<li>How does list comprehension work in Python?</li><br>\n",
    "<li>Give an example of Python list comprehension</li><br>\n",
    "<li>Are list comprehensions faster in Python?</li><br>"
   ]
  },
  {
   "cell_type": "markdown",
   "metadata": {},
   "source": [
    "<h4> To-Do: </h4><br>\n",
    "<ol>\n",
    "<b>\n",
    "    <li>Write a Python function to interchange first and last elements in a list</li><br>\n",
    "    <li>Write a Python function to swap two elements in a list</li><br>\n",
    "    <li>Write a Python function to Check if element exists in list</li><br>\n",
    "    <li>Write a Python function to Count occurrences of an element in a list</li><br>\n",
    "    <li>Write a Python function to count positive and negative numbers in a list</li><br>\n",
    "    <li>Write a Python function to Find sum and average of List without using sum()</li><br>\n",
    "    <li>Write a Python function to print and remove duplicates from a list of integers</li><br>\n",
    "    <li>Write a Python function that takes two lists and returns True if they have at least one common member</li><br>\n",
    "    <li>Write a Python function that returns a list that contains only the elements that are common between the two lists (without duplicates). Make sure your program works on two lists of different sizes.</li><br>\n",
    "    <li>Write a Python function to find largest , smallest , second largest number in a list</li><br>\n",
    "    <li>Write a Python function to Concatenate two list of lists Row-wise</li><br>\n",
    "    <li>Write a Python function to Reverse each string in tuple using list comprehension</li><br>\n",
    "    <li>Write a Python function to Square Each Odd Number in a List using List Comprehension </li><br>\n",
    "    <li>Write a Python function to Transpose of a Matrix using List Comprehension - Matrix = [[1, 2], [3,4], [5,6], [7,8]]</li><br>\n",
    "     <li>Write a Python function to Get the strings that end with the letter “b” and have a length greater than 2 using list comprehension</li><br>\n",
    "    "
   ]
  },
  {
   "cell_type": "markdown",
   "metadata": {},
   "source": [
    "&copy; **Nitheesh Reddy**"
   ]
  }
 ],
 "metadata": {
  "kernelspec": {
   "display_name": "Python 3",
   "language": "python",
   "name": "python3"
  },
  "language_info": {
   "codemirror_mode": {
    "name": "ipython",
    "version": 3
   },
   "file_extension": ".py",
   "mimetype": "text/x-python",
   "name": "python",
   "nbconvert_exporter": "python",
   "pygments_lexer": "ipython3",
   "version": "3.8.5"
  }
 },
 "nbformat": 4,
 "nbformat_minor": 4
}

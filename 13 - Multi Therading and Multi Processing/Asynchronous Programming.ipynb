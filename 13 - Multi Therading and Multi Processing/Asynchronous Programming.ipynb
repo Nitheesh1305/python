{
 "cells": [
  {
   "cell_type": "markdown",
   "metadata": {},
   "source": [
    "<b><h1 style=\"color:#ff0066;\" ><center>Asynchronous Programming in Python</center></h1><br>\n",
    "<center><img src='https://files.realpython.com/media/Understanding-Asynchronous-Programming-in-Python_Watermarked.4b590c7c03ea.jpg' width=\"800\" height=\"600\"><br>\n",
    "An Introduction to Asynchronous Programming in Python with AsyncIO<br><br></center>\n",
    "Here’s what we'll cover :<br><br>\n",
    "    <li>What is Asynchronous Programming </li><br>\n",
    "    <li>AsyncIO Library</li><br>\n",
    "    <li>Components of Async IO</li><br>\n",
    "    <li>Difference between Threading  and Asynchronous</li>"
   ]
  },
  {
   "cell_type": "markdown",
   "metadata": {},
   "source": [
    "<b><h2 style=\"color:#FF5733;\" >What is Asynchronous programming ? </h2><br>\n",
    "<li>Asynchronous programming is a programming paradigm that enables better concurrency, that is<br><br>multiple threads running concurrently</li><br>\n",
    "<li> In Python, <font style=\"color:#FF33F2\">asyncio</font> module provides this capability</li><br>\n",
    "<li> Multiple tasks can run concurrently on a single thread, which is scheduled on a single CPU core</li><br>\n",
    "<li>It uses <font style=\"color:#FF5733\">cooperative multitasking</font> means developers can specify in their code when a task voluntarily <br><br> gives up the CPU so that the event loop can schedule another task.</li><br>\n",
    "<li>Asynchronous routines “pause” while waiting on their ultimate result and let other routines run in the meantime.</li><br>\n",
    "    <li>It’s not about using multiple cores, it’s about using a single core more efficiently</li>"
   ]
  },
  {
   "cell_type": "markdown",
   "metadata": {},
   "source": [
    "<b><h2 style=\"color:#cc33ff;\" >AsyncIO(Asynchronous input-output) : </h2><br>\n",
    "<li>AsyncIO is a library which helps to run code concurrently using single thread or event loop</li><br>\n",
    "<li>It is basically using async/await API for asynchronous programming</li><br>\n",
    "<li>asyncio is designed to allow you to structure your code so that when one piece of linear single-threaded code<br><br> (called a “coroutine”) is waiting for something to happen another can take over and use the CPU.</li><br>\n",
    " \n",
    "<b><h3 style=\"color:#028E8B;\" >Components of Async IO Programming : </h3><br>\n",
    "    \n",
    "<li><font style=\"color:#FF33F2\">Event Loop :</font> It manages, distributes the execution and flow of control between various tasks.</li><br>\n",
    "<li><font style=\"color:#FF33F2\">Coroutine : </font>Special type of Python generator which returns the control back to the event loop on encountering the <br><br>await keyword</li><br>\n",
    "<li><font style=\"color:#FF33F2\">Tasks : </font>Tasks are used to schedule coroutines concurrently</li><br>    \n",
    "<li><font style=\"color:#FF33F2\">Futures : </font>It is a low-level awaitable object that is supposed to have a result in the future.</li><br>\n",
    "    \n",
    "<center><img src=\"https://miro.medium.com/max/1313/1*0uxnKmm1pyPkRJVfdD9YMQ.jpeg\" width=\"500\" height=\"400\" ></center><br>\n"
   ]
  },
  {
   "cell_type": "markdown",
   "metadata": {},
   "source": [
    "<b><h2 style=\"color:#028E8B;\" >Coroutines : </h2><br>\n",
    "<li>Coroutines are mainly generalization forms of subroutines.</li><br>\n",
    "<li>An async function uses the await keyword to denote a coroutine.</li><br>\n",
    "<li>When using the await keyword, coroutines release the flow of control back to the event loop.</li><br>\n",
    "<li>To run a coroutine, we need to schedule it on the event loop</li><br>\n",
    "<li>After scheduling, coroutines are wrapped in Tasks as a Future object.</li><br>"
   ]
  },
  {
   "cell_type": "markdown",
   "metadata": {},
   "source": [
    "<b><h2 style=\"color:#028E8B;\" >Subroutines vs. Coroutines : </h2><br>\n",
    "<li>Function is also known as a “method” or “procedure” or “sub-process” or “subroutine” denote bits <br><br> of code that can be called by other code</li><br>\n",
    "<li><font style=\"color:#FF5733\">Subroutine Calling : </font> In this model of calling each time a function is called execution moves<br><br> to the start of that function, then continues until it reaches the end of that function</li><br>\n",
    "<li><font style=\"color:#FF5733\">Coroutine Calling : </font> Suspend its execution and transfer control to other coroutine and can resume<br><br>  again execution from the point it left off.</li><br>\n",
    "<center><img src=\"https://www.modernescpp.com/images/blog/Cpp20/co_return/FunctionsVersusCoroutines.png\" width=\"500\" height=\"400\" ></center>"
   ]
  },
  {
   "cell_type": "markdown",
   "metadata": {},
   "source": [
    "<b><h3 style=\"color:#FF5733;\" >Creatinga A Coroutine : </h3><br>\n",
    "    <li>The syntax async def introduces either a native coroutine or an asynchronous generator.</li><br>\n",
    "    <li>The expressions async with and async for are also valid.</li><br>\n",
    "    <center><img src=\"https://devopedia.org/images/article/280/2821.1593611212.png\" width=\"400\" height=\"300\" ></center>"
   ]
  },
  {
   "cell_type": "code",
   "execution_count": 2,
   "metadata": {},
   "outputs": [],
   "source": [
    "#Syntax Example 1\n",
    "async def example_coroutine_function(a, b):\n",
    "    #A function that you introduce with async def is a coroutine\n",
    "    # Asynchronous code goes here\n",
    "    ...\n",
    "    await ...\n",
    "    return ...      # It may use await, return, or yield, but all of these are optional.\n",
    "\n",
    "def example_function(a, b):\n",
    "    # Synchronous code goes here\n",
    "    ...\n",
    "    return ..."
   ]
  },
  {
   "cell_type": "code",
   "execution_count": 3,
   "metadata": {},
   "outputs": [],
   "source": [
    "#Syntax Example 2\n",
    "async def g():\n",
    "    # Pause here and come back to g() when f() is ready\n",
    "    r = await f() #To call a coroutine function, you must await it to get its results.\n",
    "    return r"
   ]
  },
  {
   "cell_type": "code",
   "execution_count": 4,
   "metadata": {},
   "outputs": [
    {
     "data": {
      "text/plain": [
       "<coroutine object myCoroutine at 0x000002D148CC7340>"
      ]
     },
     "execution_count": 4,
     "metadata": {},
     "output_type": "execute_result"
    }
   ],
   "source": [
    "import asyncio\n",
    "import random\n",
    "\n",
    "async def myCoroutine():\n",
    "    process_time = random.randint(2,5)\n",
    "    await asyncio.sleep(process_time)\n",
    "    print('This Task Has Been Completed')\n",
    "\n",
    "myCoroutine()"
   ]
  },
  {
   "cell_type": "markdown",
   "metadata": {},
   "source": [
    "<b>Note  : Object Returned By A Coroutine Function is coroutine object"
   ]
  },
  {
   "cell_type": "code",
   "execution_count": 2,
   "metadata": {},
   "outputs": [],
   "source": [
    "#Simple Example Demonstrating Use Of \"Async / Await\" Keywords\n",
    "import asyncio\n",
    "from datetime import datetime\n",
    "import time\n",
    "#Using these four functions for further demonstration\n",
    "async def addition(a,b):\n",
    "    #await sleep() function of asyncio module that waits for a specified number of seconds\n",
    "    await asyncio.sleep(3)\n",
    "    print(\"Addition Result       : \", a + b)\n",
    "\n",
    "async def multiplication(a,b):\n",
    "    await asyncio.sleep(1)\n",
    "    print(\"Multiplication Result : \", a * b)\n",
    "\n",
    "async def division(a,b):\n",
    "    await asyncio.sleep(5)\n",
    "    print(\"Division Result       : \", a / b)\n",
    "\n",
    "async def subtraction(a,b):\n",
    "    await asyncio.sleep(7)\n",
    "    print(\"Subtraction Result    : \", a - b)"
   ]
  },
  {
   "cell_type": "code",
   "execution_count": 3,
   "metadata": {},
   "outputs": [
    {
     "name": "stdout",
     "output_type": "stream",
     "text": [
      "Start Time :  2022-09-21 10:52:25.895606\n",
      "Division Result       :  0.5\n",
      "Subtraction Result    :  -10\n",
      "Addition Result       :  30\n",
      "Multiplication Result :  200\n",
      "\n",
      "End   Time :  2022-09-21 10:52:41.947935\n",
      "\n",
      "Total Time Taken : 16.052329063415527 Seconds\n"
     ]
    }
   ],
   "source": [
    "#Running Asynchrous Without Actuall Implementation\n",
    "async def main():\n",
    "\n",
    "    await division(10,20)\n",
    "\n",
    "    await subtraction(10,20)\n",
    "\n",
    "    await addition(10,20)\n",
    "\n",
    "    await multiplication(10,20)\n",
    "\n",
    "\n",
    "print(\"Start Time : \", datetime.now())\n",
    "start = time.time()\n",
    "\n",
    "#asyncio.run(coroutine, debug=False) - This method takes as input a coroutine and runs it \n",
    "await main()\n",
    "\n",
    "print(\"\\nEnd   Time : \", datetime.now())\n",
    "print(\"\\nTotal Time Taken : {} Seconds\".format(time.time() - start))"
   ]
  },
  {
   "cell_type": "markdown",
   "metadata": {},
   "source": [
    "<b>Caution : There is a slight difference on how Jupyter uses the loop compared to IPython."
   ]
  },
  {
   "cell_type": "markdown",
   "metadata": {},
   "source": [
    "<b><h2 style=\"color:#028E8B;\" >Tasks : </h2><br>\n",
    "<li>Task is a subclass of futures and it is used to run coroutines concurrently within an event loop.</li><br>\n",
    "<li>Tasks are used to schedule coroutines concurrently.</li><br>\n",
    "<li>When submitting a coroutine to an event loop for processing, we can get a Task object, which provides a way to<br><br> control the coroutine’s behavior from outside the event loop.</li><br>\n",
    "    <li>We can create a task using <font style=\"color:#FF5733\">create_task</font> (an inbuilt function of asyncio library)</li>"
   ]
  },
  {
   "cell_type": "markdown",
   "metadata": {},
   "source": [
    "<b><h4 style=\"color:#FF5733;\" >Create Tasks for Parallel Execution using \"create_task ( )\" Method</h4>\n",
    "<pre>create_task(coroutine, name=None) - This method takes as input coroutine and returns Task \n",
    "\n",
    "instance eligible to execute in parallel. \n",
    "\n",
    "It also accepts name parameters which can be used to assign a name to a task.\n",
    "\n",
    "</pre>"
   ]
  },
  {
   "cell_type": "code",
   "execution_count": 5,
   "metadata": {},
   "outputs": [
    {
     "name": "stdout",
     "output_type": "stream",
     "text": [
      "Start Time :  2022-09-21 10:57:06.802844 \n",
      "\n",
      "Multiplication Result :  200\n",
      "Addition Result       :  30\n",
      "Division Result       :  0.5\n",
      "Subtraction Result    :  -10\n",
      "\n",
      "End   Time :  2022-09-21 10:57:13.810928\n",
      "\n",
      "Total Time Taken : 7.01826810836792 Seconds\n"
     ]
    }
   ],
   "source": [
    "async def main():\n",
    "\n",
    "    div_task = asyncio.create_task(division(10,20))\n",
    "\n",
    "    subtract_task = asyncio.create_task(subtraction(10,20))\n",
    "\n",
    "    add_task = asyncio.create_task(addition(10,20))\n",
    "\n",
    "    mul_task = asyncio.create_task(multiplication(10,20))\n",
    "\n",
    "    await div_task\n",
    "    await subtract_task\n",
    "    await add_task\n",
    "    await mul_task\n",
    "\n",
    "print(\"Start Time : \", datetime.now(), \"\\n\")\n",
    "start = time.time()\n",
    "\n",
    "await main()\n",
    "\n",
    "print(\"\\nEnd   Time : \", datetime.now())\n",
    "print(\"\\nTotal Time Taken : {} Seconds\".format(time.time() - start))"
   ]
  },
  {
   "cell_type": "markdown",
   "metadata": {},
   "source": [
    "<b><h4 style=\"color:#FF5733;\" >Execute Multiple Coroutines using \"gather (  )\" Method</h4><br>\n",
    "<pre>gather(awaitables, return_exceptions=False) - This function accepts a list of awaitables \n",
    "\n",
    "as input and returns their results once all awaitables have completed running\n",
    "</pre>"
   ]
  },
  {
   "cell_type": "code",
   "execution_count": 6,
   "metadata": {},
   "outputs": [],
   "source": [
    "#Instead print using return in previous functions\n",
    "async def addition(a,b):\n",
    "    await asyncio.sleep(3)\n",
    "    return \"Addition\", a + b\n",
    "\n",
    "async def multiplication(a,b):\n",
    "    await asyncio.sleep(1)\n",
    "    return \"Multiplication\", a * b\n",
    "\n",
    "async def division(a,b):\n",
    "    await asyncio.sleep(5)\n",
    "    return \"Division\", a / b\n",
    "\n",
    "async def subtraction(a,b):\n",
    "    await asyncio.sleep(7)\n",
    "    return \"Subtract\", a - b"
   ]
  },
  {
   "cell_type": "code",
   "execution_count": 7,
   "metadata": {},
   "outputs": [
    {
     "name": "stdout",
     "output_type": "stream",
     "text": [
      "Start Time :  2022-09-21 10:58:31.622804 \n",
      "\n",
      "Division : 0.5\n",
      "Subtract : -10\n",
      "Addition : 30\n",
      "Multiplication : 200\n",
      "\n",
      "End   Time :  2022-09-21 10:58:38.638756\n",
      "\n",
      "Total Time Taken : 7.015951633453369 Seconds\n"
     ]
    }
   ],
   "source": [
    "async def main():\n",
    "\n",
    "    corrs_result  = await asyncio.gather(division(10,20),\n",
    "                         subtraction(10,20),\n",
    "                         addition(10,20),\n",
    "                         multiplication(10,20))\n",
    "\n",
    "    for task, result in corrs_result:\n",
    "        print(\"{} : {}\".format(task, result))\n",
    "\n",
    "\n",
    "print(\"Start Time : \", datetime.now(), \"\\n\")\n",
    "start = time.time()\n",
    "\n",
    "await main()\n",
    "\n",
    "print(\"\\nEnd   Time : \", datetime.now())\n",
    "print(\"\\nTotal Time Taken : {} Seconds\".format(time.time() - start))"
   ]
  },
  {
   "cell_type": "markdown",
   "metadata": {},
   "source": [
    "<b><h4 style=\"color:#FF5733;\" >Retrieve Current Task and All Tasks</h4><br>\n",
    "<pre>current_task() - This method returns Task instance for the task in which it's called.\n",
    "\n",
    "all_tasks() - This method returns list of tasks which are not finished yet.\n",
    "</pre>"
   ]
  },
  {
   "cell_type": "code",
   "execution_count": 11,
   "metadata": {},
   "outputs": [],
   "source": [
    "#Getting Current Task\n",
    "async def addition(a,b):\n",
    "    curr_task = asyncio.current_task() ## Retrieve current task.\n",
    "    print(\"{} Started.\".format(curr_task.get_name()))\n",
    "    await asyncio.sleep(3)\n",
    "    return a + b\n",
    "\n",
    "async def multiplication(a,b):\n",
    "    curr_task = asyncio.current_task()\n",
    "    print(\"{} Started.\".format(curr_task.get_name()))\n",
    "    await asyncio.sleep(1)\n",
    "    return a * b\n",
    "\n",
    "async def division(a,b):\n",
    "    curr_task = asyncio.current_task()\n",
    "    print(\"{} Started.\".format(curr_task.get_name()))\n",
    "    await asyncio.sleep(5)\n",
    "    return a / b\n",
    "\n",
    "async def subtraction(a,b):\n",
    "    curr_task = asyncio.current_task()\n",
    "    print(\"{} Started.\".format(curr_task.get_name()))\n",
    "    await asyncio.sleep(7)\n",
    "    return a - b"
   ]
  },
  {
   "cell_type": "code",
   "execution_count": 8,
   "metadata": {},
   "outputs": [
    {
     "name": "stdout",
     "output_type": "stream",
     "text": [
      "Start Time :  2022-09-21 10:59:45.453277 \n",
      "\n",
      "Total Tasks (5) : ['Addition', 'Multiplication', 'Task-13', 'Division', 'Subtraction']\n",
      "\n",
      "\n",
      "Total Tasks (1) : ['Task-13']\n",
      "\n",
      "\n",
      "Addition Result       :  ('Addition', 30)\n",
      "Multiplication Result :  ('Multiplication', 200)\n",
      "Division Result       :  ('Division', 0.5)\n",
      "Subtraction Result    :  ('Subtract', -10)\n",
      "\n",
      "End   Time :  2022-09-21 10:59:52.474235\n",
      "\n",
      "Total Time Taken : 7.020957946777344 Seconds\n"
     ]
    }
   ],
   "source": [
    "#Getting ALl Tasks\n",
    "async def main():\n",
    "\n",
    "    div_task = asyncio.create_task(division(10,20), name=\"Division\")\n",
    "\n",
    "    subtract_task = asyncio.create_task(subtraction(10,20), name=\"Subtraction\")\n",
    "\n",
    "    add_task = asyncio.create_task(addition(10,20), name=\"Addition\")\n",
    "\n",
    "    mul_task = asyncio.create_task(multiplication(10,20), name=\"Multiplication\")\n",
    "    #The Task-13 points to the main coroutine.\n",
    "    total_tasks = asyncio.all_tasks()\n",
    "    print(\"Total Tasks ({}) : {}\\n\".format(len(total_tasks), [task.get_name() for task in total_tasks]))\n",
    "\n",
    "    await div_task\n",
    "    await subtract_task\n",
    "    await add_task\n",
    "    await mul_task\n",
    "    #1 task will be pending which is the main coroutine. \n",
    "    total_tasks = asyncio.all_tasks()\n",
    "    print(\"\\nTotal Tasks ({}) : {}\\n\".format(len(total_tasks), [task.get_name() for task in total_tasks]))\n",
    "\n",
    "    print(\"\\nAddition Result       : \", add_task.result())\n",
    "    print(\"Multiplication Result : \", mul_task.result())\n",
    "    print(\"Division Result       : \", div_task.result())\n",
    "    print(\"Subtraction Result    : \", subtract_task.result())\n",
    "\n",
    "print(\"Start Time : \", datetime.now(), \"\\n\")\n",
    "start = time.time()\n",
    "\n",
    "await main()\n",
    "\n",
    "print(\"\\nEnd   Time : \", datetime.now())\n",
    "print(\"\\nTotal Time Taken : {} Seconds\".format(time.time() - start))"
   ]
  },
  {
   "cell_type": "markdown",
   "metadata": {},
   "source": [
    "<b><h2 style=\"color:#028E8B;\" >Event Loops : </h2><br>\n",
    "<li>It as the central executor in asyncio,This mechanism runs coroutines until they complete.</li><br>\n",
    "<li>You can imagine it as while(True) loop that monitors coroutine, taking feedback on what’s idle, <br><br>and looking around for things that can be executed in the meantime.</li><br>\n",
    "<li>It can wake up an idle coroutine when whatever that coroutine is waiting on becomes available.</li><br>\n",
    "<li>Only one event loop can run at a time in Python.</li><br>\n",
    "    <li>We can create a event loop using <font style=\"color:#FF5733\">get_event_loop</font> (an inbuilt function of asyncio library)</li>"
   ]
  },
  {
   "cell_type": "code",
   "execution_count": 12,
   "metadata": {},
   "outputs": [
    {
     "name": "stdout",
     "output_type": "stream",
     "text": [
      "Task-29 Started.\n",
      "Task-30 Started.\n",
      "Task-31 Started.\n",
      "Task-32 Started.\n"
     ]
    }
   ],
   "source": [
    "async def main():\n",
    "    div_task = asyncio.create_task(division(10,20))\n",
    "    subtract_task = asyncio.create_task(subtraction(10,20))\n",
    "    add_task = asyncio.create_task(addition(10,20))\n",
    "    mul_task = asyncio.create_task(multiplication(10,20))\n",
    "    #make a task/coroutine wait for other task/tasks to complete using wait\n",
    "    await asyncio.wait([div_task, subtract_task,add_task,mul_task])\n",
    "  \n",
    "#to run the above function we'll use Event Loops these are low level functions to run async functions\n",
    "loop = asyncio.get_event_loop()\n",
    "await main()\n",
    "#loop.run_until_complete(main())\n",
    "# loop.close()\n",
    "  \n",
    "# We can also use High Level functions Like: asyncio.run(function_asyc())"
   ]
  },
  {
   "cell_type": "markdown",
   "metadata": {},
   "source": [
    "<b><h2 style=\"color:#028E8B;\" >Futures in Asyncio : </h2><br>\n",
    "<li>It is a low-level awaitable object that is supposed to have a result in the future.</li><br>\n",
    "<li>When a future object is awaited it means that the coroutine will wait until the Future is <br><br>resolved in some other place.</li><br>\n",
    "<li>This API exists to enable callback-based code to be used with async/await</li>"
   ]
  },
  {
   "cell_type": "code",
   "execution_count": 13,
   "metadata": {},
   "outputs": [
    {
     "name": "stdout",
     "output_type": "stream",
     "text": [
      "foo will await the future\n",
      "bar will sleep for 2 seconds\n",
      "bar resolving the future\n",
      "Future result: future is resolved\n",
      "Is future is done: True\n",
      "['future is resolved', None]\n",
      "main exiting\n"
     ]
    }
   ],
   "source": [
    "import asyncio\n",
    "from asyncio import Future\n",
    "\n",
    "#bar coroutine will mark the future as done \n",
    "async def bar(future):\n",
    "    print(\"bar will sleep for 2 seconds\")\n",
    "    await asyncio.sleep(2)\n",
    "    print(\"bar resolving the future\")\n",
    "    future.set_result(\"future is resolved\") #Mark the Future as done and set its result.\n",
    "\n",
    "#foo coroutine will await the future till it is not marked as done\n",
    "async def foo(future):\n",
    "    print(\"foo will await the future\")\n",
    "    future_result = await future\n",
    "    print(\"Future result: \" + future_result)\n",
    "    print(\"Is future is done:\", future.done()) #done()- Return True if the Future is done.\n",
    "    return future.result() #result()- Return the result of the Future.\n",
    "\n",
    "async def main():\n",
    "    future = Future()\n",
    "    #future object is passed to both foo and bar coroutines\n",
    "    results = await asyncio.gather(foo(future), bar(future))\n",
    "    print(results) #2nd element is None as bar is not returning anything\n",
    " \n",
    "if __name__ == \"__main__\":\n",
    "    await main() #run() introduced in python >=3.7\n",
    "    print(\"main exiting\")"
   ]
  },
  {
   "cell_type": "markdown",
   "metadata": {},
   "source": [
    "<b><h2 style=\"color:#FF5733;\" >How is asyncio different from threading ?  </h2>\n",
    "<br>\n",
    "<center><img src=\"https://miro.medium.com/max/1400/1*ps153JpjI81PwCLsq39RMQ.png\" width=\"800\" height=\"400\" ></center><br>\n",
    "    <pre>Both threading and asyncio are suited for IO bound code.Major difference is that,  </pre>\n",
    "<li>In threading the execution and swapping of threads is not something that we can control [Preemptive]</li><br>\n",
    "<li>Where as Asynchronous gives more control to the developer over the execution of tasks [Cooperative]</li><br>\n",
    "<li>In Threading Since threads uses same memory, sharing of objects between them is little tricky</li><br>\n",
    "<li>Where as in Asynchronous it is easier to manage objects between tasks and not worry about race conditions</li><br>\n",
    "<li>In Threading It’s hard to understand how threads run and their order and so is difficult to spot any bugs.</li><br>\n",
    "<li>Where as in Asynchronous Code is more readable and light weight.</li>"
   ]
  },
  {
   "cell_type": "markdown",
   "metadata": {},
   "source": [
    "<b><h3 style=\"color:#cc33ff;\" > Implementation :  </h3><br>\n",
    "<pre>For this benchmark, we will be fetching data from a sample URL  with \n",
    "\n",
    "different frequencies, like once, ten times, 50 times, 100 times, 500 times, respectively.</pre>"
   ]
  },
  {
   "cell_type": "code",
   "execution_count": 15,
   "metadata": {},
   "outputs": [],
   "source": [
    "#Ignoring Warnings\n",
    "import warnings\n",
    "warnings.filterwarnings(\"ignore\")"
   ]
  },
  {
   "cell_type": "code",
   "execution_count": 16,
   "metadata": {},
   "outputs": [],
   "source": [
    "#lists for benchmarking\n",
    "freq = [1,10,50,100,500]"
   ]
  },
  {
   "cell_type": "markdown",
   "metadata": {},
   "source": [
    "<b><h4 style=\"color:#028E8B;\" >Code of Multithreading: </h4>"
   ]
  },
  {
   "cell_type": "code",
   "execution_count": 17,
   "metadata": {},
   "outputs": [
    {
     "name": "stdout",
     "output_type": "stream",
     "text": [
      "Fetch total 1 urls and process takes 0.9331731796264648 seconds\n",
      "Fetch total 10 urls and process takes 1.7237188816070557 seconds\n",
      "Fetch total 50 urls and process takes 5.962061405181885 seconds\n",
      "Fetch total 100 urls and process takes 10.16848349571228 seconds\n",
      "Fetch total 500 urls and process takes 47.21777296066284 seconds\n"
     ]
    }
   ],
   "source": [
    "#Code of Multithreading:\n",
    "import requests\n",
    "import time\n",
    "from concurrent.futures import ThreadPoolExecutor\n",
    "\n",
    "thread_time = []\n",
    "\n",
    "def fetch_url_data(pg_url):\n",
    "    try:\n",
    "        resp = requests.get(pg_url)\n",
    "    except Exception as e:\n",
    "        print(f\"Error occured during fetch data from url{pg_url}\")\n",
    "    else:\n",
    "        return resp.content\n",
    "        \n",
    "\n",
    "def get_all_url_data(url_list):\n",
    "    with ThreadPoolExecutor() as executor:\n",
    "        resp = executor.map(fetch_url_data, url_list)\n",
    "    return resp\n",
    "    \n",
    "\n",
    "if __name__=='__main__':\n",
    "    url = \"https://www.udemy.com\"\n",
    "    for ntimes in freq:\n",
    "        start_time = time.time()\n",
    "        responses = get_all_url_data([url] * ntimes)\n",
    "        process_time = time.time() - start_time\n",
    "        thread_time.append(process_time) \n",
    "        print(f'Fetch total {ntimes} urls and process takes {process_time} seconds')"
   ]
  },
  {
   "cell_type": "markdown",
   "metadata": {},
   "source": [
    "<b><h4 style=\"color:#028E8B;\" >Async IO Programming Example: </h4>"
   ]
  },
  {
   "cell_type": "code",
   "execution_count": 32,
   "metadata": {},
   "outputs": [],
   "source": [
    "#aiohttp - Asynchronous HTTP Client/Server for asyncio and Python.\n",
    "#pip install aiohttp"
   ]
  },
  {
   "cell_type": "code",
   "execution_count": 18,
   "metadata": {},
   "outputs": [
    {
     "name": "stdout",
     "output_type": "stream",
     "text": [
      "Fetch total 1 urls and process takes 0.9526138305664062 seconds\n",
      "Fetch total 10 urls and process takes 1.6786060333251953 seconds\n",
      "Fetch total 50 urls and process takes 2.657850980758667 seconds\n",
      "Fetch total 100 urls and process takes 2.1606643199920654 seconds\n",
      "Fetch total 500 urls and process takes 7.41143274307251 seconds\n"
     ]
    }
   ],
   "source": [
    "import asyncio\n",
    "import time\n",
    "from aiohttp import ClientSession, ClientResponseError\n",
    "\n",
    "asyinco_time = []\n",
    "\n",
    "async def fetch_url_data(session, url):\n",
    "    try:\n",
    "        async with session.get(url, timeout=60) as response:\n",
    "            resp = await response.read()\n",
    "    except Exception as e:\n",
    "        print(e)\n",
    "    else:\n",
    "        return resp\n",
    "    return\n",
    "\n",
    "\n",
    "async def fetch_async(loop, r):\n",
    "    url = \"https://www.udemy.com\"\n",
    "    tasks = []\n",
    "    async with ClientSession() as session:\n",
    "        for i in range(r):\n",
    "            task = asyncio.ensure_future(fetch_url_data(session, url))\n",
    "            tasks.append(task)\n",
    "        responses = await asyncio.gather(*tasks)\n",
    "    return responses\n",
    "\n",
    "\n",
    "if __name__ == '__main__':\n",
    "    for ntimes in freq:\n",
    "        start_time = time.time()\n",
    "        loop = asyncio.get_event_loop()\n",
    "        future = asyncio.ensure_future(fetch_async(loop, ntimes))\n",
    "        await future #will run until it finish or get any error\n",
    "        responses = future.result()\n",
    "        process_time = time.time() - start_time\n",
    "        asyinco_time.append(process_time) \n",
    "        print(f'Fetch total {ntimes} urls and process takes {process_time} seconds')"
   ]
  },
  {
   "cell_type": "markdown",
   "metadata": {},
   "source": [
    "<b><h4 style=\"color:#028E8B;\" >Benchmarking: </h4>"
   ]
  },
  {
   "cell_type": "code",
   "execution_count": 19,
   "metadata": {},
   "outputs": [
    {
     "name": "stdout",
     "output_type": "stream",
     "text": [
      "   Frequency  Threading   Asyncio\n",
      "0          1   0.933173  0.952614\n",
      "1         10   1.723719  1.678606\n",
      "2         50   5.962061  2.657851\n",
      "3        100  10.168483  2.160664\n",
      "4        500  47.217773  7.411433\n"
     ]
    }
   ],
   "source": [
    "import pandas as pd\n",
    "comparision_list = pd.DataFrame(\n",
    "    {'Frequency': freq,\n",
    "     'Threading': thread_time,\n",
    "     'Asyncio': asyinco_time\n",
    "    })\n",
    "\n",
    "print(comparision_list)"
   ]
  },
  {
   "cell_type": "code",
   "execution_count": 20,
   "metadata": {},
   "outputs": [
    {
     "data": {
      "text/plain": [
       "Text(0, 0.5, 'Total Time In Seconds')"
      ]
     },
     "execution_count": 20,
     "metadata": {},
     "output_type": "execute_result"
    },
    {
     "data": {
      "image/png": "[encoded data removed]",
      "text/plain": [
       "<Figure size 432x288 with 1 Axes>"
      ]
     },
     "metadata": {
      "needs_background": "light"
     },
     "output_type": "display_data"
    }
   ],
   "source": [
    "plt = comparision_list.plot.line(x=\"Frequency\", title=\"Comparision of Asyncio and Threading\")\n",
    "plt.set_ylabel(\"Total Time In Seconds\")"
   ]
  },
  {
   "cell_type": "markdown",
   "metadata": {},
   "source": [
    "<b><h2 style=\"color:#cc33ff;\" > Conclusion :  </h2><br>\n",
    "<li>As we saw, Async IO showed better performance with the efficient use of concurrency than multi-threading.</li><br>\n",
    "<li>Async IO can be beneficial in applications that can exploit concurrency.</li><br>\n",
    "<li>Though, based on what kind of applications we are dealing with, it is very sensible to choose <br><br>Async IO over other implementations.</li>"
   ]
  },
  {
   "cell_type": "markdown",
   "metadata": {},
   "source": [
    "<b><h2 style=\"color:#FF5733;\" > FAQ's on Asynchronous Programming :  </h2><br>\n",
    "<li>What is Asynchronous Programming?.</li><br>\n",
    "<li>Explain what async IO is in Python ?.</li><br>\n",
    "<li>What are the advantages of using async IO over multithreading or multiprocessing?</li><br>\n",
    "<li>How do you implement asynchronous event loops in Python ?</li><br>\n",
    "<li>What does await do in Python ?</li><br>\n",
    "<li>What’s the difference between coroutines and generators in Python ?</li><br>\n",
    "<li>Can you give me some examples where you would use AsyncIO in your application code ?</li><br>\n",
    "<li>Can you explain what a future object is in Python ?</li><br>\n",
    "<li>What do you understand about context switching ?</li><br>\n",
    "<li>What is GIL ? Do you think it poses a problem for multi-threaded apps written in Python ?</li><br>\n",
    "<li>What is the maximum number of threads per process in Python ?</li>"
   ]
  },
  {
   "cell_type": "markdown",
   "metadata": {},
   "source": [
    "&copy; **Nitheesh Reddy**"
   ]
  }
 ],
 "metadata": {
  "kernelspec": {
   "display_name": "Python 3",
   "language": "python",
   "name": "python3"
  },
  "language_info": {
   "codemirror_mode": {
    "name": "ipython",
    "version": 3
   },
   "file_extension": ".py",
   "mimetype": "text/x-python",
   "name": "python",
   "nbconvert_exporter": "python",
   "pygments_lexer": "ipython3",
   "version": "3.8.5"
  }
 },
 "nbformat": 4,
 "nbformat_minor": 4
}

{
 "cells": [
  {
   "cell_type": "markdown",
   "metadata": {},
   "source": [
    "<b><h1 style=\"color:#ff0066;\" ><center>Multiprocessing In Python</center></h1><br>\n",
    "<center><img src='https://miro.medium.com/max/828/0*wuNU6Kzmrxc20krZ.png' width=\"800\" height=\"600\"><br>\n",
    "An Introduction to Multi Processing in Python with multiprocessing module<br><br></center>\n",
    "Here’s what we'll cover :<br><br>\n",
    "    <li>What is Multiprocessing </li><br>\n",
    "    <li>multiprocessing module</li><br>\n",
    "    <li>The four most important classes of multiprocessing module</li><br>\n",
    "    <li>Difference between Multi Threading  and Multi Processing</li>"
   ]
  },
  {
   "cell_type": "markdown",
   "metadata": {},
   "source": [
    "<b><h2 style=\"color:#FF5733;\" >What is MultiProcessing ?</h2><br>\n",
    "<li>It is the process based multi tasking which is a parallelism</li><br>\n",
    "<li>Multiprocessing is a mode of operation in which two or more processors in a computer simultaneously process two or more different portions of the same program (set of instructions).</li><br>\n",
    "<li>Multiprocessing allows you to spawn multiple processes within a program</li><br>\n",
    "<li>It allows you to leverage multiple CPU cores on your machine, Since multiple processes are involved, the time taken for doing the job improves greatly with the tradeoff of your system resources.</li><br>\n",
    "<li>Side steps the GIL limitation of Python which allows only one thread to hold control of the Python interpreter</li><br>\n",
    "<li>Used for computation or CPU intensive programs</li><br>\n",
    "<center><img src=\"https://editor.analyticsvidhya.com/uploads/53591Screenshot%202021-04-25%20at%207.55.24%20PM.png\" width=\"800\" height=\"400\" ></center>\n",
    "<center><img src=\"https://editor.analyticsvidhya.com/uploads/44715Screenshot%202021-04-25%20at%207.55.35%20PM.png\" width=\"800\" height=\"400\" ></center>"
   ]
  },
  {
   "cell_type": "markdown",
   "metadata": {},
   "source": [
    "<b><h2 style=\"color:#cc33ff;\" >multiprocessing In Python: </h2><br>\n",
    "<li>In python, multiprocessing is natively supported via multiprocessing which is a package that supports spawning processes using an API similar to the threading module</li><br>\n",
    "<li>The multiprocessing package offers both local and remote parallelism, effectively side-stepping the Global Interpreter Lock by using sub-processes instead of threads</li>"
   ]
  },
  {
   "cell_type": "markdown",
   "metadata": {},
   "source": [
    "<b><h2 style=\"color:#028E8B;\" >Understanding Multiprocesser</h2><br>\n",
    "<li>A multiprocessor- a computer with more than one central processor.</li><br>\n",
    "<li>A multi-core processor- a single computing component with more than one independent actual processing units/ cores.</li><br>\n",
    "<li>If a computer has only one processor with multiple cores, the tasks can be run parallel using multithreading</li><br>\n",
    "<li>A multiprocessor system has the ability to support more than one processor at the same time.</li><br>\n",
    "<li>To find the number of CPU cores available on our system, we use mp.cpu_count() function.</li><br>\n",
    "<center><img src=\"https://scaler.com/topics/images/difference_between_multicore_and_multiprocessor.webp\" width=\"800\" height=\"500\" ></center>"
   ]
  },
  {
   "cell_type": "code",
   "execution_count": 1,
   "metadata": {},
   "outputs": [
    {
     "name": "stdout",
     "output_type": "stream",
     "text": [
      "8\n"
     ]
    }
   ],
   "source": [
    "import multiprocessing as mp\n",
    " \n",
    "print(mp.cpu_count())"
   ]
  },
  {
   "cell_type": "markdown",
   "metadata": {},
   "source": [
    "<b><h2 style=\"color:#028E8B;\" >The four most important classes of multiprocessing module : </h2><br>\n",
    "\n",
    "<li><font style=\"color:#FF5733\">Process Class</font></li><br>\n",
    "<li><font style=\"color:#FF5733\">Lock Class</font></li><br>\n",
    "<li><font style=\"color:#FF5733\">Queue Class</font></li><br>\n",
    "<li><font style=\"color:#FF5733\">Pool Class</font></li><br>\n",
    "<center><img src=\"https://miro.medium.com/max/1400/1*m-Fw9RrdxrrwluBwD8Au9w.png\" width=\"500\" height=\"400\" ></center><br>"
   ]
  },
  {
   "cell_type": "markdown",
   "metadata": {},
   "source": [
    "<b><h3 style=\"color:#FF5733;\" >Process Class : </h3><br>\n",
    "<li>When we work with Multiprocessing,at first we create process object</li><br>\n",
    "<li>Process is the forked copy of the current process. It creates a new process identifier and tasks run as independent child process</li><br>\n",
    "<li>start ( ) and join ( ) functions belong to this class. To pass an argument through a process, we use args keyword.</li>"
   ]
  },
  {
   "cell_type": "code",
   "execution_count": 2,
   "metadata": {},
   "outputs": [],
   "source": [
    "import multiprocessing\n",
    "import time\n",
    "def calc_square(numbers):\n",
    "    for n in numbers:\n",
    "        time.sleep(1)\n",
    "        print('square ' + str(n*n))\n",
    "        \n",
    "def calc_cube(numbers):\n",
    "    for n in numbers:\n",
    "        time.sleep(1)\n",
    "        print('cube '+ str(n*n*n))"
   ]
  },
  {
   "cell_type": "code",
   "execution_count": 3,
   "metadata": {},
   "outputs": [
    {
     "name": "stdout",
     "output_type": "stream",
     "text": [
      "square 4\n",
      "square 9\n",
      "square 64\n",
      "square 81\n",
      "cube 8\n",
      "cube 27\n",
      "cube 512\n",
      "cube 729\n",
      "Done in 8.0677 seconds\n"
     ]
    }
   ],
   "source": [
    "#Without Multiprocessing\n",
    "arr=[2,3,8,9]\n",
    "\n",
    "tic = time.time()\n",
    "calc_square(arr)\n",
    "calc_cube(arr)\n",
    "toc = time.time()\n",
    "print('Done in {:.4f} seconds'.format(toc-tic))"
   ]
  },
  {
   "cell_type": "code",
   "execution_count": 4,
   "metadata": {},
   "outputs": [
    {
     "name": "stdout",
     "output_type": "stream",
     "text": [
      "Done in 0.1790 seconds\n"
     ]
    }
   ],
   "source": [
    "#Multiprocessing \n",
    "arr=[2,3,8,9]\n",
    "tic = time.time()\n",
    "\n",
    "#Creating new  process identifier\n",
    "p1=multiprocessing.Process(target=calc_square,args=(arr,))\n",
    "p2=multiprocessing.Process(target=calc_cube,args=(arr,))\n",
    "\n",
    "#Starting the process\n",
    "p1.start()\n",
    "p2.start()\n",
    "\n",
    "#order to execute the rest of the program after the multi-process functions are executed\n",
    "p1.join()\n",
    "p2.join()\n",
    "\n",
    "\n",
    "toc = time.time()\n",
    "print('Done in {:.4f} seconds'.format(toc-tic))"
   ]
  },
  {
   "cell_type": "markdown",
   "metadata": {},
   "source": [
    "<b><h3 style=\"color:#FF5733;\" >Queue Class : </h3><br>\n",
    "<li>Queue is a data structure which uses First In First Out (FIFO) technique</li><br>\n",
    "<li>It helps us perform inter process communication using native Python objects.</li><br>\n",
    "<li>Queue enables the Process to consume shared data when passed as a parameter.</li><br>\n",
    "<li>put ( ) function is used to insert data to the queue and get ( ) function is used to consume data from the queue.</li><br>"
   ]
  },
  {
   "cell_type": "code",
   "execution_count": 5,
   "metadata": {},
   "outputs": [
    {
     "name": "stdout",
     "output_type": "stream",
     "text": [
      "pushing items to queue:\n",
      "item no:  1   red\n",
      "item no:  2   green\n",
      "item no:  3   blue\n",
      "item no:  4   black\n",
      "\n",
      "popping items from queue:\n",
      "item no:  0   red\n",
      "item no:  1   green\n",
      "item no:  2   blue\n",
      "item no:  3   black\n"
     ]
    }
   ],
   "source": [
    "from multiprocessing import Queue\n",
    "\n",
    "colors = ['red', 'green', 'blue', 'black']\n",
    "cnt = 1\n",
    "# instantiating a queue object\n",
    "queue = Queue()\n",
    "print('pushing items to queue:')\n",
    "for color in colors:\n",
    "    print('item no: ', cnt, ' ', color)\n",
    "    queue.put(color)\n",
    "    cnt += 1\n",
    "\n",
    "print('\\npopping items from queue:')\n",
    "cnt = 0\n",
    "while not queue.empty():\n",
    "    print('item no: ', cnt, ' ', queue.get())\n",
    "    cnt += 1"
   ]
  },
  {
   "cell_type": "code",
   "execution_count": null,
   "metadata": {},
   "outputs": [],
   "source": [
    "#Excecute in VS Code\n",
    "import multiprocessing\n",
    "\n",
    "def even_no(num, n):\n",
    "    for i in num:\n",
    "        if i % 2 == 0:\n",
    "            n.put(i)\n",
    "\n",
    "if __name__ == \"__main__\":\n",
    "    n = multiprocessing.Queue()\n",
    "    p = multiprocessing.Process(target=even_no, args=(range(10), n))\n",
    "    p.start()\n",
    "    p.join()\n",
    "\n",
    "    while n:\n",
    "        print(n.get())"
   ]
  },
  {
   "cell_type": "markdown",
   "metadata": {},
   "source": [
    "<b><h3 style=\"color:#FF5733;\" >Lock Class : </h3><br>\n",
    "<li>The lock class allows the code to be locked in order to make sure that no other process can execute the similar code until it is released</li><br>\n",
    "<li>To claim the lock, acquire ( ) function is used and to release the lock, release ( ) function is used.</li><br>"
   ]
  },
  {
   "cell_type": "code",
   "execution_count": 6,
   "metadata": {},
   "outputs": [
    {
     "name": "stdout",
     "output_type": "stream",
     "text": [
      "Final balance = 100\n",
      "Final balance = 100\n",
      "Final balance = 100\n",
      "Final balance = 100\n",
      "Final balance = 100\n",
      "Final balance = 100\n",
      "Final balance = 100\n",
      "Final balance = 100\n",
      "Final balance = 100\n",
      "Final balance = 100\n"
     ]
    }
   ],
   "source": [
    "#Multiprocessing Lock for ATM Functionality\n",
    "import multiprocessing\n",
    "\n",
    "# Withdrawal function\n",
    "\n",
    "def wthdrw(bal, lock):\n",
    "    for _ in range(10000):\n",
    "        lock.acquire()\n",
    "        bal.value = bal.value - 1\n",
    "        lock.release()\n",
    "\n",
    "# Deposit function\n",
    "\n",
    "def dpst(bal, lock):\n",
    "    for _ in range(10000):\n",
    "        lock.acquire()\n",
    "        bal.value = bal.value + 1\n",
    "        lock.release()\n",
    "        \n",
    "def transact():\n",
    "    # initial balance\n",
    "    bal = multiprocessing.Value('i', 100)\n",
    "    # creating lock object\n",
    "    lock = multiprocessing.Lock()\n",
    "    # creating processes\n",
    "    proc1 = multiprocessing.Process(target=wthdrw, args=(bal,lock))\n",
    "    proc2 = multiprocessing.Process(target=dpst, args=(bal,lock))\n",
    "    # starting processes\n",
    "    proc1.start()\n",
    "    proc2.start()\n",
    "    # waiting for processes to finish\n",
    "    proc1.join()\n",
    "    proc2.join()\n",
    "    # printing final balance\n",
    "    print(\"Final balance = {}\".format(bal.value))\n",
    "\n",
    "if __name__ == \"__main__\":\n",
    "    for _ in range(10):\n",
    "    # performing transaction process\n",
    "        transact()"
   ]
  },
  {
   "cell_type": "markdown",
   "metadata": {},
   "source": [
    "<b><h3 style=\"color:#FF5733;\" >Pool Class : </h3><br>\n",
    "<li>The pool class helps us execute a function against multiple input values in parallel.</li><br>\n",
    "<li>This concept is called Data Parallelism.</li><br>\n",
    "<li>pool.map() function is used to pass a list of multiple arguments.</li>"
   ]
  },
  {
   "cell_type": "code",
   "execution_count": null,
   "metadata": {},
   "outputs": [],
   "source": [
    "#Excecute in VS Code\n",
    "from multiprocessing import Pool\n",
    "import time\n",
    "\n",
    "work = ([\"A\", 5], [\"B\", 2], [\"C\", 1], [\"D\", 3])\n",
    "\n",
    "def work_log(work_data):\n",
    "    print(\" Process %s waiting %s seconds\" % (work_data[0], work_data[1]))\n",
    "    time.sleep(int(work_data[1]))\n",
    "    print(\" Process %s Finished.\" % work_data[0])\n",
    "\n",
    "\n",
    "def pool_handler():\n",
    "    p = Pool(2)\n",
    "    p.map(work_log, work)\n",
    "\n",
    "\n",
    "if __name__ == '__main__':\n",
    "    pool_handler()"
   ]
  },
  {
   "cell_type": "markdown",
   "metadata": {},
   "source": [
    "<b><h2 style=\"color:#028E8B;\" >Python ProcessPoolExecutor : </h2><br>\n",
    "\n",
    "<li>The ProcessPoolExecutor Python class is used to create and manage process pools and is provided in the concurrent.futures module.</li><br>\n",
    "<li>The ProcessPoolExecutor extends the Executor class and will return Future objects when it is called.</li>"
   ]
  },
  {
   "cell_type": "code",
   "execution_count": 7,
   "metadata": {},
   "outputs": [
    {
     "name": "stdout",
     "output_type": "stream",
     "text": [
      "It took  0.25 second(s) to finish\n"
     ]
    }
   ],
   "source": [
    "import time\n",
    "import os\n",
    "from concurrent.futures import ProcessPoolExecutor\n",
    "from PIL import Image, ImageFilter\n",
    "\n",
    "filenames = [\n",
    "    'images/1.jpg',\n",
    "    'images/2.jpg',\n",
    "    'images/3.jpg',\n",
    "    'images/4.jpg',\n",
    "    'images/5.jpg',\n",
    "]\n",
    "\n",
    "def create_thumbnail(filename, size=(50,50),thumb_dir ='thumbs'):\n",
    "    img = Image.open(filename)\n",
    "    img = img.filter(ImageFilter.GaussianBlur())\n",
    "    img.thumbnail(size)\n",
    "    img.save(f'{thumb_dir}/{os.path.basename(filename)}')\n",
    "    print(f'{filename} was processed...')\n",
    "\n",
    "\n",
    "if __name__ == '__main__':\n",
    "    start = time.perf_counter()\n",
    "    with ProcessPoolExecutor() as executor:\n",
    "        executor.map(create_thumbnail, filenames)\n",
    "    finish = time.perf_counter()\n",
    "    print(f'It took {finish-start: .2f} second(s) to finish')"
   ]
  },
  {
   "cell_type": "markdown",
   "metadata": {},
   "source": [
    "<b><h2 style=\"color:#FF5733;\" >Multiprocessing Vs Multitherding</h2><br><br>\n",
    "<center><img src=\"https://blog.floydhub.com/content/images/2019/09/mutli-t-nd-mutli-p.png\" width=\"800\" height=\"400\" ><br>\n",
    "TLDR : Multithreading for IO-bound tasks. Multiprocessing for CPU-bound tasks."
   ]
  },
  {
   "cell_type": "code",
   "execution_count": 8,
   "metadata": {},
   "outputs": [],
   "source": [
    "import time, os\n",
    "from threading import Thread, current_thread\n",
    "from multiprocessing import Process, current_process\n",
    "COUNT = 200000000\n",
    "SLEEP = 10\n",
    "def io_bound(sec):\n",
    "    pid = os.getpid()\n",
    "    threadName = current_thread().name\n",
    "    processName = current_process().name\n",
    "    print(f\"{pid} * {processName} * {threadName} \\\n",
    "        ---> Start sleeping...\")\n",
    "    time.sleep(sec)\n",
    "    print(f\"{pid} * {processName} * {threadName} \\\n",
    "        ---> Finished sleeping...\")\n",
    "def cpu_bound(n):\n",
    "    pid = os.getpid()\n",
    "    threadName = current_thread().name\n",
    "    processName = current_process().name\n",
    "    print(f\"{pid} * {processName} * {threadName} \\\n",
    "        ---> Start counting...\")\n",
    "    while n>0:\n",
    "        n -= 1\n",
    "    print(f\"{pid} * {processName} * {threadName} \\\n",
    "        ---> Finished counting...\")"
   ]
  },
  {
   "cell_type": "code",
   "execution_count": 9,
   "metadata": {},
   "outputs": [
    {
     "name": "stdout",
     "output_type": "stream",
     "text": [
      "12576 * MainProcess * MainThread         ---> Start sleeping...\n",
      "12576 * MainProcess * MainThread         ---> Finished sleeping...\n",
      "12576 * MainProcess * MainThread         ---> Start sleeping...\n",
      "12576 * MainProcess * MainThread         ---> Finished sleeping...\n",
      "Time taken in seconds - 20.001720666885376\n"
     ]
    }
   ],
   "source": [
    "#IO Task Without Threading\n",
    "if __name__==\"__main__\":\n",
    "    start = time.time()\n",
    "    io_bound(SLEEP)\n",
    "    io_bound(SLEEP)\n",
    "    end = time.time()\n",
    "    print('Time taken in seconds -', end - start)"
   ]
  },
  {
   "cell_type": "code",
   "execution_count": 10,
   "metadata": {},
   "outputs": [
    {
     "name": "stdout",
     "output_type": "stream",
     "text": [
      "12576 * MainProcess * Thread-6         ---> Start sleeping...\n",
      "12576 * MainProcess * Thread-7         ---> Start sleeping...\n",
      "12576 * MainProcess * Thread-7         ---> Finished sleeping...12576 * MainProcess * Thread-6         ---> Finished sleeping...\n",
      "\n",
      "Time taken in seconds - 10.01404857635498\n"
     ]
    }
   ],
   "source": [
    "#IO Task With Threading\n",
    "if __name__==\"__main__\":\n",
    "    start = time.time()\n",
    "    t1 = Thread(target=io_bound, args=(SLEEP,))\n",
    "    t2 = Thread(target=io_bound, args=(SLEEP,))\n",
    "    t1.start()\n",
    "    t2.start()\n",
    "    t1.join()\n",
    "    t2.join()\n",
    "    end = time.time()\n",
    "    print('Time taken in seconds -', end - start)"
   ]
  },
  {
   "cell_type": "code",
   "execution_count": 11,
   "metadata": {},
   "outputs": [
    {
     "name": "stdout",
     "output_type": "stream",
     "text": [
      "Time taken in seconds - 10.01404857635498\n"
     ]
    }
   ],
   "source": [
    "#IO Task With Multiprocessing\n",
    "if __name__==\"__main__\":\n",
    "    p1 = Process(target=io_bound, args=(SLEEP,))\n",
    "    p2 = Process(target=io_bound, args=(SLEEP,))\n",
    "    p1.start()\n",
    "    p2.start()\n",
    "    p1.join()\n",
    "    p2.join()\n",
    "    print('Time taken in seconds -', end - start)"
   ]
  },
  {
   "cell_type": "code",
   "execution_count": 12,
   "metadata": {},
   "outputs": [
    {
     "name": "stdout",
     "output_type": "stream",
     "text": [
      "12576 * MainProcess * MainThread         ---> Start counting...\n",
      "12576 * MainProcess * MainThread         ---> Finished counting...\n",
      "12576 * MainProcess * MainThread         ---> Start counting...\n",
      "12576 * MainProcess * MainThread         ---> Finished counting...\n",
      "Time taken in seconds - 77.20385670661926\n"
     ]
    }
   ],
   "source": [
    "#CPU Bound Task Without Threading\n",
    "if __name__==\"__main__\":\n",
    "    start = time.time()\n",
    "    cpu_bound(COUNT)\n",
    "    cpu_bound(COUNT)\n",
    "    end = time.time()\n",
    "    print('Time taken in seconds -', end - start)"
   ]
  },
  {
   "cell_type": "code",
   "execution_count": 13,
   "metadata": {},
   "outputs": [
    {
     "name": "stdout",
     "output_type": "stream",
     "text": [
      "12576 * MainProcess * Thread-8         ---> Start counting...\n",
      "12576 * MainProcess * Thread-9         ---> Start counting...\n",
      "12576 * MainProcess * Thread-9         ---> Finished counting...\n",
      "12576 * MainProcess * Thread-8         ---> Finished counting...\n",
      "Time taken in seconds - 71.44468235969543\n"
     ]
    }
   ],
   "source": [
    "#CPU Bound Task With Threading\n",
    "if __name__==\"__main__\":\n",
    "    start = time.time()\n",
    "    t1 = Thread(target=cpu_bound, args=(COUNT,))\n",
    "    t2 = Thread(target=cpu_bound, args=(COUNT,))\n",
    "    t1.start()\n",
    "    t2.start()\n",
    "    t1.join()\n",
    "    t2.join()\n",
    "    end = time.time()\n",
    "    print('Time taken in seconds -', end - start)"
   ]
  },
  {
   "cell_type": "code",
   "execution_count": 14,
   "metadata": {},
   "outputs": [
    {
     "name": "stdout",
     "output_type": "stream",
     "text": [
      "Time taken in seconds - 0.18386363983154297\n"
     ]
    }
   ],
   "source": [
    "#CPU Bound Task With Multiprocessing\n",
    "if __name__==\"__main__\":\n",
    "    start = time.time()\n",
    "    p1 = Process(target=cpu_bound, args=(COUNT,))\n",
    "    p2 = Process(target=cpu_bound, args=(COUNT,))\n",
    "    p1.start()\n",
    "    p2.start()\n",
    "    p1.join()\n",
    "    p2.join()\n",
    "    end = time.time()\n",
    "    print('Time taken in seconds -', end - start)"
   ]
  },
  {
   "cell_type": "markdown",
   "metadata": {},
   "source": [
    "<b><h2 style=\"color:#FF5733;\" >Major Diffrences  </h2>\n",
    "<br>\n",
    "<center><img src=\"https://www.datasciencecentral.com/wp-content/uploads/2021/10/fg_orig-1.jpg\" width=\"800\" height=\"400\" ></center><br>"
   ]
  },
  {
   "cell_type": "markdown",
   "metadata": {},
   "source": [
    "<b><h2 style=\"color:#FF5733;\" > FAQ's on Multiprocessing :  </h2><br>\n",
    "<li>What is Python multiprocessing module ?</li><br>\n",
    "<li>How does multiprocessing work in Python ?</li><br>\n",
    "<li>How to stop multiprocessing in Python ?</li><br>\n",
    "<li>Explain the purpose for using multiprocessing module in Python.</li><br>\n",
    "<li>Is multiprocessing faster than multithreading in Python ?</li>"
   ]
  },
  {
   "cell_type": "markdown",
   "metadata": {},
   "source": [
    "&copy; **Nitheesh Reddy**"
   ]
  }
 ],
 "metadata": {
  "kernelspec": {
   "display_name": "Python 3",
   "language": "python",
   "name": "python3"
  },
  "language_info": {
   "codemirror_mode": {
    "name": "ipython",
    "version": 3
   },
   "file_extension": ".py",
   "mimetype": "text/x-python",
   "name": "python",
   "nbconvert_exporter": "python",
   "pygments_lexer": "ipython3",
   "version": "3.10.7"
  }
 },
 "nbformat": 4,
 "nbformat_minor": 4
}

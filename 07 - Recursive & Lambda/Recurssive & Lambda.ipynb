{
 "cells": [
  {
   "cell_type": "markdown",
   "metadata": {},
   "source": [
    "# Python Pure Functions "
   ]
  },
  {
   "cell_type": "code",
   "execution_count": 1,
   "metadata": {},
   "outputs": [
    {
     "name": "stdout",
     "output_type": "stream",
     "text": [
      "Original List: [1, 2, 3, 4]\n",
      "Modified List: [1, 4, 9, 16]\n"
     ]
    }
   ],
   "source": [
    "# Python program to demonstrate pure functions \n",
    "# A pure function that does Not changes the input list and returns the new List \n",
    "def  pure_func(List): \n",
    "\tNew_List = [] \n",
    "\tfor i in List: \n",
    "\t\tNew_List.append(i**2) \t\n",
    "\treturn New_List \n",
    "Original_List = [1, 2, 3, 4] \n",
    "Modified_List = pure_func(Original_List) \n",
    "print(\"Original List:\", Original_List) \n",
    "print(\"Modified List:\", Modified_List)"
   ]
  },
  {
   "cell_type": "markdown",
   "metadata": {},
   "source": [
    "# Recurssive Functions\n",
    "\n",
    "<img src='r.png'>"
   ]
  },
  {
   "cell_type": "code",
   "execution_count": 2,
   "metadata": {
    "tags": []
   },
   "outputs": [
    {
     "name": "stdout",
     "output_type": "stream",
     "text": [
      "The factorial of 3 is 6\n"
     ]
    }
   ],
   "source": [
    "#Example of a recursive function :\n",
    "def  factorial(x):\n",
    "    \"\"\"This is a recursive function\n",
    "    to find the factorial of an integer\"\"\"\n",
    "    if x == 1:\n",
    "        return 1\n",
    "    else:\n",
    "        return (x * factorial(x-1))  #3*2 = 6 , 6*1 = 6\n",
    "num = 3\n",
    "print(\"The factorial of\", num, \"is\", factorial(num))"
   ]
  },
  {
   "cell_type": "code",
   "execution_count": 3,
   "metadata": {},
   "outputs": [
    {
     "ename": "RecursionError",
     "evalue": "maximum recursion depth exceeded",
     "output_type": "error",
     "traceback": [
      "\u001b[1;31m---------------------------------------------------------------------------\u001b[0m",
      "\u001b[1;31mRecursionError\u001b[0m                            Traceback (most recent call last)",
      "\u001b[1;32m<ipython-input-3-5d337ccc30de>\u001b[0m in \u001b[0;36m<module>\u001b[1;34m\u001b[0m\n\u001b[0;32m      3\u001b[0m \u001b[1;32mdef\u001b[0m  \u001b[0mrecursor\u001b[0m\u001b[1;33m(\u001b[0m\u001b[1;33m)\u001b[0m\u001b[1;33m:\u001b[0m\u001b[1;33m\u001b[0m\u001b[1;33m\u001b[0m\u001b[0m\n\u001b[0;32m      4\u001b[0m     \u001b[0mrecursor\u001b[0m\u001b[1;33m(\u001b[0m\u001b[1;33m)\u001b[0m\u001b[1;33m\u001b[0m\u001b[1;33m\u001b[0m\u001b[0m\n\u001b[1;32m----> 5\u001b[1;33m \u001b[0mrecursor\u001b[0m\u001b[1;33m(\u001b[0m\u001b[1;33m)\u001b[0m\u001b[1;33m\u001b[0m\u001b[1;33m\u001b[0m\u001b[0m\n\u001b[0m",
      "\u001b[1;32m<ipython-input-3-5d337ccc30de>\u001b[0m in \u001b[0;36mrecursor\u001b[1;34m()\u001b[0m\n\u001b[0;32m      2\u001b[0m \u001b[1;33m\u001b[0m\u001b[0m\n\u001b[0;32m      3\u001b[0m \u001b[1;32mdef\u001b[0m  \u001b[0mrecursor\u001b[0m\u001b[1;33m(\u001b[0m\u001b[1;33m)\u001b[0m\u001b[1;33m:\u001b[0m\u001b[1;33m\u001b[0m\u001b[1;33m\u001b[0m\u001b[0m\n\u001b[1;32m----> 4\u001b[1;33m     \u001b[0mrecursor\u001b[0m\u001b[1;33m(\u001b[0m\u001b[1;33m)\u001b[0m\u001b[1;33m\u001b[0m\u001b[1;33m\u001b[0m\u001b[0m\n\u001b[0m\u001b[0;32m      5\u001b[0m \u001b[0mrecursor\u001b[0m\u001b[1;33m(\u001b[0m\u001b[1;33m)\u001b[0m\u001b[1;33m\u001b[0m\u001b[1;33m\u001b[0m\u001b[0m\n",
      "... last 1 frames repeated, from the frame below ...\n",
      "\u001b[1;32m<ipython-input-3-5d337ccc30de>\u001b[0m in \u001b[0;36mrecursor\u001b[1;34m()\u001b[0m\n\u001b[0;32m      2\u001b[0m \u001b[1;33m\u001b[0m\u001b[0m\n\u001b[0;32m      3\u001b[0m \u001b[1;32mdef\u001b[0m  \u001b[0mrecursor\u001b[0m\u001b[1;33m(\u001b[0m\u001b[1;33m)\u001b[0m\u001b[1;33m:\u001b[0m\u001b[1;33m\u001b[0m\u001b[1;33m\u001b[0m\u001b[0m\n\u001b[1;32m----> 4\u001b[1;33m     \u001b[0mrecursor\u001b[0m\u001b[1;33m(\u001b[0m\u001b[1;33m)\u001b[0m\u001b[1;33m\u001b[0m\u001b[1;33m\u001b[0m\u001b[0m\n\u001b[0m\u001b[0;32m      5\u001b[0m \u001b[0mrecursor\u001b[0m\u001b[1;33m(\u001b[0m\u001b[1;33m)\u001b[0m\u001b[1;33m\u001b[0m\u001b[1;33m\u001b[0m\u001b[0m\n",
      "\u001b[1;31mRecursionError\u001b[0m: maximum recursion depth exceeded"
     ]
    }
   ],
   "source": [
    "#Recrussion Limit is 1000\n",
    "\n",
    "def  recursor():\n",
    "    recursor()\n",
    "recursor()"
   ]
  },
  {
   "cell_type": "markdown",
   "metadata": {},
   "source": [
    "#  Lambda Functions"
   ]
  },
  {
   "cell_type": "code",
   "execution_count": 1,
   "metadata": {},
   "outputs": [
    {
     "data": {
      "text/plain": [
       "100"
      ]
     },
     "execution_count": 1,
     "metadata": {},
     "output_type": "execute_result"
    }
   ],
   "source": [
    "#Single Parameter\n",
    "(lambda x: x ** 2)(10)"
   ]
  },
  {
   "cell_type": "code",
   "execution_count": 2,
   "metadata": {},
   "outputs": [
    {
     "data": {
      "text/plain": [
       "100"
      ]
     },
     "execution_count": 2,
     "metadata": {},
     "output_type": "execute_result"
    }
   ],
   "source": [
    "square = lambda x: x ** 2\n",
    "square(10)"
   ]
  },
  {
   "cell_type": "markdown",
   "metadata": {},
   "source": [
    "### Ways To Pass Aruguments"
   ]
  },
  {
   "cell_type": "code",
   "execution_count": 4,
   "metadata": {
    "tags": []
   },
   "outputs": [
    {
     "name": "stdout",
     "output_type": "stream",
     "text": [
      "10\n",
      "17\n"
     ]
    }
   ],
   "source": [
    "#Lambda Function With Multiple Aruguments\n",
    "\n",
    "#A lambda function that multiplies two values\n",
    "mul = lambda x, y: x*y\n",
    "print(mul(2, 5) )  # Prints 10\n",
    "\n",
    "# A lambda function that adds three values\n",
    "add = lambda x, y, z: x+y+z\n",
    "print(add(2, 5, 10))   #Prints 17"
   ]
  },
  {
   "cell_type": "code",
   "execution_count": 8,
   "metadata": {
    "tags": []
   },
   "outputs": [
    {
     "name": "stdout",
     "output_type": "stream",
     "text": [
      "5\n"
     ]
    }
   ],
   "source": [
    "#Lambda Function With No Aruguments\n",
    "\n",
    "y=lambda :2+3\n",
    "print (y( )) "
   ]
  },
  {
   "cell_type": "code",
   "execution_count": 9,
   "metadata": {
    "tags": []
   },
   "outputs": [
    {
     "name": "stdout",
     "output_type": "stream",
     "text": [
      "Hi\n"
     ]
    }
   ],
   "source": [
    "#Lambda Function With No Aruguments\n",
    "\n",
    "(lambda :print(\"Hi\"))()"
   ]
  },
  {
   "cell_type": "code",
   "execution_count": 10,
   "metadata": {},
   "outputs": [
    {
     "ename": "SyntaxError",
     "evalue": "invalid syntax (<ipython-input-10-8b75d2b7ff18>, line 3)",
     "output_type": "error",
     "traceback": [
      "\u001b[1;36m  File \u001b[1;32m\"<ipython-input-10-8b75d2b7ff18>\"\u001b[1;36m, line \u001b[1;32m3\u001b[0m\n\u001b[1;33m    y=lambda a,b:\u001b[0m\n\u001b[1;37m                 ^\u001b[0m\n\u001b[1;31mSyntaxError\u001b[0m\u001b[1;31m:\u001b[0m invalid syntax\n"
     ]
    }
   ],
   "source": [
    "#Lambda Function With No Expression\n",
    "\n",
    "y=lambda a,b:\n",
    "y()\n"
   ]
  },
  {
   "cell_type": "code",
   "execution_count": 11,
   "metadata": {
    "tags": []
   },
   "outputs": [
    {
     "name": "stdout",
     "output_type": "stream",
     "text": [
      "9\n",
      "9\n",
      "9\n",
      "9\n",
      "9\n"
     ]
    }
   ],
   "source": [
    "# Positional arguments\n",
    "add = lambda x, y, z: x+y+z\n",
    "print(add(2, 3, 4)) \t# Prints 9\n",
    "\n",
    "# Keyword arguments\n",
    "add = lambda x, y, z: x+y+z\n",
    "print(add(2, z=3, y=4))\t# Prints 9\n",
    "\n",
    "# Default arguments\n",
    "add = lambda x, y=3, z=4: x+y+z\n",
    "print(add(2))\t# Prints 9\n",
    "\n",
    "# *args\n",
    "add = lambda *args: sum(args)\n",
    "print(add(2, 3, 4))\t# Prints 9\n",
    "\n",
    "# **args\n",
    "add = lambda **kwargs: sum(kwargs.values())\n",
    "print(add(x=2, y=3, z=4))\t# Prints 9"
   ]
  },
  {
   "cell_type": "markdown",
   "metadata": {},
   "source": [
    "### Retrun Multiple Values"
   ]
  },
  {
   "cell_type": "code",
   "execution_count": 12,
   "metadata": {
    "tags": []
   },
   "outputs": [
    {
     "name": "stdout",
     "output_type": "stream",
     "text": [
      "4\n",
      "8\n"
     ]
    }
   ],
   "source": [
    "# Return multiple values by packing them in a tuple\n",
    "findSquareCube = lambda num: (num**2, num**3)\n",
    "x, y = findSquareCube(2)\n",
    "print(x)\n",
    "# Prints 4\n",
    "print(y)\t\t# Prints 8"
   ]
  },
  {
   "cell_type": "markdown",
   "metadata": {},
   "source": [
    "### Important Characterstics Of Lambda"
   ]
  },
  {
   "cell_type": "code",
   "execution_count": 12,
   "metadata": {},
   "outputs": [
    {
     "ename": "SyntaxError",
     "evalue": "invalid syntax (<ipython-input-12-323af3b496ce>, line 2)",
     "output_type": "error",
     "traceback": [
      "\u001b[1;36m  File \u001b[1;32m\"<ipython-input-12-323af3b496ce>\"\u001b[1;36m, line \u001b[1;32m2\u001b[0m\n\u001b[1;33m    doubler = lambda x: assert x*2\u001b[0m\n\u001b[1;37m                             ^\u001b[0m\n\u001b[1;31mSyntaxError\u001b[0m\u001b[1;31m:\u001b[0m invalid syntax\n"
     ]
    }
   ],
   "source": [
    "#No Statements Allowed\n",
    "doubler = lambda x: assert x*2\n",
    "doubler()"
   ]
  },
  {
   "cell_type": "code",
   "execution_count": 13,
   "metadata": {
    "tags": []
   },
   "outputs": [
    {
     "name": "stdout",
     "output_type": "stream",
     "text": [
      "6\n"
     ]
    }
   ],
   "source": [
    "#Only Single Expression\n",
    "#Immediately Invoked Function Expression (IIFE):\n",
    "\n",
    "print((lambda x: x*2)(3))"
   ]
  },
  {
   "cell_type": "markdown",
   "metadata": {},
   "source": [
    "### If_else in lambda"
   ]
  },
  {
   "cell_type": "code",
   "execution_count": 1,
   "metadata": {
    "tags": []
   },
   "outputs": [
    {
     "name": "stdout",
     "output_type": "stream",
     "text": [
      "4\n",
      "a\n"
     ]
    }
   ],
   "source": [
    "# A lambda function that returns the smallest item\n",
    "findMin = lambda x, y: x if x < y else y\n",
    "print(findMin(6, 4)) \t# Prints 4\n",
    "\n",
    "print(findMin('a', 'x'))\t# Prints a"
   ]
  },
  {
   "cell_type": "markdown",
   "metadata": {},
   "source": [
    "### Jump Table With Lambda"
   ]
  },
  {
   "cell_type": "code",
   "execution_count": 15,
   "metadata": {
    "tags": []
   },
   "outputs": [
    {
     "name": "stdout",
     "output_type": "stream",
     "text": [
      "9\n",
      "27\n",
      "9\n",
      "27\n"
     ]
    }
   ],
   "source": [
    "# dictionary of functions\n",
    "exponent = {'square':lambda x: x ** 2,\n",
    "            'cube':lambda x: x ** 3}\n",
    "\n",
    "print(exponent['square'](3))\n",
    "# Prints 9\n",
    "print(exponent['cube'](3))\n",
    "# Prints 27\n",
    "\n",
    "# list of functions\n",
    "exponent = [lambda x: x ** 2,\n",
    "            lambda x: x ** 3]\n",
    "\n",
    "print(exponent[0](3))\n",
    "# Prints 9\n",
    "print(exponent[1](3))\n",
    "# Prints 27"
   ]
  },
  {
   "cell_type": "markdown",
   "metadata": {},
   "source": [
    "### Python Key Functions"
   ]
  },
  {
   "cell_type": "code",
   "execution_count": 16,
   "metadata": {
    "scrolled": true,
    "tags": []
   },
   "outputs": [
    {
     "name": "stdout",
     "output_type": "stream",
     "text": [
      "[('Max', 25), ('Bob', 30), ('Sam', 35)]\n"
     ]
    },
    {
     "data": {
      "text/plain": [
       "[('Bob', 30), ('Max', 25), ('Sam', 35)]"
      ]
     },
     "execution_count": 16,
     "metadata": {},
     "output_type": "execute_result"
    }
   ],
   "source": [
    "# Sort the list of tuples by the age of students\n",
    "L = [('Sam', 35),\n",
    "    ('Max', 25),\n",
    "    ('Bob', 30)]\n",
    "x = sorted(L, key=lambda student: student[1])\n",
    "print(x)\n",
    "# Prints [('Max', 25), ('Bob', 30), ('Sam', 35)]\n",
    "x = sorted(L)\n",
    "x"
   ]
  },
  {
   "cell_type": "markdown",
   "metadata": {},
   "source": [
    "### Lambda Closures"
   ]
  },
  {
   "cell_type": "code",
   "execution_count": 18,
   "metadata": {},
   "outputs": [
    {
     "name": "stdout",
     "output_type": "stream",
     "text": [
      "20\n"
     ]
    }
   ],
   "source": [
    "def multiplier(x):\n",
    "    def inner_func(y):\n",
    "        return x*y\n",
    "    return inner_func\n",
    "\n",
    "doubler = multiplier(2)\n",
    "print(doubler(10))\t# Prints 20"
   ]
  },
  {
   "cell_type": "code",
   "execution_count": 17,
   "metadata": {
    "tags": []
   },
   "outputs": [
    {
     "name": "stdout",
     "output_type": "stream",
     "text": [
      "20\n"
     ]
    }
   ],
   "source": [
    "#lambda Closures\n",
    "multiplier = (lambda x: (lambda y: x*y))\n",
    "doubler = multiplier(2)\n",
    "print(doubler(10))"
   ]
  },
  {
   "cell_type": "markdown",
   "metadata": {},
   "source": [
    "### Lambda functions vs Traditional functions"
   ]
  },
  {
   "cell_type": "code",
   "execution_count": 19,
   "metadata": {},
   "outputs": [
    {
     "name": "stdout",
     "output_type": "stream",
     "text": [
      "100\n",
      "100\n"
     ]
    }
   ],
   "source": [
    "# traditional function to return the square of a number\n",
    "def square(x):\n",
    "    return x ** 2\n",
    "\n",
    "# lambda function to calculate the square of a number\n",
    "square_lambda = lambda x: x ** 2\n",
    "\n",
    "print(square(10))\n",
    "print(square_lambda(10))"
   ]
  },
  {
   "cell_type": "markdown",
   "metadata": {},
   "source": [
    "___"
   ]
  },
  {
   "cell_type": "markdown",
   "metadata": {},
   "source": [
    "#### To-Do : Excercise : \n",
    "$$ $$\n",
    "##### Recursive Functions:\n",
    "<ol>\n",
    "    <li>We can determine how many digits a positive integer has by\n",
    "repeatedly dividing by 10 (without keeping the remainder) until the\n",
    "number is less than 10, consisting of only 1 digit. We add 1 to this\n",
    "value for each time we divided by 10. Here is the recursive\n",
    "algorithm:\n",
    "        <ol>\n",
    "<li> If n < 10 return 1.</li>\n",
    "<li> Otherwise, return 1 + the number of digits in n/10 (ignoring the fractional part).</li></ol>\n",
    "Implement this recursive algorithm in Python and test it using a\n",
    "main function that calls this with the values 15, 105, and 15105.\n",
    "\n",
    "(HINT: Remember that if n is an integer, n/10 will be an integer\n",
    "without the fractional part.) </li>\n",
    "    $$ $$\n",
    "    <li>Write a program Program for Fibonacci numbers\n",
    "        <ul>The Fibonacci numbers are the numbers in the following integer sequence.\n",
    "            0, 1, 1, 2, 3, 5, 8, 13, 21, 34, 55, 89, 144, ……..</ul>\n",
    "    </li>\n",
    "    $$ $$\n",
    "    <li>Write a recursive Python function that returns the sum of the first n integers. \n",
    "        (Hint: The function will be similiar to the factorial function!)</li>\n",
    "    $$ $$\n",
    "    <li>Write a recursive python functions to find lcm and gcd of given numbers</li>\n",
    "    $$ $$\n",
    "    <li> Write a recursive python function for Merge sort. (Merge sort is The most efficient sorting algorithm is , It works on the principle of Divide and Conquers)</li>\n",
    "</ol>\n",
    "$$ $$\n",
    "<h5> Lambda Functions : </h5>\n",
    "<ol>\n",
    "    <li>Write a python program to print fibonaci series using lambda</li>\n",
    "    $$ $$\n",
    "   <li>Draw the environment diagram for the following code:</li>\n",
    "\n",
    "            def blondie(f):\n",
    "                return lambda x: f(x + 1)\n",
    "            tuco = blondie(lambda x: x * x)\n",
    "            angel_eyes = tuco(2)\n",
    "    \n",
    "$$ $$\n",
    "  <li> Sort dict values based on alpahabatical order of values </li>\n",
    "  "
   ]
  },
  {
   "cell_type": "markdown",
   "metadata": {},
   "source": [
    "___"
   ]
  },
  {
   "cell_type": "markdown",
   "metadata": {},
   "source": [
    "#### Helpful Python syntax :\n",
    "If A is a list of integers, and you want to set the list B to all of the\n",
    "integers in A except the first one, you can write\n",
    "<h6>B = A[1:len(A)]</h6>\n",
    "$$ $$\n",
    "(This sets B to the integers in A starting at index 1 and ending at\n",
    "index len(A)-1, the last index. The integer in the first position of A\n",
    "at index 0 is not included.)"
   ]
  },
  {
   "cell_type": "markdown",
   "metadata": {},
   "source": [
    "&copy; **Nitheesh Reddy**"
   ]
  }
 ],
 "metadata": {
  "kernelspec": {
   "display_name": "Python 3",
   "language": "python",
   "name": "python3"
  },
  "language_info": {
   "codemirror_mode": {
    "name": "ipython",
    "version": 3
   },
   "file_extension": ".py",
   "mimetype": "text/x-python",
   "name": "python",
   "nbconvert_exporter": "python",
   "pygments_lexer": "ipython3",
   "version": "3.8.5"
  }
 },
 "nbformat": 4,
 "nbformat_minor": 4
}

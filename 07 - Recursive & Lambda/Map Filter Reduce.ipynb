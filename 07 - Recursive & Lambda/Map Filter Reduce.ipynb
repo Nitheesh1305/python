{
 "cells": [
  {
   "cell_type": "markdown",
   "metadata": {},
   "source": [
    "# Map, Filter and Reduce Functions in Python"
   ]
  },
  {
   "cell_type": "markdown",
   "metadata": {},
   "source": [
    "## Map Function :"
   ]
  },
  {
   "cell_type": "code",
   "execution_count": 1,
   "metadata": {
    "tags": []
   },
   "outputs": [
    {
     "name": "stdout",
     "output_type": "stream",
     "text": [
      "[50.26548245743669, 84.94866535306801, 254.46900494077323, 314.1592653589793, 28.274333882308138, 201.06192982974676, 113.09733552923255, 176.71458676442586]\n"
     ]
    }
   ],
   "source": [
    "import math\n",
    "\n",
    "def calculatearea(radius):\n",
    "    # calculate area of a circle\n",
    "    area = math.pi * radius * radius\n",
    "    return area\n",
    "\n",
    "radii = [4, 5.2, 9, 10, 3,8, 6, 7.5]\n",
    "    \n",
    "areas = [ ]\n",
    "\n",
    "for radius in radii:\n",
    "    area = calculatearea(radius)\n",
    "    areas.append(area)\n",
    "print(areas)"
   ]
  },
  {
   "cell_type": "code",
   "execution_count": 2,
   "metadata": {
    "tags": []
   },
   "outputs": [
    {
     "name": "stdout",
     "output_type": "stream",
     "text": [
      "[50.26548245743669, 84.94866535306801, 254.46900494077323, 314.1592653589793, 28.274333882308138, 201.06192982974676, 113.09733552923255, 176.71458676442586]\n"
     ]
    }
   ],
   "source": [
    "areas = map(calculatearea, radii)\n",
    "print(list(areas))"
   ]
  },
  {
   "cell_type": "markdown",
   "metadata": {},
   "source": [
    "## Map With Lambda"
   ]
  },
  {
   "cell_type": "code",
   "execution_count": 3,
   "metadata": {
    "tags": []
   },
   "outputs": [
    {
     "name": "stdout",
     "output_type": "stream",
     "text": [
      "[50.26548245743669, 84.94866535306801, 254.46900494077323, 314.1592653589793, 28.274333882308138, 201.06192982974676, 113.09733552923255, 176.71458676442586]\n"
     ]
    }
   ],
   "source": [
    "import math\n",
    "\n",
    "radii=(4,5.2,9,10,3,8,6,7.5)\n",
    "print(list(map(lambda x:math.pi*x**2,radii)))"
   ]
  },
  {
   "cell_type": "markdown",
   "metadata": {},
   "source": [
    "## Map Function With Multiple Aruguments"
   ]
  },
  {
   "cell_type": "code",
   "execution_count": 1,
   "metadata": {},
   "outputs": [
    {
     "name": "stdout",
     "output_type": "stream",
     "text": [
      "[11, 100, 432, 207]\n"
     ]
    }
   ],
   "source": [
    "# Multiply two sequences using map and lambda\n",
    "\n",
    "list_numbers = [1, 5, 8, 9]\n",
    "tuple_numbers = (11, 20, 54, 23)\n",
    "\n",
    "map_iterator = map(lambda x, y: x * y, list_numbers, tuple_numbers)\n",
    "print(list(map_iterator))"
   ]
  },
  {
   "cell_type": "markdown",
   "metadata": {},
   "source": [
    "### map( ) can listify the list of strings individually "
   ]
  },
  {
   "cell_type": "code",
   "execution_count": 2,
   "metadata": {
    "tags": []
   },
   "outputs": [
    {
     "name": "stdout",
     "output_type": "stream",
     "text": [
      "[['s', 'a', 't'], ['b', 'a', 't'], ['c', 'a', 't'], ['m', 'a', 't']]\n"
     ]
    }
   ],
   "source": [
    "# List of strings \n",
    "\n",
    "l = ['sat', 'bat', 'cat', 'mat'] \n",
    "\n",
    "print(list(map( list, l ))) \n"
   ]
  },
  {
   "cell_type": "code",
   "execution_count": 5,
   "metadata": {},
   "outputs": [
    {
     "data": {
      "text/plain": [
       "['s', 'a', 't']"
      ]
     },
     "execution_count": 5,
     "metadata": {},
     "output_type": "execute_result"
    }
   ],
   "source": [
    "a=list('sat')\n",
    "a"
   ]
  },
  {
   "cell_type": "markdown",
   "metadata": {},
   "source": [
    "# Filter Function:"
   ]
  },
  {
   "cell_type": "code",
   "execution_count": 1,
   "metadata": {
    "tags": []
   },
   "outputs": [
    {
     "name": "stdout",
     "output_type": "stream",
     "text": [
      "[70, 94.2, 75, 51]\n"
     ]
    }
   ],
   "source": [
    "scores=[45,70,94.2,75,51,49,35.1]\n",
    "newscores=[]\n",
    "# holds scores above average\n",
    "\n",
    "def isaboveaverage (scores):\n",
    "    for score in scores:\n",
    "        if score>50:\n",
    "            newscores.append(score) # if score is above average, add it to newscores\n",
    "isaboveaverage(scores)\n",
    "print(newscores)"
   ]
  },
  {
   "cell_type": "code",
   "execution_count": 2,
   "metadata": {
    "tags": []
   },
   "outputs": [
    {
     "name": "stdout",
     "output_type": "stream",
     "text": [
      "[70, 94.2, 75, 51]\n"
     ]
    }
   ],
   "source": [
    "def student(scores):\n",
    "    return scores>50\n",
    "print(list(filter(student,scores)))"
   ]
  },
  {
   "cell_type": "markdown",
   "metadata": {},
   "source": [
    "##  Using lambda within filter( )"
   ]
  },
  {
   "cell_type": "code",
   "execution_count": 13,
   "metadata": {
    "tags": []
   },
   "outputs": [
    {
     "name": "stdout",
     "output_type": "stream",
     "text": [
      "{51, 75, 70, 94.2}\n"
     ]
    }
   ],
   "source": [
    "y=filter(lambda x:(x>50),scores)\n",
    "print(set(y))"
   ]
  },
  {
   "cell_type": "markdown",
   "metadata": {},
   "source": [
    "### Filtering out missing data"
   ]
  },
  {
   "cell_type": "code",
   "execution_count": 14,
   "metadata": {},
   "outputs": [
    {
     "data": {
      "text/plain": [
       "['Jadon', 'Solace', 'Treasure', '', '', 'Onyx', 'Booboo']"
      ]
     },
     "execution_count": 14,
     "metadata": {},
     "output_type": "execute_result"
    }
   ],
   "source": [
    "students = [\"Jadon\", \"Solace\", \"\" \"Treasure\", \"\", \"\", \"Onyx\", \"Booboo\"]\n",
    "students"
   ]
  },
  {
   "cell_type": "code",
   "execution_count": 15,
   "metadata": {
    "tags": []
   },
   "outputs": [
    {
     "name": "stdout",
     "output_type": "stream",
     "text": [
      "['Jadon', 'Solace', 'Treasure', 'Onyx', 'Booboo']\n"
     ]
    }
   ],
   "source": [
    "newStudents = filter(None, students)\n",
    "print(list(newStudents))"
   ]
  },
  {
   "cell_type": "markdown",
   "metadata": {},
   "source": [
    "# Reduce function "
   ]
  },
  {
   "cell_type": "code",
   "execution_count": 16,
   "metadata": {},
   "outputs": [
    {
     "data": {
      "text/plain": [
       "187"
      ]
     },
     "execution_count": 16,
     "metadata": {},
     "output_type": "execute_result"
    }
   ],
   "source": [
    "from functools import reduce\n",
    "\n",
    "# Returns the sum of two elements\n",
    "\n",
    "def sumTwo(a,b):\n",
    "    return a+b\n",
    "\n",
    "result=reduce(sumTwo,[23,21,45,98]) # 23 + 21 = 44 , 44+45 = 89 , 89+98 = 187\n",
    "result"
   ]
  },
  {
   "cell_type": "markdown",
   "metadata": {},
   "source": [
    "## Using a lambda function within reduce"
   ]
  },
  {
   "cell_type": "code",
   "execution_count": 17,
   "metadata": {
    "tags": []
   },
   "outputs": [
    {
     "name": "stdout",
     "output_type": "stream",
     "text": [
      "187\n"
     ]
    }
   ],
   "source": [
    "from functools import reduce\n",
    "\n",
    "# Returns the sum of all the elements using `reduce`\n",
    "\n",
    "result=reduce((lambda a,b:a+b),[23,21,45,98]) # 23 + 21 = 44 , 44+45 = 89 , 89+98 = 187\n",
    "print(result)"
   ]
  },
  {
   "cell_type": "markdown",
   "metadata": {},
   "source": [
    "### Using map( ),filter( ) and reduce( ) along with each other \n"
   ]
  },
  {
   "cell_type": "markdown",
   "metadata": {},
   "source": [
    "\n",
    "#### Using filter( ) within map( )\n"
   ]
  },
  {
   "cell_type": "code",
   "execution_count": 9,
   "metadata": {},
   "outputs": [
    {
     "data": {
      "text/plain": [
       "[6, 8]"
      ]
     },
     "execution_count": 9,
     "metadata": {},
     "output_type": "execute_result"
    }
   ],
   "source": [
    "c=map(lambda x:x+x,filter(lambda x:(x>=3),(1,2,3,4))) # (3,4)\n",
    "list(c)"
   ]
  },
  {
   "cell_type": "markdown",
   "metadata": {},
   "source": [
    "#### Using map( ) within filter( )"
   ]
  },
  {
   "cell_type": "code",
   "execution_count": 10,
   "metadata": {},
   "outputs": [
    {
     "name": "stdout",
     "output_type": "stream",
     "text": [
      "[4, 6, 8]\n"
     ]
    }
   ],
   "source": [
    "c = filter(lambda x:(x>=3),map(lambda x:x+x,(1,2,3,4))) # [2,4,6,8] #lambda x: (x>=3)\n",
    "print(list(c))"
   ]
  },
  {
   "cell_type": "markdown",
   "metadata": {},
   "source": [
    "#### Using map( ) and filter( ) within reduce( )"
   ]
  },
  {
   "cell_type": "code",
   "execution_count": 12,
   "metadata": {},
   "outputs": [
    {
     "data": {
      "text/plain": [
       "14"
      ]
     },
     "execution_count": 12,
     "metadata": {},
     "output_type": "execute_result"
    }
   ],
   "source": [
    "from functools import reduce\n",
    "d = reduce(lambda x,y:x+y,map(lambda x:x+x,filter(lambda x:(x>=3),(1,2,3,4)))) \n",
    "d"
   ]
  },
  {
   "cell_type": "markdown",
   "metadata": {},
   "source": [
    "___"
   ]
  },
  {
   "cell_type": "markdown",
   "metadata": {},
   "source": [
    "## To-Do : Excercises : \n",
    "<ol>\n",
    "    <li>Write a Python program to add three given lists using Python map and lambda.</li>\n",
    "    $$ $$\n",
    "    <li>Given a list of strings and a string str, print all anagrams of str using python filter </li>\n",
    "    $$ $$\n",
    "    <li>Write a Python program to find palindromes in a given list of strings using Lambda.\n",
    "        <ul>Orginal list of strings: ['php', 'w3r', 'Python', 'abcd', 'Java', 'aaa'] ; List of palindromes: ['php', 'aaa'] </ul>\n",
    "     $$ $$\n",
    "     <li>Write a Python program to find the values of length six in a given list using Lambda.\n",
    "    ['Nitheesh','Naresh','Mahesh','sai'] ==>['Naresh','Mahesh']</li>\n",
    "  \n",
    "    "
   ]
  },
  {
   "cell_type": "markdown",
   "metadata": {},
   "source": [
    "<h6>Use each of map, filter, and reduce to fix the broken code</h6>"
   ]
  },
  {
   "cell_type": "code",
   "execution_count": null,
   "metadata": {},
   "outputs": [],
   "source": [
    "from functools import reduce\n",
    "\n",
    "\n",
    "# Use map to print the square of each numbers rounded\n",
    "# to three decimal places\n",
    "my_floats = [4.35, 6.09, 3.25, 9.77, 2.16, 8.88, 4.59]\n",
    "\n",
    "\n",
    "# Use filter to print only the names that are less than\n",
    "# or equal to seven letters\n",
    "my_names = [\"olumide\", \"akinremi\", \"josiah\", \"temidayo\", \"omoseun\"]\n",
    "\n",
    "\n",
    "# Use reduce to print the product of these numbers\n",
    "my_numbers = [4, 6, 9, 23, 5]\n",
    "\n",
    "\n",
    "# Fix all three respectively.\n",
    "map_result = list(map(lambda x: x, my_floats))\n",
    "filter_result = list(filter(lambda name: name, my_names, my_names))\n",
    "reduce_result = reduce(lambda num1, num2: num1 * num2, my_numbers, 0)\n",
    "\n",
    "\n",
    "print(map_result)\n",
    "print(filter_result)\n",
    "print(reduce_result)\n",
    "\n"
   ]
  },
  {
   "cell_type": "markdown",
   "metadata": {},
   "source": [
    "___"
   ]
  },
  {
   "cell_type": "markdown",
   "metadata": {},
   "source": [
    "&copy; **Nitheesh Reddy**"
   ]
  }
 ],
 "metadata": {
  "kernelspec": {
   "display_name": "Python 3",
   "language": "python",
   "name": "python3"
  },
  "language_info": {
   "codemirror_mode": {
    "name": "ipython",
    "version": 3
   },
   "file_extension": ".py",
   "mimetype": "text/x-python",
   "name": "python",
   "nbconvert_exporter": "python",
   "pygments_lexer": "ipython3",
   "version": "3.8.5"
  }
 },
 "nbformat": 4,
 "nbformat_minor": 4
}

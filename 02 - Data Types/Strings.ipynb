{
 "cells": [
  {
   "cell_type": "markdown",
   "metadata": {},
   "source": [
    "# Strings"
   ]
  },
  {
   "cell_type": "markdown",
   "metadata": {},
   "source": [
    "### Creating a String with single Quotes "
   ]
  },
  {
   "cell_type": "code",
   "execution_count": 1,
   "metadata": {},
   "outputs": [
    {
     "name": "stdout",
     "output_type": "stream",
     "text": [
      "Welcome to the Programmers Hub\n"
     ]
    }
   ],
   "source": [
    "String1 = 'Welcome to the Programmers Hub'\n",
    "print(String1) "
   ]
  },
  {
   "cell_type": "markdown",
   "metadata": {},
   "source": [
    "### Creating a String with double Quotes "
   ]
  },
  {
   "cell_type": "code",
   "execution_count": 2,
   "metadata": {},
   "outputs": [
    {
     "name": "stdout",
     "output_type": "stream",
     "text": [
      "I'm a Programmer\n"
     ]
    }
   ],
   "source": [
    "String2 = \"I'm a Programmer\"\n",
    "print(String2) "
   ]
  },
  {
   "cell_type": "markdown",
   "metadata": {},
   "source": [
    "### Creating a String with triple Quotes "
   ]
  },
  {
   "cell_type": "code",
   "execution_count": 3,
   "metadata": {},
   "outputs": [
    {
     "name": "stdout",
     "output_type": "stream",
     "text": [
      "I'm a Programmer and I live in a world of \"Python\"\n"
     ]
    }
   ],
   "source": [
    "String3 = '''I'm a Programmer and I live in a world of \"Python\"'''\n",
    "print(String3) "
   ]
  },
  {
   "cell_type": "markdown",
   "metadata": {},
   "source": [
    "### Creating String with triple Quotes allows multiple lines "
   ]
  },
  {
   "cell_type": "code",
   "execution_count": 4,
   "metadata": {},
   "outputs": [
    {
     "name": "stdout",
     "output_type": "stream",
     "text": [
      "Programmers \n",
      "    For \n",
      "        Life\n"
     ]
    }
   ],
   "source": [
    "String4 = '''Programmers \n",
    "    For \n",
    "        Life'''\n",
    "print(String4)"
   ]
  },
  {
   "cell_type": "markdown",
   "metadata": {},
   "source": [
    "### Use Quotes inside Python String"
   ]
  },
  {
   "cell_type": "code",
   "execution_count": 5,
   "metadata": {},
   "outputs": [
    {
     "ename": "SyntaxError",
     "evalue": "invalid syntax (<ipython-input-5-c670e984dab2>, line 1)",
     "output_type": "error",
     "traceback": [
      "\u001b[1;36m  File \u001b[1;32m\"<ipython-input-5-c670e984dab2>\"\u001b[1;36m, line \u001b[1;32m1\u001b[0m\n\u001b[1;33m    print(\"Dogs are \"love\"\")\u001b[0m\n\u001b[1;37m                     ^\u001b[0m\n\u001b[1;31mSyntaxError\u001b[0m\u001b[1;31m:\u001b[0m invalid syntax\n"
     ]
    }
   ],
   "source": [
    "print(\"Dogs are \"love\"\")"
   ]
  },
  {
   "cell_type": "code",
   "execution_count": 10,
   "metadata": {},
   "outputs": [
    {
     "name": "stdout",
     "output_type": "stream",
     "text": [
      "Dogs are \"love\" \n"
     ]
    }
   ],
   "source": [
    "print('Dogs are \"love\" ')"
   ]
  },
  {
   "cell_type": "code",
   "execution_count": 11,
   "metadata": {},
   "outputs": [
    {
     "name": "stdout",
     "output_type": "stream",
     "text": [
      "Dogs are 'love'\n"
     ]
    }
   ],
   "source": [
    "print(\"Dogs are 'love'\")"
   ]
  },
  {
   "cell_type": "markdown",
   "metadata": {},
   "source": [
    "### String Conversions"
   ]
  },
  {
   "cell_type": "code",
   "execution_count": 12,
   "metadata": {},
   "outputs": [
    {
     "name": "stdout",
     "output_type": "stream",
     "text": [
      "f\n"
     ]
    }
   ],
   "source": [
    "print(chr(102)) #ASIIC"
   ]
  },
  {
   "cell_type": "code",
   "execution_count": 13,
   "metadata": {},
   "outputs": [
    {
     "name": "stdout",
     "output_type": "stream",
     "text": [
      "98\n"
     ]
    }
   ],
   "source": [
    "print(ord('b'))"
   ]
  },
  {
   "cell_type": "code",
   "execution_count": 14,
   "metadata": {},
   "outputs": [
    {
     "data": {
      "text/plain": [
       "str"
      ]
     },
     "execution_count": 14,
     "metadata": {},
     "output_type": "execute_result"
    }
   ],
   "source": [
    "a=str(20)\n",
    "type(a)"
   ]
  },
  {
   "cell_type": "code",
   "execution_count": 15,
   "metadata": {},
   "outputs": [
    {
     "name": "stdout",
     "output_type": "stream",
     "text": [
      "20\n",
      "20\n"
     ]
    }
   ],
   "source": [
    "a=20\n",
    "a=str(a)\n",
    "\n",
    "c=\"20\"\n",
    "c=int(c)\n",
    "\n",
    "\n",
    "print(a)\n",
    "print(c)"
   ]
  },
  {
   "cell_type": "code",
   "execution_count": 16,
   "metadata": {},
   "outputs": [
    {
     "ename": "ValueError",
     "evalue": "invalid literal for int() with base 10: 'HSAI'",
     "output_type": "error",
     "traceback": [
      "\u001b[1;31m---------------------------------------------------------------------------\u001b[0m",
      "\u001b[1;31mValueError\u001b[0m                                Traceback (most recent call last)",
      "\u001b[1;32m<ipython-input-16-20af6ee13e9d>\u001b[0m in \u001b[0;36m<module>\u001b[1;34m\u001b[0m\n\u001b[0;32m      1\u001b[0m \u001b[1;31m#Cannot Covert Str words to integer\u001b[0m\u001b[1;33m\u001b[0m\u001b[1;33m\u001b[0m\u001b[1;33m\u001b[0m\u001b[0m\n\u001b[0;32m      2\u001b[0m \u001b[0mb\u001b[0m\u001b[1;33m=\u001b[0m\u001b[1;34m\"HSAI\"\u001b[0m\u001b[1;33m\u001b[0m\u001b[1;33m\u001b[0m\u001b[0m\n\u001b[1;32m----> 3\u001b[1;33m \u001b[0mb\u001b[0m\u001b[1;33m=\u001b[0m\u001b[0mint\u001b[0m\u001b[1;33m(\u001b[0m\u001b[0mb\u001b[0m\u001b[1;33m)\u001b[0m\u001b[1;33m\u001b[0m\u001b[1;33m\u001b[0m\u001b[0m\n\u001b[0m",
      "\u001b[1;31mValueError\u001b[0m: invalid literal for int() with base 10: 'HSAI'"
     ]
    }
   ],
   "source": [
    "#Cannot Covert Str words to integer\n",
    "b=\"HSAI\"\n",
    "b=int(b)"
   ]
  },
  {
   "cell_type": "markdown",
   "metadata": {},
   "source": [
    "### Accessing string characters in Python using Indexing\n",
    "\n",
    "<img src='indexing.png' >"
   ]
  },
  {
   "cell_type": "code",
   "execution_count": 17,
   "metadata": {},
   "outputs": [
    {
     "name": "stdout",
     "output_type": "stream",
     "text": [
      "str =  Hello\n",
      "len =  5\n"
     ]
    }
   ],
   "source": [
    "str = 'Hello'\n",
    "print('str = ', str)\n",
    "print('len = ', len(str))"
   ]
  },
  {
   "cell_type": "code",
   "execution_count": 18,
   "metadata": {},
   "outputs": [
    {
     "name": "stdout",
     "output_type": "stream",
     "text": [
      "first character =  H\n",
      "last character =  o\n"
     ]
    }
   ],
   "source": [
    "#first character\n",
    "print('first character = ', str[0])\n",
    "#last character\n",
    "print('last character = ', str[len(str)-1])"
   ]
  },
  {
   "cell_type": "code",
   "execution_count": 19,
   "metadata": {},
   "outputs": [
    {
     "ename": "IndexError",
     "evalue": "string index out of range",
     "output_type": "error",
     "traceback": [
      "\u001b[1;31m---------------------------------------------------------------------------\u001b[0m",
      "\u001b[1;31mIndexError\u001b[0m                                Traceback (most recent call last)",
      "\u001b[1;32m<ipython-input-19-dc6a75e25144>\u001b[0m in \u001b[0;36m<module>\u001b[1;34m\u001b[0m\n\u001b[0;32m      1\u001b[0m \u001b[1;31m#index must be in range\u001b[0m\u001b[1;33m\u001b[0m\u001b[1;33m\u001b[0m\u001b[1;33m\u001b[0m\u001b[0m\n\u001b[1;32m----> 2\u001b[1;33m \u001b[0mprint\u001b[0m\u001b[1;33m(\u001b[0m\u001b[0mstr\u001b[0m\u001b[1;33m[\u001b[0m\u001b[1;36m15\u001b[0m\u001b[1;33m]\u001b[0m\u001b[1;33m)\u001b[0m\u001b[1;33m\u001b[0m\u001b[1;33m\u001b[0m\u001b[0m\n\u001b[0m",
      "\u001b[1;31mIndexError\u001b[0m: string index out of range"
     ]
    }
   ],
   "source": [
    "#index must be in range\n",
    "print(str[15])"
   ]
  },
  {
   "cell_type": "code",
   "execution_count": 20,
   "metadata": {},
   "outputs": [
    {
     "ename": "TypeError",
     "evalue": "string indices must be integers",
     "output_type": "error",
     "traceback": [
      "\u001b[1;31m---------------------------------------------------------------------------\u001b[0m",
      "\u001b[1;31mTypeError\u001b[0m                                 Traceback (most recent call last)",
      "\u001b[1;32m<ipython-input-20-6fc957eb75db>\u001b[0m in \u001b[0;36m<module>\u001b[1;34m\u001b[0m\n\u001b[0;32m      1\u001b[0m \u001b[1;31m# index must be an integer\u001b[0m\u001b[1;33m\u001b[0m\u001b[1;33m\u001b[0m\u001b[1;33m\u001b[0m\u001b[0m\n\u001b[1;32m----> 2\u001b[1;33m \u001b[0mprint\u001b[0m\u001b[1;33m(\u001b[0m\u001b[0mstr\u001b[0m\u001b[1;33m[\u001b[0m\u001b[1;36m1.0\u001b[0m\u001b[1;33m]\u001b[0m\u001b[1;33m)\u001b[0m\u001b[1;33m\u001b[0m\u001b[1;33m\u001b[0m\u001b[0m\n\u001b[0m",
      "\u001b[1;31mTypeError\u001b[0m: string indices must be integers"
     ]
    }
   ],
   "source": [
    "# index must be an integer\n",
    "print(str[1.0])"
   ]
  },
  {
   "cell_type": "markdown",
   "metadata": {},
   "source": [
    "### String Slicing\n",
    "<img src='slicing.png' >"
   ]
  },
  {
   "cell_type": "markdown",
   "metadata": {},
   "source": [
    "<h4>Slicing Using Postive Indexing </h4>\n",
    "\n",
    "<img src='slicing1.png' >"
   ]
  },
  {
   "cell_type": "code",
   "execution_count": 21,
   "metadata": {},
   "outputs": [
    {
     "name": "stdout",
     "output_type": "stream",
     "text": [
      "tho\n"
     ]
    }
   ],
   "source": [
    "s = 'Python'\n",
    "\n",
    "print(s[2:5]) #Positive indexing "
   ]
  },
  {
   "cell_type": "markdown",
   "metadata": {},
   "source": [
    "<h4>Slicing Using Negetive Indexing </h4>\n",
    "\n",
    "<img src='slicing2.png' >"
   ]
  },
  {
   "cell_type": "code",
   "execution_count": 22,
   "metadata": {},
   "outputs": [
    {
     "name": "stdout",
     "output_type": "stream",
     "text": [
      "tho\n"
     ]
    }
   ],
   "source": [
    "print(s[-4:-1]) #Negetive indexing"
   ]
  },
  {
   "cell_type": "code",
   "execution_count": 23,
   "metadata": {},
   "outputs": [
    {
     "name": "stdout",
     "output_type": "stream",
     "text": [
      "Py\n",
      "Pytho\n",
      "thon\n",
      "thon\n"
     ]
    }
   ],
   "source": [
    "# You can omit the first or last index:\n",
    "\n",
    "print(s[:2]) #str[start:End:Step]\n",
    "\n",
    "print(s[:5])\n",
    "\n",
    "print(s[2:])\n",
    "\n",
    "print(s[2:len(s)])\n"
   ]
  },
  {
   "cell_type": "code",
   "execution_count": 24,
   "metadata": {},
   "outputs": [
    {
     "name": "stdout",
     "output_type": "stream",
     "text": [
      "Python\n",
      "Python\n"
     ]
    }
   ],
   "source": [
    "#To Print Complete String \n",
    "s = \"Python\"\n",
    "print(s[:2] + s[2:]) #[:n] + s[n:] == s\n",
    "\n",
    "print(s[:])"
   ]
  },
  {
   "cell_type": "code",
   "execution_count": 25,
   "metadata": {},
   "outputs": [
    {
     "name": "stdout",
     "output_type": "stream",
     "text": [
      "\n"
     ]
    }
   ],
   "source": [
    "#Retruns Empty String If Start=Stop\n",
    "print(s[2:2])"
   ]
  },
  {
   "cell_type": "code",
   "execution_count": 26,
   "metadata": {},
   "outputs": [
    {
     "name": "stdout",
     "output_type": "stream",
     "text": [
      "\n"
     ]
    }
   ],
   "source": [
    "#Start Greater Than Stop-Retruns Empty String\n",
    "#End Index has to be greater than starting index\n",
    "print(s[4:2])"
   ]
  },
  {
   "cell_type": "code",
   "execution_count": 27,
   "metadata": {},
   "outputs": [
    {
     "name": "stdout",
     "output_type": "stream",
     "text": [
      "o\n"
     ]
    }
   ],
   "source": [
    "s = \"Hello\"\n",
    "print(s[-1:])"
   ]
  },
  {
   "cell_type": "markdown",
   "metadata": {},
   "source": [
    "<h4> Slicing With Step </h4>\n",
    "\n",
    "<img src='slicing3.png' >"
   ]
  },
  {
   "cell_type": "code",
   "execution_count": 28,
   "metadata": {},
   "outputs": [
    {
     "name": "stdout",
     "output_type": "stream",
     "text": [
      "pto\n",
      "noh\n"
     ]
    }
   ],
   "source": [
    "#slice with a step:\n",
    "\n",
    "s = 'python'\n",
    "\n",
    "print(s[0:5:2])\n",
    "\n",
    "print(s[-1:-4:-1])"
   ]
  },
  {
   "cell_type": "code",
   "execution_count": 29,
   "metadata": {},
   "outputs": [
    {
     "name": "stdout",
     "output_type": "stream",
     "text": [
      "nohtyp\n"
     ]
    }
   ],
   "source": [
    "#Reversing of String \n",
    "print(s[::-1]) "
   ]
  },
  {
   "cell_type": "code",
   "execution_count": 30,
   "metadata": {},
   "outputs": [
    {
     "name": "stdout",
     "output_type": "stream",
     "text": [
      "11111\n",
      "22222\n",
      "33333\n",
      "44444\n",
      "55555\n"
     ]
    }
   ],
   "source": [
    "s = '1234512345123451234512345'\n",
    "\n",
    "print(s[::5])\n",
    "\n",
    "print(s[1::5])\n",
    "\n",
    "print(s[2::5])\n",
    "\n",
    "print(s[3::5])\n",
    "\n",
    "print(s[::-5])"
   ]
  },
  {
   "cell_type": "markdown",
   "metadata": {},
   "source": [
    "### String Manipulations"
   ]
  },
  {
   "cell_type": "markdown",
   "metadata": {},
   "source": [
    "<img src='str.png' >"
   ]
  },
  {
   "cell_type": "code",
   "execution_count": 31,
   "metadata": {},
   "outputs": [
    {
     "name": "stdout",
     "output_type": "stream",
     "text": [
      "Initial String:  Hello, I'm a Programmer\n"
     ]
    },
    {
     "ename": "TypeError",
     "evalue": "'str' object does not support item assignment",
     "output_type": "error",
     "traceback": [
      "\u001b[1;31m---------------------------------------------------------------------------\u001b[0m",
      "\u001b[1;31mTypeError\u001b[0m                                 Traceback (most recent call last)",
      "\u001b[1;32m<ipython-input-31-72b23989064e>\u001b[0m in \u001b[0;36m<module>\u001b[1;34m\u001b[0m\n\u001b[0;32m      5\u001b[0m \u001b[1;31m# Updating a character of the String\u001b[0m\u001b[1;33m\u001b[0m\u001b[1;33m\u001b[0m\u001b[1;33m\u001b[0m\u001b[0m\n\u001b[0;32m      6\u001b[0m \u001b[1;33m\u001b[0m\u001b[0m\n\u001b[1;32m----> 7\u001b[1;33m \u001b[0mString1\u001b[0m\u001b[1;33m[\u001b[0m\u001b[1;36m2\u001b[0m\u001b[1;33m]\u001b[0m \u001b[1;33m=\u001b[0m \u001b[1;34m'p'\u001b[0m\u001b[1;33m\u001b[0m\u001b[1;33m\u001b[0m\u001b[0m\n\u001b[0m\u001b[0;32m      8\u001b[0m \u001b[0mprint\u001b[0m\u001b[1;33m(\u001b[0m\u001b[1;34m\"Updating character at 2nd Index: \"\u001b[0m\u001b[1;33m,\u001b[0m\u001b[0mString1\u001b[0m\u001b[1;33m)\u001b[0m\u001b[1;33m\u001b[0m\u001b[1;33m\u001b[0m\u001b[0m\n",
      "\u001b[1;31mTypeError\u001b[0m: 'str' object does not support item assignment"
     ]
    }
   ],
   "source": [
    "# Python Program to Update character of a String - Strings are immutable\n",
    "\n",
    "String1 = \"Hello, I'm a Programmer\"\n",
    "print(\"Initial String: \",String1) \n",
    "# Updating a character of the String \n",
    "\n",
    "String1[2] = 'p'\n",
    "print(\"Updating character at 2nd Index: \",String1) "
   ]
  },
  {
   "cell_type": "code",
   "execution_count": 32,
   "metadata": {},
   "outputs": [
    {
     "name": "stdout",
     "output_type": "stream",
     "text": [
      "Updated String:  Welcome to the Programmers Hub\n"
     ]
    }
   ],
   "source": [
    "#  Updating entire String \n",
    "String1 = \"Welcome to the Programmers Hub\"\n",
    "print(\"Updated String: \",String1) "
   ]
  },
  {
   "cell_type": "code",
   "execution_count": 33,
   "metadata": {},
   "outputs": [
    {
     "name": "stdout",
     "output_type": "stream",
     "text": [
      "Initial String:  Hello, I'm a Programmer\n"
     ]
    },
    {
     "ename": "TypeError",
     "evalue": "'str' object doesn't support item deletion",
     "output_type": "error",
     "traceback": [
      "\u001b[1;31m---------------------------------------------------------------------------\u001b[0m",
      "\u001b[1;31mTypeError\u001b[0m                                 Traceback (most recent call last)",
      "\u001b[1;32m<ipython-input-33-30484c8b723b>\u001b[0m in \u001b[0;36m<module>\u001b[1;34m\u001b[0m\n\u001b[0;32m      4\u001b[0m \u001b[1;33m\u001b[0m\u001b[0m\n\u001b[0;32m      5\u001b[0m \u001b[1;31m# Deleting a character  of the String\u001b[0m\u001b[1;33m\u001b[0m\u001b[1;33m\u001b[0m\u001b[1;33m\u001b[0m\u001b[0m\n\u001b[1;32m----> 6\u001b[1;33m \u001b[1;32mdel\u001b[0m \u001b[0mString1\u001b[0m\u001b[1;33m[\u001b[0m\u001b[1;36m2\u001b[0m\u001b[1;33m]\u001b[0m\u001b[1;33m\u001b[0m\u001b[1;33m\u001b[0m\u001b[0m\n\u001b[0m\u001b[0;32m      7\u001b[0m \u001b[0mprint\u001b[0m\u001b[1;33m(\u001b[0m\u001b[1;34m\"Deleting character at 2nd Index: \"\u001b[0m\u001b[1;33m,\u001b[0m\u001b[0mString1\u001b[0m\u001b[1;33m)\u001b[0m\u001b[1;33m\u001b[0m\u001b[1;33m\u001b[0m\u001b[0m\n",
      "\u001b[1;31mTypeError\u001b[0m: 'str' object doesn't support item deletion"
     ]
    }
   ],
   "source": [
    "# Python Program to Delete characters from a String \n",
    "String1 = \"Hello, I'm a Programmer\"\n",
    "print(\"Initial String: \",String1) \n",
    "\n",
    "# Deleting a character  of the String \n",
    "del String1[2]  \n",
    "print(\"Deleting character at 2nd Index: \",String1) "
   ]
  },
  {
   "cell_type": "code",
   "execution_count": 34,
   "metadata": {},
   "outputs": [
    {
     "name": "stdout",
     "output_type": "stream",
     "text": [
      "String1 Deleted \n"
     ]
    },
    {
     "ename": "NameError",
     "evalue": "name 'String1' is not defined",
     "output_type": "error",
     "traceback": [
      "\u001b[1;31m---------------------------------------------------------------------------\u001b[0m",
      "\u001b[1;31mNameError\u001b[0m                                 Traceback (most recent call last)",
      "\u001b[1;32m<ipython-input-34-b8cdd5d6c428>\u001b[0m in \u001b[0;36m<module>\u001b[1;34m\u001b[0m\n\u001b[0;32m      3\u001b[0m \u001b[1;32mdel\u001b[0m \u001b[0mString1\u001b[0m\u001b[1;33m\u001b[0m\u001b[1;33m\u001b[0m\u001b[0m\n\u001b[0;32m      4\u001b[0m \u001b[0mprint\u001b[0m\u001b[1;33m(\u001b[0m\u001b[1;34m\"String1 Deleted \"\u001b[0m\u001b[1;33m)\u001b[0m\u001b[1;33m\u001b[0m\u001b[1;33m\u001b[0m\u001b[0m\n\u001b[1;32m----> 5\u001b[1;33m \u001b[0mprint\u001b[0m\u001b[1;33m(\u001b[0m\u001b[0mString1\u001b[0m\u001b[1;33m)\u001b[0m\u001b[1;33m\u001b[0m\u001b[1;33m\u001b[0m\u001b[0m\n\u001b[0m",
      "\u001b[1;31mNameError\u001b[0m: name 'String1' is not defined"
     ]
    }
   ],
   "source": [
    "# Deleting entire String \n",
    "\n",
    "del String1 \n",
    "print(\"String1 Deleted \") \n",
    "print(String1) "
   ]
  },
  {
   "cell_type": "markdown",
   "metadata": {},
   "source": [
    "### String Formatting"
   ]
  },
  {
   "cell_type": "code",
   "execution_count": 60,
   "metadata": {},
   "outputs": [
    {
     "name": "stdout",
     "output_type": "stream",
     "text": [
      "Nitheesh\n",
      "26\n",
      "Nitheesh is 26 years old\n",
      "Nitheesh is 26 years old\n",
      "Nitheesh is 26 years old\n"
     ]
    }
   ],
   "source": [
    "name = input()\n",
    "age = int(input())\n",
    "\n",
    "print('%s is %d years old' % (name, age))\n",
    "\n",
    "print('{} is {} years old'.format(name, age))\n",
    "\n",
    "print(f'{name} is {age} years old')  # f strings"
   ]
  },
  {
   "cell_type": "markdown",
   "metadata": {},
   "source": [
    "#### Python program to demonstrate the use of formatting using % "
   ]
  },
  {
   "cell_type": "code",
   "execution_count": 36,
   "metadata": {},
   "outputs": [
    {
     "name": "stdout",
     "output_type": "stream",
     "text": [
      "Variable as string = 15\n"
     ]
    }
   ],
   "source": [
    "# Initialize variable as a string \n",
    "variable = '15'\n",
    "string = \"Variable as string = %s\" %(variable) \n",
    "print (string)"
   ]
  },
  {
   "cell_type": "code",
   "execution_count": 37,
   "metadata": {},
   "outputs": [
    {
     "name": "stdout",
     "output_type": "stream",
     "text": [
      "Variable as raw data = '15'\n"
     ]
    }
   ],
   "source": [
    "# Printing as raw data \n",
    "print (\"Variable as raw data = %r\" %(variable) )"
   ]
  },
  {
   "cell_type": "code",
   "execution_count": 38,
   "metadata": {},
   "outputs": [
    {
     "name": "stdout",
     "output_type": "stream",
     "text": [
      "Variable as integer = 15\n",
      "Variable as float = 15.000000\n",
      "Variable as float = 15.0\n"
     ]
    }
   ],
   "source": [
    "# Convert the variable to integer And perform check other formatting options \n",
    "variable = int(variable) # Without this the below statement will give error. \n",
    "string = \"Variable as integer = %d\" %(variable) \n",
    "print (string )\n",
    "print (\"Variable as float = %f\" %(variable) )\n",
    "print (\"Variable as float = %.1f\" %(variable) )"
   ]
  },
  {
   "cell_type": "code",
   "execution_count": 39,
   "metadata": {},
   "outputs": [
    {
     "name": "stdout",
     "output_type": "stream",
     "text": [
      "Variable as hexadecimal = f\n",
      "Variable as octal = 17\n"
     ]
    }
   ],
   "source": [
    "# printing as any string or char after a mark \n",
    "print (\"Variable as hexadecimal = %x\" %(variable) )\n",
    "print (\"Variable as octal = %o\" %(variable) )"
   ]
  },
  {
   "cell_type": "markdown",
   "metadata": {},
   "source": [
    "#### Python string format( )  method"
   ]
  },
  {
   "cell_type": "code",
   "execution_count": 40,
   "metadata": {},
   "outputs": [
    {
     "name": "stdout",
     "output_type": "stream",
     "text": [
      "\n",
      "--- Default Order ---\n",
      "John, Bill and Sean\n"
     ]
    }
   ],
   "source": [
    "# default order\n",
    "default_order = \"{}, {} and {}\".format('John','Bill','Sean')\n",
    "print('\\n--- Default Order ---')\n",
    "print(default_order)"
   ]
  },
  {
   "cell_type": "code",
   "execution_count": 41,
   "metadata": {},
   "outputs": [
    {
     "name": "stdout",
     "output_type": "stream",
     "text": [
      "\n",
      "--- Positional Order ---\n",
      "Bill, John and Sean\n"
     ]
    }
   ],
   "source": [
    "# order using positional argument\n",
    "positional_order = \"{1}, {0} and {2}\".format('John','Bill','Sean')\n",
    "print('\\n--- Positional Order ---')\n",
    "print(positional_order)"
   ]
  },
  {
   "cell_type": "code",
   "execution_count": 42,
   "metadata": {},
   "outputs": [
    {
     "name": "stdout",
     "output_type": "stream",
     "text": [
      "\n",
      "--- Keyword Order ---\n",
      "Sean, Bill and John\n"
     ]
    }
   ],
   "source": [
    "# order using keyword argument\n",
    "keyword_order = \"{s}, {b} and {j}\".format(j='John',b='Bill',s='Sean')\n",
    "print('\\n--- Keyword Order ---')\n",
    "print(keyword_order)"
   ]
  },
  {
   "cell_type": "code",
   "execution_count": 43,
   "metadata": {},
   "outputs": [
    {
     "name": "stdout",
     "output_type": "stream",
     "text": [
      "\n",
      "--- Mixed Order ---\n",
      "John, Bill and Sean\n"
     ]
    }
   ],
   "source": [
    "# order using Mixed arguments\n",
    "mixed = \"{0}, {1} and {j}\".format('John','Bill',j='Sean')\n",
    "print('\\n--- Mixed Order ---')\n",
    "print(mixed)"
   ]
  },
  {
   "cell_type": "code",
   "execution_count": 44,
   "metadata": {},
   "outputs": [
    {
     "name": "stdout",
     "output_type": "stream",
     "text": [
      "    Python\n",
      "  Python  \n",
      "*******Python*******\n",
      "  Programmers Hub    was founded in 2020      !\n",
      "|butter    |  bread   |       jam|\n"
     ]
    }
   ],
   "source": [
    "# string padding with right alignment\n",
    "print(\"{:>10}\".format(\"Python\"))\n",
    "\n",
    "# string padding with center alignment\n",
    "print(\"{:^10}\".format(\"Python\"))\n",
    "\n",
    "# string padding with center alignment and '*' padding character\n",
    "print(\"{:*^20}\".format(\"Python\"))\n",
    "\n",
    "# To demonstrate aligning of spaces - string alignment\n",
    "print(\"{0:^20} was founded in {1:<10}!\".format(\"Programmers Hub\", 2020)) \n",
    "\n",
    "print(\"|{:<10}|{:^10}|{:>10}|\".format('butter','bread','jam'))"
   ]
  },
  {
   "cell_type": "code",
   "execution_count": 45,
   "metadata": {},
   "outputs": [
    {
     "name": "stdout",
     "output_type": "stream",
     "text": [
      "cat\n",
      "cat  \n",
      " cat \n"
     ]
    }
   ],
   "source": [
    "#Truncating strings with format()\n",
    "\n",
    "#Truncating strings to 3 letters\n",
    "print(\"{:.3}\".format(\"caterpillar\"))\n",
    "\n",
    "# truncating strings to 3 letters and padding\n",
    "print(\"{:5.3}\".format(\"caterpillar\"))\n",
    "\n",
    "#truncating strings to 3 letters, padding and center alignment\n",
    "print(\"{:^5.3}\".format(\"caterpillar\"))"
   ]
  },
  {
   "cell_type": "code",
   "execution_count": 46,
   "metadata": {},
   "outputs": [
    {
     "name": "stdout",
     "output_type": "stream",
     "text": [
      "The number is:123\n",
      "This site is 100.000000% securely encrypted!!\n",
      "My average of this semester was 78.23%\n",
      "My average of this semester was 78%\n",
      "bin: 1100, oct: 14, hex: c\n"
     ]
    }
   ],
   "source": [
    "# Simple number formatting\n",
    "\n",
    "# integer arguments\n",
    "print(\"The number is:{:d}\".format(123))\n",
    "\n",
    "# Convert decimal integers floating point numeric constants \n",
    "print (\"This site is {0:f}% securely {1}!!\".format(100, \"encrypted\")) \n",
    "\n",
    "# To limit the precision \n",
    "print (\"My average of this {0} was {1:.2f}%\".format(\"semester\", 78.234876)) \n",
    "\n",
    "# For no decimal places \n",
    "print (\"My average of this {0} was {1:.0f}%\".format(\"semester\", 78.234876)) \n",
    "\n",
    "# octal, binary and hexadecimal format\n",
    "print(\"bin: {0:b}, oct: {0:o}, hex: {0:x}\".format(12))"
   ]
  },
  {
   "cell_type": "code",
   "execution_count": 47,
   "metadata": {},
   "outputs": [
    {
     "name": "stdout",
     "output_type": "stream",
     "text": [
      "   12\n",
      "1234\n",
      "  12.235\n",
      "00012\n",
      "0012.235\n"
     ]
    }
   ],
   "source": [
    "# Number formatting with padding for int and floats\n",
    "\n",
    "# integer numbers with minimum width\n",
    "print(\"{:5d}\".format(12))\n",
    "\n",
    "# width doesn't work for numbers longer than padding\n",
    "print(\"{:2d}\".format(1234))\n",
    "\n",
    "# padding for float numbers\n",
    "print(\"{:8.3f}\".format(12.2346))\n",
    "\n",
    "# integer numbers with minimum width filled with zeros\n",
    "print(\"{:05d}\".format(12))\n",
    "\n",
    "# padding for float numbers filled with zeros\n",
    "print(\"{:08.3f}\".format(12.2346))"
   ]
  },
  {
   "cell_type": "markdown",
   "metadata": {},
   "source": [
    "#### Python Concatenation and Repetition"
   ]
  },
  {
   "cell_type": "code",
   "execution_count": 48,
   "metadata": {},
   "outputs": [],
   "source": [
    "str1 = 'Hello'\n",
    "str2 ='World!'"
   ]
  },
  {
   "cell_type": "code",
   "execution_count": 49,
   "metadata": {},
   "outputs": [
    {
     "name": "stdout",
     "output_type": "stream",
     "text": [
      "Concatenation HelloWorld!\n",
      "With Space :  Hello World!\n"
     ]
    }
   ],
   "source": [
    "#Concatenation\n",
    "\n",
    "print('Concatenation', str1 + str2)\n",
    "\n",
    "print(\"With Space : \", str1 + \" \" + str2)"
   ]
  },
  {
   "cell_type": "code",
   "execution_count": 50,
   "metadata": {},
   "outputs": [
    {
     "name": "stdout",
     "output_type": "stream",
     "text": [
      "Replication :  HelloHelloHelloHelloHelloHelloHelloHelloHelloHello\n"
     ]
    }
   ],
   "source": [
    "#Replication\n",
    "print(\"Replication : \", str1 * 10)"
   ]
  },
  {
   "cell_type": "code",
   "execution_count": 51,
   "metadata": {},
   "outputs": [
    {
     "name": "stdout",
     "output_type": "stream",
     "text": [
      "----------Hello----------\n"
     ]
    }
   ],
   "source": [
    "#Concatenation and Replication\n",
    "print('-'* 10 + str1 + '-'* 10)"
   ]
  },
  {
   "cell_type": "markdown",
   "metadata": {},
   "source": [
    "#### Escape Sequences - \\"
   ]
  },
  {
   "cell_type": "code",
   "execution_count": 52,
   "metadata": {},
   "outputs": [
    {
     "name": "stdout",
     "output_type": "stream",
     "text": [
      "Hi, I'm a programmer\n"
     ]
    }
   ],
   "source": [
    "#printing single quote\n",
    "str1 = 'Hi, I\\'m a programmer'\n",
    "print(str1)"
   ]
  },
  {
   "cell_type": "code",
   "execution_count": 53,
   "metadata": {},
   "outputs": [
    {
     "name": "stdout",
     "output_type": "stream",
     "text": [
      "\"Hello world\"\n"
     ]
    }
   ],
   "source": [
    "#printing double quotes\n",
    "str2 = \"\\\"Hello world\\\"\"\n",
    "print(str2)"
   ]
  },
  {
   "cell_type": "code",
   "execution_count": 54,
   "metadata": {},
   "outputs": [
    {
     "name": "stdout",
     "output_type": "stream",
     "text": [
      "D:\\work_folder\\python_works\n"
     ]
    }
   ],
   "source": [
    "#printing Backslash\n",
    "str3 = \"D:\\\\work_folder\\\\python_works\"\n",
    "print(str3)"
   ]
  },
  {
   "cell_type": "code",
   "execution_count": 55,
   "metadata": {},
   "outputs": [
    {
     "name": "stdout",
     "output_type": "stream",
     "text": [
      "Hi,  am a programmer\n"
     ]
    }
   ],
   "source": [
    "#printing Backspace\n",
    "str4 = \"Hi, I\\b am a programmer\"\n",
    "print(str4)"
   ]
  },
  {
   "cell_type": "code",
   "execution_count": 56,
   "metadata": {},
   "outputs": [
    {
     "name": "stdout",
     "output_type": "stream",
     "text": [
      "Hi, I\t am a programmer\n"
     ]
    }
   ],
   "source": [
    "#printing Horizontal Tab\n",
    "str5 = \"Hi, I\\t am a programmer\"\n",
    "print(str5)"
   ]
  },
  {
   "cell_type": "code",
   "execution_count": 57,
   "metadata": {},
   "outputs": [
    {
     "name": "stdout",
     "output_type": "stream",
     "text": [
      "Hi, I\n",
      " am a programmer\n"
     ]
    }
   ],
   "source": [
    "#printing NewLine\n",
    "str6 = \"Hi, I\\n am a programmer\"\n",
    "print(str6)"
   ]
  },
  {
   "cell_type": "code",
   "execution_count": 58,
   "metadata": {},
   "outputs": [
    {
     "name": "stdout",
     "output_type": "stream",
     "text": [
      "This is  IncludeHelp\n"
     ]
    }
   ],
   "source": [
    "#using hexadecimal values\n",
    "str7 = \"This is  \\x49\\x6E\\x63\\x6C\\x75\\x64\\x65\\x48\\x65\\x6C\\x70\"\n",
    "print(str7)"
   ]
  },
  {
   "cell_type": "markdown",
   "metadata": {},
   "source": [
    "**Ignoring escape sequences - RawStrings**"
   ]
  },
  {
   "cell_type": "code",
   "execution_count": 59,
   "metadata": {},
   "outputs": [
    {
     "name": "stdout",
     "output_type": "stream",
     "text": [
      "Hi, I\\'m IncludeHelp\n",
      "\\\"Hello world\\\"\n",
      "D:\\\\work_folder\\\\python_works\n",
      "This is  \\x49\\x6E\\x63\\x6C\\x75\\x64\\x65\\x48\\x65\\x6C\\x70\n"
     ]
    }
   ],
   "source": [
    "#ignoring single quote escape sequences\n",
    "str1 = r\"Hi, I\\'m IncludeHelp\"\n",
    "#ignoring double quotes escape sequences\n",
    "str2 = r\"\\\"Hello world\\\"\"\n",
    "#ignoring path escape sequences\n",
    "str3 = R\"D:\\\\work_folder\\\\python_works\"\n",
    "#ignoring hexadecimal values escape sequences\n",
    "str4 = R\"This is  \\x49\\x6E\\x63\\x6C\\x75\\x64\\x65\\x48\\x65\\x6C\\x70\"\n",
    "\n",
    "print(str1)\n",
    "print(str2)\n",
    "print(str3)\n",
    "print(str4)"
   ]
  },
  {
   "cell_type": "markdown",
   "metadata": {},
   "source": [
    "&copy; **Nitheesh Reddy**"
   ]
  }
 ],
 "metadata": {
  "kernelspec": {
   "display_name": "Python 3",
   "language": "python",
   "name": "python3"
  },
  "language_info": {
   "codemirror_mode": {
    "name": "ipython",
    "version": 3
   },
   "file_extension": ".py",
   "mimetype": "text/x-python",
   "name": "python",
   "nbconvert_exporter": "python",
   "pygments_lexer": "ipython3",
   "version": "3.8.5"
  }
 },
 "nbformat": 4,
 "nbformat_minor": 4
}

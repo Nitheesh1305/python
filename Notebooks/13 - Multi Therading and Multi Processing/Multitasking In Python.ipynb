{
 "cells": [
  {
   "cell_type": "markdown",
   "metadata": {},
   "source": [
    "<b><h1 style=\"color:#ff0066;\" ><center>Multi-Tasking -- Multi-threading  in Python</center></h1><br>\n",
    "<center><img src='https://miro.medium.com/max/1313/1*MrpP9-2AdYQfa9iPnTrdsQ.png' width=\"800\" height=\"600\"></center><br>\n",
    "A deep dive into multi-threading and multi-processing with Python and how they are related to <br><br>concurrency and parallelism.<br><br>\n",
    "Here, we will discuss :<br><br>\n",
    "    <li>Difference between concurrency and parallelism</li><br>\n",
    "    <li>Process vs. Thread</li><br>\n",
    "    <li>Multi-Threading in Python</li><br>"
   ]
  },
  {
   "cell_type": "markdown",
   "metadata": {},
   "source": [
    "<b><h2 style=\"color:#FF5733;\" >What is Multitasking in Python ? </h2>\n",
    "<br>\n",
    "<center><img src=\"https://i.imgur.com/e2My3xj.png\" width=\"600\" height=\"600\" ></center><br>\n",
    "Let's imagine we got slow python code<br><br>\n",
    "<li>In such situations we try to optimize the code itself. Things such as using proper algorithms and data structures.</li><br>\n",
    "<li>If it's still not enough we can optimize our code to use more of the hardware</li><br>\n",
    "In layman's terms, it's multitasking <br><br>\n",
    "<li>Multitasking is the ability of an operating system to perform multiple tasks simultaneously</li><br>\n",
    "<li>For example, you are working on a Jupyter Notebook, downloading a movie, and listening to a song</li><br>\n",
    "<li>All these tasks are performed by the same OS and in sync</li><br>\n",
    "<li>There are two types of multitasking :</li>\n",
    "<pre>\n",
    "    1.Process-based - Parallelism  <br>  \n",
    "    2.Thread-based - Concurrency\n",
    "</pre>"
   ]
  },
  {
   "cell_type": "markdown",
   "metadata": {},
   "source": [
    "<b><h2 style=\"color:#cc33ff;\" >Terminologies : </h2><br>\n",
    "Before we dive in let's understand what these terms mean : <br><br>\n",
    "<li><font style=\"color:#FF33F2\">Program :</font> A program is an executable file which consists of a set of instructions toperform some task and<br><br>  is usually stored on the disk of your computer.</li><br>\n",
    "<li><font style=\"color:#FF33F2\">Process : </font>A process is what we call a program that has been loaded into memory along with all the resources<br><br> it needs to operate. It has its own memory space.</li><br>\n",
    "<li><font style=\"color:#FF33F2\">Thread : </font>A thread is the unit of execution within a process. A process can have multiple threads running <br><br> where each thread uses the process’s memory space and shares it with other threads.</li><br>\n",
    "<center><img src=\"https://shortest.link/412x\" width=\"400\" height=\"300\" ></center><br>\n",
    "<li><font style=\"color:#FF33F2\">Core : </font>The CPU’s processor. This term refers to the hardware component of your CPU<br><br> A core can work on a single task; multi-core processors can perform multiple tasks at once.</li><br>"
   ]
  },
  {
   "cell_type": "markdown",
   "metadata": {},
   "source": [
    "<b><h2 style=\"color:#028E8B;\" >Concurrency : </h2><br>\n",
    "<li>Concurrency is fake multitasking, meaning that you don't run things simultaneously. </li><br>\n",
    "<li>You instead take turns and hence making it look like you're running things simultaneously. </li><br>\n",
    "<li>Concurrency is when tasks start, run and complete in overlapping periods,on a single-core server.</li><br>\n",
    "<center><img src=\"https://miro.medium.com/max/1282/1*0_KY5zM4OlYpEdxpMqjEmQ.png\" width=\"400\" height=\"300\" ></center><br>\n",
    "<li>Concurrency in python can be achieved through </li>\n",
    "<pre>\n",
    "    1.Multi Thereading<br>  \n",
    "    2.Asyncio (Asynchronous Programming)\n",
    "</pre>"
   ]
  },
  {
   "cell_type": "markdown",
   "metadata": {},
   "source": [
    "<b><h2 style=\"color:#028E8B;\" >Parallelism : </h2><br>\n",
    "<li>Parallelism is true multitasking, meaning that tasks literally start and run at the same time.</li><br>\n",
    "    <li>This is done using <font style=\"color:#FF5733\">multiprocessing</font>, where you use multiple CPU cores to distribute tasks accordingly</li><br>\n",
    "<li>This doesn't \"break\" up the code into parts, each core has a complete running copy of your program.</li><br>\n",
    "<li>In multi-core environments, each core can execute one task at exactly the same time</li><br>\n",
    "<li>With parallelism, we are able to maximise the use of hardware resources</li><br>\n",
    "<center><img src=\"https://miro.medium.com/max/962/1*iuM9nenj01Tv-mfQ36c_1g.png\" width=\"400\" height=\"300\" ></center><br>"
   ]
  },
  {
   "cell_type": "markdown",
   "metadata": {},
   "source": [
    "<b>Additionally,both concurrency and parallelism could be combined during task execution<br><br>\n",
    "<center><img src=\"https://miro.medium.com/max/1282/1*dNdE7O8exRHD0NKnq3eWJQ.png\" width=\"400\" height=\"400\" ></center>"
   ]
  },
  {
   "cell_type": "markdown",
   "metadata": {},
   "source": [
    "---\n",
    "\n",
    "---\n",
    "\n",
    "---"
   ]
  },
  {
   "cell_type": "markdown",
   "metadata": {},
   "source": [
    "<b><center><h1 style=\"color:#FF5733;\" >Multithreading in Python  </h1>\n",
    "<br>\n",
    "<img src=\"https://res.cloudinary.com/dyd911kmh/image/upload/f_auto,q_auto:best/v1588351436/t1_p0bram.png\" width=\"800\" height=\"200\" ></center><br>\n",
    "    \n",
    "<li>Multithreading is defined as the ability of a processor to execute multiple threads concurrently, </li><br>\n",
    "<li>All threads of a process share global variables and the program code and shares the same CPU and memory</li><br>\n",
    "<li>It is achieved using frequent switching between threads. This is termed as context switching.</li><br>\n",
    "<li> In context switching, the state of a thread is saved and state of another thread is loaded <br><br>whenever any interrupt (due to I/O or manually set) takes place</li><br>\n",
    "<li>However, because of the GIL in Python, not all tasks can be executed faster by using multithreading</li><br>\n",
    "<li>A simple example of multi-threading is downloading multiple files from the Internet.</li><br>\n",
    "<li>There are two main modules which can be used to handle threads in Python: :</li>\n",
    "<pre>\n",
    "    1.The thread module, and <br>  \n",
    "    2.The threading module\n",
    "</pre>"
   ]
  },
  {
   "cell_type": "markdown",
   "metadata": {},
   "source": [
    "<b><h2 style=\"color:#FF5733;\" >The Thread Module</h2>\n",
    "<br>\n",
    "    <li>The syntax to create a new thread using this module is as follows :</li>\n",
    "    <pre>thread.start_new_thread(function_name, arguments)</pre>\n",
    "    <li>However, the thread module has long been deprecated. Starting with Python 3</li><br>\n",
    "    <li>It has been designated as obsolete and is only accessible as __thread for backward compatibility.</li><br>\n",
    "    <li>We should use the higher-level threading module for applications which you intend to deploy</li>"
   ]
  },
  {
   "cell_type": "markdown",
   "metadata": {},
   "source": [
    "<b><h2 style=\"color:#cc33ff;\" > The Threading Module :  </h2><br>\n",
    "<li>It is the high-level implementation of threading in python and used for managing multithreaded applications</li><br>\n",
    "<li>It provides a wide range of features when compared to the thread module.</li><br>\n",
    "<center><img src='https://www.guru99.com/images/1/080219_0505_Multithread3.png' width=\"550\" height=\"550\"></center>"
   ]
  },
  {
   "cell_type": "markdown",
   "metadata": {},
   "source": [
    "<b><h3 style=\"color:#028E8B;\" >Lets Code: </h3>"
   ]
  },
  {
   "cell_type": "code",
   "execution_count": 17,
   "metadata": {},
   "outputs": [],
   "source": [
    "#This program includes two separate tasks (functions) as follows\n",
    "from time import sleep, perf_counter\n",
    "def calc_square(numbers):\n",
    "    for n in numbers:\n",
    "        print(f'\\nCaluclating Square : {n} ^ 2 = {n*n}')\n",
    "        time.sleep(1)\n",
    "\n",
    "def calc_cube(numbers):\n",
    "    for n in numbers:\n",
    "        print(f'\\nCaluclating Cube : {n} ^ 3 = {n*n*n}')\n",
    "        time.sleep(1)"
   ]
  },
  {
   "cell_type": "markdown",
   "metadata": {},
   "source": [
    "<b><h3 style=\"color:#028E8B;\" >Single-threaded applications </h3>"
   ]
  },
  {
   "cell_type": "code",
   "execution_count": 18,
   "metadata": {},
   "outputs": [
    {
     "name": "stdout",
     "output_type": "stream",
     "text": [
      "\n",
      "Caluclating Square : 2 ^ 2 = 4\n",
      "\n",
      "Caluclating Square : 3 ^ 2 = 9\n",
      "\n",
      "Caluclating Square : 5 ^ 2 = 25\n",
      "\n",
      "Caluclating Square : 8 ^ 2 = 64\n",
      "\n",
      "Caluclating Cube : 2 ^ 3 = 8\n",
      "\n",
      "Caluclating Cube : 3 ^ 3 = 27\n",
      "\n",
      "Caluclating Cube : 5 ^ 3 = 125\n",
      "\n",
      "Caluclating Cube : 8 ^ 3 = 512\n",
      "\n",
      "It took  8.09 second(s) to complete.\n"
     ]
    }
   ],
   "source": [
    "#Single-threaded applications\n",
    "numbers = [2, 3, 5, 8]\n",
    "\n",
    "start = perf_counter()\n",
    "\n",
    "calc_square(numbers)\n",
    "calc_cube(numbers)\n",
    "\n",
    "end = perf_counter()\n",
    "\n",
    "print(f'\\nIt took {end-start: 0.2f} second(s) to complete.')"
   ]
  },
  {
   "cell_type": "markdown",
   "metadata": {},
   "source": [
    "<b><li>The following diagram illustrates how the program works : </li><br>\n",
    "<center><img src='https://www.pythontutorial.net/wp-content/uploads/2020/12/Python-Threading-Single-threaded-App.png' width=\"550\" height=\"550\"></center><br>\n",
    "<li>First, the calc_square( ) function executes and sleeps for one second. Then it executes <br><br> calc_cube( ) and also sleeps for another second. Finally, the program completes.</li><br>\n",
    "\n",
    "<li>When the function calls the sleep() function, the CPU is idle.</li><br>\n",
    "<li>In other words, the CPU doesn’t do anything, which is not efficient in terms of resource utilization.</li><br>\n",
    "<li>This program has one process with a single thread, which is called the main thread</li><br>\n",
    "<li>Because the program has only one thread, it’s called the single-threaded program.</li><br>\n",
    "<li>Remember, every process has one “main thread” always running. </li>"
   ]
  },
  {
   "cell_type": "markdown",
   "metadata": {},
   "source": [
    "<b><h3 style=\"color:#cc33ff;\" > Multi-Threaded Program :  </h3><br>\n",
    "<li>A threading module is made up of a Thread class, which is instantiated to create a Python thread.</li><br>\n",
    "<li>The Thread ( ) accepts many parameters. The main ones are :</li>\n",
    "    <pre>target: specifies a function (fn) to run in the new thread.\n",
    "    \n",
    "args: specifies the arguments of the function (fn). The args argument is a tuple.</pre>\n",
    "<li>We start the thread by calling the start () method of the Thread instance</li><br>\n",
    "<li>By calling the join( ) method, the main thread will wait for the second thread to complete before it is terminated.</li><br>\n",
    "<li>The main thread creates the child thread objects and also initiates it.</li><br>"
   ]
  },
  {
   "cell_type": "code",
   "execution_count": 19,
   "metadata": {},
   "outputs": [
    {
     "name": "stdout",
     "output_type": "stream",
     "text": [
      "\n",
      "Caluclating Square : 2 ^ 2 = 4\n",
      "\n",
      "Caluclating Cube : 2 ^ 3 = 8\n",
      "\n",
      "Caluclating Square : 3 ^ 2 = 9\n",
      "\n",
      "Caluclating Cube : 3 ^ 3 = 27\n",
      "\n",
      "Caluclating Square : 5 ^ 2 = 25\n",
      "\n",
      "Caluclating Cube : 5 ^ 3 = 125\n",
      "\n",
      "Caluclating Square : 8 ^ 2 = 64\n",
      "\n",
      "Caluclating Cube : 8 ^ 3 = 512\n",
      "\n",
      "It took  4.07 second(s) to complete.\n"
     ]
    }
   ],
   "source": [
    "import threading\n",
    "\n",
    "start = time.time()\n",
    "\n",
    "#Instantiating Thread Class\n",
    "square_thread = threading.Thread(target=calc_square, args=(numbers,))\n",
    "cube_thread = threading.Thread(target=calc_cube, args=(numbers,))\n",
    "\n",
    "#Starting the Thread\n",
    "square_thread.start()\n",
    "cube_thread.start()\n",
    "\n",
    "#Joining the threads\n",
    "square_thread.join()\n",
    "cube_thread.join()\n",
    "\n",
    "end = time.time()\n",
    "\n",
    "print(f'\\nIt took {end-start: 0.2f} second(s) to complete.')"
   ]
  },
  {
   "cell_type": "markdown",
   "metadata": {},
   "source": [
    "<b>The following diagram shows how threads execute:<br><br>\n",
    "<center><img src=\"https://www.pythontutorial.net/wp-content/uploads/2020/12/Python-Threading-Multi-threaded-App.png\" width=\"500\" height=\"500\" ></center><br>\n",
    "Note : Join ( ) should be placed in the main thread. Join blocks the calling or the main thread until <br><br>the execution of the thread that is joined also terminates.<br><br>\n",
    "<center><img src=\"https://miro.medium.com/max/1050/1*OB1D50RaD2_M0O6H30RU3w.png\" width=\"500\" height=\"500\" ></center><br>"
   ]
  },
  {
   "cell_type": "markdown",
   "metadata": {},
   "source": [
    "<b><h3 style=\"color:#028E8B;\" >ThreadPool Executor</h3><br>\n",
    "<li>ThreadPoolExector is an easy way to implement and spawn multiple threads using concurrent.futures.</li><br>\n",
    "<center><img src='https://miro.medium.com/max/605/1*-U2O6zmthGvFzQRUyAnF0g.png' width=\"400\" height=\"400\"></center>\n",
    "<li>concurrent.futures has an abstract class Executor, and it has two concrete subclasses</li>\n",
    "    <pre>ThreadPoolExecutor: For multi Threading\n",
    "    \n",
    "ProcessPoolExecutor: For multi Processing</pre>\n",
    "<br>\n",
    "<li>ThreadPoolExecutor class exposes three methods to execute threads asynchronously : </li>\n",
    "<pre>\n",
    "The submit() method takes a function and executes it asynchronously.\n",
    "\n",
    "map() – execute a function asynchronously for each element in an iterable.\n",
    "\n",
    "shutdown() – shut down the executor.\n",
    "</pre>"
   ]
  },
  {
   "cell_type": "code",
   "execution_count": 24,
   "metadata": {},
   "outputs": [
    {
     "name": "stdout",
     "output_type": "stream",
     "text": [
      "Downloading..\n",
      "Downloading..\n",
      "Downloading..\n",
      "Downloading..\n",
      "Downloading..\n",
      "Single Threaded Code Took :8.645940800000972 seconds\n",
      "**************************************************\n",
      "Downloading..\n",
      "Downloading..\n",
      "Downloading..\n",
      "Downloading..\n",
      "Downloading..\n",
      "MultiThreaded Code Took:3.4672711999992316 seconds\n"
     ]
    }
   ],
   "source": [
    "import requests\n",
    "import time\n",
    "import concurrent.futures\n",
    "\n",
    "img_urls = [\"https://unsplash.com/photos/agzJY5jrsAw/download?force=True\",\n",
    "            \"https://unsplash.com/photos/4rDCa5hBlCs/download?force=True\",\n",
    "            \"https://unsplash.com/photos/jFCViYFYcus/download?force=True\",\n",
    "            \"https://unsplash.com/photos/Y8lCoTRgHPE/download?force=True\",\n",
    "            \"https://unsplash.com/photos/4KrQq8Z6Y5c/download?force=True\"]\n",
    "\n",
    "t1 = time.perf_counter()\n",
    "def download_image(img_url):\n",
    "    img_bytes = requests.get(img_url).content\n",
    "    print(\"Downloading..\")\n",
    "\n",
    "# Download images 1 by 1 => slow\n",
    "for img in img_urls:\n",
    "    download_image(img)\n",
    "t2 = time.perf_counter()\n",
    "print(f'Single Threaded Code Took :{t2 - t1} seconds')\n",
    "\n",
    "print('*'*50)\n",
    "\n",
    "t1 = time.perf_counter()\n",
    "def download_image(img_url):\n",
    "    img_bytes = requests.get(img_url).content\n",
    "    print(\"Downloading..\")\n",
    "\n",
    "# Fetching images concurrently thus speeds up the download.\n",
    "with concurrent.futures.ThreadPoolExecutor(3) as executor:\n",
    "    executor.map(download_image, img_urls)\n",
    "\n",
    "t2 = time.perf_counter()\n",
    "print(f'MultiThreaded Code Took:{t2 - t1} seconds')"
   ]
  },
  {
   "cell_type": "markdown",
   "metadata": {},
   "source": [
    "---"
   ]
  },
  {
   "cell_type": "markdown",
   "metadata": {},
   "source": [
    "&copy; **Nitheesh Reddy**"
   ]
  }
 ],
 "metadata": {
  "kernelspec": {
   "display_name": "Python 3",
   "language": "python",
   "name": "python3"
  },
  "language_info": {
   "codemirror_mode": {
    "name": "ipython",
    "version": 3
   },
   "file_extension": ".py",
   "mimetype": "text/x-python",
   "name": "python",
   "nbconvert_exporter": "python",
   "pygments_lexer": "ipython3",
   "version": "3.8.5"
  }
 },
 "nbformat": 4,
 "nbformat_minor": 4
}

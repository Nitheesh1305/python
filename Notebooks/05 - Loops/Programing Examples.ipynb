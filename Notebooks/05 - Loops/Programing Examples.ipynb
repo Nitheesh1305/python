{
 "cells": [
  {
   "cell_type": "markdown",
   "metadata": {},
   "source": [
    "<center><b><h1 style=\"color:#900C3F;\" >Programming Examples</h1>"
   ]
  },
  {
   "cell_type": "code",
   "execution_count": 1,
   "metadata": {},
   "outputs": [
    {
     "name": "stdout",
     "output_type": "stream",
     "text": [
      "Progam to check greatest number among three numbers\n",
      "__________________________________________________________\n",
      "Please Enter First number : 9\n",
      "Please Enter Second number : 10\n",
      "Please Enter Third number : 5\n",
      "10 is gretest number\n"
     ]
    }
   ],
   "source": [
    "#  Find Greatest Number Among Three Numbers\n",
    "print(\"Progam to check greatest number among three numbers\")  \n",
    "print(\"__________________________________________________________\")  \n",
    "a=int(input(\"Please Enter First number : \"))  \n",
    "b=int(input(\"Please Enter Second number : \"))  \n",
    "c=int(input(\"Please Enter Third number : \"))  \n",
    "if(a>b):  \n",
    "    if(a>c):  \n",
    "        print(\"%d is gretest number\"%a)  \n",
    "    else:  \n",
    "        print(\"%d is gretest number\"%c)  \n",
    "elif(b>c):  \n",
    "    print(\"%d is gretest number\"%b)  \n",
    "else:  \n",
    "    print(\"%d is gretest number\"%c)"
   ]
  },
  {
   "cell_type": "code",
   "execution_count": 2,
   "metadata": {},
   "outputs": [
    {
     "name": "stdout",
     "output_type": "stream",
     "text": [
      "Enter Your String : HSAI\n",
      "iash\n"
     ]
    }
   ],
   "source": [
    "# Reversing of String Using For Loop\n",
    "# Iterate through a string\n",
    "s = input(\"Enter Your String : \").casefold()\n",
    "s1 = ''\n",
    "for c in s:\n",
    "    s1 = c + s1\n",
    "print(s1)"
   ]
  },
  {
   "cell_type": "code",
   "execution_count": 3,
   "metadata": {},
   "outputs": [
    {
     "name": "stdout",
     "output_type": "stream",
     "text": [
      "iash\n"
     ]
    }
   ],
   "source": [
    "# Reversing of String Using While Loop\n",
    "s2 = ''\n",
    "length = len(s) - 1\n",
    "while length >= 0:\n",
    "    s2 = s2 + s[length]\n",
    "    length = length - 1\n",
    "print(s2)"
   ]
  },
  {
   "cell_type": "code",
   "execution_count": 2,
   "metadata": {},
   "outputs": [
    {
     "name": "stdout",
     "output_type": "stream",
     "text": [
      "Your String Is Not A Palindrome\n"
     ]
    }
   ],
   "source": [
    "# Checking Whether Our String Is Palindrome\n",
    "if s==s1:\n",
    "    print(\"Your String Is Palindrome\")\n",
    "else:\n",
    "    print(\"Your String Is Not A Palindrome\")"
   ]
  },
  {
   "cell_type": "code",
   "execution_count": 3,
   "metadata": {},
   "outputs": [
    {
     "name": "stdout",
     "output_type": "stream",
     "text": [
      "Enter a Number : 5\n",
      "120\n"
     ]
    }
   ],
   "source": [
    "# Factorial Of Number\n",
    "num = int(input(\"Enter a Number : \"))\n",
    " \n",
    "factorial = 1\n",
    "if num < 0 :\n",
    "    print(\" invalid input\")\n",
    "elif num == 0:\n",
    "    print(\" factorial is 1\")\n",
    "else:\n",
    "    for i in range( 1 , num+1):\n",
    "        factorial = factorial * i\n",
    "print(factorial)"
   ]
  },
  {
   "cell_type": "code",
   "execution_count": 19,
   "metadata": {},
   "outputs": [
    {
     "name": "stdout",
     "output_type": "stream",
     "text": [
      "[14, 25, 27, 41, 43, 45, 46, 57, 70]\n"
     ]
    }
   ],
   "source": [
    "# Sort The List Bubble Sort\n",
    "nlist = [14,46,43,27,57,41,45,25,70]\n",
    "n = len(nlist)\n",
    "for i in range(n-1):\n",
    "    for j in range(0,n-i-1):\n",
    "        if nlist[j]>nlist[j+1]:\n",
    "            nlist[j],nlist[j+1]=nlist[j+1],nlist[j] #Swapping of numbers\n",
    "print(nlist)"
   ]
  },
  {
   "cell_type": "code",
   "execution_count": 7,
   "metadata": {
    "scrolled": true
   },
   "outputs": [
    {
     "name": "stdout",
     "output_type": "stream",
     "text": [
      "Enter the number of rows 5\n",
      "\n",
      "* \n",
      "* * \n",
      "* * * \n",
      "* * * * \n",
      "* * * * * \n"
     ]
    }
   ],
   "source": [
    "#half pyramid pattern\n",
    "\n",
    "rows = int(input(\"Enter the number of rows \"))\n",
    "# Asking user for the number of rows to create the outer loop\n",
    "print(\"\\r\")\n",
    "for i in range(0, rows):\n",
    "    # According to the outer loop, values will be changing\n",
    "    # The number of columns or the inner loop is given below \n",
    "    for j in range(0, i + 1):\n",
    "        # print star\n",
    "        print(\"*\", end=' ')\n",
    "    # new line after each row\n",
    "    print(\"\\r\")"
   ]
  },
  {
   "cell_type": "code",
   "execution_count": 9,
   "metadata": {},
   "outputs": [
    {
     "name": "stdout",
     "output_type": "stream",
     "text": [
      "* \n",
      "* * \n",
      "* * * \n",
      "* * * * \n",
      "* * * * * \n"
     ]
    }
   ],
   "source": [
    "#Alternate Solution\n",
    "for j in range(1, rows+1):\n",
    "    print(\"* \" * j)"
   ]
  },
  {
   "cell_type": "code",
   "execution_count": 10,
   "metadata": {},
   "outputs": [
    {
     "name": "stdout",
     "output_type": "stream",
     "text": [
      "Enter the number of rows 5\n",
      "\n",
      "* * * * * \n",
      "* * * * \n",
      "* * * \n",
      "* * \n",
      "* \n",
      "\n"
     ]
    }
   ],
   "source": [
    "# for Printing Downward half - Pyramid \n",
    "rows = int(input(\"Enter the number of rows \"))\n",
    "# Asking user for the number of rows to create the outer loop\n",
    "print(\"\\r\")\n",
    "for i in range(rows+1,0,-1):\n",
    "    # nested reverse loop\n",
    "    for j in range(0, i - 1):\n",
    "        # print star\n",
    "        print(\"*\", end=' ')\n",
    "    # new line after each row\n",
    "    print(\"\\r\")"
   ]
  },
  {
   "cell_type": "code",
   "execution_count": 11,
   "metadata": {},
   "outputs": [
    {
     "name": "stdout",
     "output_type": "stream",
     "text": [
      "Please enter the number of rows : 5\n",
      "*  \n",
      "* *  \n",
      "* * *  \n",
      "* * * *  \n",
      "* * * * *  \n",
      "* * * * *  \n",
      "* * * *  \n",
      "* * *  \n",
      "* *  \n",
      "*  \n",
      " \n"
     ]
    }
   ],
   "source": [
    "#Two Pyramid in a Single Pattern - Arrow\n",
    "rows = int(input(\"Please enter the number of rows : \"))  \n",
    "# First we shall print the first pyramid pattern \n",
    "for i in range(0, rows):  \n",
    "    for j in range(0, i + 1):  \n",
    "        print(\"*\", end=' ')  \n",
    "    # After each iteration we need to change to new line  \n",
    "    print(\" \")  \n",
    "# Then we shall print the second pyramid pattern \n",
    "for i in range(rows + 1, 0, -1):  \n",
    "    for j in range(0, i - 1):  \n",
    "        print(\"*\", end=' ')  \n",
    "    print(\" \")  "
   ]
  },
  {
   "cell_type": "code",
   "execution_count": 12,
   "metadata": {},
   "outputs": [
    {
     "name": "stdout",
     "output_type": "stream",
     "text": [
      "Please enter the number of rows : 5\n",
      "        *  \n",
      "       * *  \n",
      "      * * *  \n",
      "     * * * *  \n",
      "    * * * * *  \n"
     ]
    }
   ],
   "source": [
    "#Equilateral Triangle Pyramid\n",
    "rows = int(input(\"Please enter the number of rows : \")) \n",
    "m = (2 * rows) - 2\n",
    "for i in range(0, rows):\n",
    "    for j in range(0, m):\n",
    "        print(end=\" \")\n",
    "    # after each loop we are decrementing the value of m\n",
    "    m = m - 1\n",
    "    for j in range(0, i + 1):\n",
    "        print(\"* \", end='')\n",
    "    print(\" \")"
   ]
  },
  {
   "cell_type": "code",
   "execution_count": 9,
   "metadata": {},
   "outputs": [
    {
     "name": "stdout",
     "output_type": "stream",
     "text": [
      "Please enter the number of rows :  5\n",
      "1 2 3 4 5 \n",
      "2 2 3 4 5 \n",
      "3 3 3 4 5 \n",
      "4 4 4 4 5 \n",
      "5 5 5 5 5 \n"
     ]
    }
   ],
   "source": [
    "#Square Pattern with Number\n",
    "rows = int(input(\"Please enter the number of rows :  \"))  \n",
    "for i in range(1, rows + 1):  \n",
    "    for j in range(1, rows + 1):  \n",
    "        # If the value of j is smaller than or equal to i we shall be printing i else we print j\n",
    "        if j <= i:  \n",
    "            print(i, end=' ')  \n",
    "        else:  \n",
    "            print(j, end=' ')  \n",
    "    print()  "
   ]
  },
  {
   "cell_type": "code",
   "execution_count": 10,
   "metadata": {},
   "outputs": [
    {
     "name": "stdout",
     "output_type": "stream",
     "text": [
      "Printing the Right-angled pattern with characters \n",
      "A \n",
      "B C \n",
      "D E F \n",
      "G H I J \n",
      "K L M N O \n",
      "P Q R S T U \n"
     ]
    }
   ],
   "source": [
    "#Right-angled pattern with characters \n",
    "print(\"Printing the Right-angled pattern with characters \")  \n",
    "ASCII_Value = 65     \n",
    "#The value 65 is linked to letter A  \n",
    "for s in range(0, 6):  \n",
    "    for t in range(0, s + 1):  \n",
    "# This nested `for loop` will convert the ASCII value to its corresponding character   \n",
    "        toprint_Alphabet = chr(ASCII_Value)  \n",
    "        print(toprint_Alphabet, end=' ')  \n",
    "        ASCII_Value= ASCII_Value + 1  \n",
    "    print() "
   ]
  },
  {
   "cell_type": "code",
   "execution_count": 4,
   "metadata": {},
   "outputs": [
    {
     "name": "stdout",
     "output_type": "stream",
     "text": [
      "Pushpa Present\n"
     ]
    }
   ],
   "source": [
    "#Pushpa Dailouge\n",
    "saruku = False\n",
    "output = \"Pushpa Present\" if saruku == False else \"Pushpa Absent\"\n",
    "print(output)"
   ]
  },
  {
   "cell_type": "code",
   "execution_count": 17,
   "metadata": {},
   "outputs": [
    {
     "name": "stdout",
     "output_type": "stream",
     "text": [
      "Enter the soliders :100\n",
      "The Person who is alive is :  73\n"
     ]
    }
   ],
   "source": [
    "#Nannaku Prematho 100 Soliders Problem\n",
    "def nannakuprematho(soliders):\n",
    "    near = 1\n",
    "    while near*2 <=soliders: #64 -\n",
    "        near *= 2\n",
    "    return(soliders-near)*2+1 \n",
    "\n",
    "\n",
    "soliders = int(input(\"Enter the soliders :\"))\n",
    "print(\"The Person who is alive is : \",nannakuprematho(soliders))"
   ]
  },
  {
   "cell_type": "markdown",
   "metadata": {},
   "source": [
    "## To Do :\n",
    "<b><ol>\n",
    "    <li>Pattern Programs</li><br>\n",
    "    <li>Display Letter of the Word in Pattern</li><br>\n",
    "    <li>Print First 10 natural numbers using while loop</li><br>\n",
    "    <li>Calculate the sum of all numbers from 1 to a given number<br><br>\n",
    "        For example, if the user entered 10 the output should be 55 (1+2+3+4+5+6+7+8+9+10)\n",
    "    </li><br>\n",
    "    <li>Write a program to print multiplication table of a given number</li><br>\n",
    "    <li>Write a program to display only those numbers from a list that satisfy the following conditions<br><br>\n",
    "The number must be divisible by five<br><br>\n",
    "If the number is greater than 150, then skip it and move to the next number - (Contnuie)<br><br>\n",
    "If the number is greater than 500, then stop the loop - (Break)<br>\n",
    "</li><br>\n",
    "    <li>Write a program to count the total number of digits in a number using a while loop.</li><br>\n",
    "    <li>Print list in reverse order using a loop</li><br>\n",
    "    <li>Write a program to display all prime numbers within a range</li><br>\n",
    "    <li>Display Fibonacci series up to 10 terms</li><br>\n",
    "    <li>Reverse a given integer number</li><br>\n",
    "    <li>Use a loop to display elements from a given list present at odd index positions</li><br>\n",
    "    <li>Calculate the cube of all numbers from 1 to a given number</li><br>\n",
    "    <li>Write a program to calculate the sum of series up to n term.<br><br> For example, if n =5 the series will become 2 + 22 + 222 + 2222 + 22222 = 24690</li><br>\n",
    "    <li>Write a program to display sum of odd numbers and even numbers that fall between 12 and 37 (including both numbers)</li><br>\n",
    "    <li>Write a program to accept a number and check whether it is a perfect number or not.</li><br>\n",
    "    <li>Accept a number and check whether it is palindrome or not.</li><br>\n",
    "    <li>Write a program in Python to reverse a number.</li><br>\n",
    "    <li> Write a python program to print the square of all numbers from 0 to 10</li><br>\n",
    "    <li>Write a python program to read three numbers (a,b,c) and check how many numbers between ‘a’ and ‘b’ are divisible by ‘c’</li><br>\n",
    "    "
   ]
  },
  {
   "cell_type": "markdown",
   "metadata": {},
   "source": [
    "&copy; **Nitheesh Reddy**"
   ]
  }
 ],
 "metadata": {
  "kernelspec": {
   "display_name": "Python 3",
   "language": "python",
   "name": "python3"
  },
  "language_info": {
   "codemirror_mode": {
    "name": "ipython",
    "version": 3
   },
   "file_extension": ".py",
   "mimetype": "text/x-python",
   "name": "python",
   "nbconvert_exporter": "python",
   "pygments_lexer": "ipython3",
   "version": "3.8.5"
  }
 },
 "nbformat": 4,
 "nbformat_minor": 4
}

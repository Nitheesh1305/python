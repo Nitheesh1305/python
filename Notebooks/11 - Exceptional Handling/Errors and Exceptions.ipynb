{
 "cells": [
  {
   "cell_type": "markdown",
   "metadata": {},
   "source": [
    "<b><h1 style=\"color:#ff0066;\" ><center>Errors and Exceptions in Python</center></h1><br>\n",
    "<center><img src='https://miro.medium.com/max/1050/1*52_FzWNt0rWi6X-nUF0OBw.png' width=\"600\" height=\"600\"></center><br>\n",
    "\n",
    "Here, we will discuss :<br><br>\n",
    "    <li>What an exception is and how it differs from a syntax error</li><br>\n",
    "    <li>Anatomy of Error</li><br>\n",
    "    <li>Some built in Exceptions</li>"
   ]
  },
  {
   "cell_type": "markdown",
   "metadata": {},
   "source": [
    "<b><h2 style=\"color:#cc33ff;\" >What Is an Error in Python ?</h2>\n",
    "<br>\n",
    "<ul>\n",
    "<li> An error is an action that is incorrect or inaccurate. Due to which the program fails to execute.</li><br>\n",
    "<li> The errors can be broadly classified into two types : <br><br>\n",
    "    <ul>\n",
    "        <li>Syntax errors</li><br>\n",
    "        <li>Logical errors (Exception)</li>\n",
    "    </ul>\n",
    "</li><br>\n",
    "    </ul>\n",
    "<center><img src='https://intellipaat.com/mediaFiles/2018/12/python3.jpg' width=\"400\" height=\"500\"></center>  <br>\n",
    " \n",
    "<h2 style=\"color:#FF900C;\" >Syntax Error :</h2>\n",
    "<br>\n",
    "<li>As the name suggests this error is caused by the wrong structure or syntax in the code.</li><br>\n",
    "<li>A syntax error is also known as a parsing error.</li><br>\n",
    "<li>When the parser found a syntax error it exits with an error message without running anything.</li><br>\n",
    "Common Python Syntax errors :<br><br>\n",
    "<li>Incorrect indentation.</li><br>\n",
    "<li>Missing colon, comma, or brackets.</li><br>\n",
    "<li>Putting keywords in the wrong place.</li>"
   ]
  },
  {
   "cell_type": "code",
   "execution_count": 4,
   "metadata": {},
   "outputs": [
    {
     "ename": "SyntaxError",
     "evalue": "invalid syntax (<ipython-input-4-0368748bca5f>, line 3)",
     "output_type": "error",
     "traceback": [
      "\u001b[1;36m  File \u001b[1;32m\"<ipython-input-4-0368748bca5f>\"\u001b[1;36m, line \u001b[1;32m3\u001b[0m\n\u001b[1;33m    for i in range(10)\u001b[0m\n\u001b[1;37m                      ^\u001b[0m\n\u001b[1;31mSyntaxError\u001b[0m\u001b[1;31m:\u001b[0m invalid syntax\n"
     ]
    }
   ],
   "source": [
    "#Syntax Error\n",
    "print(\"syntax error\")\n",
    "for i in range(10)\n",
    "    print(i)"
   ]
  },
  {
   "cell_type": "markdown",
   "metadata": {},
   "source": [
    "The arrow indicates where the parser ran into the syntax error"
   ]
  },
  {
   "cell_type": "markdown",
   "metadata": {},
   "source": [
    "<b><h2 style=\"color:#FF900C;\" >Logical errors (Exception) :</h2>\n",
    "<br>\n",
    "<li>Even if code is syntactically correct, the error that occurs at the runtime is known as a Logical error or Exception.</li><br>\n",
    "<li>An event that occurs during the execution of programs that disrupt the flow of execution are called EXCEPTIONS.</li>\n",
    "\n",
    "Runtime exceptions, generally a result of programming errors, such as:<br><br>\n",
    "<li>Indenting a block to the wrong level.</li><br>\n",
    "<li>Using the wrong variable name.</li><br>\n",
    "<li>Making a mistake in a boolean expression.</li><br>\n",
    "<li>Reading a file that is not present.</li><br>\n",
    "<li>Trying to read data outside the available index of a list.</li><br>\n",
    "<li>Dividing an integer value by zero.</li>"
   ]
  },
  {
   "cell_type": "code",
   "execution_count": 3,
   "metadata": {},
   "outputs": [
    {
     "ename": "NameError",
     "evalue": "name 'c' is not defined",
     "output_type": "error",
     "traceback": [
      "\u001b[1;31m---------------------------------------------------------------------------\u001b[0m",
      "\u001b[1;31mNameError\u001b[0m                                 Traceback (most recent call last)",
      "\u001b[1;32m<ipython-input-3-c09b5b0468c8>\u001b[0m in \u001b[0;36m<module>\u001b[1;34m\u001b[0m\n\u001b[0;32m      2\u001b[0m \u001b[0ma\u001b[0m \u001b[1;33m=\u001b[0m \u001b[1;36m10\u001b[0m\u001b[1;33m\u001b[0m\u001b[1;33m\u001b[0m\u001b[0m\n\u001b[0;32m      3\u001b[0m \u001b[0mb\u001b[0m \u001b[1;33m=\u001b[0m \u001b[1;36m20\u001b[0m\u001b[1;33m\u001b[0m\u001b[1;33m\u001b[0m\u001b[0m\n\u001b[1;32m----> 4\u001b[1;33m \u001b[0mprint\u001b[0m\u001b[1;33m(\u001b[0m\u001b[1;34m\"Addition:\"\u001b[0m\u001b[1;33m,\u001b[0m \u001b[0ma\u001b[0m \u001b[1;33m+\u001b[0m \u001b[0mc\u001b[0m\u001b[1;33m)\u001b[0m\u001b[1;33m\u001b[0m\u001b[1;33m\u001b[0m\u001b[0m\n\u001b[0m",
      "\u001b[1;31mNameError\u001b[0m: name 'c' is not defined"
     ]
    }
   ],
   "source": [
    "#Exception \n",
    "a = 10\n",
    "b = 20\n",
    "print(\"Addition:\", a + c)"
   ]
  },
  {
   "cell_type": "markdown",
   "metadata": {},
   "source": [
    "<b><h3 style=\"color:#024C4C;\" >Anatomy of an Exception :</h3>\n",
    "<br>\n",
    "<ul>\n",
    "<li>An exception is an object derives from the BaseException class that contains information about an error.</li><br>\n",
    "<li>Exception object contains : <br><br>\n",
    "        <ul>\n",
    "            <li>Error type (exception name)</li><br>\n",
    "            <li>The state of the program when the error occurred</li><br>\n",
    "            <li>An error message describes the error event.</li>\n",
    "        </ul>\n",
    "</li><br>\n",
    "     </ul>  \n",
    "<center><img src='https://www.freecodecamp.org/news/content/images/2019/12/image-8.png' width=\"400\" height=\"400\"></center> <br>\n",
    "<li>If the line that raised the exception belongs to a function, module  is replaced by the name of the function.</li><br>\n",
    "<li> A traceback is basically a list detailing the function calls that were made before the exception was raised.</li>"
   ]
  },
  {
   "cell_type": "markdown",
   "metadata": {},
   "source": [
    "<b><br><h3 style=\"color:#FF900C;\" >Default Exception Handing in Python :  </h3><br>\n",
    "<li>There are many different types of exceptions, and they are all raised in particular situations</li><br>\n",
    "<li>For every exception , a corresponding class is available and every exception is object to its corresponding class</li><br>\n",
    "<li>Whenever an exception occurs, PVM will create the corresponding exception object and  check for handling code.</li><br>\n",
    "<li>If handling code is not available, then interpreter terminates the program and prints exception info to the console</li>\n",
    "<h4 style=\"color:#cc33ff;\" > Exception Hierarchy : </h4><br>\n",
    "<li>The BaseException class is the root class for all exception classes in python exception hierarchy</li><br>\n",
    "\n",
    "The below image shows different built-in exceptions : <br><br>\n",
    "<center><img src=\"https://w3.cs.jmu.edu/lam2mo/cs240_2014_08/images/exception_hierarchy.png\" width=\"700\" height=\"500\"></center>"
   ]
  },
  {
   "cell_type": "markdown",
   "metadata": {},
   "source": [
    "<b><h4 style=\"color:#cc33ff;\" > Base exception classes in Python :  </h4><br>\n",
    "<center><img src=\"https://hands-on.cloud/wp-content/uploads/2021/07/Exceptions-handling-in-Python-BaseException-1536x459.png?ezimgfmt=ng:webp/ngcb1\" ></center><br>\n",
    "<li><font style=\"color:#FF33F2\">BaseException</font> - is the base class for all the built-in exceptions.<br><br> We should not directly inherit this class to define any custom exception classes</li><br>\n",
    "<li><font style=\"color:#FF33F2\">GeneratorExit</font> - Python throws this exception when a coroutine or generator is closed.</li><br>\n",
    "<li><font style=\"color:#FF33F2\">KeyboardInterrupt</font>  - When a user hits the interrupt key such as Delete or Control+C, this error exception is raised. </li><br>\n",
    "<li><font style=\"color:#FF33F2\">SystemExit</font> - When the sys.exit( ) function is called, this exception is raised.</li><br>\n",
    "<li><font style=\"color:#FF33F2\">Exception</font> - is a base class for all built-in non-system-exiting exceptions and user-defined exceptions</li>"
   ]
  },
  {
   "cell_type": "code",
   "execution_count": 5,
   "metadata": {},
   "outputs": [
    {
     "name": "stdout",
     "output_type": "stream",
     "text": [
      "Stop the kernel\n",
      "Stop the kernel\n",
      "Stop the kernel\n"
     ]
    },
    {
     "ename": "KeyboardInterrupt",
     "evalue": "",
     "output_type": "error",
     "traceback": [
      "\u001b[1;31m---------------------------------------------------------------------------\u001b[0m",
      "\u001b[1;31mKeyboardInterrupt\u001b[0m                         Traceback (most recent call last)",
      "\u001b[1;32m<ipython-input-5-f1e4cc0cec53>\u001b[0m in \u001b[0;36m<module>\u001b[1;34m\u001b[0m\n\u001b[0;32m      3\u001b[0m \u001b[1;32mwhile\u001b[0m \u001b[1;32mTrue\u001b[0m\u001b[1;33m:\u001b[0m\u001b[1;33m\u001b[0m\u001b[1;33m\u001b[0m\u001b[0m\n\u001b[0;32m      4\u001b[0m     \u001b[0mprint\u001b[0m\u001b[1;33m(\u001b[0m\u001b[1;34m\"Stop the kernel\"\u001b[0m\u001b[1;33m)\u001b[0m\u001b[1;33m\u001b[0m\u001b[1;33m\u001b[0m\u001b[0m\n\u001b[1;32m----> 5\u001b[1;33m     \u001b[0mtime\u001b[0m\u001b[1;33m.\u001b[0m\u001b[0msleep\u001b[0m\u001b[1;33m(\u001b[0m\u001b[1;36m5\u001b[0m\u001b[1;33m)\u001b[0m\u001b[1;33m\u001b[0m\u001b[1;33m\u001b[0m\u001b[0m\n\u001b[0m",
      "\u001b[1;31mKeyboardInterrupt\u001b[0m: "
     ]
    }
   ],
   "source": [
    "#keyboard Interrupt\n",
    "import time\n",
    "while True:\n",
    "    print(\"Stop the kernel\")\n",
    "    time.sleep(5)"
   ]
  },
  {
   "cell_type": "code",
   "execution_count": 11,
   "metadata": {},
   "outputs": [
    {
     "name": "stdout",
     "output_type": "stream",
     "text": [
      "Output:  1\n",
      "From Function:  1\n",
      "Reached the end!!!\n",
      "Output:  2\n",
      "From Function:  2\n",
      "Reached the end!!!\n",
      "Output:  3\n",
      "Generatorexit is called\n"
     ]
    }
   ],
   "source": [
    "#GeneratorExit\n",
    "def sample():\n",
    "    arr = [1, 2, 3, 4, 5]\n",
    "    for i in arr:\n",
    "        yield i\n",
    "        print(\"From Function: \", i)\n",
    "        print(\"Reached the end!!!\")\n",
    "\n",
    "for num in sample():\n",
    "    print(\"Output: \", num)\n",
    "    if(num >= 3):\n",
    "        break\n",
    "print(\"Generatorexit is called\")\n",
    "#so the print statements after last yield is not excuted - it is not an error."
   ]
  },
  {
   "cell_type": "markdown",
   "metadata": {},
   "source": [
    "<b>TO DO : Excute a function with sys.exit( )"
   ]
  },
  {
   "cell_type": "markdown",
   "metadata": {},
   "source": [
    "<b><h4 style=\"color:#cc33ff;\" > Arithmetic Error classes in Python :  </h4><br>\n",
    "<center><img src=\"https://hands-on.cloud/wp-content/uploads/2021/07/Exceptions-handling-in-Python-ArithmeticError-1024x546.png?ezimgfmt=ng:webp/ngcb1\" width=\"700\" height=\"500\" ></center><br>\n",
    "<li><font style=\"color:#FF33F2\">ArithmeticError</font> - is the base exception class for arithmetic errors such as <br><br>FloatingPointError, ZeroDivisionError, and OverflowError.</li><br>\n",
    "<li><font style=\"color:#FF33F2\">FloatingPointError</font> - you can catch this exception when the operation of a floating-point value fails.<br><br>However, this exception is always defined and handled internally </li><br>\n",
    "<li><font style=\"color:#FF33F2\">ZeroDivisionError</font> -happens when second argument of the division or modulo operation equals zero. </li><br>\n",
    "<li><font style=\"color:#FF33F2\">OverflowError</font> - this exception happens when the results from an arithmetic operation are out of range<br><br> and also if integers are out of a required range.</li>"
   ]
  },
  {
   "cell_type": "code",
   "execution_count": 14,
   "metadata": {},
   "outputs": [
    {
     "ename": "ZeroDivisionError",
     "evalue": "division by zero",
     "output_type": "error",
     "traceback": [
      "\u001b[1;31m---------------------------------------------------------------------------\u001b[0m",
      "\u001b[1;31mZeroDivisionError\u001b[0m                         Traceback (most recent call last)",
      "\u001b[1;32m<ipython-input-14-f76ff30294c8>\u001b[0m in \u001b[0;36m<module>\u001b[1;34m\u001b[0m\n\u001b[0;32m      1\u001b[0m \u001b[1;31m#Zero Division Error\u001b[0m\u001b[1;33m\u001b[0m\u001b[1;33m\u001b[0m\u001b[1;33m\u001b[0m\u001b[0m\n\u001b[1;32m----> 2\u001b[1;33m \u001b[0mprint\u001b[0m\u001b[1;33m(\u001b[0m\u001b[1;36m10\u001b[0m\u001b[1;33m/\u001b[0m\u001b[1;36m0\u001b[0m\u001b[1;33m)\u001b[0m\u001b[1;33m\u001b[0m\u001b[1;33m\u001b[0m\u001b[0m\n\u001b[0m",
      "\u001b[1;31mZeroDivisionError\u001b[0m: division by zero"
     ]
    }
   ],
   "source": [
    "#Zero Division Error\n",
    "print(10/0)"
   ]
  },
  {
   "cell_type": "code",
   "execution_count": 13,
   "metadata": {},
   "outputs": [
    {
     "ename": "OverflowError",
     "evalue": "math range error",
     "output_type": "error",
     "traceback": [
      "\u001b[1;31m---------------------------------------------------------------------------\u001b[0m",
      "\u001b[1;31mOverflowError\u001b[0m                             Traceback (most recent call last)",
      "\u001b[1;32m<ipython-input-13-872e1daed7c7>\u001b[0m in \u001b[0;36m<module>\u001b[1;34m\u001b[0m\n\u001b[0;32m      1\u001b[0m \u001b[1;31m#Simple program for showing overflow error\u001b[0m\u001b[1;33m\u001b[0m\u001b[1;33m\u001b[0m\u001b[1;33m\u001b[0m\u001b[0m\n\u001b[0;32m      2\u001b[0m \u001b[1;32mimport\u001b[0m \u001b[0mmath\u001b[0m\u001b[1;33m\u001b[0m\u001b[1;33m\u001b[0m\u001b[0m\n\u001b[1;32m----> 3\u001b[1;33m \u001b[0mprint\u001b[0m\u001b[1;33m(\u001b[0m\u001b[0mmath\u001b[0m\u001b[1;33m.\u001b[0m\u001b[0mexp\u001b[0m\u001b[1;33m(\u001b[0m\u001b[1;36m1000\u001b[0m\u001b[1;33m)\u001b[0m\u001b[1;33m)\u001b[0m\u001b[1;33m\u001b[0m\u001b[1;33m\u001b[0m\u001b[0m\n\u001b[0m",
      "\u001b[1;31mOverflowError\u001b[0m: math range error"
     ]
    }
   ],
   "source": [
    "#Simple program for showing overflow error\n",
    "import math\n",
    "print(math.exp(1000))"
   ]
  },
  {
   "cell_type": "markdown",
   "metadata": {},
   "source": [
    "<b><h4 style=\"color:#cc33ff;\" > Lookup Error classes in Python :  </h4><br>\n",
    "    <center><img src=\"https://hands-on.cloud/wp-content/uploads/2021/07/Exceptions-handling-in-Python-LookupError-768x576.png?ezimgfmt=ng:webp/ngcb1\" width=\"400\" height=\"400\" ></center><br>\n",
    "<li><font style=\"color:#FF33F2\">LookupError</font> - Base class for IndexError and KeyError exceptionswhich are raised<br><br>  when we try to manipulate non-existing or invalid index or key values at sequence or mapping.</li><br>\n",
    "<li><font style=\"color:#FF33F2\">IndexError</font> - exception happens when a referenced sequence is out of range</li><br>\n",
    "<li><font style=\"color:#FF33F2\">KeyError</font> - We can catch this exception if a mapping key not found in the set of existing keys.</li>"
   ]
  },
  {
   "cell_type": "code",
   "execution_count": 15,
   "metadata": {},
   "outputs": [
    {
     "ename": "IndexError",
     "evalue": "list index out of range",
     "output_type": "error",
     "traceback": [
      "\u001b[1;31m---------------------------------------------------------------------------\u001b[0m",
      "\u001b[1;31mIndexError\u001b[0m                                Traceback (most recent call last)",
      "\u001b[1;32m<ipython-input-15-bdaf1a1038b2>\u001b[0m in \u001b[0;36m<module>\u001b[1;34m\u001b[0m\n\u001b[0;32m      1\u001b[0m \u001b[1;31m#IndexError\u001b[0m\u001b[1;33m\u001b[0m\u001b[1;33m\u001b[0m\u001b[1;33m\u001b[0m\u001b[0m\n\u001b[0;32m      2\u001b[0m \u001b[0mnum\u001b[0m \u001b[1;33m=\u001b[0m \u001b[1;33m[\u001b[0m\u001b[1;36m1\u001b[0m\u001b[1;33m,\u001b[0m \u001b[1;36m2\u001b[0m\u001b[1;33m,\u001b[0m \u001b[1;36m6\u001b[0m\u001b[1;33m,\u001b[0m \u001b[1;36m5\u001b[0m\u001b[1;33m]\u001b[0m\u001b[1;33m\u001b[0m\u001b[1;33m\u001b[0m\u001b[0m\n\u001b[1;32m----> 3\u001b[1;33m \u001b[0mnum\u001b[0m\u001b[1;33m[\u001b[0m\u001b[1;36m5\u001b[0m\u001b[1;33m]\u001b[0m\u001b[1;33m\u001b[0m\u001b[1;33m\u001b[0m\u001b[0m\n\u001b[0m",
      "\u001b[1;31mIndexError\u001b[0m: list index out of range"
     ]
    }
   ],
   "source": [
    "#IndexError \n",
    "num = [1, 2, 6, 5]\n",
    "num[5]"
   ]
  },
  {
   "cell_type": "code",
   "execution_count": 17,
   "metadata": {},
   "outputs": [
    {
     "ename": "KeyError",
     "evalue": "'Nitheesh'",
     "output_type": "error",
     "traceback": [
      "\u001b[1;31m---------------------------------------------------------------------------\u001b[0m",
      "\u001b[1;31mKeyError\u001b[0m                                  Traceback (most recent call last)",
      "\u001b[1;32m<ipython-input-17-5c095098efd9>\u001b[0m in \u001b[0;36m<module>\u001b[1;34m\u001b[0m\n\u001b[0;32m      1\u001b[0m \u001b[1;31m#KeyError\u001b[0m\u001b[1;33m\u001b[0m\u001b[1;33m\u001b[0m\u001b[1;33m\u001b[0m\u001b[0m\n\u001b[0;32m      2\u001b[0m \u001b[0mstudents\u001b[0m \u001b[1;33m=\u001b[0m \u001b[1;33m{\u001b[0m\u001b[1;34m\"Sirisha\"\u001b[0m\u001b[1;33m:\u001b[0m \u001b[1;36m15\u001b[0m\u001b[1;33m,\u001b[0m \u001b[1;34m\"Vinay\"\u001b[0m\u001b[1;33m:\u001b[0m \u001b[1;36m30\u001b[0m\u001b[1;33m}\u001b[0m\u001b[1;33m\u001b[0m\u001b[1;33m\u001b[0m\u001b[0m\n\u001b[1;32m----> 3\u001b[1;33m \u001b[0mstudents\u001b[0m\u001b[1;33m[\u001b[0m\u001b[1;34m\"Nitheesh\"\u001b[0m\u001b[1;33m]\u001b[0m\u001b[1;33m\u001b[0m\u001b[1;33m\u001b[0m\u001b[0m\n\u001b[0m",
      "\u001b[1;31mKeyError\u001b[0m: 'Nitheesh'"
     ]
    }
   ],
   "source": [
    "#KeyError\n",
    "students = {\"Sirisha\": 15, \"Vinay\": 30}\n",
    "students[\"Nitheesh\"]"
   ]
  },
  {
   "cell_type": "markdown",
   "metadata": {},
   "source": [
    "<b><h4 style=\"color:#cc33ff;\" > Concrete exceptions in Python:  </h4><br>\n",
    "<li>Concrete exceptions in Python are build-in exceptions that inherited directly from the Exception class.</li>\n",
    "<center><img src=\"https://i.imgur.com/5qCRSNF.png\" width=\"600\" height=\"600\" ></center>\n",
    "<li><font style=\"color:#FF33F2\">AttributeError</font> - This can happen because the referred attribute does not exist.</li><br>\n",
    "<li><font style=\"color:#FF33F2\">EOFError</font> - raised if the built-in functions such as input( ) encounters an end-of-file (EOF) condition<br><br> without reading any data.</li><br>\n",
    "<li><font style=\"color:#FF33F2\">NameError</font> - The exception is raised when a global or local name is not found.</li><br>\n",
    "<li><font style=\"color:#FF33F2\">StopIteration</font> - to indicate that all items are produced by the iterator.</li><br>\n",
    "<li><font style=\"color:#FF33F2\">OSError([arg])</font> - Whenever a system function returns a system-related error such as I/O failures<br><br> including “disk full” or “file not found” errors.</li><br>\n",
    "<center><img src=\"https://hands-on.cloud/wp-content/uploads/2021/07/Exceptions-handling-in-Python-OSError-1536x866.png?ezimgfmt=ng:webp/ngcb1\" width=\"600\" height=\"600\" ></center><br>\n",
    "<li><font style=\"color:#FF33F2\">TypeError</font> - Raised when we apply an inappropriate type object to a function or an operation.</li><br>\n",
    "<li><font style=\"color:#FF33F2\">ValueError</font> - when a built-in function or operation receives the correct type of argument but with an invalid value</li><br>\n",
    "<li><font style=\"color:#FF33F2\">RecursionError</font> - Derived from RuntimeError and raised when  maximum recursion depth has been exceeded.</li><br>\n",
    "<li><font style=\"color:#FF33F2\">ImportError - ModuleNotFoundError</font> - Raised when the import statement fails to load a module</li><br>"
   ]
  },
  {
   "cell_type": "code",
   "execution_count": 21,
   "metadata": {},
   "outputs": [
    {
     "ename": "NameError",
     "evalue": "name 'b' is not defined",
     "output_type": "error",
     "traceback": [
      "\u001b[1;31m---------------------------------------------------------------------------\u001b[0m",
      "\u001b[1;31mNameError\u001b[0m                                 Traceback (most recent call last)",
      "\u001b[1;32m<ipython-input-21-b0c5f1e22258>\u001b[0m in \u001b[0;36m<module>\u001b[1;34m\u001b[0m\n\u001b[0;32m      1\u001b[0m \u001b[1;31m#NameError\u001b[0m\u001b[1;33m\u001b[0m\u001b[1;33m\u001b[0m\u001b[1;33m\u001b[0m\u001b[0m\n\u001b[1;32m----> 2\u001b[1;33m \u001b[0ma\u001b[0m \u001b[1;33m=\u001b[0m \u001b[0mb\u001b[0m\u001b[1;33m\u001b[0m\u001b[1;33m\u001b[0m\u001b[0m\n\u001b[0m",
      "\u001b[1;31mNameError\u001b[0m: name 'b' is not defined"
     ]
    }
   ],
   "source": [
    "#NameError \n",
    "a = b"
   ]
  },
  {
   "cell_type": "code",
   "execution_count": 18,
   "metadata": {},
   "outputs": [
    {
     "ename": "TypeError",
     "evalue": "can only concatenate str (not \"int\") to str",
     "output_type": "error",
     "traceback": [
      "\u001b[1;31m---------------------------------------------------------------------------\u001b[0m",
      "\u001b[1;31mTypeError\u001b[0m                                 Traceback (most recent call last)",
      "\u001b[1;32m<ipython-input-18-5741b3f27373>\u001b[0m in \u001b[0;36m<module>\u001b[1;34m\u001b[0m\n\u001b[0;32m      1\u001b[0m \u001b[1;31m#Type Error\u001b[0m\u001b[1;33m\u001b[0m\u001b[1;33m\u001b[0m\u001b[1;33m\u001b[0m\u001b[0m\n\u001b[1;32m----> 2\u001b[1;33m \u001b[0mprint\u001b[0m\u001b[1;33m(\u001b[0m\u001b[1;34m\"Hello\"\u001b[0m \u001b[1;33m+\u001b[0m \u001b[1;36m10\u001b[0m\u001b[1;33m)\u001b[0m\u001b[1;33m\u001b[0m\u001b[1;33m\u001b[0m\u001b[0m\n\u001b[0m",
      "\u001b[1;31mTypeError\u001b[0m: can only concatenate str (not \"int\") to str"
     ]
    }
   ],
   "source": [
    "#Type Error\n",
    "print(\"Hello\" + 10)"
   ]
  },
  {
   "cell_type": "code",
   "execution_count": 19,
   "metadata": {},
   "outputs": [
    {
     "ename": "ValueError",
     "evalue": "math domain error",
     "output_type": "error",
     "traceback": [
      "\u001b[1;31m---------------------------------------------------------------------------\u001b[0m",
      "\u001b[1;31mValueError\u001b[0m                                Traceback (most recent call last)",
      "\u001b[1;32m<ipython-input-19-0454fc4d1271>\u001b[0m in \u001b[0;36m<module>\u001b[1;34m\u001b[0m\n\u001b[0;32m      1\u001b[0m \u001b[1;31m#Value Error\u001b[0m\u001b[1;33m\u001b[0m\u001b[1;33m\u001b[0m\u001b[1;33m\u001b[0m\u001b[0m\n\u001b[0;32m      2\u001b[0m \u001b[1;32mimport\u001b[0m \u001b[0mmath\u001b[0m\u001b[1;33m\u001b[0m\u001b[1;33m\u001b[0m\u001b[0m\n\u001b[1;32m----> 3\u001b[1;33m \u001b[0mmath\u001b[0m\u001b[1;33m.\u001b[0m\u001b[0msqrt\u001b[0m\u001b[1;33m(\u001b[0m\u001b[1;33m-\u001b[0m\u001b[1;36m10\u001b[0m\u001b[1;33m)\u001b[0m\u001b[1;33m\u001b[0m\u001b[1;33m\u001b[0m\u001b[0m\n\u001b[0m",
      "\u001b[1;31mValueError\u001b[0m: math domain error"
     ]
    }
   ],
   "source": [
    "#Value Error\n",
    "import math\n",
    "math.sqrt(-10)"
   ]
  },
  {
   "cell_type": "code",
   "execution_count": 26,
   "metadata": {},
   "outputs": [
    {
     "ename": "SyntaxError",
     "evalue": "unexpected EOF while parsing (<ipython-input-26-3d48a6e86ec0>, line 5)",
     "output_type": "error",
     "traceback": [
      "\u001b[1;36m  File \u001b[1;32m\"<ipython-input-26-3d48a6e86ec0>\"\u001b[1;36m, line \u001b[1;32m5\u001b[0m\n\u001b[1;33m    \"faculty\": \"Engineering and Technology\"\u001b[0m\n\u001b[1;37m                                           ^\u001b[0m\n\u001b[1;31mSyntaxError\u001b[0m\u001b[1;31m:\u001b[0m unexpected EOF while parsing\n"
     ]
    }
   ],
   "source": [
    "#EOF Error\n",
    "student = {\n",
    "  \"name\": \"John\",\n",
    "  \"level\": \"400\",\n",
    "  \"faculty\": \"Engineering and Technology\"\n"
   ]
  },
  {
   "cell_type": "code",
   "execution_count": 28,
   "metadata": {},
   "outputs": [
    {
     "ename": "FileNotFoundError",
     "evalue": "[Errno 2] No such file or directory: 'test.txt'",
     "output_type": "error",
     "traceback": [
      "\u001b[1;31m---------------------------------------------------------------------------\u001b[0m",
      "\u001b[1;31mFileNotFoundError\u001b[0m                         Traceback (most recent call last)",
      "\u001b[1;32m<ipython-input-28-ff644ed9477a>\u001b[0m in \u001b[0;36m<module>\u001b[1;34m\u001b[0m\n\u001b[0;32m      1\u001b[0m \u001b[1;31m#FileNotFound Error\u001b[0m\u001b[1;33m\u001b[0m\u001b[1;33m\u001b[0m\u001b[1;33m\u001b[0m\u001b[0m\n\u001b[1;32m----> 2\u001b[1;33m \u001b[0mfp\u001b[0m \u001b[1;33m=\u001b[0m \u001b[0mopen\u001b[0m\u001b[1;33m(\u001b[0m\u001b[1;34m\"test.txt\"\u001b[0m\u001b[1;33m,\u001b[0m \u001b[1;34m\"r\"\u001b[0m\u001b[1;33m)\u001b[0m\u001b[1;33m\u001b[0m\u001b[1;33m\u001b[0m\u001b[0m\n\u001b[0m\u001b[0;32m      3\u001b[0m \u001b[1;32mif\u001b[0m \u001b[0mfp\u001b[0m\u001b[1;33m:\u001b[0m\u001b[1;33m\u001b[0m\u001b[1;33m\u001b[0m\u001b[0m\n\u001b[0;32m      4\u001b[0m     \u001b[0mprint\u001b[0m\u001b[1;33m(\u001b[0m\u001b[1;34m\"file is opened successfully\"\u001b[0m\u001b[1;33m)\u001b[0m\u001b[1;33m\u001b[0m\u001b[1;33m\u001b[0m\u001b[0m\n",
      "\u001b[1;31mFileNotFoundError\u001b[0m: [Errno 2] No such file or directory: 'test.txt'"
     ]
    }
   ],
   "source": [
    "#FileNotFound Error\n",
    "fp = open(\"test.txt\", \"r\")\n",
    "if fp:\n",
    "    print(\"file is opened successfully\")"
   ]
  },
  {
   "cell_type": "code",
   "execution_count": 20,
   "metadata": {},
   "outputs": [
    {
     "ename": "ModuleNotFoundError",
     "evalue": "No module named 'yell'",
     "output_type": "error",
     "traceback": [
      "\u001b[1;31m---------------------------------------------------------------------------\u001b[0m",
      "\u001b[1;31mModuleNotFoundError\u001b[0m                       Traceback (most recent call last)",
      "\u001b[1;32m<ipython-input-20-ff98ef686846>\u001b[0m in \u001b[0;36m<module>\u001b[1;34m\u001b[0m\n\u001b[0;32m      1\u001b[0m \u001b[1;31m#import error\u001b[0m\u001b[1;33m\u001b[0m\u001b[1;33m\u001b[0m\u001b[1;33m\u001b[0m\u001b[0m\n\u001b[1;32m----> 2\u001b[1;33m \u001b[1;32mimport\u001b[0m \u001b[0myell\u001b[0m\u001b[1;33m\u001b[0m\u001b[1;33m\u001b[0m\u001b[0m\n\u001b[0m",
      "\u001b[1;31mModuleNotFoundError\u001b[0m: No module named 'yell'"
     ]
    }
   ],
   "source": [
    "#import error\n",
    "import yell"
   ]
  },
  {
   "cell_type": "markdown",
   "metadata": {},
   "source": [
    "<b><h2 style=\"color:#FF5733;\" >Warnings : </h2><br>\n",
    "<li>The warning doesn’t stop the execution of a program it indicates the possible improvement.</li><br>\n",
    "<li>Below is the list of warning exception : </li><br>\n",
    "<center><img src='https://hands-on.cloud/wp-content/uploads/2021/07/Exceptions-handling-in-Python-Warning-1536x652.png?ezimgfmt=ng:webp/ngcb1' width=\"600\" height=\"600\"></center> <br> "
   ]
  },
  {
   "cell_type": "markdown",
   "metadata": {},
   "source": [
    "<b><h4 style=\"color:#028E8B;\" >Handling Errors : </h4>\n",
    "<br>\n",
    "Python provides two very important features to handle any unexpected error in your Python programs and <br><br> to add debugging capabilities in them <br><br>\n",
    "<li>Exception Handling</li><br>\n",
    "<li>Assertions</li>"
   ]
  },
  {
   "cell_type": "markdown",
   "metadata": {},
   "source": [
    "&copy; **Nitheesh Reddy**"
   ]
  }
 ],
 "metadata": {
  "kernelspec": {
   "display_name": "Python 3",
   "language": "python",
   "name": "python3"
  },
  "language_info": {
   "codemirror_mode": {
    "name": "ipython",
    "version": 3
   },
   "file_extension": ".py",
   "mimetype": "text/x-python",
   "name": "python",
   "nbconvert_exporter": "python",
   "pygments_lexer": "ipython3",
   "version": "3.8.5"
  }
 },
 "nbformat": 4,
 "nbformat_minor": 4
}

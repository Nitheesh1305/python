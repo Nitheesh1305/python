{
 "cells": [
  {
   "cell_type": "markdown",
   "metadata": {},
   "source": [
    "<b><center><h1 style=\"color:#ff0066;\" >Date Time Module in Python</h1><br>\n",
    "<img src='https://files.realpython.com/media/How-to-Use-Python-datetime-With-Examples_Watermarked.2676ca0aacf2.jpg' width=\"800\" height=\"600\"><br>"
   ]
  },
  {
   "cell_type": "markdown",
   "metadata": {},
   "source": [
    "<b><h2 style=\"color:#FF5733;\" >Date Time Module </h2>\n",
    "<br>\n",
    "\n",
    "<li>Python DateTime module is provided in Python to work with dates and times</li><br>\n",
    "<li>In python, DateTime is an inbuilt module rather than being a primitive data type</li><br>\n",
    "<li>We just have to import the module to work with dates as date object.</li><br>\n",
    "\n",
    "<center><img src=\"https://miro.medium.com/max/1400/1*j89O2vUYds04ufOtzFWsEQ.png\" width=\"900\" height=\"600\" ></center><br>\n",
    "<li>It provides three additional data types: date, time and datetime.</li><br>\n",
    "<center><img src=\"https://i.imgur.com/ylXuZ3i.png\" width=\"900\" height=\"600\" ></center>"
   ]
  },
  {
   "cell_type": "markdown",
   "metadata": {},
   "source": [
    "<b><h3 style=\"color:#FF5733;\" >What's inside datetime ?</h3>"
   ]
  },
  {
   "cell_type": "code",
   "execution_count": 1,
   "metadata": {},
   "outputs": [
    {
     "name": "stdout",
     "output_type": "stream",
     "text": [
      "['MAXYEAR', 'MINYEAR', '__builtins__', '__cached__', '__doc__', '__file__', '__loader__', '__name__', '__package__', '__spec__', 'date', 'datetime', 'datetime_CAPI', 'sys', 'time', 'timedelta', 'timezone', 'tzinfo']\n"
     ]
    }
   ],
   "source": [
    "#importing datetime module\n",
    "import datetime\n",
    "print(dir(datetime))"
   ]
  },
  {
   "cell_type": "markdown",
   "metadata": {},
   "source": [
    "<b><h3 style=\"color:#FF5733;\" >date ( )</h3><br>\n",
    "    <pre>datetime.date(year: int, month: int, day: int)</pre>"
   ]
  },
  {
   "cell_type": "code",
   "execution_count": 2,
   "metadata": {},
   "outputs": [
    {
     "name": "stdout",
     "output_type": "stream",
     "text": [
      "User Date :  2020-01-31 Type : <class 'datetime.date'>\n",
      "\n",
      "User Year  :  2020\n",
      "\n",
      "User Month :  1\n",
      "\n",
      "User Day   :  31\n"
     ]
    }
   ],
   "source": [
    "from datetime import date\n",
    "\n",
    "userdate = date(year=2020, month=1, day=31)\n",
    "#datetime.date(2020, 1, 31)\n",
    "\n",
    "print(\"User Date : \",userdate, \"Type :\", type(userdate))\n",
    "print()\n",
    "print(\"User Year  : \",userdate.year)\n",
    "print()\n",
    "print(\"User Month : \",userdate.month)\n",
    "print()\n",
    "print(\"User Day   : \",userdate.day)"
   ]
  },
  {
   "cell_type": "markdown",
   "metadata": {},
   "source": [
    "<b><h3 style=\"color:#FF5733;\" >time ( )</h3><br>\n",
    "    <pre>datetime.time(hour: int, minute: int, second: int)</pre>"
   ]
  },
  {
   "cell_type": "code",
   "execution_count": 3,
   "metadata": {},
   "outputs": [
    {
     "name": "stdout",
     "output_type": "stream",
     "text": [
      "User Time :  13:14:31 Type : <class 'datetime.time'>\n",
      "\n",
      "User Hour   :  13\n",
      "\n",
      "User Minute :  14\n",
      "\n",
      "User Second :  31\n",
      "\n",
      "User Micro Second :  0\n"
     ]
    }
   ],
   "source": [
    "from datetime import time\n",
    "\n",
    "usertime = time(hour=13, minute=14, second=31)\n",
    "#datetime.time(13, 14, 31)\n",
    "\n",
    "print(\"User Time : \",usertime, \"Type :\", type(usertime ))\n",
    "print()\n",
    "print(\"User Hour   : \",usertime.hour)\n",
    "print()\n",
    "print(\"User Minute : \",usertime.minute)\n",
    "print()\n",
    "print(\"User Second : \",usertime.second)\n",
    "\n",
    "#Addinitionaly Time Takes microsecond and tzinfo attributes\n",
    "print()\n",
    "print(\"User Micro Second : \",usertime.microsecond)"
   ]
  },
  {
   "cell_type": "code",
   "execution_count": 4,
   "metadata": {},
   "outputs": [
    {
     "name": "stdout",
     "output_type": "stream",
     "text": [
      "Without passing any attribute:  00:00:00\n",
      "\n",
      "By passing hour, minute and second attributes:  12:55:50\n",
      "\n",
      "By replacing the hour attribute in time1:  17:00:00\n",
      "\n",
      "By replacing the minute attribute in time2:  12:00:50\n"
     ]
    }
   ],
   "source": [
    "#Replace\n",
    "import datetime\n",
    "\n",
    "time1 = datetime.time()\n",
    "print('Without passing any attribute: ', time1)\n",
    "print()\n",
    "time2 = datetime.time(hour=12, minute=55, second=50)\n",
    "print('By passing hour, minute and second attributes: ', time2)\n",
    "print()\n",
    "time1 = time1.replace(hour=17)\n",
    "print('By replacing the hour attribute in time1: ', time1)\n",
    "print()\n",
    "time2 = time2.replace(minute=00)\n",
    "print('By replacing the minute attribute in time2: ', time2)"
   ]
  },
  {
   "cell_type": "markdown",
   "metadata": {},
   "source": [
    "<b><h3 style=\"color:#FF5733;\" >datetime ( )</h3><br>\n",
    "    <pre>datetime.datetime(year, month, day, hour, minute, second)</pre>"
   ]
  },
  {
   "cell_type": "code",
   "execution_count": 5,
   "metadata": {},
   "outputs": [
    {
     "name": "stdout",
     "output_type": "stream",
     "text": [
      "User Date Time :  2020-01-31 13:14:31 Type : <class 'datetime.datetime'>\n",
      "\n",
      "User Year  :  2020\n",
      "\n",
      "User Month :  1\n",
      "\n",
      "User Day   :  31\n",
      "\n",
      "User Hour  :  13\n",
      "\n",
      "User Minute:  14\n"
     ]
    }
   ],
   "source": [
    "from datetime import datetime\n",
    "\n",
    "userdatetime = datetime(year=2020, month=1, day=31, hour=13, minute=14, second=31)\n",
    "#datetime.datetime(2020, 1, 31, 13, 14, 31)\n",
    "\n",
    "print(\"User Date Time : \",userdatetime, \"Type :\", type(userdatetime))\n",
    "print()\n",
    "print(\"User Year  : \",userdatetime.year)\n",
    "print()\n",
    "print(\"User Month : \",userdatetime.month)\n",
    "print()\n",
    "print(\"User Day   : \",userdatetime.day)\n",
    "print()\n",
    "print(\"User Hour  : \",userdatetime.hour)\n",
    "print()\n",
    "print(\"User Minute: \",userdatetime.minute)"
   ]
  },
  {
   "cell_type": "markdown",
   "metadata": {},
   "source": [
    "<b><h3 style=\"color:#FF5733;\" >now ( ) and today ( )</h3><br>\n",
    "    <pre>now and today methods return a datetime object with system’s exact day and time</pre>"
   ]
  },
  {
   "cell_type": "code",
   "execution_count": 6,
   "metadata": {},
   "outputs": [
    {
     "name": "stdout",
     "output_type": "stream",
     "text": [
      "Present Date Time :  2022-09-14 10:43:10.685726 Type : <class 'datetime.datetime'>\n"
     ]
    }
   ],
   "source": [
    "from datetime import datetime\n",
    "now = datetime.now()\n",
    "print(\"Present Date Time : \",now, \"Type :\", type(now))"
   ]
  },
  {
   "cell_type": "code",
   "execution_count": 7,
   "metadata": {},
   "outputs": [
    {
     "name": "stdout",
     "output_type": "stream",
     "text": [
      "Present Date:  2022-09-14\n",
      "\n",
      "Present Time:  10:43:10.685726\n",
      "\n",
      "Current Year:  2022\n",
      "\n",
      "Current Hour:  10\n"
     ]
    }
   ],
   "source": [
    "print(\"Present Date: \",now.date())\n",
    "print()\n",
    "\n",
    "print(\"Present Time: \",now.time())\n",
    "print()\n",
    "\n",
    "print(\"Current Year: \",now.year)\n",
    "print()\n",
    "\n",
    "print(\"Current Hour: \",now.hour)"
   ]
  },
  {
   "cell_type": "markdown",
   "metadata": {},
   "source": [
    "<pre>Additionally, now can take a timezone object as an optional parameter</pre>"
   ]
  },
  {
   "cell_type": "code",
   "execution_count": 8,
   "metadata": {},
   "outputs": [
    {
     "data": {
      "text/plain": [
       "datetime.datetime(2022, 9, 14, 5, 14, 0, 704346, tzinfo=datetime.timezone.utc)"
      ]
     },
     "execution_count": 8,
     "metadata": {},
     "output_type": "execute_result"
    }
   ],
   "source": [
    "from datetime import datetime, timezone\n",
    "datetime.now(timezone.utc)"
   ]
  },
  {
   "cell_type": "code",
   "execution_count": 9,
   "metadata": {},
   "outputs": [
    {
     "name": "stdout",
     "output_type": "stream",
     "text": [
      "2022-09-14\n"
     ]
    }
   ],
   "source": [
    "#today\n",
    "today = date.today()\n",
    "print(today)"
   ]
  },
  {
   "cell_type": "code",
   "execution_count": 10,
   "metadata": {},
   "outputs": [
    {
     "name": "stdout",
     "output_type": "stream",
     "text": [
      "2022-09-14 10:43:10\n"
     ]
    }
   ],
   "source": [
    "#combine\n",
    "current_time = time(now.hour, now.minute, now.second)\n",
    "combined = datetime.combine(today, current_time)\n",
    "print(combined)"
   ]
  },
  {
   "cell_type": "markdown",
   "metadata": {},
   "source": [
    "<b><h3 style=\"color:#FF5733;\" >strftime ( ) and strptime ( )</h3><br>\n",
    "    <pre>We can easily transform between strings and datetime objects with the strftime and strptime methods.</pre>\n",
    "    \n",
    "<center><img src='https://pynative.com/wp-content/uploads/2021/07/strptime_convert_string_to_datetime.png' width=\"600\" height=\"450\"></center>"
   ]
  },
  {
   "cell_type": "markdown",
   "metadata": {},
   "source": [
    "<b><h4 style=\"color:#cc33ff;\" >strftime ( ) : Datetime to String Conversion </h4><br>\n",
    "<li>Allow us to create human formatted strings out of a Python datetime object</li>"
   ]
  },
  {
   "cell_type": "code",
   "execution_count": 11,
   "metadata": {},
   "outputs": [
    {
     "name": "stdout",
     "output_type": "stream",
     "text": [
      "Present Date Time :  2022-09-14 10:46:41.408111 Type : <class 'datetime.datetime'>\n"
     ]
    }
   ],
   "source": [
    "#lets create a date time object\n",
    "from datetime import datetime\n",
    "now = datetime.now()\n",
    "print(\"Present Date Time : \",now, \"Type :\", type(now))"
   ]
  },
  {
   "cell_type": "code",
   "execution_count": 14,
   "metadata": {},
   "outputs": [
    {
     "name": "stdout",
     "output_type": "stream",
     "text": [
      "Conversion1 :  14-Sep-2022 Type : <class 'str'>\n",
      "\n",
      "Conversion2 :  14-09-2022 Type : <class 'str'>\n",
      "\n",
      "Conversion3 :  14-09-22 Type : <class 'str'>\n",
      "\n",
      "Conversion4 :  09/14/2022 Type : <class 'str'>\n",
      "\n",
      "Conversion5 :  Sep/14/2022 - 10:46:41 Type : <class 'str'>\n"
     ]
    }
   ],
   "source": [
    "#Conert Data Time to String \n",
    "Conversion1 = now.strftime(\"%d-%b-%Y\")\n",
    "print(\"Conversion1 : \",Conversion1, \"Type :\", type(Conversion1))\n",
    "print()\n",
    "\n",
    "Conversion2 = now.strftime(\"%d-%m-%Y\")\n",
    "print(\"Conversion2 : \",Conversion2, \"Type :\", type(Conversion2))\n",
    "print()\n",
    "\n",
    "Conversion3 = now.strftime(\"%d-%m-%y\")\n",
    "print(\"Conversion3 : \",Conversion3, \"Type :\", type(Conversion3))\n",
    "print()\n",
    "\n",
    "Conversion4 = now.strftime(\"%m/%d/%Y\")\n",
    "print(\"Conversion4 : \",Conversion4, \"Type :\", type(Conversion4))\n",
    "print()\n",
    "\n",
    "Conversion5 = now.strftime(\"%b/%d/%Y - %H:%M:%S\")\n",
    "print(\"Conversion5 : \",Conversion5, \"Type :\", type(Conversion5))"
   ]
  },
  {
   "cell_type": "markdown",
   "metadata": {},
   "source": [
    "---"
   ]
  },
  {
   "cell_type": "markdown",
   "metadata": {},
   "source": [
    "<b><h4 style=\"color:#cc33ff;\" >strptime ( ) : String to Date Time Conversion  </h4><br>\n",
    "<li>The strptime method creates a datetime object from a string.</li><br>\n",
    "<pre>obj.strptime(datetime_string, format)</pre>"
   ]
  },
  {
   "cell_type": "code",
   "execution_count": 15,
   "metadata": {},
   "outputs": [
    {
     "name": "stdout",
     "output_type": "stream",
     "text": [
      "conversion1 :  2023-07-12 00:00:00 Type : <class 'datetime.datetime'>\n",
      "\n",
      "Conversion2 :  2023-07-12 14:38:37 Type : <class 'datetime.datetime'>\n"
     ]
    }
   ],
   "source": [
    "from datetime import datetime\n",
    "\n",
    "datetime_str = '12-Jul-2023'\n",
    "conversion1 = datetime.strptime(datetime_str, '%d-%b-%Y')\n",
    "print(\"conversion1 : \",conversion1, \"Type :\", type(conversion1))\n",
    "print()\n",
    "\n",
    "datetime_str = 'Jul/12/2023 - 14:38:37'\n",
    "format_str = \"%b/%d/%Y - %H:%M:%S\"\n",
    "conversion2 = datetime.strptime(datetime_str, format_str )\n",
    "print(\"Conversion2 : \",conversion2, \"Type :\", type(conversion2))"
   ]
  },
  {
   "cell_type": "markdown",
   "metadata": {},
   "source": [
    "<h3 style=\"color:#028E8B;\" >Format Codes :  </h3><br>   \n",
    "<center><img src='https://miro.medium.com/max/1400/1*iNZ03wgi3djsRbMx5gD9jA.png' width=\"800\" height=\"400\"></center>"
   ]
  },
  {
   "cell_type": "code",
   "execution_count": 17,
   "metadata": {},
   "outputs": [
    {
     "name": "stdout",
     "output_type": "stream",
     "text": [
      "Current date and time:  2022-09-14 10:53:00.033021\n",
      "\n",
      "Fetched out year from current date:  2022\n",
      "\n",
      "Fetched out month from current date:  September\n",
      "\n",
      "Fetched out day from current date:  Wed\n",
      "\n",
      "Formatted the time from above generated date time:  10:53:00\n",
      "\n",
      "Formatted both date and time:  14/09/2022 10:53:00\n"
     ]
    }
   ],
   "source": [
    "#lets use format codes\n",
    "\n",
    "todaydatetime =datetime.now()\n",
    "\n",
    "print('Current date and time: ', todaydatetime)\n",
    "print()\n",
    "print('Fetched out year from current date: ', todaydatetime.strftime('%Y'))\n",
    "print()\n",
    "print('Fetched out month from current date: ', todaydatetime.strftime('%B'))\n",
    "print()\n",
    "print('Fetched out day from current date: ', todaydatetime.strftime('%a'))\n",
    "print()\n",
    "print('Formatted the time from above generated date time: ', todaydatetime.strftime('%H:%M:%S'))\n",
    "print()\n",
    "print('Formatted both date and time: ',todaydatetime.strftime(\"%d/%m/%Y %H:%M:%S\"))"
   ]
  },
  {
   "cell_type": "markdown",
   "metadata": {},
   "source": [
    "<b><h3 style=\"color:#FF5733;\" >timedelta ( )</h3><br>\n",
    "    <pre>The timedelta object represents the difference between two dates or times.</pre>"
   ]
  },
  {
   "cell_type": "code",
   "execution_count": 18,
   "metadata": {},
   "outputs": [
    {
     "name": "stdout",
     "output_type": "stream",
     "text": [
      "date1:  2023-07-12 00:00:00\n",
      "\n",
      "date2:  2024-01-01 00:00:00\n",
      "\n",
      "The difference is 173 days, 0:00:00 with type <class 'datetime.timedelta'>\n",
      "\n",
      "The difference is 173\n"
     ]
    }
   ],
   "source": [
    "from datetime import datetime\n",
    "\n",
    "date_1 = datetime.strptime('12-Jul-2023', '%d-%b-%Y')\n",
    "print('date1: ', date_1)\n",
    "print()\n",
    "\n",
    "date_2 = datetime.strptime('01-Jan-2024', '%d-%b-%Y')\n",
    "print('date2: ', date_2)\n",
    "print()\n",
    "\n",
    "difference = date_2 - date_1\n",
    "print(f\"The difference is {difference} with type {type(difference)}\")\n",
    "print()\n",
    "print(f\"The difference is {difference.days}\")"
   ]
  },
  {
   "cell_type": "code",
   "execution_count": 20,
   "metadata": {},
   "outputs": [
    {
     "name": "stdout",
     "output_type": "stream",
     "text": [
      "data1:  1 day, 23:30:00\n",
      "\n",
      "data2:  4 days, 11:30:00\n",
      "\n",
      "Difference between data2 and data1 :2 days, 12:00:00 with type <class 'datetime.timedelta'>\n"
     ]
    }
   ],
   "source": [
    "import datetime\n",
    "\n",
    "data1= datetime.timedelta(days=1, hours=23, minutes=30)\n",
    "print('data1: ', data1)\n",
    "print()\n",
    "\n",
    "data2= datetime.timedelta(days=4, hours=11, minutes=30)\n",
    "print('data2: ', data2)\n",
    "print()\n",
    "\n",
    "difference = data2-data1\n",
    "print(f\"Difference between data2 and data1 :{difference} with type {type(difference)}\")"
   ]
  },
  {
   "cell_type": "code",
   "execution_count": 21,
   "metadata": {},
   "outputs": [
    {
     "name": "stdout",
     "output_type": "stream",
     "text": [
      "Time before adding time delta 2022-09-14 10:58:08.654785\n",
      "\n",
      "Time after adding time delta 2022-09-24 10:58:23.654785\n"
     ]
    }
   ],
   "source": [
    "#timedelta can add days, seconds and microseconds to a datetime object\n",
    "from datetime import datetime, timedelta\n",
    "now = datetime.now()\n",
    "print(f\"Time before adding time delta {now}\")\n",
    "print()\n",
    "\n",
    "added = now + timedelta(days=10, seconds=15)\n",
    "print(f\"Time after adding time delta {added}\")"
   ]
  },
  {
   "cell_type": "code",
   "execution_count": 22,
   "metadata": {},
   "outputs": [
    {
     "name": "stdout",
     "output_type": "stream",
     "text": [
      "Time before subtracting time delta 2022-09-14 10:58:32.429135\n",
      "\n",
      "Time after subtracting time delta 2022-09-04 10:58:17.429135\n"
     ]
    }
   ],
   "source": [
    "#And can subtract days, seconds and microseconds to a datetime object:\n",
    "from datetime import datetime, timedelta\n",
    "now = datetime.now()\n",
    "print(f\"Time before subtracting time delta {now}\")\n",
    "print()\n",
    "\n",
    "subtracted = now - timedelta(days=10, seconds=15)\n",
    "print(f\"Time after subtracting time delta {subtracted}\")"
   ]
  },
  {
   "cell_type": "markdown",
   "metadata": {},
   "source": [
    "<b><h3 style=\"color:#cc33ff;\" >Timezone :  </h3><br>\n",
    "<li>A time zone represents the standard time which depends upon which part of the world is considered. </li><br>\n",
    "<li>Python datetime instances support two types of operation,<font style=\"color:#FF33F2\"> naive and aware</font>. </li><br>\n",
    "<li>The basic difference between them is that naive instances don’t contain time zone information, whereas aware instances do.</li><br>\n",
    "    <li>We can import third party packages like <font style=\"color:#FF33F2\"> pytz or dateutil</font> for using the time zone of different part of the world</li><br>"
   ]
  },
  {
   "cell_type": "code",
   "execution_count": 23,
   "metadata": {},
   "outputs": [],
   "source": [
    "#Install  and import dateutil\n",
    "#pip install python-dateutil\n",
    "from dateutil import tz\n",
    "from datetime import datetime"
   ]
  },
  {
   "cell_type": "code",
   "execution_count": 24,
   "metadata": {},
   "outputs": [
    {
     "name": "stdout",
     "output_type": "stream",
     "text": [
      "Present time in India Standard Time is 2022-09-14 11:02:16.092992+05:30\n"
     ]
    }
   ],
   "source": [
    "#local time\n",
    "now = datetime.now(tz=tz.tzlocal())\n",
    "print(f\"Present time in {now.tzname()} is {now}\")"
   ]
  },
  {
   "cell_type": "code",
   "execution_count": 25,
   "metadata": {},
   "outputs": [
    {
     "name": "stdout",
     "output_type": "stream",
     "text": [
      "Present time in BST is 2022-09-14 06:33:13.067687+01:00\n"
     ]
    }
   ],
   "source": [
    "#London time\n",
    "London_tz = tz.gettz(\"Europe/London\")\n",
    "now = datetime.now(tz=London_tz)\n",
    "print(f\"Present time in {now.tzname()} is {now}\")"
   ]
  },
  {
   "cell_type": "code",
   "execution_count": 26,
   "metadata": {},
   "outputs": [
    {
     "name": "stdout",
     "output_type": "stream",
     "text": [
      "Present time in UTC is 2022-09-14 05:33:24.084170+00:00\n"
     ]
    }
   ],
   "source": [
    "#The method demonstrated here returns an aware datetime instance.\n",
    "now = datetime.now(tz=tz.UTC)\n",
    "print(f\"Present time in {now.tzname()} is {now}\")"
   ]
  },
  {
   "cell_type": "code",
   "execution_count": 27,
   "metadata": {},
   "outputs": [
    {
     "name": "stdout",
     "output_type": "stream",
     "text": [
      "local time:  2022-09-14 11:04:11.409990\n",
      "\n",
      "UTC time zone:  2022-09-14 05:34:11.410988+00:00\n",
      "\n",
      "US time zone:  2022-09-14 00:34:11.941933-05:00\n"
     ]
    }
   ],
   "source": [
    "#added another module for using different time zones.\n",
    "import pytz\n",
    "\n",
    "localtime= datetime.now()\n",
    "print('local time: ', localtime)\n",
    "print()\n",
    "utctime = datetime.now(pytz.utc)\n",
    "print('UTC time zone: ', utctime)\n",
    "print()\n",
    "ustime = datetime.now(pytz.timezone('US/CENTRAL'))\n",
    "print('US time zone: ', ustime)"
   ]
  },
  {
   "cell_type": "markdown",
   "metadata": {},
   "source": [
    "<b><h4 style=\"color:#cc33ff;\" >How to Get Current timeStamp ? :  </h4><br>\n",
    "<li>A timestamp is a sequence of characters used to find when a particular event occurred</li><br>\n",
    "<li>Generally giving the date and time of the day which is accurate to a small fraction of a second.</li><br>"
   ]
  },
  {
   "cell_type": "code",
   "execution_count": 31,
   "metadata": {},
   "outputs": [
    {
     "name": "stdout",
     "output_type": "stream",
     "text": [
      "current date and time 2022-09-14 11:06:20.879618\n",
      "\n",
      "current timestamp 1663133780.879618\n"
     ]
    }
   ],
   "source": [
    "import datetime\n",
    "\n",
    "timestamp =datetime.datetime.now()\n",
    "print('current date and time', timestamp)\n",
    "print()\n",
    "print('current timestamp', timestamp.timestamp())"
   ]
  },
  {
   "cell_type": "markdown",
   "metadata": {},
   "source": [
    "<b><h3 style=\"color:#028E8B;\" >More on Date Time</h3><br>"
   ]
  },
  {
   "cell_type": "code",
   "execution_count": 32,
   "metadata": {},
   "outputs": [
    {
     "name": "stdout",
     "output_type": "stream",
     "text": [
      "The earliest representable date 0001-01-01\n",
      "\n",
      "The latest representable date 9999-12-31\n",
      "\n",
      "The smallest possible difference 1 day, 0:00:00\n"
     ]
    }
   ],
   "source": [
    "#Constants\n",
    "import datetime\n",
    "#min - The earliest representable date, date(MINYEAR, 1, 1).\n",
    "print(f\"The earliest representable date {datetime.date.min}\")\n",
    "print()\n",
    "\n",
    "#max - The latest representable date, date(MAXYEAR, 12, 31).\n",
    "print(f\"The latest representable date {datetime.date.max}\")\n",
    "print()\n",
    "\n",
    "#resolution - The smallest possible difference between non-equal date objects, timedelta(days=1).\n",
    "print(f\"The smallest possible difference {datetime.date.resolution}\")"
   ]
  },
  {
   "cell_type": "code",
   "execution_count": 33,
   "metadata": {},
   "outputs": [
    {
     "name": "stdout",
     "output_type": "stream",
     "text": [
      "Weekday of User Date is 2\n",
      "\n",
      "ISO Weekday of User Date is 3\n",
      "\n",
      "ISO Calender of User Date is (2002, 49, 3)\n",
      "\n",
      "ISO format of User Date is 2002-12-04\n",
      "\n",
      "String format of User Date  2002-12-04\n",
      "\n",
      "Day Representation of User Date  Wed Dec  4 00:00:00 2002\n"
     ]
    }
   ],
   "source": [
    "#lets take a date to see avaliable methods \n",
    "userdate = datetime.date(2002, 12, 4)\n",
    "\n",
    "#weekday() - Return the day of the week as an integer,where Monday is 0 and Sunday is 6.\n",
    "print(f\"Weekday of User Date is {userdate.weekday()}\")\n",
    "print()\n",
    "\n",
    "#isoweekday() - Return the day of the week as an integer (According to ISO standard), where Monday is 1 and Sunday is 7\n",
    "print(f\"ISO Weekday of User Date is {userdate.isoweekday()}\")\n",
    "print()\n",
    "\n",
    "#isocalender - Return a 3-tuple, (ISO year, ISO week number, ISO weekday).\n",
    "print(f\"ISO Calender of User Date is {userdate.isocalendar()}\")\n",
    "print()\n",
    "\n",
    "#isoformat() Return a string representing the date in ISO 8601 format, ‘YYYY-MM-DD’.\n",
    "print(f\"ISO format of User Date is {userdate.isoformat()}\")\n",
    "print()\n",
    "\n",
    "#For a date d, str(d) is equivalent to d.isoformat().\n",
    "print(f\"String format of User Date  {userdate.__str__()}\")\n",
    "print()\n",
    "\n",
    "#ctime() - Return a string representing the date\n",
    "print(f\"Day Representation of User Date  {userdate.ctime()}\")"
   ]
  },
  {
   "cell_type": "markdown",
   "metadata": {},
   "source": [
    "<pre>The constructor of the date class can raise a ValueError if the values passed in are invalid (out of range).\n",
    "\n",
    "# MINYEAR <= year <= MAXYEAR\n",
    "\n",
    "# 1 <= month <= 12\n",
    "\n",
    "# 1 <= day <= number of days in the given month and year\n",
    "</pre>"
   ]
  },
  {
   "cell_type": "code",
   "execution_count": 37,
   "metadata": {},
   "outputs": [
    {
     "ename": "ValueError",
     "evalue": "year 20193 is out of range",
     "output_type": "error",
     "traceback": [
      "\u001b[1;31m---------------------------------------------------------------------------\u001b[0m",
      "\u001b[1;31mValueError\u001b[0m                                Traceback (most recent call last)",
      "\u001b[1;32m<ipython-input-37-4d0e36356cf6>\u001b[0m in \u001b[0;36m<module>\u001b[1;34m\u001b[0m\n\u001b[0;32m      1\u001b[0m \u001b[1;31m#feb 30\u001b[0m\u001b[1;33m\u001b[0m\u001b[1;33m\u001b[0m\u001b[1;33m\u001b[0m\u001b[0m\n\u001b[1;32m----> 2\u001b[1;33m \u001b[0mdatetime\u001b[0m\u001b[1;33m.\u001b[0m\u001b[0mdate\u001b[0m\u001b[1;33m(\u001b[0m\u001b[1;36m20193\u001b[0m\u001b[1;33m,\u001b[0m\u001b[1;36m1\u001b[0m\u001b[1;33m,\u001b[0m\u001b[1;36m28\u001b[0m\u001b[1;33m)\u001b[0m\u001b[1;33m\u001b[0m\u001b[1;33m\u001b[0m\u001b[0m\n\u001b[0m",
      "\u001b[1;31mValueError\u001b[0m: year 20193 is out of range"
     ]
    }
   ],
   "source": [
    "#feb 30 \n",
    "datetime.date(2019,2,30)"
   ]
  },
  {
   "cell_type": "code",
   "execution_count": 38,
   "metadata": {},
   "outputs": [
    {
     "name": "stdout",
     "output_type": "stream",
     "text": [
      "d1 is greater than d2 :  False\n",
      "\n",
      "d1 is less than d2 :  True\n",
      "\n",
      "d1 is not equal to d2 :  True\n"
     ]
    }
   ],
   "source": [
    "# compare dates\n",
    "  \n",
    "# importing datetime module\n",
    "import datetime\n",
    "  \n",
    "# date in yyyy/mm/dd format\n",
    "d1 = datetime.datetime(2018, 5, 3)\n",
    "d2 = datetime.datetime(2018, 6, 1)\n",
    "  \n",
    "# Comparing the dates will return either True or False\n",
    "print(\"d1 is greater than d2 : \", d1 > d2)\n",
    "print()\n",
    "print(\"d1 is less than d2 : \", d1 < d2)\n",
    "print()\n",
    "print(\"d1 is not equal to d2 : \", d1 != d2)"
   ]
  },
  {
   "cell_type": "markdown",
   "metadata": {},
   "source": [
    "<b><h2 style=\"color:#2CC9C9;\" >dateutil</h2><br>\n",
    "<li>The dateutil module specializes in providing an extension of features to the existing datetime module,</li><br>\n",
    "<li>It provides extra functionality, such as timedeltas that are expressed in units larger than a day</li>"
   ]
  },
  {
   "cell_type": "code",
   "execution_count": 39,
   "metadata": {},
   "outputs": [],
   "source": [
    "# We'll need to import methods from the datetime module as a base.\n",
    "from datetime import datetime , time , date\n",
    "# Now, let's import some methods from the dateutil subclasses.\n",
    "from dateutil.relativedelta import *\n",
    "from dateutil.easter import *\n",
    "from dateutil.parser import *\n",
    "from dateutil.rrule import *"
   ]
  },
  {
   "cell_type": "code",
   "execution_count": 40,
   "metadata": {},
   "outputs": [
    {
     "name": "stdout",
     "output_type": "stream",
     "text": [
      "The datetime right now :  2022-09-14 11:14:20.556853\n",
      "The date today :  2022-09-14\n"
     ]
    }
   ],
   "source": [
    "# Creating a few datetime objects to work with\n",
    "NOW = datetime.now()\n",
    "print(\"The datetime right now : \", NOW)\n",
    "TODAY = date.today()\n",
    "print(\"The date today : \", TODAY)"
   ]
  },
  {
   "cell_type": "code",
   "execution_count": 42,
   "metadata": {},
   "outputs": [
    {
     "name": "stdout",
     "output_type": "stream",
     "text": [
      "2022-10-14 11:14:20.556853\n",
      "2022-10-21 11:14:20.556853\n",
      "2022-10-21 17:14:20.556853\n",
      "2022-09-20\n"
     ]
    }
   ],
   "source": [
    "# Next month\n",
    "print(NOW + relativedelta(months=+1))\n",
    " \n",
    "# Next month, plus one week\n",
    "print(NOW + relativedelta(months=+1, weeks=+1))\n",
    " \n",
    "# Next month, plus one week, at 5 PM\n",
    "print(NOW + relativedelta(months=+1, weeks=+1, hour=17))\n",
    " \n",
    "# Next friday\n",
    "print(TODAY + relativedelta(weekday=TU))"
   ]
  },
  {
   "cell_type": "code",
   "execution_count": 46,
   "metadata": {},
   "outputs": [
    {
     "name": "stdout",
     "output_type": "stream",
     "text": [
      "2022-09-27\n",
      "Sacra's Age :  83\n"
     ]
    }
   ],
   "source": [
    "# Finding out the last tuesday in the month\n",
    "print(TODAY + relativedelta(day=31, weekday=TU(-1)))\n",
    " \n",
    "# We can also work with datetime objects directly - Example: Age of Sacra\n",
    "sacra_birthday = datetime(1939, 4, 5, 12, 0)\n",
    "print(\"Sacra's Age : \", relativedelta(NOW, sacra_birthday).years)"
   ]
  },
  {
   "cell_type": "markdown",
   "metadata": {},
   "source": [
    "<b><h3 style=\"color:#028E8B;\" >Alternatives to Python datetime and dateutil</h3><br>\n",
    "<li>NumPy provides a similar API to the built-in Python datetime library, but the NumPy version can be used in arrays.</li><br>\n",
    "<li>Pandas provides support for time-series data in DataFrames, usually sequential values of time-based events.</li><br>\n",
    "<li>cftime provides support for calendars other than the proleptic Gregorian calendar </li><br>\n",
    "    <li>other packages includes Arrow,Pendulum,Maya,dateparser.</li>"
   ]
  },
  {
   "cell_type": "markdown",
   "metadata": {},
   "source": [
    "---\n",
    "\n",
    "---\n",
    "\n",
    "---"
   ]
  },
  {
   "cell_type": "markdown",
   "metadata": {},
   "source": [
    "<b><center><h1 style=\"color:#FF5733;\" >Random Module in Python: </h1><br>\n",
    "    \n",
    "<img src='https://i0.wp.com/pythonprogramming.altervista.org/wp-content/uploads/2020/01/RANDOMMODULE.png?w=762&ssl=1' width=\"500\" height=\"500\"></center> <br> \n",
    "\n",
    "<li>The random module is a built-in module to generate the pseudo-random variables.</li><br>\n",
    "<li>It can be used perform some action randomly such as to get a random number, selecting a random elements from a list,<br><br> shuffle elements randomly, etc.</li><br>\n",
    "<li>It has numerous classes and methods for generating different sorts of random numbers : </li><br>\n",
    "    \n",
    "<center><img src='https://techvidvan.com/tutorials/wp-content/uploads/sites/2/2020/07/Built-in-functions-for-generating-random-numbers-in-python-Copy.jpg' width=\"500\" height=\"500\"></center>"
   ]
  },
  {
   "cell_type": "code",
   "execution_count": 47,
   "metadata": {},
   "outputs": [
    {
     "name": "stdout",
     "output_type": "stream",
     "text": [
      "['BPF', 'LOG4', 'NV_MAGICCONST', 'RECIP_BPF', 'Random', 'SG_MAGICCONST', 'SystemRandom', 'TWOPI', '_Sequence', '_Set', '__all__', '__builtins__', '__cached__', '__doc__', '__file__', '__loader__', '__name__', '__package__', '__spec__', '_accumulate', '_acos', '_bisect', '_ceil', '_cos', '_e', '_exp', '_inst', '_log', '_os', '_pi', '_random', '_repeat', '_sha512', '_sin', '_sqrt', '_test', '_test_generator', '_urandom', '_warn', 'betavariate', 'choice', 'choices', 'expovariate', 'gammavariate', 'gauss', 'getrandbits', 'getstate', 'lognormvariate', 'normalvariate', 'paretovariate', 'randint', 'random', 'randrange', 'sample', 'seed', 'setstate', 'shuffle', 'triangular', 'uniform', 'vonmisesvariate', 'weibullvariate']\n"
     ]
    }
   ],
   "source": [
    "#Importing Random Module\n",
    "import random\n",
    "print(dir(random))"
   ]
  },
  {
   "cell_type": "markdown",
   "metadata": {},
   "source": [
    "<b><h4 style=\"color:#FF5733;\" >random( ) :</h4>\n",
    "    <pre>Generates a random floating-point number in the interval [0,1)</pre>"
   ]
  },
  {
   "cell_type": "code",
   "execution_count": 49,
   "metadata": {},
   "outputs": [
    {
     "name": "stdout",
     "output_type": "stream",
     "text": [
      "0.2775806823883379\n",
      "0.37592275314423684\n",
      "0.2084827928560018\n"
     ]
    }
   ],
   "source": [
    "print(random.random())\n",
    "print(random.random())\n",
    "print(random.random())"
   ]
  },
  {
   "cell_type": "markdown",
   "metadata": {},
   "source": [
    "<b><h4 style=\"color:#FF5733;\" >randint (x, y):</h4>\n",
    "    <pre>Generates a random integer from x to y, including the x and y.</pre>"
   ]
  },
  {
   "cell_type": "code",
   "execution_count": 51,
   "metadata": {},
   "outputs": [
    {
     "name": "stdout",
     "output_type": "stream",
     "text": [
      "7\n",
      "26\n",
      "258\n",
      "3598\n"
     ]
    }
   ],
   "source": [
    "print(random.randint(0,9))\n",
    "print(random.randint(10,99))\n",
    "print(random.randint(100,999))\n",
    "print(random.randint(1000, 9999))"
   ]
  },
  {
   "cell_type": "markdown",
   "metadata": {},
   "source": [
    "<b><h4 style=\"color:#FF5733;\" >randrange(start, stop, step):</h4>\n",
    "    <pre>Generates a random integer in the range(start, stop, step)</pre>"
   ]
  },
  {
   "cell_type": "code",
   "execution_count": 53,
   "metadata": {},
   "outputs": [
    {
     "data": {
      "text/plain": [
       "9"
      ]
     },
     "execution_count": 53,
     "metadata": {},
     "output_type": "execute_result"
    }
   ],
   "source": [
    "#In this example, the output will be a random integer from [1, 3, 5, 7, 9]\n",
    "random.randrange(1, 10, 2)"
   ]
  },
  {
   "cell_type": "markdown",
   "metadata": {},
   "source": [
    "<b><h4 style=\"color:#FF5733;\" >uniform(x, y):</h4>\n",
    "    <pre>It generates a floating-point value between x and y.</pre>"
   ]
  },
  {
   "cell_type": "code",
   "execution_count": 54,
   "metadata": {},
   "outputs": [
    {
     "data": {
      "text/plain": [
       "8.062847320971375"
      ]
     },
     "execution_count": 54,
     "metadata": {},
     "output_type": "execute_result"
    }
   ],
   "source": [
    "random.uniform(6, 9)"
   ]
  },
  {
   "cell_type": "markdown",
   "metadata": {},
   "source": [
    "<b><h4 style=\"color:#FF5733;\" >choice(seq):</h4>\n",
    "    <pre>Chooses a random element from a non-empty sequence seq.</pre>"
   ]
  },
  {
   "cell_type": "code",
   "execution_count": 56,
   "metadata": {},
   "outputs": [
    {
     "data": {
      "text/plain": [
       "88"
      ]
     },
     "execution_count": 56,
     "metadata": {},
     "output_type": "execute_result"
    }
   ],
   "source": [
    "seq = (12, 33, 67, 55, 78, 90, 34, 67, 88)\n",
    "random.choice(seq)"
   ]
  },
  {
   "cell_type": "markdown",
   "metadata": {},
   "source": [
    "<b><h4 style=\"color:#FF5733;\" >sample(population, k):</h4>\n",
    "    <pre>Selects k unique random elements from a population sequence or set.</pre>"
   ]
  },
  {
   "cell_type": "code",
   "execution_count": 59,
   "metadata": {},
   "outputs": [
    {
     "data": {
      "text/plain": [
       "[33, 12, 88]"
      ]
     },
     "execution_count": 59,
     "metadata": {},
     "output_type": "execute_result"
    }
   ],
   "source": [
    "seq = (12, 33, 67, 55, 78, 90, 34, 67, 88)\n",
    "random.sample(seq, 3)"
   ]
  },
  {
   "cell_type": "markdown",
   "metadata": {},
   "source": [
    "<b><h4 style=\"color:#FF5733;\" >shuffle(x):</h4>\n",
    "    <pre>Shuffles list x in place.</pre>"
   ]
  },
  {
   "cell_type": "code",
   "execution_count": 61,
   "metadata": {},
   "outputs": [
    {
     "name": "stdout",
     "output_type": "stream",
     "text": [
      "[20, 40, 30, 10, 50]\n"
     ]
    }
   ],
   "source": [
    "l = [10, 20, 30, 40, 50]\n",
    "random.shuffle(l)\n",
    "print(l)"
   ]
  },
  {
   "cell_type": "markdown",
   "metadata": {},
   "source": [
    "<b><h4 style=\"color:#FF5733;\" >seed(x):</h4>\n",
    "    <pre>Generates the same sequence of random numbers every time you call seed(x).</pre>"
   ]
  },
  {
   "cell_type": "code",
   "execution_count": 63,
   "metadata": {},
   "outputs": [
    {
     "name": "stdout",
     "output_type": "stream",
     "text": [
      "0.23796462709189137 0.5442292252959519 0.36995516654807925 \n",
      "\n",
      "0.2267058593810488 0.9622950358343828 0.12633089865085956 \n",
      "\n",
      "0.23796462709189137 0.5442292252959519 0.36995516654807925 \n",
      "\n",
      "0.2267058593810488 0.9622950358343828 0.12633089865085956 \n",
      "\n"
     ]
    }
   ],
   "source": [
    "# seed value = 3\n",
    "random.seed(3)\n",
    "for i in range(3):\n",
    "    print(random.random(), end = ' ')\n",
    "\n",
    "print('\\n')\n",
    "\n",
    "# seed value = 8\n",
    "random.seed(8)\n",
    "for i in range(3):\n",
    "    print(random.random(), end = ' ')\n",
    "\n",
    "print('\\n')\n",
    "\n",
    "#whenever we call the seed() function with same value, it will produce the exact same sequence of random numbers.\n",
    "# seed value again = 3\n",
    "random.seed(3)\n",
    "for i in range(3):\n",
    "    print(random.random(), end = ' ')\n",
    "\n",
    "print('\\n')\n",
    "\n",
    "\n",
    "# seed value = 8\n",
    "random.seed(8)\n",
    "for i in range(3):\n",
    "    print(random.random(), end = ' ')\n",
    "\n",
    "print('\\n')"
   ]
  },
  {
   "cell_type": "markdown",
   "metadata": {},
   "source": [
    "<b><h4 style=\"color:#FF5733;\" >Creating a list with random integers</h4>"
   ]
  },
  {
   "cell_type": "code",
   "execution_count": 64,
   "metadata": {},
   "outputs": [
    {
     "name": "stdout",
     "output_type": "stream",
     "text": [
      "[15, 20, 27, 41, 74, 36, 61, 92, 13, 68]\n"
     ]
    }
   ],
   "source": [
    "numbers = []\n",
    "\n",
    "for _ in range(10):\n",
    "    num = random.randrange(10, 100)\n",
    "    numbers.append(num)\n",
    "\n",
    "print(numbers)"
   ]
  },
  {
   "cell_type": "code",
   "execution_count": 65,
   "metadata": {},
   "outputs": [
    {
     "name": "stdout",
     "output_type": "stream",
     "text": [
      "[72, 68, 59, 73, 83, 34, 61, 21, 72, 39]\n"
     ]
    }
   ],
   "source": [
    "numbers = [random.randrange(10, 100) for _ in range(10)]\n",
    "print(numbers)"
   ]
  },
  {
   "cell_type": "markdown",
   "metadata": {},
   "source": [
    "<b><h3 style=\"color:#FF5733;\" >FAQ's : </h3><br>\n",
    "<li>What is datetime module in Python ?</li><br>\n",
    "<li>What is datetime datetime now( ) in Python ?</li><br>\n",
    "<li>How to print the date and time in Python ?</li><br>\n",
    "<li>How do you compare two times in Python ?</li><br>\n",
    "<li>How does Python calculate datetime difference ?</li><br>\n",
    "<li>What is datetime module in Python ?</li><br>\n",
    "<li>How to pick randomly from an array or a list ?</li><br>\n",
    "<li>Difference between random.randrange( ) and random.randint( )?</li><br>\n",
    "<li>Difference between random.uniform( ) and random.random( ) ?</li><br>\n",
    "<li>Difference between random.choices( ) and random.sample( ) ?</li><br>"
   ]
  },
  {
   "cell_type": "markdown",
   "metadata": {},
   "source": [
    "<b><h3 style=\"color:#FF5733;\" >To - Do</h3>\n",
    "<br>\n",
    "<b><h4 style=\"color:#2CC9C9;\" >Date Time</h4><br>\n",
    "<li>Write a program to Know the Day of the Given Date?</li><br>\n",
    "<li>Generate a List of Dates from a Given Date</li><br>\n",
    "<li>Take date of births of 3 persons and print who is elder</li><br>\n",
    "<li>Subtract a week (7 days)  from a given date in Python</li><br>\n",
    "<li>Add a week (7 days) and 12 hours to a given date</li><br>\n",
    "<li>Print current time in milliseconds</li><br>\n",
    "<li>Convert the following datetime into a string : given_date = datetime(2020, 2, 25) </li><br>\n",
    "<li>Calculate the date 4 months from the current date</li><br>\n",
    "<b><h4 style=\"color:#2CC9C9;\" >Random</h4><br>\n",
    "<li>Write a program to Generate 6 digit random secure OTP</li><br>\n",
    "<li>Write a program to randomly generate a floating-point number between 2.5 and 7.3</li><br>\n",
    "<li>Write a program to print a random value from the list [Phil, Cam, Luke, Lily, jay, Cameron, Michelle].</li><br>\n",
    "<li>Write a program to shuffle the list [4, 5, 6, 7, 8, 9, 10]</li><br>\n",
    "<li>Pick a random character from a given String</li><br>\n",
    "<li>Write a program to Generate random String of length 5</li><br>\n",
    "<li>Write a program to create a list with 4 random ten-digit integers</li><br>\n",
    "<li>*Generate a random Password which meets the following conditions :<br>\n",
    "    <pre>Password length must be 10 characters long.\n",
    "    \n",
    "It must contain at least 2 upper case letters, 1 digit, and 1 special symbol.\n",
    "     </pre></li>\n",
    "    <li>Generate a random date between given start and end dates</li><br>\n",
    "    <li>Write a Program to Roll dice in such a way that every time you get the same number</li><br>\n",
    "<li>Random Lottery Pick : Generate 100 random lottery tickets and pick two lucky tickets from it as a winner:<br>\n",
    "    <pre>The lottery number must be 10 digits long..\n",
    "    \n",
    "All 100 ticket number must be unique.\n",
    "     </pre></li>"
   ]
  },
  {
   "cell_type": "markdown",
   "metadata": {},
   "source": [
    "&copy; **Nitheesh Reddy**"
   ]
  }
 ],
 "metadata": {
  "kernelspec": {
   "display_name": "Python 3",
   "language": "python",
   "name": "python3"
  },
  "language_info": {
   "codemirror_mode": {
    "name": "ipython",
    "version": 3
   },
   "file_extension": ".py",
   "mimetype": "text/x-python",
   "name": "python",
   "nbconvert_exporter": "python",
   "pygments_lexer": "ipython3",
   "version": "3.8.5"
  }
 },
 "nbformat": 4,
 "nbformat_minor": 4
}

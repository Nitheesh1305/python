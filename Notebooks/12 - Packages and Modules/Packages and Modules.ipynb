{
 "cells": [
  {
   "cell_type": "markdown",
   "metadata": {},
   "source": [
    "<b><center><h1 style=\"color:#ff0066;\" >Packages and Modules in Python</h1><br>\n",
    "<img src='https://d6vdma9166ldh.cloudfront.net/media/images/6c4b5480-62b9-4c00-a55b-7ddb3ef8c0f7.jpg' width=\"800\" height=\"600\"><br>\n",
    "Lets explore Python modules and Python packages, two mechanisms that facilitate modular programming.</center>"
   ]
  },
  {
   "cell_type": "markdown",
   "metadata": {},
   "source": [
    "<b><h2 style=\"color:#FF5733;\" >What is Modular programming ? </h2>\n",
    "<br>\n",
    "<center><img src=\"https://www.infanion.com/sites/default/files/inline-images/Modular%20programming%20-%20image%20-%20750.jpg\" width=\"800\" height=\"600\" ></center><br>\n",
    "<li>It  is a process of subdividing a computer program into separate, independent and interchangeable sub-programs (modules).</li><br>\n",
    "<li>Similar functions are grouped in the same module which improves e.g. the testability, maintainability and reusability by other applications.</li><br>\n",
    "<li>Individual modules can then be cobbled together like building blocks to create a larger application..</li><br>\n",
    "<b><h4 style=\"color:#cc33ff;\" >Some of the advantages of modular programming : </h4><br>\n",
    "<li>Allow multiple developers to contribute to your project effectively.</li><br>\n",
    "<li>Modular programming makes testing and debugging more efficient.</li><br>\n",
    "<li>Allows you to focus on a small part of problem at a time without disturbing the whole.</li><br>\n",
    "<li>Organize the code and maintain the project a lot more easier.</li><br>\n",
    "<li>Developed modules can be re-used for other applications.</li>"
   ]
  },
  {
   "cell_type": "markdown",
   "metadata": {},
   "source": [
    "<b><h2 style=\"color:#028E8B;\" >What is a Module ? </h2>\n",
    "<br>\n",
    "<ul>\n",
    "<li>A module is basically a bunch of related code saved in a file with the extension .py.</li><br>\n",
    "<li>It often defines members like classes, functions, and variables intended to be used in other files that import it.</li><br>\n",
    "<li>It’s also fine to include runnable code in modules.</li><br>\n",
    "<li>There are actually three different ways to define a module in Python :<br><br>\n",
    "    <ul>\n",
    "        <li>A user defined module that can be written in Python itself.</li><br>\n",
    "        <li>A module can be written in C and loaded dynamically at run-time, like the re (regular expression) module.</li><br>\n",
    "        <li>A built-in module is intrinsically contained in the interpreter, like the itertools module.</li><br>\n",
    "     </ul>       \n",
    "</li><br>\n",
    "<center><img src=\"https://cdn.jsdelivr.net/gh/b0xt/sobyte-images/2021/10/27/86252d52541e494a8d787b6c30f6fe8a.png\" width=\"600\" height=\"600\" ></center><br>\n",
    "<li>To use the functionality of the module to another program, we must import the specific module.</li><br>\n",
    "<li>Which is done the same way in all three cases using the following ways:<br><br>\n",
    "     <ul>\n",
    "        <li>The import statement.</li><br>\n",
    "        <li>The from-import statement.</li>\n",
    "     </ul> \n",
    "</li>"
   ]
  },
  {
   "cell_type": "markdown",
   "metadata": {},
   "source": [
    "<b><h4 style=\"color:#FF5733;\" >The import statement</h4>\n",
    "<br>\n",
    "The import statement is used to load all the functionality of one module into another<br><br>\n",
    "<center><img src=\"https://i.imgur.com/yJ0NjcD.png?2\" width=\"600\" height=\"400\" ></center>"
   ]
  },
  {
   "cell_type": "code",
   "execution_count": 1,
   "metadata": {},
   "outputs": [
    {
     "data": {
      "text/plain": [
       "module"
      ]
     },
     "execution_count": 1,
     "metadata": {},
     "output_type": "execute_result"
    }
   ],
   "source": [
    "# Import the mod.py file as a 'mod' module\n",
    "import mod\n",
    "'''\n",
    "Several objects are defined in mod.py:\n",
    "s (a string)\n",
    "a (a list)\n",
    "foo() (a function)\n",
    "Foo (a class)\n",
    "'''\n",
    "type(mod)"
   ]
  },
  {
   "cell_type": "code",
   "execution_count": 2,
   "metadata": {},
   "outputs": [
    {
     "name": "stdout",
     "output_type": "stream",
     "text": [
      "If Comrade Napoleon says it, it must be right.\n"
     ]
    }
   ],
   "source": [
    "#Acessing string\n",
    "print(mod.s)"
   ]
  },
  {
   "cell_type": "code",
   "execution_count": 3,
   "metadata": {},
   "outputs": [
    {
     "name": "stdout",
     "output_type": "stream",
     "text": [
      "[100, 200, 300]\n"
     ]
    }
   ],
   "source": [
    "#Acessing the list\n",
    "print(mod.a)"
   ]
  },
  {
   "cell_type": "code",
   "execution_count": 4,
   "metadata": {},
   "outputs": [
    {
     "name": "stdout",
     "output_type": "stream",
     "text": [
      "arg = ['quux', 'corge', 'grault']\n"
     ]
    }
   ],
   "source": [
    "#acessing the function\n",
    "mod.foo(['quux', 'corge', 'grault'])"
   ]
  },
  {
   "cell_type": "code",
   "execution_count": 5,
   "metadata": {},
   "outputs": [
    {
     "data": {
      "text/plain": [
       "<mod.Foo at 0x204a1954f70>"
      ]
     },
     "execution_count": 5,
     "metadata": {},
     "output_type": "execute_result"
    }
   ],
   "source": [
    "#acessing the class\n",
    "x = mod.Foo()\n",
    "x"
   ]
  },
  {
   "cell_type": "markdown",
   "metadata": {},
   "source": [
    "<b><h4 style=\"color:#FF5733;\" >The from-import statement</h4>\n",
    "<br>\n",
    "A module can contain various attributes, and if we require a specific attribute of a module, then it can be done by the from-import statement.<br><br>\n",
    "<center><img src=\"https://digitalpress.fra1.cdn.digitaloceanspaces.com/0tsinvq/2021/06/carbon--2-.png\" width=\"600\" height=\"400\" ></center>"
   ]
  },
  {
   "cell_type": "code",
   "execution_count": 6,
   "metadata": {},
   "outputs": [],
   "source": [
    "# Import a class from the file\n",
    "from cars import Car"
   ]
  },
  {
   "cell_type": "code",
   "execution_count": 7,
   "metadata": {},
   "outputs": [
    {
     "name": "stdout",
     "output_type": "stream",
     "text": [
      "...VROOOOM....Started!\n",
      "I'm driving at: 0 in gear: 0\n"
     ]
    }
   ],
   "source": [
    "# object for car\n",
    "car1 = Car(make=\"Toyota\", model=\"Camry\")\n",
    "\n",
    "# Start driving\n",
    "car1.start()\n",
    "\n",
    "#stop the car\n",
    "car1.stop()\n",
    "\n",
    "#check the speed\n",
    "car1.check_speed_and_gear()"
   ]
  },
  {
   "cell_type": "markdown",
   "metadata": {},
   "source": [
    "<b><h4 style=\"color:#028E8B;\" >What exactly happens when we write an import statement ?</h4>\n",
    "<br>\n",
    "<li>The python interpreter tries to look for the directory containing the module we are trying to import in sys.path</li><br>\n",
    "<li>It is a list of directories that Python will search once it is done looking at the cached modules and Python standard library modules.</li><br>\n",
    "Let’s see what our system path contains at this very moment"
   ]
  },
  {
   "cell_type": "code",
   "execution_count": 8,
   "metadata": {},
   "outputs": [
    {
     "data": {
      "text/plain": [
       "['C:\\\\Users\\\\nithe\\\\Desktop\\\\TNR\\\\Data Science\\\\Course Bundle\\\\01 - Python\\\\12 - Packages and Modules',\n",
       " 'C:\\\\Users\\\\nithe\\\\anaconda3\\\\python38.zip',\n",
       " 'C:\\\\Users\\\\nithe\\\\anaconda3\\\\DLLs',\n",
       " 'C:\\\\Users\\\\nithe\\\\anaconda3\\\\lib',\n",
       " 'C:\\\\Users\\\\nithe\\\\anaconda3',\n",
       " '',\n",
       " 'C:\\\\Users\\\\nithe\\\\anaconda3\\\\lib\\\\site-packages',\n",
       " 'C:\\\\Users\\\\nithe\\\\anaconda3\\\\lib\\\\site-packages\\\\win32',\n",
       " 'C:\\\\Users\\\\nithe\\\\anaconda3\\\\lib\\\\site-packages\\\\win32\\\\lib',\n",
       " 'C:\\\\Users\\\\nithe\\\\anaconda3\\\\lib\\\\site-packages\\\\Pythonwin',\n",
       " 'C:\\\\Users\\\\nithe\\\\anaconda3\\\\lib\\\\site-packages\\\\IPython\\\\extensions',\n",
       " 'C:\\\\Users\\\\nithe\\\\.ipython']"
      ]
     },
     "execution_count": 8,
     "metadata": {},
     "output_type": "execute_result"
    }
   ],
   "source": [
    "import sys\n",
    "sys.path"
   ]
  },
  {
   "cell_type": "markdown",
   "metadata": {},
   "source": [
    "<b><ul>\n",
    "<li>The output from sys.path will always contain the current directory at index 0!.</li><br>\n",
    "<li>This is the reason importing is fairly straightforward when both the caller and callee modules reside within the same directory.</li><br>\n",
    "<li>The next thing is The list of directories contained in the PYTHONPATH environment variable</li><br>\n",
    "<li><font style=\"color:#FF33F2\">PYTHONPATH</font> is an environment variable which you can set to add additional directories where python will look for modules and packages</li><br>\n",
    "<li>An installation-dependent list of directories configured at the time Python is installed</li><br>\n",
    "<li>Thus, to ensure your module is found, you need to do one of the following :<br><br>\n",
    "    <ul>\n",
    "       <li>Put .py file in the directory where the input script is located or the current directory, if interactive</li><br> \n",
    "       <li>Modify the PYTHONPATH environment variable to contain the directory where  .py file is located before starting the interpreter<br><br>Or: Put .py file in one of the directories already contained in the PYTHONPATH variable</li><br>\n",
    "        <li>Put .py file in one of the installation-dependent directories, which you may or may not have write-access to, depending on the OS</li><br>"
   ]
  },
  {
   "cell_type": "markdown",
   "metadata": {},
   "source": [
    "<b>There is actually one additional option:<br><br> We can put the module file in any directory of your choice and then modify sys.path at run-time so that it contains that directory"
   ]
  },
  {
   "cell_type": "code",
   "execution_count": 9,
   "metadata": {},
   "outputs": [
    {
     "data": {
      "text/plain": [
       "['C:\\\\Users\\\\nithe\\\\Desktop\\\\TNR\\\\Data Science\\\\Course Bundle\\\\01 - Python\\\\12 - Packages and Modules',\n",
       " 'C:\\\\Users\\\\nithe\\\\anaconda3\\\\python38.zip',\n",
       " 'C:\\\\Users\\\\nithe\\\\anaconda3\\\\DLLs',\n",
       " 'C:\\\\Users\\\\nithe\\\\anaconda3\\\\lib',\n",
       " 'C:\\\\Users\\\\nithe\\\\anaconda3',\n",
       " '',\n",
       " 'C:\\\\Users\\\\nithe\\\\anaconda3\\\\lib\\\\site-packages',\n",
       " 'C:\\\\Users\\\\nithe\\\\anaconda3\\\\lib\\\\site-packages\\\\win32',\n",
       " 'C:\\\\Users\\\\nithe\\\\anaconda3\\\\lib\\\\site-packages\\\\win32\\\\lib',\n",
       " 'C:\\\\Users\\\\nithe\\\\anaconda3\\\\lib\\\\site-packages\\\\Pythonwin',\n",
       " 'C:\\\\Users\\\\nithe\\\\anaconda3\\\\lib\\\\site-packages\\\\IPython\\\\extensions',\n",
       " 'C:\\\\Users\\\\nithe\\\\.ipython',\n",
       " 'C:\\\\Users\\\\nithe\\\\mods.py']"
      ]
     },
     "execution_count": 9,
     "metadata": {},
     "output_type": "execute_result"
    }
   ],
   "source": [
    "#lets put our mod.py in other location and see\n",
    "import sys\n",
    "sys.path.append(r\"C:\\Users\\nithe\\mods.py\")\n",
    "sys.path"
   ]
  },
  {
   "cell_type": "markdown",
   "metadata": {},
   "source": [
    "---"
   ]
  },
  {
   "cell_type": "markdown",
   "metadata": {},
   "source": [
    "<b>Wouldn’t it be great if we could just do import utils"
   ]
  },
  {
   "cell_type": "code",
   "execution_count": 10,
   "metadata": {},
   "outputs": [
    {
     "ename": "AttributeError",
     "evalue": "module 'utils' has no attribute 'length'",
     "output_type": "error",
     "traceback": [
      "\u001b[1;31m---------------------------------------------------------------------------\u001b[0m",
      "\u001b[1;31mAttributeError\u001b[0m                            Traceback (most recent call last)",
      "\u001b[1;32m<ipython-input-10-01d099a78ca2>\u001b[0m in \u001b[0;36m<module>\u001b[1;34m\u001b[0m\n\u001b[0;32m      2\u001b[0m \u001b[1;32mimport\u001b[0m \u001b[0mutils\u001b[0m\u001b[1;33m\u001b[0m\u001b[1;33m\u001b[0m\u001b[0m\n\u001b[0;32m      3\u001b[0m \u001b[0mtxt\u001b[0m \u001b[1;33m=\u001b[0m \u001b[1;34m\"Hello\"\u001b[0m\u001b[1;33m\u001b[0m\u001b[1;33m\u001b[0m\u001b[0m\n\u001b[1;32m----> 4\u001b[1;33m \u001b[0mres\u001b[0m \u001b[1;33m=\u001b[0m \u001b[0mutils\u001b[0m\u001b[1;33m.\u001b[0m\u001b[0mlength\u001b[0m\u001b[1;33m.\u001b[0m\u001b[0mget_length\u001b[0m\u001b[1;33m(\u001b[0m\u001b[0mtxt\u001b[0m\u001b[1;33m)\u001b[0m\u001b[1;33m\u001b[0m\u001b[1;33m\u001b[0m\u001b[0m\n\u001b[0m",
      "\u001b[1;31mAttributeError\u001b[0m: module 'utils' has no attribute 'length'"
     ]
    }
   ],
   "source": [
    "#Restart the kernal \n",
    "import utils\n",
    "txt = \"Hello\"\n",
    "res = utils.length.get_length(txt)"
   ]
  },
  {
   "cell_type": "code",
   "execution_count": 11,
   "metadata": {},
   "outputs": [
    {
     "name": "stdout",
     "output_type": "stream",
     "text": [
      "The length of the string is:  5\n"
     ]
    }
   ],
   "source": [
    "import utils.length\n",
    "res = utils.length.get_length(\"Hello\")\n",
    "print(\"The length of the string is: \",res)"
   ]
  },
  {
   "cell_type": "code",
   "execution_count": 12,
   "metadata": {},
   "outputs": [
    {
     "name": "stdout",
     "output_type": "stream",
     "text": [
      "The lower case of the string is:  hello\n"
     ]
    }
   ],
   "source": [
    "#Importing with alias\n",
    "import utils.lower as low\n",
    "res = low.to_lower(\"HELLO\")\n",
    "print(\"The lower case of the string is: \",res)"
   ]
  },
  {
   "cell_type": "markdown",
   "metadata": {},
   "source": [
    "<b>To achieve single import We can turn this directory into a package by introducing __init__.py file within utils folder.\n",
    "<br>\n",
    "<h2 style=\"color:#028E8B;\" >What is Packaging ? </h2><br>\n",
    "<li>A package is a collection of related modules that work together to provide certain functionality</li><br>\n",
    "<li>These modules are contained within a folder and can be imported just like any other modules.</li><br>\n",
    "<li>This folder will often contain a special __init__ file that tells Python it’s a package</li><br>\n",
    "<li>Potentially containing more modules nested within subfolders</li><br>\n",
    "    \n",
    "<center><img src='https://learnpython.com/blog/python-modules-packages-libraries-frameworks/1.png' width=\"500\" height=\"450\"></center>"
   ]
  },
  {
   "cell_type": "code",
   "execution_count": null,
   "metadata": {},
   "outputs": [],
   "source": [
    "#from lower import to_lower won’t workso the sys.path will only have example3_outer.py’s current directory \n",
    "# utils/__init__.py (incorrect way of importing)\n",
    "from length import get_length\n",
    "from lower import to_lower\n",
    "from upper import to_upper"
   ]
  },
  {
   "cell_type": "code",
   "execution_count": 14,
   "metadata": {},
   "outputs": [
    {
     "ename": "AttributeError",
     "evalue": "module 'utils' has no attribute 'to_lower'",
     "output_type": "error",
     "traceback": [
      "\u001b[1;31m---------------------------------------------------------------------------\u001b[0m",
      "\u001b[1;31mAttributeError\u001b[0m                            Traceback (most recent call last)",
      "\u001b[1;32m<ipython-input-14-326b898481b9>\u001b[0m in \u001b[0;36m<module>\u001b[1;34m\u001b[0m\n\u001b[0;32m      2\u001b[0m \u001b[1;32mimport\u001b[0m \u001b[0mutils\u001b[0m\u001b[1;33m\u001b[0m\u001b[1;33m\u001b[0m\u001b[0m\n\u001b[0;32m      3\u001b[0m \u001b[0mtxt\u001b[0m \u001b[1;33m=\u001b[0m \u001b[1;34m\"Hello\"\u001b[0m\u001b[1;33m\u001b[0m\u001b[1;33m\u001b[0m\u001b[0m\n\u001b[1;32m----> 4\u001b[1;33m \u001b[0mres_low\u001b[0m \u001b[1;33m=\u001b[0m \u001b[0mutils\u001b[0m\u001b[1;33m.\u001b[0m\u001b[0mto_lower\u001b[0m\u001b[1;33m(\u001b[0m\u001b[0mtxt\u001b[0m\u001b[1;33m)\u001b[0m\u001b[1;33m\u001b[0m\u001b[1;33m\u001b[0m\u001b[0m\n\u001b[0m\u001b[0;32m      5\u001b[0m \u001b[0mprint\u001b[0m\u001b[1;33m(\u001b[0m\u001b[0mres_low\u001b[0m\u001b[1;33m)\u001b[0m\u001b[1;33m\u001b[0m\u001b[1;33m\u001b[0m\u001b[0m\n",
      "\u001b[1;31mAttributeError\u001b[0m: module 'utils' has no attribute 'to_lower'"
     ]
    }
   ],
   "source": [
    "#Lets create __init__.py in utils and call the functions \n",
    "import utils \n",
    "txt = \"Hello\"\n",
    "res_low = utils.to_lower(txt)\n",
    "print(res_low)"
   ]
  },
  {
   "cell_type": "markdown",
   "metadata": {},
   "source": [
    "<b><h4 style=\"color:#cc33ff;\" >Relative Imports :  </h4><br>\n",
    "<li>Relative imports (not recommended): specify the path relative to the path of the calling script. </li><br>\n",
    "<li>We use the dot notation( . or ..) in specifying relative imports</li><br>\n",
    "<li>The single dot before lower refers to the same directory as the one from which the import is called. </li><br>\n",
    "<li>Similarly, double dots before a module name means moving up two levels from the current level.</li>"
   ]
  },
  {
   "cell_type": "code",
   "execution_count": null,
   "metadata": {},
   "outputs": [],
   "source": [
    "# utils/__init__.py\n",
    "from .lower import to_lower\n",
    "from .upper import to_upper\n",
    "from .length import get_length"
   ]
  },
  {
   "cell_type": "markdown",
   "metadata": {},
   "source": [
    "<b><h4 style=\"color:#cc33ff;\" >Absolute imports :  </h4><br>\n",
    "Absolute imports (better choice) : specify the absolute path of the imported module from the project root <br><br>(or any other dir which sys.path has access to)\n",
    "<center><img src='https://static.javatpoint.com/core/images/example-of-static-import-in-java.png' width=\"400\" height=\"300\"></center>"
   ]
  },
  {
   "cell_type": "code",
   "execution_count": 15,
   "metadata": {},
   "outputs": [],
   "source": [
    "# utils/__init__.py\n",
    "from utils.lower import to_lower\n",
    "from utils.upper import to_upper\n",
    "from utils.length import get_length"
   ]
  },
  {
   "cell_type": "markdown",
   "metadata": {},
   "source": [
    "<b><h4 style=\"color:#028E8B;\" >What happens when we import a package with an __init__.py defined?</h4><br>\n",
    "<li>This acts as an initialization step and it is the first file to be executed when we import the package</li><br>\n",
    "<li> Given that we do all the necessary imports in here, the code is much cleaner in the calling script</li>"
   ]
  },
  {
   "cell_type": "code",
   "execution_count": 19,
   "metadata": {},
   "outputs": [
    {
     "data": {
      "text/plain": [
       "<module 'utils' from 'C:\\\\Users\\\\nithe\\\\Desktop\\\\TNR\\\\Data Science\\\\Course Bundle\\\\01 - Python\\\\12 - Packages and Modules\\\\utils\\\\__init__.py'>"
      ]
     },
     "execution_count": 19,
     "metadata": {},
     "output_type": "execute_result"
    }
   ],
   "source": [
    "import importlib\n",
    "importlib.reload(utils)"
   ]
  },
  {
   "cell_type": "code",
   "execution_count": 20,
   "metadata": {},
   "outputs": [
    {
     "name": "stdout",
     "output_type": "stream",
     "text": [
      "5\n",
      "HELLO\n",
      "hello\n"
     ]
    }
   ],
   "source": [
    "import utils\n",
    "\n",
    "txt = \"Hello\"\n",
    "\n",
    "res_len = utils.get_length(txt)\n",
    "print(res_len)\n",
    "\n",
    "res_up = utils.to_upper(txt)\n",
    "print(res_up)\n",
    "\n",
    "res_low = utils.to_lower(txt)\n",
    "print(res_low)"
   ]
  },
  {
   "cell_type": "code",
   "execution_count": 21,
   "metadata": {},
   "outputs": [
    {
     "name": "stdout",
     "output_type": "stream",
     "text": [
      "__name__:  carspackage.cars\n",
      "I am outside the guard!\n"
     ]
    }
   ],
   "source": [
    "#lets import from the cars package\n",
    "from carspackage import cars as carsp\n",
    "from carspackage import suv as suvp"
   ]
  },
  {
   "cell_type": "code",
   "execution_count": 22,
   "metadata": {},
   "outputs": [
    {
     "data": {
      "text/plain": [
       "Make Toyota, model: Camry"
      ]
     },
     "execution_count": 22,
     "metadata": {},
     "output_type": "execute_result"
    }
   ],
   "source": [
    "car2 = carsp.Car(make=\"Toyota\", model=\"Camry\")\n",
    "car2"
   ]
  },
  {
   "cell_type": "code",
   "execution_count": 23,
   "metadata": {},
   "outputs": [],
   "source": [
    "#Importing * From a Package\n",
    "from carspackage import *"
   ]
  },
  {
   "cell_type": "code",
   "execution_count": 24,
   "metadata": {},
   "outputs": [
    {
     "name": "stdout",
     "output_type": "stream",
     "text": [
      "Init success!!\n",
      "Shift Up and Drive.\n",
      "I am driving at  5 mph\n",
      "I'm driving at: 5 in gear: 1\n"
     ]
    }
   ],
   "source": [
    "#let’s try running the SUV\n",
    "suv1 = suv.SUV(make=\"Honda\", model=\"CRV\")\n",
    "suv1.start_drive()\n",
    "suv1.check_speed_and_gear()"
   ]
  },
  {
   "cell_type": "markdown",
   "metadata": {},
   "source": [
    "<b><h3 style=\"color:#028E8B;\" >Purpose of dunder *main.py*</h3><br>\n",
    "<li>Just like how you call a python script in terminal python my_code.py, we can call your package <br><br>from command prompt / terminal as well via python {pacakge_name}.</li><br>\n",
    "<li> But when called so, which module / code will be run ?</li><br>\n",
    "<li>That is the purpose of __main__.py</li><br>\n",
    "<li>When a package is called from terminal, the Python will look for executing the contents <br><br>of __main__.py file inside the package.</li><br>"
   ]
  },
  {
   "cell_type": "code",
   "execution_count": null,
   "metadata": {},
   "outputs": [],
   "source": [
    "#Let’s call carspackage from terminal / command prompt.\n",
    "# !python carspackage❗️"
   ]
  },
  {
   "cell_type": "markdown",
   "metadata": {},
   "source": [
    "<b><h3 style=\"color:#FF5733;\" >Executing a Module as a Script</h3>\n",
    "<br>\n",
    "    <li>A <font style=\"color:#FF33F2\">Script</font> is a Python file that’s intended to be run directly. When you run it, it should do something.</li><br>\n",
    "<li>When a .py file is imported as a module, Python sets the special dunder variable __name__ to the name of the module.</li><br>\n",
    "<li>However, if a file is run as a standalone script, __name__ is (creatively) set to the string '__main__'</li><br>\n",
    "<li>Using this fact, we can alter behavior accordingly at run-time and can run any module as a script</li>\n",
    "    \n",
    "<b><h3 style=\"color:#FF5733;\" >What does dunder *name == main* do ?</h3><br>\n",
    "<li>When you import a python package or module, all the code present in the module is run.</li><br>\n",
    "<li>There is every chance that certain code present in mypackage you didn’t want to execute may get executed on import.</li><br>\n",
    "<li>You can prevent this by checking the condition : __name__ == __main__.It acts as a guard.</li><br>\n",
    "<li>The parts of your code that you don’t want to be run can be placed inside the condition block.</li><br>\n",
    "<li>If the code is run when getting imported from another package, the value of __name__ will bear the path/name of the module.</li><br>\n",
    "<li>Example : The value of __name__ for ‘carspackage/cars.py’ when called from other places will be<br><br> carspackage.cars</li><br>\n",
    "<li>Only when you are directly running python carspackage/cars.py, that is, only when you run the module<br><br> as the main program, the value of __name__ will be __main__.</li>"
   ]
  },
  {
   "cell_type": "code",
   "execution_count": null,
   "metadata": {},
   "outputs": [],
   "source": [
    "#Run in terminal\n",
    "#!python carspackage/cars.py"
   ]
  },
  {
   "cell_type": "markdown",
   "metadata": {},
   "source": [
    "<b><h3 style=\"color:#FF5733;\" >Packages with hierarchy : </h3><br>\n",
    "<li>The package may contains folders(Sub Packages) that contain the python files.</li><br>\n",
    "<li>So, we need to point to that folder and then import the module.</li><br>\n",
    "\n",
    "<center><img src='https://i.imgur.com/olVpOy8.png' width=\"700\" height=\"300\"></center>"
   ]
  },
  {
   "cell_type": "code",
   "execution_count": 4,
   "metadata": {},
   "outputs": [
    {
     "name": "stdout",
     "output_type": "stream",
     "text": [
      "__name__:  carspackagedeep.Car.cars\n",
      "I am outside the guard!\n"
     ]
    }
   ],
   "source": [
    "from carspackagedeep.Car import cars\n",
    "#from carspackagedeep.Car import *\n",
    "from carspackagedeep.Suv import suv"
   ]
  },
  {
   "cell_type": "markdown",
   "metadata": {},
   "source": [
    "<b> Reloading a Module : For reasons of efficiency, a module is only loaded once per interpreter session "
   ]
  },
  {
   "cell_type": "code",
   "execution_count": 5,
   "metadata": {},
   "outputs": [],
   "source": [
    "#Print Statements are exceuted only once\n",
    "from carspackagedeep.Suv import suv"
   ]
  },
  {
   "cell_type": "markdown",
   "metadata": {},
   "source": [
    "<b>If you make a change to a module and need to reload it, you need to either restart the interpreter <br><br>or use a function called reload( ) from module importlib"
   ]
  },
  {
   "cell_type": "code",
   "execution_count": 6,
   "metadata": {},
   "outputs": [
    {
     "name": "stdout",
     "output_type": "stream",
     "text": [
      "I am outside the guard!\n"
     ]
    },
    {
     "data": {
      "text/plain": [
       "<module 'carspackagedeep.Suv.suv' from 'C:\\\\Users\\\\nithe\\\\Desktop\\\\TNR\\\\Data Science\\\\Course Bundle\\\\01 - Python\\\\12 - Packages and Modules\\\\carspackagedeep\\\\Suv\\\\suv.py'>"
      ]
     },
     "execution_count": 6,
     "metadata": {},
     "output_type": "execute_result"
    }
   ],
   "source": [
    "import importlib\n",
    "importlib.reload(suv)"
   ]
  },
  {
   "cell_type": "markdown",
   "metadata": {},
   "source": [
    "---"
   ]
  },
  {
   "cell_type": "markdown",
   "metadata": {},
   "source": [
    "<b><h2 style=\"color:#FF5733;\" >Script vs Module Vs Packages vs Libraries Vs Framework : </h2><br>\n",
    "    \n",
    "<center><img src='https://cdn.jsdelivr.net/gh/b0xt/sobyte-images/2021/10/27/8c460b970c9349e7beaf930668f88713.png' width=\"500\" height=\"500\"></center> <br> \n",
    "    \n",
    "<b><h4 style=\"color:#cc33ff;\" >Scripts :</h4><br>\n",
    "<li>A script is a single file of python code that is meant to be executed as the 'main' program.</li>\n",
    "    \n",
    "<b><h4 style=\"color:#cc33ff;\" >Module :</h4><br>\n",
    "<li>A module in python is a “.py file” that defines one or more function/classes which you intend to reuse in different codes of your program. </li><br>\n",
    "<li>Python in-built mdoules : random , datetime , re , html </li>\n",
    "    \n",
    "<b><h4 style=\"color:#cc33ff;\" >Package :</h4><br>\n",
    "<li>A Package is a collection of various modules with a path attribute.(__init___.py)</li><br>\n",
    "<li>Python in-built mdoules : Numpy , Pandas </li>\n",
    "\n",
    "    \n",
    "<b><h4 style=\"color:#cc33ff;\" >Library :</h4><br>\n",
    "<li>A library is an umbrella term referring to a reusable chunk of code </li><br>\n",
    "<li>While a package is a collection of modules, a library is a collection of packages.</li><br>\n",
    "<li>Python Standard Libraries : Statastics , Math </li><br>\n",
    "<li>Thrid Party Libraries : Pandas , beautifulsoap , matplotlib , PyTorch  </li>\n",
    "    \n",
    "<b><h4 style=\"color:#cc33ff;\" >Framework :</h4><br>\n",
    "<li>It is a collection of various libraries which architects the code flow.</li><br>\n",
    "<li>Ex - Django : This has various in-built libraries like Auth, user, database connector etc. for web development.</li><br>\n",
    "<li>Python Frameworks : Django , Flask , FastAPI , Bottle</li>\n",
    "    \n",
    "<b><h4 style=\"color:#cc33ff;\" >Application :</h4><br>\n",
    "<li>If you have a set of code that spans multiple files, you probably have an application instead of script</li>"
   ]
  },
  {
   "cell_type": "markdown",
   "metadata": {},
   "source": [
    "<b><h2 style=\"color:#FF5733;\" >Packages and Modules FAQ's :</h2><br>\n",
    "<li>What are modules ?</li><br>\n",
    "<li>What is a package ?</li><br>\n",
    "<li>What is the special file that each package in Python must contain ?</li><br>\n",
    "<li>What is the difference between module and package in Python ?</li><br>\n",
    "<li>How can I import a module from the different directory ?</li><br>\n",
    "<li>What does __name__ == __main__ mean ? </li><br>"
   ]
  },
  {
   "cell_type": "markdown",
   "metadata": {},
   "source": [
    "&copy; **Nitheesh Reddy**"
   ]
  }
 ],
 "metadata": {
  "kernelspec": {
   "display_name": "Python 3",
   "language": "python",
   "name": "python3"
  },
  "language_info": {
   "codemirror_mode": {
    "name": "ipython",
    "version": 3
   },
   "file_extension": ".py",
   "mimetype": "text/x-python",
   "name": "python",
   "nbconvert_exporter": "python",
   "pygments_lexer": "ipython3",
   "version": "3.8.5"
  }
 },
 "nbformat": 4,
 "nbformat_minor": 4
}

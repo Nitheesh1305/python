{
 "cells": [
  {
   "cell_type": "markdown",
   "metadata": {},
   "source": [
    "# Conditional Statements"
   ]
  },
  {
   "cell_type": "markdown",
   "metadata": {},
   "source": [
    "### Simple If Condition"
   ]
  },
  {
   "cell_type": "code",
   "execution_count": 1,
   "metadata": {},
   "outputs": [
    {
     "name": "stdout",
     "output_type": "stream",
     "text": [
      "Following Statement\n"
     ]
    }
   ],
   "source": [
    "x, y = 7, 5\n",
    "if x < y:\n",
    "\tprint ('x is greater')\n",
    "print(\"Following Statement\")\n",
    "# Prints x is greater"
   ]
  },
  {
   "cell_type": "code",
   "execution_count": 2,
   "metadata": {},
   "outputs": [
    {
     "name": "stdout",
     "output_type": "stream",
     "text": [
      "x is greater\n",
      "Outside\n"
     ]
    }
   ],
   "source": [
    "#indentation\n",
    "\n",
    "x, y = 7, 5\n",
    "\n",
    "if x > y:\n",
    "    print ('x is greater')\n",
    "# Triggers SyntaxError: expected an indented block\n",
    "print(\"Outside\")"
   ]
  },
  {
   "cell_type": "markdown",
   "metadata": {},
   "source": [
    "### Nested If "
   ]
  },
  {
   "cell_type": "code",
   "execution_count": 3,
   "metadata": {},
   "outputs": [
    {
     "name": "stdout",
     "output_type": "stream",
     "text": [
      "x is greater than y\n"
     ]
    }
   ],
   "source": [
    "x, y, z = 7, 4, 2\n",
    "\n",
    "if x > y:\n",
    "    print(\"x is greater than y\")\n",
    "    if x < z:\n",
    "        print(\"Not Excuted\")\n",
    "        print(\"x is greater than y and z\")\n",
    "        \n",
    "\n",
    "# Prints x is greater than y\n",
    "# Prints x is greater than y and z"
   ]
  },
  {
   "cell_type": "markdown",
   "metadata": {},
   "source": [
    "### If - Else"
   ]
  },
  {
   "cell_type": "code",
   "execution_count": 4,
   "metadata": {},
   "outputs": [
    {
     "name": "stdout",
     "output_type": "stream",
     "text": [
      "Else statement\n",
      "x is greater\n"
     ]
    }
   ],
   "source": [
    "x, y = 7, 5\n",
    "\n",
    "if x < y:\n",
    "    print('y is greater')\n",
    "else:\n",
    "    print(\"Else statement\")\n",
    "    print('x is greater') \n",
    "\n",
    "# Prints x is greater"
   ]
  },
  {
   "cell_type": "markdown",
   "metadata": {},
   "source": [
    "### Elif"
   ]
  },
  {
   "cell_type": "code",
   "execution_count": 5,
   "metadata": {},
   "outputs": [
    {
     "name": "stdout",
     "output_type": "stream",
     "text": [
      "x and y are equal\n"
     ]
    }
   ],
   "source": [
    "x, y = 5, 5\n",
    "\n",
    "if x > y :\n",
    "    print('x is greater')\n",
    "elif x < y :\n",
    "    print('y is greater')\n",
    "elif x==y:\n",
    "\tprint('x and y are equal')  \n",
    "\n",
    "# Prints x and y are equal"
   ]
  },
  {
   "cell_type": "markdown",
   "metadata": {},
   "source": [
    "### elif_ladder - Chained conditionals"
   ]
  },
  {
   "cell_type": "code",
   "execution_count": 6,
   "metadata": {},
   "outputs": [
    {
     "name": "stdout",
     "output_type": "stream",
     "text": [
      "What is your height in meters ? : 5\n",
      "What is your weight in kgs ?: 70\n",
      "2.8\n",
      "Very severely underweight\n"
     ]
    }
   ],
   "source": [
    "#BMI Program\n",
    "height = float(input(\"What is your height in meters ? : \"))\n",
    "weight = float(input(\"What is your weight in kgs ?: \"))\n",
    "\n",
    "bmi = weight / height **2\n",
    "print(bmi)\n",
    "if bmi < 15:\n",
    "    print(\"Very severely underweight\")\n",
    "elif bmi < 16:\n",
    "    print(\"Severely underweight\")\n",
    "elif bmi < 18.5:\n",
    "    print(\"Underweight\")\n",
    "elif bmi < 25:\n",
    "    print(\"Normal (healthy weight)\")\n",
    "elif bmi < 30:\n",
    "    print(\"Overweight\")\n",
    "elif bmi < 35:\n",
    "    print(\"Obese Class I (Moderately obese)\")\n",
    "elif bmi < 40:\n",
    "    print(\"Obese Class II (Severely obese)\")\n",
    "else:\n",
    "    print(\"Obese Class III (Very severely obese)\")"
   ]
  },
  {
   "cell_type": "markdown",
   "metadata": {},
   "source": [
    "### Multiple Conditions - Usage of Logical Operators"
   ]
  },
  {
   "cell_type": "code",
   "execution_count": 7,
   "metadata": {},
   "outputs": [
    {
     "name": "stdout",
     "output_type": "stream",
     "text": [
      "x is greater\n"
     ]
    }
   ],
   "source": [
    "#and expression is True, if all the conditions are true.\n",
    "\n",
    "x, y, z = 7, 4, 2\n",
    "\n",
    "if x > y and x > z:\n",
    "    print ('x is greater')\n",
    "\n",
    "# Prints x is greater\n"
   ]
  },
  {
   "cell_type": "code",
   "execution_count": 8,
   "metadata": {},
   "outputs": [
    {
     "name": "stdout",
     "output_type": "stream",
     "text": [
      "x is greater than y or z\n"
     ]
    }
   ],
   "source": [
    "#or expression is True, if at least one of the conditions is True.\n",
    "\n",
    "x, y, z = 7, 4, 9\n",
    "\n",
    "if x > y or x > z:\n",
    "    print('x is greater than y or z')\n",
    "\n",
    "# Prints x is greater than y or z"
   ]
  },
  {
   "cell_type": "code",
   "execution_count": 9,
   "metadata": {},
   "outputs": [
    {
     "name": "stdout",
     "output_type": "stream",
     "text": [
      "x is greater\n"
     ]
    }
   ],
   "source": [
    "#not expression is True, if the condition is false.\n",
    "\n",
    "x, y = 7, 5\n",
    "\n",
    "if not x < y:\n",
    "    print('x is greater')\n",
    "\n",
    "# Prints x is greater"
   ]
  },
  {
   "cell_type": "markdown",
   "metadata": {},
   "source": [
    "## Short Hand If - Single Statement"
   ]
  },
  {
   "cell_type": "code",
   "execution_count": 10,
   "metadata": {},
   "outputs": [],
   "source": [
    "x, y = 7, 5"
   ]
  },
  {
   "cell_type": "code",
   "execution_count": 11,
   "metadata": {},
   "outputs": [
    {
     "name": "stdout",
     "output_type": "stream",
     "text": [
      "x is greater\n"
     ]
    }
   ],
   "source": [
    "if x > y : print('x is greater')"
   ]
  },
  {
   "cell_type": "code",
   "execution_count": 12,
   "metadata": {},
   "outputs": [
    {
     "name": "stdout",
     "output_type": "stream",
     "text": [
      "x is greater\n",
      "y is smaller\n",
      "x and y are not equal\n"
     ]
    }
   ],
   "source": [
    "# Short Hand If - multiple statements\n",
    "\n",
    "x, y = 7, 5\n",
    "\n",
    "if x > y: print('x is greater') ;  print('y is smaller') ;  print('x and y are not equal')"
   ]
  },
  {
   "cell_type": "markdown",
   "metadata": {},
   "source": [
    "### Conditional Expressions (ternary operator) - Short Hand If-Else"
   ]
  },
  {
   "cell_type": "code",
   "execution_count": 13,
   "metadata": {},
   "outputs": [
    {
     "name": "stdout",
     "output_type": "stream",
     "text": [
      "x is greater\n"
     ]
    }
   ],
   "source": [
    "x, y = 7, 5\n",
    "\n",
    "print ('x is greater') if x > y else print ('y is greater')"
   ]
  },
  {
   "cell_type": "code",
   "execution_count": 14,
   "metadata": {},
   "outputs": [
    {
     "name": "stdout",
     "output_type": "stream",
     "text": [
      "15\n"
     ]
    }
   ],
   "source": [
    "#You can also use it to select variable assignment.\n",
    "\n",
    "x, y = 7, 15\n",
    "\n",
    "max = x  if x > y else y\n",
    "\n",
    "print (max)"
   ]
  },
  {
   "cell_type": "markdown",
   "metadata": {},
   "source": [
    "### in operator"
   ]
  },
  {
   "cell_type": "code",
   "execution_count": 15,
   "metadata": {},
   "outputs": [
    {
     "name": "stdout",
     "output_type": "stream",
     "text": [
      "no\n"
     ]
    }
   ],
   "source": [
    "#The in operator is used to check if a value is present in a sequence (list, tuple, string etc.)\n",
    "# list\n",
    "L = ['red', 'green', 'blue']\n",
    "if \"pink\" in L:\n",
    "    print('yes')\n",
    "else:\n",
    "    print('no')"
   ]
  },
  {
   "cell_type": "code",
   "execution_count": 16,
   "metadata": {},
   "outputs": [
    {
     "name": "stdout",
     "output_type": "stream",
     "text": [
      "yes\n"
     ]
    }
   ],
   "source": [
    "# tuple\n",
    "T = ('red', 'green', 'blue')\n",
    "if 'red' in T:\n",
    "    print('yes')"
   ]
  },
  {
   "cell_type": "code",
   "execution_count": 17,
   "metadata": {},
   "outputs": [
    {
     "name": "stdout",
     "output_type": "stream",
     "text": [
      "Yes\n"
     ]
    }
   ],
   "source": [
    "# string\n",
    "\n",
    "S = 'Hello, World!'\n",
    "\n",
    "if 'Hello' in S:\n",
    "    print('Yes')"
   ]
  },
  {
   "cell_type": "markdown",
   "metadata": {},
   "source": [
    "### Loops in Conditions"
   ]
  },
  {
   "cell_type": "code",
   "execution_count": 18,
   "metadata": {},
   "outputs": [
    {
     "name": "stdout",
     "output_type": "stream",
     "text": [
      "20\n",
      "10\n",
      "25\n",
      "8\n",
      "9\n",
      "20\n",
      "[20, 10, 25, 8, 9, 20]\n"
     ]
    }
   ],
   "source": [
    "l=[20,10,25,8,9,20]\n",
    "\n",
    "if sum(l)<50:\n",
    "    print(\"Sum of list is less than 50\")\n",
    "else :\n",
    "    for i in range(0,len(l)):\n",
    "        print(l[i]) #or business logic\n",
    "\n",
    "print(l)"
   ]
  },
  {
   "cell_type": "markdown",
   "metadata": {},
   "source": [
    "####  Any non-zero value or nonempty container is considered TRUE"
   ]
  },
  {
   "cell_type": "code",
   "execution_count": 19,
   "metadata": {},
   "outputs": [
    {
     "name": "stdout",
     "output_type": "stream",
     "text": [
      "True\n",
      "True\n"
     ]
    }
   ],
   "source": [
    "# any non-zero value\n",
    "if -3:\n",
    "    print('True')\n",
    "# Prints True\n",
    "if 0:\n",
    "    print(\"Flase\")\n",
    "# mathematical expression\n",
    "x, y = 7, 5\n",
    "if x + y:\n",
    "    print('True')\n",
    "# Prints True\n",
    "\n",
    "# nonempty container\n",
    "L = []\n",
    "if L:\n",
    "\tprint('True')  # Prints True"
   ]
  },
  {
   "cell_type": "code",
   "execution_count": 20,
   "metadata": {},
   "outputs": [
    {
     "name": "stdout",
     "output_type": "stream",
     "text": [
      "Hello\n"
     ]
    }
   ],
   "source": [
    "#Guess The Output\n",
    "a=11\n",
    "if (a > 5 or a <=10):    \n",
    "    print(\"Hello\")    \n",
    "else:    \n",
    "    print(\"Bye\")"
   ]
  },
  {
   "cell_type": "code",
   "execution_count": 21,
   "metadata": {},
   "outputs": [
    {
     "name": "stdout",
     "output_type": "stream",
     "text": [
      "5 5 7\n"
     ]
    }
   ],
   "source": [
    "#Guess The Output\n",
    "i = 3\n",
    "j = 5\n",
    "k = 7\n",
    "#i = 25, j = 15, k = 17\n",
    "\n",
    "if i<j:\n",
    "    if j<k:\n",
    "        i=j\n",
    "    else:\n",
    "        j=k\n",
    "else:\n",
    "    if j>k:\n",
    "        j=i\n",
    "    else:\n",
    "        i=k\n",
    "print(i,j,k)"
   ]
  },
  {
   "cell_type": "markdown",
   "metadata": {},
   "source": [
    "## To Do : \n",
    "<ol><b>\n",
    "\n",
    "<li>Write a program to check whether a person is eligible for voting or not. (accept age from user)</li>\n",
    "$$ $$\n",
    "<li>Write a program to check whether a number entered by user is even or odd.</li>\n",
    "$$ $$\n",
    "<li>Write a program to check whether a number is divisible by 7 or not.</li>\n",
    "$$ $$\n",
    "<li>Write a program to display \"Hello\" if a number entered by user is a multiple of five , \n",
    "otherwise print \"Bye\".</li>\n",
    "$$ $$\n",
    "<li> Write a program to calculate the electricity bill (accept number of unit from user) according to the following criteria :\n",
    "\n",
    "<table>\n",
    "  <tr>\n",
    "    <th>Unit</th>\n",
    "    <th>Price </th>\n",
    "  </tr>\n",
    "  <tr>\n",
    "    <td>First 100 units </td>\n",
    "    <td>no charge</td>\n",
    "  </tr>  \n",
    "  <tr>\n",
    "    <td>Next 200 units</td>\n",
    "    <td>Rs 2 per unit</td>\n",
    "  </tr>  \n",
    "  <tr>\n",
    "    <td>After 300 units</td>\n",
    "    <td>Rs 5 per unit</td>\n",
    "  </tr>  \n",
    "                                              \n",
    "</table>                                              \n",
    "\n",
    "(if number of unit is 500 then total bill = 0 +400 + 1000 = 1400)</li>\n",
    "$$ $$ \n",
    "<li>Write a program to check whether the last digit of a number( entered by user ) is \n",
    "divisible by 3 or not.</li>\n",
    "$$ $$\n",
    "<li>Write a program to check whether an years is leap year or not.</li>\n",
    "$$ $$\n",
    "<li> Write a program to accept a number from 1 to 7 and display the name of the day like 1 for Sunday , 2 for Monday and so on</li>\n",
    "$$ $$\n",
    "<li>Write a program to find the lowest number out of two numbers excepted from user</li>\n",
    "$$ $$\n",
    "<li>Write a program to find the Greatest Number Among five Numbers using Nested If Else</li>\n",
    "$$ $$\n",
    "<li>Write a program to whether a number (accepted from user) is divisible by 2 and 3 both.</li>\n",
    "$$ $$\n",
    "<li>Write a program to check a character is vowel or not.</li>\n",
    "$$ $$\n",
    "<li>Accept the following from the user and calculate the percentage of class attended:\n",
    "1.Total number of working days\n",
    "2.Total number of days for absent\n",
    "</li>\n",
    "$$ $$\n",
    "<li>Accept three sides of a triangle and check whether it is an equilateral, isosceles or scalene triangle</li>\n",
    "$$ $$\n",
    "<li>Write a program to accept two numbers and mathematical operators and perform operation accordingly.</li>\n",
    "$$ $$\n",
    "<li> Accept three sides of triangle and check whether the triangle is possible or not.(triangle is possible only when sum of any two sides is greater than 3rd side)</li>\n",
    "$$ $$\n",
    "<li>Write a program to return the decimal part of a number. If decimal part is zero function should return this string: \"INTEGER\"</li>\n",
    "$$ $$\n",
    "<li>Write a program that counts the number of times a letter given by user in a given string.</li>\n",
    "$$ $$\n",
    "<li>A company decided to give bonus of 5% to employee if his/her year of service is more than 5 years.Ask user for their salary and year of service and print the net bonus amount.</li>\n",
    "$$ $$\n",
    "<li>Take values of length and breadth of a rectangle from user and check if it is square or not.</li>\n",
    "\n",
    "</ol></b>"
   ]
  },
  {
   "cell_type": "markdown",
   "metadata": {},
   "source": [
    "&copy; **Nitheesh Reddy**"
   ]
  }
 ],
 "metadata": {
  "kernelspec": {
   "display_name": "Python 3",
   "language": "python",
   "name": "python3"
  },
  "language_info": {
   "codemirror_mode": {
    "name": "ipython",
    "version": 3
   },
   "file_extension": ".py",
   "mimetype": "text/x-python",
   "name": "python",
   "nbconvert_exporter": "python",
   "pygments_lexer": "ipython3",
   "version": "3.8.5"
  }
 },
 "nbformat": 4,
 "nbformat_minor": 4
}

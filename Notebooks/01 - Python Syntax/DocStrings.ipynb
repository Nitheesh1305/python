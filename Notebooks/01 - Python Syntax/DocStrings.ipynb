{
 "cells": [
  {
   "cell_type": "markdown",
   "metadata": {},
   "source": [
    "# Docstrings"
   ]
  },
  {
   "cell_type": "markdown",
   "metadata": {},
   "source": [
    "### Printing docstring"
   ]
  },
  {
   "cell_type": "code",
   "execution_count": 1,
   "metadata": {},
   "outputs": [
    {
     "name": "stdout",
     "output_type": "stream",
     "text": [
      "Takes in a number n, returns the square of n\n"
     ]
    }
   ],
   "source": [
    "def square(n):\n",
    "    '''Takes in a number n, returns the square of n'''\n",
    "    return n**2\n",
    "\n",
    "print(square.__doc__)"
   ]
  },
  {
   "cell_type": "markdown",
   "metadata": {},
   "source": [
    "### Docstrings for the built-in print( ) function"
   ]
  },
  {
   "cell_type": "code",
   "execution_count": 2,
   "metadata": {},
   "outputs": [
    {
     "name": "stdout",
     "output_type": "stream",
     "text": [
      "print(value, ..., sep=' ', end='\\n', file=sys.stdout, flush=False)\n",
      "\n",
      "Prints the values to a stream, or to sys.stdout by default.\n",
      "Optional keyword arguments:\n",
      "file:  a file-like object (stream); defaults to the current sys.stdout.\n",
      "sep:   string inserted between values, default a space.\n",
      "end:   string appended after the last value, default a newline.\n",
      "flush: whether to forcibly flush the stream.\n"
     ]
    }
   ],
   "source": [
    "print(print.__doc__)"
   ]
  },
  {
   "cell_type": "markdown",
   "metadata": {},
   "source": [
    "### Docstrings of Python module"
   ]
  },
  {
   "cell_type": "code",
   "execution_count": 3,
   "metadata": {},
   "outputs": [
    {
     "name": "stdout",
     "output_type": "stream",
     "text": [
      "Create portable serialized representations of Python objects.\n",
      "\n",
      "See module copyreg for a mechanism for registering custom picklers.\n",
      "See module pickletools source for extensive comments.\n",
      "\n",
      "Classes:\n",
      "\n",
      "    Pickler\n",
      "    Unpickler\n",
      "\n",
      "Functions:\n",
      "\n",
      "    dump(object, file)\n",
      "    dumps(object) -> string\n",
      "    load(file) -> object\n",
      "    loads(string) -> object\n",
      "\n",
      "Misc variables:\n",
      "\n",
      "    __version__\n",
      "    format_version\n",
      "    compatible_formats\n",
      "\n",
      "\n"
     ]
    }
   ],
   "source": [
    "import pickle\n",
    "print(pickle.__doc__)"
   ]
  },
  {
   "cell_type": "markdown",
   "metadata": {},
   "source": [
    "### Docstrings for Python functions"
   ]
  },
  {
   "cell_type": "code",
   "execution_count": null,
   "metadata": {},
   "outputs": [],
   "source": [
    "def add_binary(a, b):\n",
    "    '''\n",
    "    Returns the sum of two decimal numbers in binary digits.\n",
    "\n",
    "            Parameters:\n",
    "                    a (int): A decimal integer\n",
    "                    b (int): Another decimal integer\n",
    "\n",
    "            Returns:\n",
    "                    binary_sum (str): Binary string of the sum of a and b\n",
    "    '''\n",
    "    binary_sum = bin(a+b)[2:]\n",
    "    return binary_sum\n",
    "\n",
    "\n",
    "print(add_binary.__doc__)"
   ]
  },
  {
   "cell_type": "markdown",
   "metadata": {},
   "source": [
    "### Docstrings for Python class"
   ]
  },
  {
   "cell_type": "code",
   "execution_count": 4,
   "metadata": {},
   "outputs": [
    {
     "name": "stdout",
     "output_type": "stream",
     "text": [
      "\n",
      "    A class to represent a person.\n",
      "\n",
      "    ...\n",
      "\n",
      "    Attributes\n",
      "    ----------\n",
      "    name : str\n",
      "        first name of the person\n",
      "    surname : str\n",
      "        family name of the person\n",
      "    age : int\n",
      "        age of the person\n",
      "\n",
      "    Methods\n",
      "    -------\n",
      "    info(additional=\"\"):\n",
      "        Prints the person's name and age.\n",
      "    \n"
     ]
    }
   ],
   "source": [
    "class Person:\n",
    "    \"\"\"\n",
    "    A class to represent a person.\n",
    "\n",
    "    ...\n",
    "\n",
    "    Attributes\n",
    "    ----------\n",
    "    name : str\n",
    "        first name of the person\n",
    "    surname : str\n",
    "        family name of the person\n",
    "    age : int\n",
    "        age of the person\n",
    "\n",
    "    Methods\n",
    "    -------\n",
    "    info(additional=\"\"):\n",
    "        Prints the person's name and age.\n",
    "    \"\"\"\n",
    "\n",
    "    def __init__(self, name, surname, age):\n",
    "        \"\"\"\n",
    "        Constructs all the necessary attributes for the person object.\n",
    "\n",
    "        Parameters\n",
    "        ----------\n",
    "            name : str\n",
    "                first name of the person\n",
    "            surname : str\n",
    "                family name of the person\n",
    "            age : int\n",
    "                age of the person\n",
    "        \"\"\"\n",
    "\n",
    "        self.name = name\n",
    "        self.surname = surname\n",
    "        self.age = age\n",
    "\n",
    "    def info(self, additional=\"\"):\n",
    "        \"\"\"\n",
    "        Prints the person's name and age.\n",
    "\n",
    "        If the argument 'additional' is passed, then it is appended after the main info.\n",
    "\n",
    "        Parameters\n",
    "        ----------\n",
    "        additional : str, optional\n",
    "            More info to be displayed (default is None)\n",
    "\n",
    "        Returns\n",
    "        -------\n",
    "        None\n",
    "        \"\"\"\n",
    "\n",
    "        print(f'My name is {self.name} {self.surname}. I am {self.age} years old.' + additional)\n",
    "\n",
    "print(Person.__doc__)\n"
   ]
  },
  {
   "cell_type": "code",
   "execution_count": 5,
   "metadata": {},
   "outputs": [
    {
     "name": "stdout",
     "output_type": "stream",
     "text": [
      "Help on class Person in module __main__:\n",
      "\n",
      "class Person(builtins.object)\n",
      " |  Person(name, surname, age)\n",
      " |  \n",
      " |  A class to represent a person.\n",
      " |  \n",
      " |  ...\n",
      " |  \n",
      " |  Attributes\n",
      " |  ----------\n",
      " |  name : str\n",
      " |      first name of the person\n",
      " |  surname : str\n",
      " |      family name of the person\n",
      " |  age : int\n",
      " |      age of the person\n",
      " |  \n",
      " |  Methods\n",
      " |  -------\n",
      " |  info(additional=\"\"):\n",
      " |      Prints the person's name and age.\n",
      " |  \n",
      " |  Methods defined here:\n",
      " |  \n",
      " |  __init__(self, name, surname, age)\n",
      " |      Constructs all the necessary attributes for the person object.\n",
      " |      \n",
      " |      Parameters\n",
      " |      ----------\n",
      " |          name : str\n",
      " |              first name of the person\n",
      " |          surname : str\n",
      " |              family name of the person\n",
      " |          age : int\n",
      " |              age of the person\n",
      " |  \n",
      " |  info(self, additional='')\n",
      " |      Prints the person's name and age.\n",
      " |      \n",
      " |      If the argument 'additional' is passed, then it is appended after the main info.\n",
      " |      \n",
      " |      Parameters\n",
      " |      ----------\n",
      " |      additional : str, optional\n",
      " |          More info to be displayed (default is None)\n",
      " |      \n",
      " |      Returns\n",
      " |      -------\n",
      " |      None\n",
      " |  \n",
      " |  ----------------------------------------------------------------------\n",
      " |  Data descriptors defined here:\n",
      " |  \n",
      " |  __dict__\n",
      " |      dictionary for instance variables (if defined)\n",
      " |  \n",
      " |  __weakref__\n",
      " |      list of weak references to the object (if defined)\n",
      "\n"
     ]
    }
   ],
   "source": [
    "#Read Docstrings with the help() function\n",
    "\n",
    "help(Person)"
   ]
  },
  {
   "cell_type": "code",
   "execution_count": null,
   "metadata": {},
   "outputs": [],
   "source": []
  }
 ],
 "metadata": {
  "kernelspec": {
   "display_name": "Python 3",
   "language": "python",
   "name": "python3"
  },
  "language_info": {
   "codemirror_mode": {
    "name": "ipython",
    "version": 3
   },
   "file_extension": ".py",
   "mimetype": "text/x-python",
   "name": "python",
   "nbconvert_exporter": "python",
   "pygments_lexer": "ipython3",
   "version": "3.7.6"
  }
 },
 "nbformat": 4,
 "nbformat_minor": 4
}

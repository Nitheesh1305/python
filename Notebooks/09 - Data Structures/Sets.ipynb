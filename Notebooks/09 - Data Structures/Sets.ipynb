{
 "cells": [
  {
   "cell_type": "markdown",
   "metadata": {},
   "source": [
    "<center><b><h1 style=\"color:#ff0066;\" >Python Data Structures - Sets</h1>"
   ]
  },
  {
   "cell_type": "markdown",
   "metadata": {},
   "source": [
    "<img src= 'https://scaler.com/topics/images/sets-in-python.webp'>"
   ]
  },
  {
   "cell_type": "markdown",
   "metadata": {},
   "source": [
    "<b><h1 style=\"color:#cc33ff;\" >Sets</h1><br>\n",
    "Python set is an unordered collection of unique items comma-separated sequence of items in curly braces  { }.<br><br>\n",
    "They are commonly used for computing mathematical operations such as<br><br>union, intersection, difference, and symmetric difference."
   ]
  },
  {
   "cell_type": "markdown",
   "metadata": {},
   "source": [
    "<b><h2 style=\"color:#FF3333;\" >Properties  of Python Sets :</h2> <br>\n",
    "    <li>*Sets are unordered* – Items stored in a set aren’t kept in any particular order.</li><br>\n",
    "    <li>*Set items are unique* – don’t allow duplicates. They are automatically removed during the creation of a set.</li><br>\n",
    "    <li>*Sets are changeable (mutable)* - A set itself may be modified, but the items in the set must be  immutable type.</li><br>\n",
    "    <li>*Sets are unindexed* – You cannot access set items by referring to an index.</li><br>\n",
    "    <li>Sets are iterable.</li>"
   ]
  },
  {
   "cell_type": "markdown",
   "metadata": {},
   "source": [
    "<img src='15.png'>"
   ]
  },
  {
   "cell_type": "markdown",
   "metadata": {},
   "source": [
    "<b><h3 style=\"color:#6833FF;\" >Creating a Set </h3>"
   ]
  },
  {
   "cell_type": "code",
   "execution_count": 1,
   "metadata": {},
   "outputs": [
    {
     "name": "stdout",
     "output_type": "stream",
     "text": [
      "{2, 4, 6} --> <class 'set'>\n",
      "{2, 3, 'one'} --> <class 'set'>\n"
     ]
    }
   ],
   "source": [
    "#Set in Python can be created by just placing the sequence inside the { } separated by commas (,).\n",
    "\n",
    "# Set having integers\n",
    "evenNumber = {2, 4, 6}\n",
    "print(evenNumber,\"-->\",type(evenNumber))\n",
    "\n",
    "# set with mixed datatypes\n",
    "stringAndNum = {\"one\", 2, 3}\n",
    "print(stringAndNum,\"-->\",type(stringAndNum))"
   ]
  },
  {
   "cell_type": "code",
   "execution_count": 2,
   "metadata": {},
   "outputs": [
    {
     "name": "stdout",
     "output_type": "stream",
     "text": [
      "{} --> <class 'dict'>\n",
      "set() --> <class 'set'>\n"
     ]
    }
   ],
   "source": [
    "#Empty curly braces {} will make an empty dictionary in Python. \n",
    "#To make a set without any elements, we use the set() function without any argument.\n",
    "\n",
    "# Distinguish set and dictionary while creating empty set\n",
    "\n",
    "# initialize a with {}\n",
    "a = {}\n",
    "\n",
    "# check data type of a\n",
    "print(a,\"-->\",type(a))\n",
    "\n",
    "# initialize a with set()\n",
    "a = set()\n",
    "\n",
    "# check data type of a\n",
    "print(a ,\"-->\", type(a))"
   ]
  },
  {
   "cell_type": "code",
   "execution_count": 3,
   "metadata": {},
   "outputs": [
    {
     "name": "stdout",
     "output_type": "stream",
     "text": [
      "{1, 2, 'three'} --> <class 'set'>\n",
      "{'one', 'two'} --> <class 'set'>\n",
      "{'n', 'o', 't', 'y', 'h', 'p'} --> <class 'set'>\n"
     ]
    }
   ],
   "source": [
    "#set() takes an iterable as an argument. \n",
    "#In python, string, lists, and dictionaries are iterable so you can pass them inside set()\n",
    "\n",
    "lst = [1, 2, 'three']\n",
    "listToSet = set(lst)\n",
    "print(listToSet,\"-->\", type(listToSet))\n",
    "\n",
    "dictToSet = set({\"one\": 1, \"two\": 2})\n",
    "print(dictToSet,\"-->\", type(dictToSet))\n",
    "\n",
    "strToSet = set('python')\n",
    "print(strToSet,\"-->\", type(strToSet))"
   ]
  },
  {
   "cell_type": "code",
   "execution_count": 4,
   "metadata": {},
   "outputs": [
    {
     "name": "stdout",
     "output_type": "stream",
     "text": [
      "{1, 2, 3, 4}\n"
     ]
    }
   ],
   "source": [
    "# set cannot have duplicates\n",
    "my_set = {1, 2, 3, 4, 3, 2}\n",
    "print(my_set)"
   ]
  },
  {
   "cell_type": "code",
   "execution_count": 5,
   "metadata": {},
   "outputs": [
    {
     "name": "stdout",
     "output_type": "stream",
     "text": [
      "[1, 2, 'three']\n"
     ]
    }
   ],
   "source": [
    "#Remove duplicate values from list\n",
    "lst = [1, 2, 'three',1, 2]\n",
    "listToSet = set(lst)\n",
    "lst=list(listToSet )\n",
    "print(lst)"
   ]
  },
  {
   "cell_type": "code",
   "execution_count": 6,
   "metadata": {},
   "outputs": [
    {
     "ename": "TypeError",
     "evalue": "unhashable type: 'list'",
     "output_type": "error",
     "traceback": [
      "\u001b[1;31m---------------------------------------------------------------------------\u001b[0m",
      "\u001b[1;31mTypeError\u001b[0m                                 Traceback (most recent call last)",
      "\u001b[1;32m<ipython-input-6-7e54b5d42354>\u001b[0m in \u001b[0;36m<module>\u001b[1;34m\u001b[0m\n\u001b[0;32m      1\u001b[0m \u001b[1;31m#A set itself may be modified, but the items in the set must be  immutable type\u001b[0m\u001b[1;33m\u001b[0m\u001b[1;33m\u001b[0m\u001b[1;33m\u001b[0m\u001b[0m\n\u001b[0;32m      2\u001b[0m \u001b[1;31m# This wont work\u001b[0m\u001b[1;33m\u001b[0m\u001b[1;33m\u001b[0m\u001b[1;33m\u001b[0m\u001b[0m\n\u001b[1;32m----> 3\u001b[1;33m \u001b[0mmySetOne\u001b[0m \u001b[1;33m=\u001b[0m \u001b[1;33m{\u001b[0m\u001b[1;36m1\u001b[0m\u001b[1;33m,\u001b[0m \u001b[1;36m2\u001b[0m\u001b[1;33m,\u001b[0m \u001b[1;33m[\u001b[0m\u001b[1;36m3\u001b[0m\u001b[1;33m,\u001b[0m \u001b[1;36m4\u001b[0m\u001b[1;33m]\u001b[0m\u001b[1;33m}\u001b[0m\u001b[1;33m\u001b[0m\u001b[1;33m\u001b[0m\u001b[0m\n\u001b[0m\u001b[0;32m      4\u001b[0m \u001b[0mprint\u001b[0m\u001b[1;33m(\u001b[0m\u001b[0mmySetOne\u001b[0m\u001b[1;33m)\u001b[0m\u001b[1;33m\u001b[0m\u001b[1;33m\u001b[0m\u001b[0m\n",
      "\u001b[1;31mTypeError\u001b[0m: unhashable type: 'list'"
     ]
    }
   ],
   "source": [
    "#A set itself may be modified, but the items in the set must be  immutable type\n",
    "# This wont work\n",
    "mySetOne = {1, 2, [3, 4]}\n",
    "print(mySetOne)"
   ]
  },
  {
   "cell_type": "code",
   "execution_count": 7,
   "metadata": {},
   "outputs": [
    {
     "name": "stdout",
     "output_type": "stream",
     "text": [
      "{1, 2, (3, 4)}\n"
     ]
    }
   ],
   "source": [
    "# This will work\n",
    "mySetTwo = {1, 2, (3, 4)}\n",
    "print(mySetTwo)"
   ]
  },
  {
   "cell_type": "markdown",
   "metadata": {},
   "source": [
    "<b><h3 style=\"color:#6833FF;\" >Adding Items in a Python Set</h3><br>\n",
    "There are two methods to add elements in a set<br><br>\n",
    "<li>We can add a single element using the  <font style=\"color:#FF33F2\">add( )</font> method </li><br>\n",
    "<li>We can add multiple elements using the <font style=\"color:#FF33F2\">update( )</font> method.</li>"
   ]
  },
  {
   "cell_type": "code",
   "execution_count": 8,
   "metadata": {},
   "outputs": [
    {
     "name": "stdout",
     "output_type": "stream",
     "text": [
      "{'Munich', 'Valencia', 'Madrid', 'Barcelona'}\n",
      "{'Munich', 'Valencia', 'Madrid', 'Barcelona'}\n"
     ]
    }
   ],
   "source": [
    "# set of cities\n",
    "cities = {'Madrid', 'Valencia', 'Barcelona'}\n",
    "\n",
    "# add an element to a set\n",
    "cities.add('Munich')\n",
    "print(cities)\n",
    "# {'Valencia', 'Barcelona', 'Munich', 'Madrid'}\n",
    "\n",
    "# add an element to the set (already present) - the element is not added, since duplicates are not allowed\n",
    "cities.add('Madrid')\n",
    "print(cities)\n",
    "# {'Valencia', 'Barcelona', 'Munich', 'Madrid'}"
   ]
  },
  {
   "cell_type": "code",
   "execution_count": 9,
   "metadata": {},
   "outputs": [
    {
     "name": "stdout",
     "output_type": "stream",
     "text": [
      "Initial Set :  {1, 2}\n",
      "Updated Set :  {1, 2, 4, 5}\n",
      "Updated Set :  {1, 2, 4, 5, 6, 8}\n"
     ]
    }
   ],
   "source": [
    "#add mutiple items using update\n",
    "initialSet = {1, 2}\n",
    "print(\"Initial Set : \",initialSet)\n",
    "\n",
    "#update() takes an iterable like string, list, dictionary as an argument.\n",
    "toAdd = [4, 5]\n",
    "initialSet.update(toAdd)\n",
    "print(\"Updated Set : \",initialSet)\n",
    "\n",
    "# add list and set \n",
    "initialSet.update([4, 5], {1, 6, 8})\n",
    "print(\"Updated Set : \",initialSet)"
   ]
  },
  {
   "cell_type": "markdown",
   "metadata": {},
   "source": [
    "<b><h3 style=\"color:#6833FF;\" >Delete Set Elements</h3><br>\n",
    "    <li><font style=\"color:#FF33F2\">remove( ) -</font> This method removes the element from the set. If the element is not present then it will throw an error.</li><br>\n",
    "    <li><font style=\"color:#FF33F2\">discard( ) - </font> This also removes the element but , If the element is not present then the set will remain unchanged.</li><br>\n",
    "    <li><font style=\"color:#FF33F2\">pop( ) - </font> This method removes and returns an arbitrary element from a set.</li><br>\n",
    "    <li><font style=\"color:#FF33F2\">clear( ) - </font>This method is used to delete all the set elements.</li><br>"
   ]
  },
  {
   "cell_type": "code",
   "execution_count": 11,
   "metadata": {},
   "outputs": [
    {
     "name": "stdout",
     "output_type": "stream",
     "text": [
      "Before:  {1, 2, 3, 5}\n",
      "Using remove:  {1, 2, 5}\n",
      "Using discard:  {1, 5}\n",
      "Popped Element:  1\n",
      "set()\n"
     ]
    }
   ],
   "source": [
    "mySet = {1, 2, 3, 5}\n",
    "print(\"Before: \", mySet)\n",
    "\n",
    "mySet.remove(3)\n",
    "print(\"Using remove: \", mySet)\n",
    "\n",
    "mySet.discard(2)\n",
    "print(\"Using discard: \", mySet)\n",
    "\n",
    "mySet.discard(4)\n",
    "#mySet.remove(4)\n",
    "\n",
    "#In comparison to lists, the pop method does not take any arguments\n",
    "removedSet = mySet.pop()\n",
    "print(\"Popped Element: \", removedSet)\n",
    "\n",
    "mySet.clear()\n",
    "print(mySet)"
   ]
  },
  {
   "cell_type": "markdown",
   "metadata": {},
   "source": [
    "<b><h3 style=\"color:#6833FF;\" >Deleting a Set </h3>"
   ]
  },
  {
   "cell_type": "code",
   "execution_count": 12,
   "metadata": {},
   "outputs": [
    {
     "name": "stdout",
     "output_type": "stream",
     "text": [
      "{1, 2, 3, 4, 5}\n"
     ]
    },
    {
     "ename": "NameError",
     "evalue": "name 'tempSet' is not defined",
     "output_type": "error",
     "traceback": [
      "\u001b[1;31m---------------------------------------------------------------------------\u001b[0m",
      "\u001b[1;31mNameError\u001b[0m                                 Traceback (most recent call last)",
      "\u001b[1;32m<ipython-input-12-4087e25361e0>\u001b[0m in \u001b[0;36m<module>\u001b[1;34m\u001b[0m\n\u001b[0;32m      5\u001b[0m \u001b[1;33m\u001b[0m\u001b[0m\n\u001b[0;32m      6\u001b[0m \u001b[1;32mdel\u001b[0m \u001b[0mtempSet\u001b[0m\u001b[1;33m\u001b[0m\u001b[1;33m\u001b[0m\u001b[0m\n\u001b[1;32m----> 7\u001b[1;33m \u001b[0mprint\u001b[0m\u001b[1;33m(\u001b[0m\u001b[0mtempSet\u001b[0m\u001b[1;33m)\u001b[0m \u001b[1;31m# throws NameError: name 'tempSet' is not defined\u001b[0m\u001b[1;33m\u001b[0m\u001b[1;33m\u001b[0m\u001b[0m\n\u001b[0m",
      "\u001b[1;31mNameError\u001b[0m: name 'tempSet' is not defined"
     ]
    }
   ],
   "source": [
    "#You can delete a set as a whole\n",
    "\n",
    "tempSet = {1, 2, 3, 4, 5}\n",
    "print(tempSet) \n",
    "\n",
    "del tempSet\n",
    "print(tempSet) # throws NameError: name 'tempSet' is not defined"
   ]
  },
  {
   "cell_type": "markdown",
   "metadata": {},
   "source": [
    "<b><h3 style=\"color:#6833FF;\" >Copying a Set </h3>"
   ]
  },
  {
   "cell_type": "code",
   "execution_count": 13,
   "metadata": {},
   "outputs": [
    {
     "name": "stdout",
     "output_type": "stream",
     "text": [
      "numbers:  {1, 2, 3, 4}\n",
      "new_numbers:  {1, 2, 3, 4}\n",
      "numbers:  {1, 2, 3, 4}\n",
      "new_numbers:  {1, 2, 3, 4, 5}\n"
     ]
    }
   ],
   "source": [
    "#shallow Copy\n",
    "numbers = {1, 2, 3, 4}\n",
    "print('numbers: ',numbers)\n",
    "# copies the items of numbers to new_numbers\n",
    "new_numbers = numbers.copy()\n",
    "print('new_numbers: ',new_numbers)\n",
    "\n",
    "# add 5 to the copied set\n",
    "new_numbers.add(5)\n",
    "print('numbers: ',numbers)\n",
    "print('new_numbers: ', new_numbers)"
   ]
  },
  {
   "cell_type": "markdown",
   "metadata": {},
   "source": [
    "<b><h3 style=\"color:#6833FF;\" >ACCESSING ELEMENTS OF A SET : Iterating Through a Set</h3>"
   ]
  },
  {
   "cell_type": "code",
   "execution_count": 14,
   "metadata": {},
   "outputs": [
    {
     "name": "stdout",
     "output_type": "stream",
     "text": [
      "Git\n",
      "R\n",
      "Python\n",
      "Tableau\n",
      "SAS\n",
      "SQL\n"
     ]
    }
   ],
   "source": [
    "#The elements of the set are not accessed with the help of index numbers\n",
    "#rather they are accessed by looping through it.\n",
    "\n",
    "dataScientist = {'Python', 'R', 'SQL', 'Git', 'Tableau', 'SAS'} \n",
    "for skill in dataScientist: \n",
    "   print(skill)\n",
    "\n",
    "# If you look at the output of printing each of the values in dataScientist, \n",
    "# notice that the values printed in the set are not in the order they were added in. \n",
    "# This is because sets are unordered."
   ]
  },
  {
   "cell_type": "code",
   "execution_count": 15,
   "metadata": {},
   "outputs": [
    {
     "name": "stdout",
     "output_type": "stream",
     "text": [
      "['Git', 'Python', 'R', 'SAS', 'SQL', 'Tableau']\n"
     ]
    },
    {
     "data": {
      "text/plain": [
       "list"
      ]
     },
     "execution_count": 15,
     "metadata": {},
     "output_type": "execute_result"
    }
   ],
   "source": [
    "#Transform Set into Ordered Values\n",
    "#We can use the sorted function which outputs a list that is ordered.\n",
    "\n",
    "print(sorted(dataScientist))\n",
    "type(sorted(dataScientist))"
   ]
  },
  {
   "cell_type": "markdown",
   "metadata": {},
   "source": [
    "<b><h3 style=\"color:#6833FF;\" >Set Operations in Python</h3><br>\n",
    "A common use of sets in Python is computing standard math operations such as<br><br> union, intersection, difference, and symmetric difference.<br><br> Most operations on set can be performed in two ways.<br><br>\n",
    "<ol>\n",
    "<li>Using operator</li><br>\n",
    "<li>Using methods</li>"
   ]
  },
  {
   "cell_type": "code",
   "execution_count": 16,
   "metadata": {},
   "outputs": [
    {
     "data": {
      "text/plain": [
       "['__and__',\n",
       " '__class__',\n",
       " '__contains__',\n",
       " '__delattr__',\n",
       " '__dir__',\n",
       " '__doc__',\n",
       " '__eq__',\n",
       " '__format__',\n",
       " '__ge__',\n",
       " '__getattribute__',\n",
       " '__gt__',\n",
       " '__hash__',\n",
       " '__iand__',\n",
       " '__init__',\n",
       " '__init_subclass__',\n",
       " '__ior__',\n",
       " '__isub__',\n",
       " '__iter__',\n",
       " '__ixor__',\n",
       " '__le__',\n",
       " '__len__',\n",
       " '__lt__',\n",
       " '__ne__',\n",
       " '__new__',\n",
       " '__or__',\n",
       " '__rand__',\n",
       " '__reduce__',\n",
       " '__reduce_ex__',\n",
       " '__repr__',\n",
       " '__ror__',\n",
       " '__rsub__',\n",
       " '__rxor__',\n",
       " '__setattr__',\n",
       " '__sizeof__',\n",
       " '__str__',\n",
       " '__sub__',\n",
       " '__subclasshook__',\n",
       " '__xor__',\n",
       " 'add',\n",
       " 'clear',\n",
       " 'copy',\n",
       " 'difference',\n",
       " 'difference_update',\n",
       " 'discard',\n",
       " 'intersection',\n",
       " 'intersection_update',\n",
       " 'isdisjoint',\n",
       " 'issubset',\n",
       " 'issuperset',\n",
       " 'pop',\n",
       " 'remove',\n",
       " 'symmetric_difference',\n",
       " 'symmetric_difference_update',\n",
       " 'union',\n",
       " 'update']"
      ]
     },
     "execution_count": 16,
     "metadata": {},
     "output_type": "execute_result"
    }
   ],
   "source": [
    "#To know what all methods can be used on sets, you can use the dir() function.\n",
    "My_Set={1,'s',7.8} \n",
    "dir(My_Set)"
   ]
  },
  {
   "cell_type": "code",
   "execution_count": 18,
   "metadata": {},
   "outputs": [
    {
     "name": "stdout",
     "output_type": "stream",
     "text": [
      "Help on built-in function discard:\n",
      "\n",
      "discard(...) method of builtins.set instance\n",
      "    Remove an element from a set if it is a member.\n",
      "    \n",
      "    If the element is not a member, do nothing.\n",
      "\n"
     ]
    }
   ],
   "source": [
    "help(My_Set.discard)\n",
    "My_Set.discard()"
   ]
  },
  {
   "cell_type": "markdown",
   "metadata": {},
   "source": [
    "<b><h3 style=\"color:#6833FF;\" >Union of Sets</h3><br>\n",
    "Union refers to the concatenation of two or more sets into a single set by adding all unique elements present in both sets. \n",
    "<br><br>\n",
    "This can be done in two ways:<br><br>\n",
    "\n",
    "<li>Using pipeline \"|\" </li><br>\n",
    "<li>Using union( ) function</li><br>\n",
    "    \n",
    "<img src='11.png'>\n",
    "   "
   ]
  },
  {
   "cell_type": "code",
   "execution_count": 19,
   "metadata": {},
   "outputs": [],
   "source": [
    "#let’s start by initializing three sets dataScientist , dataEngineer and graphicDesigner\n",
    "dataScientist = set(['Python', 'R', 'SQL', 'Git', 'Tableau', 'SAS'])\n",
    "dataEngineer = set(['Python', 'Java', 'Scala', 'Git', 'SQL', 'Hadoop'])\n",
    "graphicDesigner = {'Illustrator', 'InDesign', 'Photoshop'}"
   ]
  },
  {
   "cell_type": "code",
   "execution_count": 20,
   "metadata": {},
   "outputs": [
    {
     "name": "stdout",
     "output_type": "stream",
     "text": [
      "{'Git', 'R', 'Python', 'Tableau', 'Scala', 'Hadoop', 'SAS', 'Java', 'SQL'}\n",
      "{'Git', 'R', 'Python', 'Tableau', 'Scala', 'Hadoop', 'SAS', 'Java', 'SQL'}\n"
     ]
    }
   ],
   "source": [
    "# set built-in function union\n",
    "print(dataScientist.union(dataEngineer))\n",
    "\n",
    "# Equivalent Result \n",
    "print(dataScientist | dataEngineer)"
   ]
  },
  {
   "cell_type": "markdown",
   "metadata": {},
   "source": [
    "<img src='https://miro.medium.com/max/1400/0*zyiepqoHsfy9aQyS.png' width=\"500\" height=\"500\">"
   ]
  },
  {
   "cell_type": "code",
   "execution_count": 21,
   "metadata": {},
   "outputs": [
    {
     "name": "stdout",
     "output_type": "stream",
     "text": [
      "Union of three sets=  {'Git', 'R', 'Illustrator', 'Python', 'Photoshop', 'Tableau', 'Scala', 'Hadoop', 'InDesign', 'SAS', 'Java', 'SQL'}\n"
     ]
    }
   ],
   "source": [
    "#Union of three sets\n",
    "print(\"Union of three sets= \",dataScientist.union(dataEngineer,graphicDesigner))"
   ]
  },
  {
   "cell_type": "markdown",
   "metadata": {},
   "source": [
    "<b><h3 style=\"color:#6833FF;\" >Intersection of Sets</h3><br>\n",
    "The intersection of two or more sets is a new set consisting of only the common elements present in those sets.\n",
    "<br><br>\n",
    "This can be done in two ways:<br><br>\n",
    "\n",
    "<li>Using \"&\" symbol</li><br>\n",
    "<li>Using intersection( ) function</li><br>\n",
    "    \n",
    "<img src='12.png'>"
   ]
  },
  {
   "cell_type": "code",
   "execution_count": 22,
   "metadata": {},
   "outputs": [
    {
     "name": "stdout",
     "output_type": "stream",
     "text": [
      "{'Git', 'SQL', 'Python'}\n",
      "{'Git', 'SQL', 'Python'}\n"
     ]
    }
   ],
   "source": [
    "# Intersection operation\n",
    "print(dataScientist.intersection(dataEngineer))\n",
    "# Equivalent Result\n",
    "print(dataScientist & dataEngineer)\n",
    "\n",
    "#\"A.intersection(B)” is the same as “B.intersection(A)\""
   ]
  },
  {
   "cell_type": "markdown",
   "metadata": {},
   "source": [
    "<img src='https://miro.medium.com/max/1400/0*R0EhGyRTwunQshmC.png' width=\"500\" height=\"500\">"
   ]
  },
  {
   "cell_type": "markdown",
   "metadata": {},
   "source": [
    "<b><h3 style=\"color:#6833FF;\" >Difference of Sets</h3><br>\n",
    "The difference of sets produces a new set consisting of elements that are present only in one of those sets.<br><br> This means that all elements except the common elements of those sets will be returned.\n",
    "<br><br>\n",
    "This can be done in two ways:<br><br>\n",
    "\n",
    "<li>Using the ‘-‘ symbol</li><br>\n",
    "<li>Using difference( ) function</li><br>\n",
    "    \n",
    "<img src='13.png'>"
   ]
  },
  {
   "cell_type": "code",
   "execution_count": 24,
   "metadata": {},
   "outputs": [
    {
     "name": "stdout",
     "output_type": "stream",
     "text": [
      "{'Tableau', 'SAS', 'R'}\n",
      "{'Java', 'Scala', 'Hadoop'}\n"
     ]
    }
   ],
   "source": [
    "# Difference Operation\n",
    "print(dataScientist.difference(dataEngineer))\n",
    "# Equivalent Result\n",
    "print(dataEngineer - dataScientist)\n",
    "#The output consists of all elements of set ‘dataScientist’ except those that are present in ‘dataEngineer’"
   ]
  },
  {
   "cell_type": "markdown",
   "metadata": {},
   "source": [
    "<img src='https://miro.medium.com/max/1400/0*DAzUYmb11nqxufNu.png' width=\"500\" height=\"500\">"
   ]
  },
  {
   "cell_type": "code",
   "execution_count": 25,
   "metadata": {},
   "outputs": [
    {
     "name": "stdout",
     "output_type": "stream",
     "text": [
      "Difference of three sets=  {'Tableau', 'SAS', 'R'}\n"
     ]
    }
   ],
   "source": [
    "#difference of three sets\n",
    "print(\"Difference of three sets= \",dataScientist.difference(dataEngineer,graphicDesigner))\n",
    "#The output consists of all elements of set ‘dataScientist’ except those that are present in ‘dataEngineer’ and ‘graphicDesigner’."
   ]
  },
  {
   "cell_type": "markdown",
   "metadata": {},
   "source": [
    "<b><h3 style=\"color:#6833FF;\" >Symmetric Difference of Sets</h3><br>\n",
    "The symmetric difference of two sets denoted  △ , is the set of all values that are values of exactly one of two sets, but not both.<br><br>\n",
    "\n",
    "This can be done in two ways:<br><br>\n",
    "\n",
    "<li>Using the ‘^‘ symbol</li><br>\n",
    "<li>Using symmetric_difference( ) function</li><br>\n",
    "    \n",
    "<img src='14.png'>"
   ]
  },
  {
   "cell_type": "code",
   "execution_count": 26,
   "metadata": {},
   "outputs": [
    {
     "name": "stdout",
     "output_type": "stream",
     "text": [
      "{'R', 'Tableau', 'Scala', 'Hadoop', 'SAS', 'Java'}\n",
      "{'R', 'Tableau', 'Scala', 'Hadoop', 'SAS', 'Java'}\n"
     ]
    }
   ],
   "source": [
    "# Symmetric Difference Operation\n",
    "print(dataScientist.symmetric_difference(dataEngineer))\n",
    "# Equivalent Result\n",
    "print(dataEngineer ^ dataScientist)\n",
    "\n",
    "#The symmetric difference method finds the elements that exist in only set A or only set B. \n",
    "#Thus, it returns the union of “A difference B” and “B difference A”."
   ]
  },
  {
   "cell_type": "markdown",
   "metadata": {},
   "source": [
    "<img src='https://miro.medium.com/max/1400/0*q5BAmYxXbb7YTSxK.png' width=\"500\" height=\"500\">"
   ]
  },
  {
   "cell_type": "markdown",
   "metadata": {},
   "source": [
    "<img src='https://miro.medium.com/max/1575/1*9bF-TmXD6EuCl-wKotzLJg.png' width=\"500\" height=\"500\">"
   ]
  },
  {
   "cell_type": "markdown",
   "metadata": {},
   "source": [
    " <b><h3 style=\"color:#6833FF;\" >Some Other Python Set Methods</h3><br>\n",
    " <img src='https://blog.hubspot.com/hs-fs/hubfs/Google%20Drive%20Integration/How%20to%20use%20the%20Python%20Data%20Type%20set.png?width=975&name=How%20to%20use%20the%20Python%20Data%20Type%20set.png'>"
   ]
  },
  {
   "cell_type": "markdown",
   "metadata": {},
   "source": [
    "<b><h3 style=\"color:#6833FF;\" >Difference Update of Sets</h3><br>\n",
    "The difference_update( ) method computes the difference between two sets (A - B) and updates set A with the resulting set."
   ]
  },
  {
   "cell_type": "code",
   "execution_count": 27,
   "metadata": {},
   "outputs": [
    {
     "name": "stdout",
     "output_type": "stream",
     "text": [
      "{1, 9}\n",
      "A =  {1, 9}\n"
     ]
    }
   ],
   "source": [
    "# sets of numbers\n",
    "A = {1, 3, 5, 7, 9}\n",
    "B = {2, 3, 5, 7, 11}\n",
    "\n",
    "# computes A - B and updates A with the resulting set\n",
    "print(A.difference(B))\n",
    "A.difference_update(B)\n",
    "\n",
    "print('A = ', A)\n",
    "\n",
    "# Output: A =  {1, 9}"
   ]
  },
  {
   "cell_type": "markdown",
   "metadata": {},
   "source": [
    "<b><h3 style=\"color:#6833FF;\" >Intersection Update of Sets</h3><br>\n",
    "The intersection_update() finds the intersection of different sets and updates it to the set that calls the method."
   ]
  },
  {
   "cell_type": "code",
   "execution_count": 28,
   "metadata": {},
   "outputs": [
    {
     "name": "stdout",
     "output_type": "stream",
     "text": [
      "{2, 3, 4}\n",
      "A = {2, 3, 4}\n",
      "{4}\n",
      "A = {4}\n"
     ]
    }
   ],
   "source": [
    "A = {1, 2, 3, 4}\n",
    "B = {2, 3, 4, 5}\n",
    "C = {4, 5, 6, 9, 10}\n",
    "\n",
    "# updates set A with the items common to both sets A and B\n",
    "print(A.intersection(B))\n",
    "A.intersection_update(B)\n",
    "\n",
    "print('A =', A) # Output: A = {2, 3, 4}\n",
    "\n",
    "# performs intersection between A, B and C and updates the result to set A\n",
    "print(A.intersection(B,C))\n",
    "A.intersection_update(B, C)\n",
    "\n",
    "print('A =', A)"
   ]
  },
  {
   "cell_type": "markdown",
   "metadata": {},
   "source": [
    "<b><h3 style=\"color:#6833FF;\" >Is Disjoint of Sets</h3><br>\n",
    "The isdisjoint( ) method returns True if two sets don't have any common items between them, i.e. they are disjoint. Else the returns False."
   ]
  },
  {
   "cell_type": "code",
   "execution_count": 29,
   "metadata": {},
   "outputs": [
    {
     "name": "stdout",
     "output_type": "stream",
     "text": [
      "True\n",
      "False\n"
     ]
    }
   ],
   "source": [
    "A = {1, 2, 3}\n",
    "B = {4, 5, 6}\n",
    "C = {1, 4, 5}\n",
    "\n",
    "# checks if set A and set B are disjoint\n",
    "print(A.isdisjoint(B)) # Output: True\n",
    "print(A.isdisjoint(C)) # Output: False"
   ]
  },
  {
   "cell_type": "markdown",
   "metadata": {},
   "source": [
    "<b><h3 style=\"color:#6833FF;\" >Subsets and Supersets</h3><br>\n",
    "A set A is a subset of a set B (A ⊆ B) or equivalently set B is a superset of set A (B ⊇ A), if all elements of set A are contained in set B.<br><br>\n",
    "\n",
    "To check whether set A is a subset/superset of set B, we can use the following methods:<br><br>\n",
    "\n",
    "<li>A.issubset(B) → This method returns True if all elements of set A are contained in set B.</li><br>\n",
    "<li>A.issuperset(B) → This method returns True if all elements of set B are contained in set A.</li><br>\n",
    "    \n",
    "<img src='https://miro.medium.com/max/590/1*edT_GD8kSDtL_Bka_w7Sew.png'>"
   ]
  },
  {
   "cell_type": "code",
   "execution_count": 32,
   "metadata": {},
   "outputs": [],
   "source": [
    "whole = {0,1,2,3,4,5,6,7,8} #superset \n",
    "\n",
    "#subsets\n",
    "even = {2,4,6,8}\n",
    "odd = {1,3,5,7}\n",
    "natural = {1,2,3,4,5}"
   ]
  },
  {
   "cell_type": "code",
   "execution_count": 33,
   "metadata": {},
   "outputs": [
    {
     "name": "stdout",
     "output_type": "stream",
     "text": [
      "True\n",
      "True\n",
      "False\n",
      "True\n"
     ]
    }
   ],
   "source": [
    "# three sets \n",
    "mammals = {'Tiger', 'Camel', 'Sheep', 'Whale', 'Walrus'} #superset\n",
    "aquatic = {'Octopus', 'Squid', 'Crab', 'Whale', 'Walrus'}\n",
    "aquatic_mammals = {'Whale', 'Walrus'} #subset\n",
    "\n",
    "# mammals is a superset of aquatic_mammals\n",
    "print(mammals.issuperset(aquatic_mammals))\n",
    "# True\n",
    "\n",
    "# aquatic_mammals is a subset of mammals\n",
    "print(aquatic_mammals.issubset(mammals))\n",
    "# True\n",
    "\n",
    "# aquatic is not a subset of mammals\n",
    "print(aquatic.issubset(mammals))\n",
    "# False\n",
    "\n",
    "# aquatic is not a subset of mammals\n",
    "print(aquatic_mammals.issubset(aquatic))"
   ]
  },
  {
   "cell_type": "markdown",
   "metadata": {},
   "source": [
    "<b><h3 style=\"color:#6833FF;\" >Check if Item Exists in a Set</h3><br>\n",
    "To check if a specific item is present in a set, you can use in and not in operators with if statement."
   ]
  },
  {
   "cell_type": "code",
   "execution_count": 34,
   "metadata": {},
   "outputs": [
    {
     "name": "stdout",
     "output_type": "stream",
     "text": [
      "yes\n",
      "True\n",
      "yes\n",
      "False\n"
     ]
    }
   ],
   "source": [
    "# Check for presence\n",
    "S = {'red', 'green', 'blue'}\n",
    "if 'red' in S:\n",
    "    print('yes')\n",
    "    \n",
    "print('red' in S)\n",
    "\n",
    "# Check for absence\n",
    "S = {'red', 'green', 'blue'}\n",
    "if 'yellow' not in S:\n",
    "    print('yes')\n",
    "    \n",
    "print('red' not in S) "
   ]
  },
  {
   "cell_type": "code",
   "execution_count": 36,
   "metadata": {},
   "outputs": [
    {
     "ename": "TypeError",
     "evalue": "unsupported operand type(s) for *: 'set' and 'int'",
     "output_type": "error",
     "traceback": [
      "\u001b[1;31m---------------------------------------------------------------------------\u001b[0m",
      "\u001b[1;31mTypeError\u001b[0m                                 Traceback (most recent call last)",
      "\u001b[1;32m<ipython-input-36-20fc550c3307>\u001b[0m in \u001b[0;36m<module>\u001b[1;34m\u001b[0m\n\u001b[0;32m      1\u001b[0m \u001b[1;31m#Concatitation and repetation are not supported in sets\u001b[0m\u001b[1;33m\u001b[0m\u001b[1;33m\u001b[0m\u001b[1;33m\u001b[0m\u001b[0m\n\u001b[0;32m      2\u001b[0m \u001b[1;31m#print(mammals + aquatic)\u001b[0m\u001b[1;33m\u001b[0m\u001b[1;33m\u001b[0m\u001b[1;33m\u001b[0m\u001b[0m\n\u001b[1;32m----> 3\u001b[1;33m \u001b[0mprint\u001b[0m\u001b[1;33m(\u001b[0m\u001b[0mmammals\u001b[0m\u001b[1;33m*\u001b[0m\u001b[1;36m3\u001b[0m\u001b[1;33m)\u001b[0m\u001b[1;33m\u001b[0m\u001b[1;33m\u001b[0m\u001b[0m\n\u001b[0m",
      "\u001b[1;31mTypeError\u001b[0m: unsupported operand type(s) for *: 'set' and 'int'"
     ]
    }
   ],
   "source": [
    "#Concatitation and repetation are not supported in sets\n",
    "#print(mammals + aquatic)\n",
    "print(mammals*3)"
   ]
  },
  {
   "cell_type": "markdown",
   "metadata": {},
   "source": [
    "<b><h3 style=\"color:#6833FF;\" >Python Frozenset</h3><br>\n",
    "<img src='https://imagesvc.meredithcorp.io/v3/mm/image?url=https%3A%2F%2Fstatic.onecms.io%2Fwp-content%2Fuploads%2Fsites%2F6%2F2020%2F05%2F13%2FFrozen2_1.jpg&w=426&h=285&c=sc&poi=%5B920%2C277%5D&q=60&rect=170%2C0%2C1770%2C1067'><br>\n",
    "<li>Frozenset is a new class that has the characteristics of a set, but its elements cannot be changed once assigned</li><br>\n",
    "<li>While tuples are immutable lists, frozensets are immutable sets.</li><br>\n",
    "<li>Sets being mutable are unhashable, so they can't be used as dictionary keys.</li><br>\n",
    "<li>On the other hand, frozensets are hashable and can be used as keys to a dictionary.</li><br>\n",
    "<li>You cannot normally have nested sets ,as sets cannot contain mutable values including sets</li><br> \n",
    "<li>Frozensets can be created using the frozenset( ) function.</li><br> \n",
    "<img src='https://www.freecodecamp.org/news/content/images/2019/12/image-67.png'><br>"
   ]
  },
  {
   "cell_type": "code",
   "execution_count": 38,
   "metadata": {},
   "outputs": [
    {
     "name": "stdout",
     "output_type": "stream",
     "text": [
      "frozenset()\n"
     ]
    }
   ],
   "source": [
    "# Initialize a frozenset\n",
    "immutableSet = frozenset()\n",
    "print(immutableSet)"
   ]
  },
  {
   "cell_type": "code",
   "execution_count": 39,
   "metadata": {},
   "outputs": [
    {
     "name": "stdout",
     "output_type": "stream",
     "text": [
      "frozenset({1, 2, 4.6, 5, 's', 7.8, 'r'})\n"
     ]
    }
   ],
   "source": [
    "a={1, 2,5, 4.6, 7.8, 'r', 's'}\n",
    "b=frozenset(a)\n",
    "print(b)"
   ]
  },
  {
   "cell_type": "code",
   "execution_count": 40,
   "metadata": {},
   "outputs": [
    {
     "data": {
      "text/plain": [
       "{frozenset({1, 2, 3}), frozenset({1, 2, 4})}"
      ]
     },
     "execution_count": 40,
     "metadata": {},
     "output_type": "execute_result"
    }
   ],
   "source": [
    "#Notice that we don't get any errors and the set is created successfully.\n",
    "a = {frozenset([1, 2, 3]), frozenset([1, 2, 4])}\n",
    "a"
   ]
  },
  {
   "cell_type": "code",
   "execution_count": 41,
   "metadata": {},
   "outputs": [
    {
     "name": "stdout",
     "output_type": "stream",
     "text": [
      "{frozenset({'Lanuguage', 'Name', 'Programming'}): 'Python', 'type': 'interpreted'}\n"
     ]
    }
   ],
   "source": [
    "#Unlike sets, frozensets are unchangeable so they can be used as keys to a dictionary.\n",
    "myDict = {frozenset(['Programming', 'Lanuguage', 'Name']): \"Python\", 'type': 'interpreted'}\n",
    "print(myDict)"
   ]
  },
  {
   "cell_type": "code",
   "execution_count": 42,
   "metadata": {},
   "outputs": [
    {
     "name": "stdout",
     "output_type": "stream",
     "text": [
      "False\n",
      "frozenset({1, 2})\n",
      "frozenset({1, 2, 3, 4, 5, 6})\n"
     ]
    }
   ],
   "source": [
    "#This data type supports methods like copy(), difference(), intersection(),\n",
    "#isdisjoint(), issubset(), issuperset(),symmetric_difference() and union(). \n",
    "\n",
    "# initialize A and B\n",
    "A = frozenset([1, 2, 3, 4])\n",
    "B = frozenset([3, 4, 5, 6])\n",
    "\n",
    "\n",
    "print(A.isdisjoint(B))\n",
    "\n",
    "print(A.difference(B))\n",
    "\n",
    "print(A | B)"
   ]
  },
  {
   "cell_type": "code",
   "execution_count": 44,
   "metadata": {},
   "outputs": [
    {
     "ename": "AttributeError",
     "evalue": "'frozenset' object has no attribute 'pop'",
     "output_type": "error",
     "traceback": [
      "\u001b[1;31m---------------------------------------------------------------------------\u001b[0m",
      "\u001b[1;31mAttributeError\u001b[0m                            Traceback (most recent call last)",
      "\u001b[1;32m<ipython-input-44-280fed7cdae8>\u001b[0m in \u001b[0;36m<module>\u001b[1;34m\u001b[0m\n\u001b[0;32m      1\u001b[0m \u001b[1;31m#Being immutable, it does not have methods that add or remove elements.\u001b[0m\u001b[1;33m\u001b[0m\u001b[1;33m\u001b[0m\u001b[1;33m\u001b[0m\u001b[0m\n\u001b[0;32m      2\u001b[0m \u001b[1;31m#A.add(3)\u001b[0m\u001b[1;33m\u001b[0m\u001b[1;33m\u001b[0m\u001b[1;33m\u001b[0m\u001b[0m\n\u001b[1;32m----> 3\u001b[1;33m \u001b[0mA\u001b[0m\u001b[1;33m.\u001b[0m\u001b[0mpop\u001b[0m\u001b[1;33m(\u001b[0m\u001b[1;33m)\u001b[0m\u001b[1;33m\u001b[0m\u001b[1;33m\u001b[0m\u001b[0m\n\u001b[0m",
      "\u001b[1;31mAttributeError\u001b[0m: 'frozenset' object has no attribute 'pop'"
     ]
    }
   ],
   "source": [
    "#Being immutable, it does not have methods that add or remove elements.\n",
    "#A.add(3)\n",
    "A.pop()"
   ]
  },
  {
   "cell_type": "markdown",
   "metadata": {},
   "source": [
    "<b><h3 style=\"color:#6833FF;\" >Set Comprehension</h3>"
   ]
  },
  {
   "cell_type": "code",
   "execution_count": 45,
   "metadata": {},
   "outputs": [
    {
     "data": {
      "text/plain": [
       "{'PYTHON', 'SQL'}"
      ]
     },
     "execution_count": 45,
     "metadata": {},
     "output_type": "execute_result"
    }
   ],
   "source": [
    "{skill for skill in ['SQL', 'SQL', 'PYTHON', 'PYTHON']}"
   ]
  },
  {
   "cell_type": "code",
   "execution_count": 46,
   "metadata": {},
   "outputs": [
    {
     "data": {
      "text/plain": [
       "{'SQL'}"
      ]
     },
     "execution_count": 46,
     "metadata": {},
     "output_type": "execute_result"
    }
   ],
   "source": [
    "{skill for skill in ['GIT', 'PYTHON', 'SQL'] if skill not in {'GIT', 'PYTHON', 'JAVA'}}"
   ]
  },
  {
   "cell_type": "markdown",
   "metadata": {},
   "source": [
    "<b><h3 style=\"color:#6833FF;\" >Built-in Functions with Set</h3><br>\n",
    "Built-in functions like all( ), any( ), enumerate( ), len( ), max( ), min( ), sorted( ), sum( ) etc.<br><br> are commonly used with sets to perform different tasks."
   ]
  },
  {
   "cell_type": "markdown",
   "metadata": {},
   "source": [
    "<b><h3>Python Interview Questions on Sets</h3><br>\n",
    "<ol>\n",
    "<li>Does converting an object to a set maintain the object’s order?</li><br>\n",
    "<li> Is a set a subset of itself ?</li><br>\n",
    "<li>What is a set?</li><br>\n",
    "<li>What is the difference between a Python Set and Python frozen set ?</li><br>\n",
    "<li>Can a set be accessed by index ?</li><br>\n",
    "<li>What is the difference between a subset and a proper subset ?</li>"
   ]
  },
  {
   "cell_type": "markdown",
   "metadata": {},
   "source": [
    "<h4> To-Do: </h4><br>\n",
    "<ol>\n",
    "<b>\n",
    "    <li>Write a program to Check if two lists have at-least one element common </li><br>\n",
    "    <li>Write a program to Check if two sets have any elements in common. If yes, display the common elements</li><br>\n",
    "    <li>Write a program in python as a function that determines the intersection of two sets without using any predefined functions.</li><br>\n",
    "    <li>Write a python program as a function that determines the union of two sets without using any predefined functions</li><br>\n",
    "    <li>Write a program in python as a function which examines whether two sets are disjoint or not without using any predefined functions</li><br>\n",
    "    <li>Write a python program as a function that determines the minimum and maximum values of given a set withowt using any predefined function</li>"
   ]
  },
  {
   "cell_type": "markdown",
   "metadata": {},
   "source": [
    "&copy; **Nitheesh Reddy**"
   ]
  }
 ],
 "metadata": {
  "kernelspec": {
   "display_name": "Python 3",
   "language": "python",
   "name": "python3"
  },
  "language_info": {
   "codemirror_mode": {
    "name": "ipython",
    "version": 3
   },
   "file_extension": ".py",
   "mimetype": "text/x-python",
   "name": "python",
   "nbconvert_exporter": "python",
   "pygments_lexer": "ipython3",
   "version": "3.8.5"
  }
 },
 "nbformat": 4,
 "nbformat_minor": 4
}

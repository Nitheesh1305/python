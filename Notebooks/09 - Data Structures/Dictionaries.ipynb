{
 "cells": [
  {
   "cell_type": "markdown",
   "metadata": {},
   "source": [
    "<center><b><h1 style=\"color:#ff0066;\" >Python Data Structures - Dictionaries</h1>"
   ]
  },
  {
   "cell_type": "markdown",
   "metadata": {},
   "source": [
    "<b><h1 style=\"color:#cc33ff;\" >Dictionaries</h1>\n",
    "<br>\n",
    "Dictionaries are Python’s implementation of a data structure, generally known as associative arrays, hashes, or hashmaps.\n",
    "<br> <br>\n",
    "A dictionary consists of a collection of key-value pairs. Each key-value pair maps the key to its associated value.\n",
    "<br><br>\n",
    "Each key is separated from its value by a colon (:), the items are separated by commas, and the whole thing is enclosed in curly braces."
   ]
  },
  {
   "cell_type": "markdown",
   "metadata": {},
   "source": [
    "<b><h2 style=\"color:#FF3333;\" >Characteristics of Dictionaries :</h2> <br>\n",
    "    <font style=\"color:#FF5733\">Dictionaries and lists share the following characteristics :</font><br><br>\n",
    "    <li>Both are mutable.</li><br>\n",
    "    <li>Both are dynamic. They can grow and shrink as needed.</li><br>\n",
    "    <li>Both can be nested. A list can contain another list. A dictionary can contain another dictionary.</li><br>\n",
    "<font style=\"color:#FF5733\">Dictionaries differ from lists primarily in how elements are accessed :</font><br><br>\n",
    "    <li>List elements are accessed by their position in the list, via indexing.</li><br>\n",
    "    <li>Dictionary elements are accessed via keys.</li>"
   ]
  },
  {
   "cell_type": "markdown",
   "metadata": {},
   "source": [
    "<b><h3 style=\"color:#6833FF;\" >Creating a Dictionary</h3><br>\n",
    "\n",
    "There are following three ways to create a dictionary :<br><br>\n",
    "\n",
    "<li><font style=\"color:#FFBD33\">Using curly brackets : </font>Enclosing the comma-separated Key: Value pairs inside the {} curly brackets.</li><br>\n",
    "<li><font style=\"color:#FFBD33\">Using dict ( ) constructor : </font>  Create a dictionary by passing the comma-separated key: value pairs inside the dict().</li><br>\n",
    "<li><font style=\"color:#FFBD33\">Using sequence  </font> having each item as a pair (key-value)</li>"
   ]
  },
  {
   "cell_type": "code",
   "execution_count": 63,
   "metadata": {},
   "outputs": [
    {
     "name": "stdout",
     "output_type": "stream",
     "text": [
      "Empty Dictionary : \n",
      "{} --> <class 'dict'>\n",
      "\n",
      "Dictionary With Integer Keys : \n",
      "{1: 'apple', 2: 'ball'} --> <class 'dict'>\n",
      "\n",
      "Dictionary With Mixed Keys : \n",
      "{'name': 'John', 1: [2, 4, 3]} --> <class 'dict'>\n",
      "\n",
      "Empty Dictionary With Dict Constructor : \n",
      "{} --> <class 'dict'>\n",
      "\n",
      "String Keys Dictionary With Dict Constructor : \n",
      "{'name': 'Bob', 'age': 25, 'job': 'Dev'} --> <class 'dict'>\n",
      "\n",
      "Dictionary From Sequence Having Each Item As A Pair : \n",
      "{'name': 'Mark', 'country': 'USA', 'telephone': 1178} --> <class 'dict'>\n"
     ]
    }
   ],
   "source": [
    "#You can create a dictionary by placing a comma-separated list of key:value pairs in curly braces {}. \n",
    "#Each key is separated from its associated value by a colon :\n",
    "\n",
    "# empty Dict with {}\n",
    "emptyDict = {}\n",
    "print(\"Empty Dictionary : \")\n",
    "print(emptyDict ,\"-->\", type(emptyDict))\n",
    "print()\n",
    "\n",
    "# dictionary with integer keys\n",
    "integerKeys = {1: 'apple', 2: 'ball'}\n",
    "print(\"Dictionary With Integer Keys : \")\n",
    "print(integerKeys ,\"-->\", type(integerKeys))\n",
    "print()\n",
    "\n",
    "# dictionary with mixed keys and value as a list\n",
    "mixedKeys = {'name': 'John', 1: [2, 4, 3]}\n",
    "print(\"Dictionary With Mixed Keys : \")\n",
    "print(mixedKeys ,\"-->\", type(mixedKeys))\n",
    "print()\n",
    "\n",
    "# using dict()\n",
    "emptyDict = dict()\n",
    "print(\"Empty Dictionary With Dict Constructor : \")\n",
    "print(emptyDict ,\"-->\", type(emptyDict))\n",
    "print()\n",
    "\n",
    "# using dict() with string keys (keyword arguments)\n",
    "myDict = dict(name = 'Bob',\n",
    "              age = 25,\n",
    "              job = 'Dev')\n",
    "print(\"String Keys Dictionary With Dict Constructor : \")\n",
    "print(myDict ,\"-->\", type(myDict))\n",
    "print()\n",
    "\n",
    "# create a dictionary from sequence having each item as a pair\n",
    "person = dict([(\"name\", \"Mark\"), (\"country\", \"USA\"), (\"telephone\", 1178)])\n",
    "print(\"Dictionary From Sequence Having Each Item As A Pair : \")\n",
    "print(person,\"-->\", type(person))"
   ]
  },
  {
   "cell_type": "code",
   "execution_count": 8,
   "metadata": {},
   "outputs": [
    {
     "name": "stdout",
     "output_type": "stream",
     "text": [
      "{'name': 'Bob', 'age': 25, 'job': 'Dev'}\n",
      "\n",
      "{'a': 0, 'b': 0, 'c': 0}\n"
     ]
    }
   ],
   "source": [
    "#Other Ways to Create Dictionaries\n",
    "\n",
    "# Create a dictionary with list of zipped keys/values\n",
    "keys = ['name', 'age', 'job']\n",
    "values = ['Bob', 25, 'Dev']\n",
    "D = dict(zip(keys, values))\n",
    "print(D)\n",
    "print()\n",
    "\n",
    "# Initialize dictionary with default value '0' for each key\n",
    "keys = ['a', 'b', 'c']\n",
    "defaultValue = 0\n",
    "D = dict.fromkeys(keys,defaultValue)\n",
    "print(D)"
   ]
  },
  {
   "cell_type": "code",
   "execution_count": 9,
   "metadata": {},
   "outputs": [
    {
     "name": "stdout",
     "output_type": "stream",
     "text": [
      "{1: {'name': 'John', 'age': '27', 'sex': 'Male'}, 2: {'name': 'Marie', 'age': '22', 'sex': 'Female'}}\n"
     ]
    }
   ],
   "source": [
    "#Creating a Nested Dictionary\n",
    "people = {1: {'name': 'John', 'age': '27', 'sex': 'Male'},\n",
    "          2: {'name': 'Marie', 'age': '22', 'sex': 'Female'}}\n",
    "print(people)"
   ]
  },
  {
   "cell_type": "code",
   "execution_count": 30,
   "metadata": {},
   "outputs": [
    {
     "name": "stdout",
     "output_type": "stream",
     "text": [
      "3\n"
     ]
    }
   ],
   "source": [
    "#len of Dict\n",
    "price = {'milk': 1.02, 'coffee': 2.5, 'bread': 2.5}\n",
    "# count number of keys present in  a dictionary\n",
    "print(len(price))  "
   ]
  },
  {
   "cell_type": "markdown",
   "metadata": {},
   "source": [
    "<b><h3 style=\"color:#6833FF;\" >Important Properties of a Dictionary Keys</h3><br>\n",
    "Each key is linked to a specific value. Once stored in a dictionary, you can later obtain the value using just the key.\n",
    "<br><br>\n",
    "For example, consider the Phone lookup where it is very easy and fast to find the phone number(value) when we know the name(Key) associated with it..\n",
    "<br><br>\n",
    "<img src='https://www.learnbyexample.org/wp-content/uploads/python/Dictionary-Key-Value-Pairs-Illustration.png'>\n",
    "<br><br>\n",
    "<li><font style=\"color:#FF5733\">Keys must be unique : </font>A key can appear in a dictionary only once.</li>\n",
    "<br>\n",
    "<li><font style=\"color:#FF5733\">Key must be immutable type : </font>such as numbers, strings, booleans or tuples.</li>\n",
    "<br>\n",
    "<li>A dictionary value can be of any type, and duplicates are allowed in that.</li>"
   ]
  },
  {
   "cell_type": "code",
   "execution_count": 65,
   "metadata": {},
   "outputs": [
    {
     "name": "stdout",
     "output_type": "stream",
     "text": [
      "{'name': 'Jane', 'age': 26}\n"
     ]
    }
   ],
   "source": [
    "#Keys Must Be Unquie\n",
    "#Even if you specify a key more than once during the creation of a dictionary, \n",
    "#the last value for that key becomes the associated value.\n",
    "\n",
    "D = {'name': 'Bob','age': 25,\n",
    "     'name': 'Jane','age':26}\n",
    "print(D)"
   ]
  },
  {
   "cell_type": "code",
   "execution_count": 66,
   "metadata": {},
   "outputs": [
    {
     "name": "stdout",
     "output_type": "stream",
     "text": [
      "{(2, 2): 25, True: 'a', 'name': 'Bob'}\n"
     ]
    }
   ],
   "source": [
    "#Key must be immutable type:\n",
    "D = {(2,2): 25,\n",
    "     True: 'a',\n",
    "     'name': 'Bob'}\n",
    "print(D)"
   ]
  },
  {
   "cell_type": "code",
   "execution_count": 68,
   "metadata": {},
   "outputs": [
    {
     "ename": "TypeError",
     "evalue": "unhashable type: 'set'",
     "output_type": "error",
     "traceback": [
      "\u001b[1;31m---------------------------------------------------------------------------\u001b[0m",
      "\u001b[1;31mTypeError\u001b[0m                                 Traceback (most recent call last)",
      "\u001b[1;32m<ipython-input-68-1f427633522b>\u001b[0m in \u001b[0;36m<module>\u001b[1;34m\u001b[0m\n\u001b[0;32m      1\u001b[0m \u001b[1;31m#Key must be immutable type:\u001b[0m\u001b[1;33m\u001b[0m\u001b[1;33m\u001b[0m\u001b[1;33m\u001b[0m\u001b[0m\n\u001b[1;32m----> 2\u001b[1;33m D = {{2,2}: 25,\n\u001b[0m\u001b[0;32m      3\u001b[0m      \u001b[1;32mTrue\u001b[0m\u001b[1;33m:\u001b[0m \u001b[1;34m'a'\u001b[0m\u001b[1;33m,\u001b[0m\u001b[1;33m\u001b[0m\u001b[1;33m\u001b[0m\u001b[0m\n\u001b[0;32m      4\u001b[0m      'name': 'Bob'}\n\u001b[0;32m      5\u001b[0m \u001b[0mprint\u001b[0m\u001b[1;33m(\u001b[0m\u001b[0mD\u001b[0m\u001b[1;33m)\u001b[0m\u001b[1;33m\u001b[0m\u001b[1;33m\u001b[0m\u001b[0m\n",
      "\u001b[1;31mTypeError\u001b[0m: unhashable type: 'set'"
     ]
    }
   ],
   "source": [
    "#Key must be immutable type:\n",
    "D = {{2,2}: 25,\n",
    "     True: 'a',\n",
    "     'name': 'Bob'}\n",
    "print(D)"
   ]
  },
  {
   "cell_type": "code",
   "execution_count": 69,
   "metadata": {},
   "outputs": [
    {
     "name": "stdout",
     "output_type": "stream",
     "text": [
      "{'a': [1, 2, 3], 'b': {1, 2, 3}}\n",
      "{'a': [1, 2], 'b': [1, 2], 'c': [1, 2]}\n"
     ]
    }
   ],
   "source": [
    "#Value can be of any type\n",
    "#Values of different datatypes\n",
    "D = {'a':[1,2,3],\n",
    "     'b':{1,2,3}}\n",
    "print(D)\n",
    "\n",
    "# duplicate values\n",
    "D = {'a':[1,2],\n",
    "     'b':[1,2],\n",
    "     'c':[1,2]}\n",
    "print(D)"
   ]
  },
  {
   "cell_type": "markdown",
   "metadata": {},
   "source": [
    "<b><h3 style=\"color:#6833FF;\" >Accessing Elements Of A Dictionary</h3><br>\n",
    "There are two different ways to access the elements of a dictionary.<br><br>\n",
    "<li>Retrieve value using the key name inside the [  ] square brackets</li><br>\n",
    "<li>Retrieve value by passing key name as a parameter to the get ( ) method of a dictionary.</li><br>\n",
    "If we use the square brackets [  ], KeyError is raised in case a key is not found in the dictionary.<br><br>\n",
    "On the other hand, the get ( ) method returns None if the key is not found."
   ]
  },
  {
   "cell_type": "code",
   "execution_count": 70,
   "metadata": {},
   "outputs": [
    {
     "name": "stdout",
     "output_type": "stream",
     "text": [
      "Jack\n",
      "26\n",
      "None\n"
     ]
    },
    {
     "ename": "KeyError",
     "evalue": "'address'",
     "output_type": "error",
     "traceback": [
      "\u001b[1;31m---------------------------------------------------------------------------\u001b[0m",
      "\u001b[1;31mKeyError\u001b[0m                                  Traceback (most recent call last)",
      "\u001b[1;32m<ipython-input-70-2ec6dc01caba>\u001b[0m in \u001b[0;36m<module>\u001b[1;34m\u001b[0m\n\u001b[0;32m     13\u001b[0m \u001b[1;33m\u001b[0m\u001b[0m\n\u001b[0;32m     14\u001b[0m \u001b[1;31m# KeyError\u001b[0m\u001b[1;33m\u001b[0m\u001b[1;33m\u001b[0m\u001b[1;33m\u001b[0m\u001b[0m\n\u001b[1;32m---> 15\u001b[1;33m \u001b[0mprint\u001b[0m\u001b[1;33m(\u001b[0m\u001b[0mmy_dict\u001b[0m\u001b[1;33m[\u001b[0m\u001b[1;34m'address'\u001b[0m\u001b[1;33m]\u001b[0m\u001b[1;33m)\u001b[0m\u001b[1;33m\u001b[0m\u001b[1;33m\u001b[0m\u001b[0m\n\u001b[0m",
      "\u001b[1;31mKeyError\u001b[0m: 'address'"
     ]
    }
   ],
   "source": [
    "# get vs [] for retrieving elements\n",
    "my_dict = {'name': 'Jack', 'age': 26}\n",
    "\n",
    "# Output: Jack\n",
    "print(my_dict['name'])\n",
    "\n",
    "# Output: 26\n",
    "print(my_dict.get('age'))\n",
    "\n",
    "# Trying to access keys which doesn't exist throws error\n",
    "# Output None\n",
    "print(my_dict.get('address'))\n",
    "\n",
    "# KeyError\n",
    "print(my_dict['address'])"
   ]
  },
  {
   "cell_type": "code",
   "execution_count": 42,
   "metadata": {},
   "outputs": [
    {
     "name": "stdout",
     "output_type": "stream",
     "text": [
      "Student 3 name: Kelly\n",
      "Student 3 marks: 85\n"
     ]
    }
   ],
   "source": [
    "#Retreving Values from Nested Dict\n",
    "# each dictionary will store data of a single student\n",
    "jessa = {'name': 'Jessa', 'state': 'Texas', 'city': 'Houston', 'marks': 75}\n",
    "emma = {'name': 'Emma', 'state': 'Texas', 'city': 'Dallas', 'marks': 60}\n",
    "kelly = {'name': 'Kelly', 'state': 'Texas', 'city': 'Austin', 'marks': 85}\n",
    "\n",
    "# Outer dictionary to store all student dictionaries (nested dictionaries)\n",
    "class_six = {'student1': jessa, 'student2': emma, 'student3': kelly}\n",
    "\n",
    "# Get student3's name and mark\n",
    "print(\"Student 3 name:\", class_six['student3']['name'])\n",
    "print(\"Student 3 marks:\", class_six['student3']['marks'])"
   ]
  },
  {
   "cell_type": "markdown",
   "metadata": {},
   "source": [
    "<b><h3 style=\"color:#6833FF;\" >Get all keys and values</h3><br>\n",
    "Use the following dictionary methods to retrieve all key and values at once :\n",
    "<br><br>\n",
    "    <li><font style=\"color:#FF5733\">keys ( )\t: </font>Returns the list of all keys present in the dictionary.</li><br>\n",
    "<li><font style=\"color:#FF5733\">values ( ) : </font>Returns the list of all values present in the dictionary</li><br>\n",
    "<li><font style=\"color:#FF5733\">items ( ) : </font>Returns all the items present in the dictionary. Each item will be inside a tuple as a key-value pair.</li><br>"
   ]
  },
  {
   "cell_type": "code",
   "execution_count": 24,
   "metadata": {},
   "outputs": [
    {
     "name": "stdout",
     "output_type": "stream",
     "text": [
      "dict_keys(['name', 'country', 'telephone']) --> <class 'dict_keys'>\n",
      "\n",
      "dict_values(['Jessa', 'USA', 1178]) --> <class 'dict_values'>\n",
      "\n",
      "dict_items([('name', 'Jessa'), ('country', 'USA'), ('telephone', 1178)]) --> <class 'dict_items'>\n"
     ]
    }
   ],
   "source": [
    "person = {\"name\": \"Jessa\", \"country\": \"USA\", \"telephone\": 1178}\n",
    "\n",
    "# Get all keys\n",
    "print(person.keys(),\"-->\",type(person.keys()))\n",
    "print()\n",
    "\n",
    "# Get all values\n",
    "print(person.values(),\"-->\",type(person.values()))\n",
    "print()\n",
    "\n",
    "# Get all key-value pair\n",
    "print(person.items(),\"-->\",type(person.items()))\n"
   ]
  },
  {
   "cell_type": "markdown",
   "metadata": {},
   "source": [
    "<b><h3 style=\"color:#6833FF;\" >Iterate Over A Dictionary In Python</h3>"
   ]
  },
  {
   "cell_type": "code",
   "execution_count": 25,
   "metadata": {},
   "outputs": [],
   "source": [
    "#Dict of States and Dicts\n",
    " \n",
    "statesAndCapitals = {\n",
    "    'Gujarat': 'Gandhinagar',\n",
    "    'Maharashtra': 'Mumbai',\n",
    "    'Rajasthan': 'Jaipur',\n",
    "    'Bihar': 'Patna'\n",
    "}"
   ]
  },
  {
   "cell_type": "code",
   "execution_count": 26,
   "metadata": {},
   "outputs": [
    {
     "name": "stdout",
     "output_type": "stream",
     "text": [
      "List Of given states:\n",
      "\n",
      "Gujarat\n",
      "Maharashtra\n",
      "Rajasthan\n",
      "Bihar\n"
     ]
    }
   ],
   "source": [
    "#Iterate through all keys in a dictionary\n",
    "\n",
    "print('List Of given states:\\n')\n",
    " \n",
    "# Iterating over keys\n",
    "for state in statesAndCapitals:\n",
    "    print(state)"
   ]
  },
  {
   "cell_type": "code",
   "execution_count": 27,
   "metadata": {},
   "outputs": [
    {
     "name": "stdout",
     "output_type": "stream",
     "text": [
      "List Of given capitals:\n",
      "\n",
      "Gandhinagar\n",
      "Mumbai\n",
      "Jaipur\n",
      "Patna\n"
     ]
    }
   ],
   "source": [
    "#Iterate through all Values in a dictionary\n",
    "\n",
    "print('List Of given capitals:\\n')\n",
    " \n",
    "# Iterating over values\n",
    "for capital in statesAndCapitals.values():\n",
    "    print(capital)"
   ]
  },
  {
   "cell_type": "code",
   "execution_count": 28,
   "metadata": {},
   "outputs": [
    {
     "name": "stdout",
     "output_type": "stream",
     "text": [
      "List Of given states and their capitals:\n",
      "\n",
      "Gujarat : Gandhinagar\n",
      "Maharashtra : Mumbai\n",
      "Rajasthan : Jaipur\n",
      "Bihar : Patna\n"
     ]
    }
   ],
   "source": [
    "#Iterate through all key, value pairs in a dictionary\n",
    "\n",
    "print('List Of given states and their capitals:\\n')\n",
    " \n",
    "# Iterating over key and values\n",
    "for state, capital in statesAndCapitals.items():\n",
    "    print(state, \":\", capital)"
   ]
  },
  {
   "cell_type": "code",
   "execution_count": 29,
   "metadata": {},
   "outputs": [
    {
     "name": "stdout",
     "output_type": "stream",
     "text": [
      "List Of given states and their capitals:\n",
      "\n",
      "Gujarat -> Gandhinagar\n",
      "Maharashtra -> Mumbai\n",
      "Rajasthan -> Jaipur\n",
      "Bihar -> Patna\n"
     ]
    }
   ],
   "source": [
    "#Iterate through all key, value pairs in a dictionary\n",
    "\n",
    "print('List Of given states and their capitals:\\n')\n",
    " \n",
    "# Iterating over key and values\n",
    "for i in statesAndCapitals:\n",
    "    print(i, '->', statesAndCapitals[i])"
   ]
  },
  {
   "cell_type": "code",
   "execution_count": 41,
   "metadata": {},
   "outputs": [
    {
     "name": "stdout",
     "output_type": "stream",
     "text": [
      "person: {'name': 'Jessa', 'company': 'Google', 'address': {'state': 'Texas', 'city': 'Houston'}}\n",
      "City: Houston\n",
      "\n",
      "Person details\n",
      "\n",
      "name : Jessa\n",
      "company : Google\n",
      "Person Address\n",
      "state : Texas\n",
      "city : Houston\n"
     ]
    }
   ],
   "source": [
    "#iterate through Nested Dictonary\n",
    "# address dictionary to store person address\n",
    "address = {\"state\": \"Texas\", 'city': 'Houston'}\n",
    "\n",
    "# dictionary to store person details with address as a nested dictionary\n",
    "person = {'name': 'Jessa', 'company': 'Google', 'address': address}\n",
    "\n",
    "# Display dictionary\n",
    "print(\"person:\", person)\n",
    "\n",
    "# Get nested dictionary key 'city'\n",
    "print(\"City:\", person['address']['city'])\n",
    "print()\n",
    "# Iterating outer dictionary\n",
    "print(\"Person details\")\n",
    "print()\n",
    "for key, value in person.items():\n",
    "    if key == 'address':\n",
    "        # Iterating through nested dictionary\n",
    "        print(\"Person Address\")\n",
    "        for nested_key, nested_value in value.items():\n",
    "            print(nested_key, ':', nested_value)\n",
    "    else:\n",
    "        print(key, ':', value)"
   ]
  },
  {
   "cell_type": "markdown",
   "metadata": {},
   "source": [
    "<b><h3 style=\"color:#6833FF;\" >Adding items to the dictionary</h3><br>\n",
    "We can add new items to the dictionary using the following two ways : <br><br>\n",
    "<li><font style=\"color:#FF33F2\">Using key-value assignment : </font> Using a simple assignment statement where value can be assigned directly to the new key. </li><br>\n",
    "<li><font style=\"color:#FF33F2\">Using update( ) Method : </font> In this method, the item passed inside the update() method will be inserted into the dictionary</li><br>"
   ]
  },
  {
   "cell_type": "code",
   "execution_count": 31,
   "metadata": {},
   "outputs": [
    {
     "name": "stdout",
     "output_type": "stream",
     "text": [
      "{'name': 'Jessa', 'country': 'USA', 'telephone': 1178, 'weight': 50, 'height': 6}\n"
     ]
    }
   ],
   "source": [
    "person = {\"name\": \"Jessa\", 'country': \"USA\", \"telephone\": 1178}\n",
    "\n",
    "# update dictionary by adding 2 new keys\n",
    "person[\"weight\"] = 50\n",
    "person.update({\"height\": 6})\n",
    "\n",
    "# print the updated dictionary\n",
    "print(person)"
   ]
  },
  {
   "cell_type": "code",
   "execution_count": 32,
   "metadata": {},
   "outputs": [
    {
     "name": "stdout",
     "output_type": "stream",
     "text": [
      "{'name': 'Jessa', 'country': 'USA', 'weight': 50, 'height': 6}\n",
      "{'name': 'Jessa', 'country': 'USA', 'weight': 50, 'height': 6, 'city': 'Texas', 'company': 'Google'}\n"
     ]
    }
   ],
   "source": [
    "#We can also add more than one key using the update() method.\n",
    "\n",
    "person = {\"name\": \"Jessa\", 'country': \"USA\"}\n",
    "\n",
    "# Adding 2 new keys at once pass new keys as dict\n",
    "person.update({\"weight\": 50, \"height\": 6})\n",
    "print(person)\n",
    "\n",
    "#The item can be another dictionary or any iterable like a tuple of key-value pairs.\n",
    "# pass new keys as as list of tuple\n",
    "person.update([(\"city\", \"Texas\"), (\"company\", \"Google\",)])\n",
    "print(person)"
   ]
  },
  {
   "cell_type": "code",
   "execution_count": 33,
   "metadata": {},
   "outputs": [
    {
     "name": "stdout",
     "output_type": "stream",
     "text": [
      "name : Jessa\n",
      "country : USA\n",
      "telephone : 1178\n",
      "state : Texas\n",
      "zip : None\n"
     ]
    }
   ],
   "source": [
    "#Set default value to a key\n",
    "person_details = {\"name\": \"Jessa\", \"country\": \"USA\", \"telephone\": 1178}\n",
    "\n",
    "# set default value if key doesn't exists\n",
    "person_details.setdefault('state', 'Texas')\n",
    "\n",
    "# key doesn't exists and value not mentioned. default None\n",
    "person_details.setdefault(\"zip\")\n",
    "\n",
    "# key exists and value mentioned. doesn't  change value\n",
    "person_details.setdefault('country', 'Canada')\n",
    "\n",
    "# Display dictionary\n",
    "for key, value in person_details.items():\n",
    "    print(key, ':', value)"
   ]
  },
  {
   "cell_type": "markdown",
   "metadata": {},
   "source": [
    "<b><h3 style=\"color:#6833FF;\" >Modify The Values Of The Dictionary Keys</h3><br>\n",
    "We can modify the values of the existing dictionary keys using the following two ways : <br><br>\n",
    "    \n",
    "<li><font style=\"color:#FF33F2\">Using key name  </font>We can directly assign new values by using its key name</li><br>\n",
    "<li><font style=\"color:#FF33F2\">Using update ( ) method:</font> We can use the update method by passing the key-value pair to change the value.</li>"
   ]
  },
  {
   "cell_type": "code",
   "execution_count": 34,
   "metadata": {},
   "outputs": [
    {
     "name": "stdout",
     "output_type": "stream",
     "text": [
      "Canada\n",
      "USA\n"
     ]
    }
   ],
   "source": [
    "person = {\"name\": \"Jessa\", \"country\": \"USA\"}\n",
    "\n",
    "# updating the country name\n",
    "person[\"country\"] = \"Canada\"\n",
    "print(person['country'])\n",
    "\n",
    "# updating the country name using update() method\n",
    "person.update({\"country\": \"USA\"})\n",
    "print(person['country'])"
   ]
  },
  {
   "cell_type": "markdown",
   "metadata": {},
   "source": [
    "<b><h3 style=\"color:#6833FF;\" >Removing items from the dictionary</h3><br>\n",
    "    <li><font style=\"color:#FF33F2\">pop (key)</font> - Return and removes the item with the key and return its value</li><br>\n",
    "    <li><font style=\"color:#FF33F2\">popitem ( )</font> - Return and removes the last inserted item from the dictionary</li><br>\n",
    "    <li><font style=\"color:#FF33F2\">del key</font> - The del keyword will delete the item with the key that is passed</li><br>\n",
    "    <li><font style=\"color:#FF33F2\">clear ( )</font> - Removes all items from the dictionary. Empty the dictionary</li><br>\n",
    "    <li><font style=\"color:#FF33F2\">del dict_name</font> - Delete the entire dictionary</li>"
   ]
  },
  {
   "cell_type": "code",
   "execution_count": 71,
   "metadata": {},
   "outputs": [
    {
     "name": "stdout",
     "output_type": "stream",
     "text": [
      "('height', 6)\n",
      "{'name': 'Jessa', 'country': 'USA', 'telephone': 1178, 'weight': 50}\n",
      "\n",
      "1178\n",
      "{'name': 'Jessa', 'country': 'USA', 'weight': 50}\n",
      "\n",
      "{'name': 'Jessa', 'country': 'USA'}\n",
      "{}\n"
     ]
    },
    {
     "ename": "NameError",
     "evalue": "name 'person' is not defined",
     "output_type": "error",
     "traceback": [
      "\u001b[1;31m---------------------------------------------------------------------------\u001b[0m",
      "\u001b[1;31mNameError\u001b[0m                                 Traceback (most recent call last)",
      "\u001b[1;32m<ipython-input-71-547576c3a80f>\u001b[0m in \u001b[0;36m<module>\u001b[1;34m\u001b[0m\n\u001b[0;32m     26\u001b[0m \u001b[1;31m# Delete the entire dictionary\u001b[0m\u001b[1;33m\u001b[0m\u001b[1;33m\u001b[0m\u001b[1;33m\u001b[0m\u001b[0m\n\u001b[0;32m     27\u001b[0m \u001b[1;32mdel\u001b[0m \u001b[0mperson\u001b[0m\u001b[1;33m\u001b[0m\u001b[1;33m\u001b[0m\u001b[0m\n\u001b[1;32m---> 28\u001b[1;33m \u001b[0mprint\u001b[0m\u001b[1;33m(\u001b[0m\u001b[0mperson\u001b[0m\u001b[1;33m)\u001b[0m\u001b[1;33m\u001b[0m\u001b[1;33m\u001b[0m\u001b[0m\n\u001b[0m",
      "\u001b[1;31mNameError\u001b[0m: name 'person' is not defined"
     ]
    }
   ],
   "source": [
    "person = {'name': 'Jessa', 'country': 'USA', 'telephone': 1178, 'weight': 50, 'height': 6}\n",
    "\n",
    "# Remove last inserted item from the dictionary\n",
    "deleted_item = person.popitem()\n",
    "print(deleted_item)  # output ('height', 6)\n",
    "print(person)  \n",
    "print()\n",
    "\n",
    "\n",
    "# Remove key 'telephone' from the dictionary\n",
    "deleted_item = person.pop('telephone')\n",
    "#deleted_item = person.pop('zip') --> Throws Error As Key Doesnt Exists\n",
    "print(deleted_item)  # output 1178\n",
    "print(person)  \n",
    "print()\n",
    "\n",
    "# delete key 'weight'\n",
    "del person['weight']\n",
    "print(person)\n",
    "\n",
    "# remove all item (key-values) from dict\n",
    "person.clear()\n",
    "print(person)  # {}\n",
    "#person.popitem() - Throws Error As Dict is Empty\n",
    "\n",
    "# Delete the entire dictionary\n",
    "del person\n",
    "print(person)"
   ]
  },
  {
   "cell_type": "markdown",
   "metadata": {},
   "source": [
    "<b><h3 style=\"color:#6833FF;\" >Join two dictionary</h3><br>\n",
    "We can add two dictionaries using : <br><br>\n",
    "    <li><font style=\"color:#FF33F2\">The update ( ) method</font></li><br>\n",
    "\n",
    "<li><font style=\"color:#FF33F2\">Unpacking arbitrary keywords operator **</font></li>"
   ]
  },
  {
   "cell_type": "code",
   "execution_count": 43,
   "metadata": {},
   "outputs": [
    {
     "name": "stdout",
     "output_type": "stream",
     "text": [
      "{'Jessa': 70, 'Arul': 80, 'Emma': 55, 'Kelly': 68, 'Harry': 50, 'Olivia': 66}\n"
     ]
    }
   ],
   "source": [
    "#The dictionary to be added will be passed as the argument to the update() method \n",
    "#and the updated dictionary will have items of both the dictionaries.\n",
    "\n",
    "dict1 = {'Jessa': 70, 'Arul': 80, 'Emma': 55}\n",
    "dict2 = {'Kelly': 68, 'Harry': 50, 'Olivia': 66}\n",
    "\n",
    "# copy second dictionary into first dictionary\n",
    "dict1.update(dict2)\n",
    "# printing the updated dictionary\n",
    "print(dict1)"
   ]
  },
  {
   "cell_type": "code",
   "execution_count": 44,
   "metadata": {},
   "outputs": [
    {
     "name": "stdout",
     "output_type": "stream",
     "text": [
      "{'Aadya': 1, 'Arul': 2, 'Harry': 5, 'Olivia': 6, 'Nancy': 7, 'Perry': 9}\n"
     ]
    }
   ],
   "source": [
    "#We can unpack any number of dictionary and add their contents to another dictionary using **kwargs\n",
    "student_dict1 = {'Aadya': 1, 'Arul': 2, }\n",
    "student_dict2 = {'Harry': 5, 'Olivia': 6}\n",
    "student_dict3 = {'Nancy': 7, 'Perry': 9}\n",
    "\n",
    "# join three dictionaries \n",
    "student_dict = {**student_dict1, **student_dict2, **student_dict3}\n",
    "# printing the final Merged dictionary\n",
    "print(student_dict)"
   ]
  },
  {
   "cell_type": "code",
   "execution_count": 45,
   "metadata": {},
   "outputs": [
    {
     "name": "stdout",
     "output_type": "stream",
     "text": [
      "66\n"
     ]
    }
   ],
   "source": [
    "# Join two dictionaries having few keys in common\n",
    "dict1 = {'Jessa': 70, 'Arul': 80, 'Emma': 55}\n",
    "dict2 = {'Kelly': 68, 'Harry': 50, 'Emma': 66}\n",
    "\n",
    "# join two dictionaries with some common items\n",
    "dict1.update(dict2)\n",
    "# printing the updated dictionary\n",
    "print(dict1['Emma'])"
   ]
  },
  {
   "cell_type": "markdown",
   "metadata": {},
   "source": [
    "<b><h3 style=\"color:#6833FF;\" >Copy a Dictionary</h3><br>\n",
    "    <li>Using <font style=\"color:#FF33F2\">copy ( ) </font>method.</li><br>\n",
    "    <li>Using the <font style=\"color:#FF33F2\">dict ( )</font>constructor </li>"
   ]
  },
  {
   "cell_type": "code",
   "execution_count": 46,
   "metadata": {},
   "outputs": [
    {
     "name": "stdout",
     "output_type": "stream",
     "text": [
      "{'Jessa': 70, 'Emma': 55}\n",
      "{'Jessa': 70, 'Emma': 55}\n",
      "{'Jessa': 70, 'Emma': 55}\n"
     ]
    }
   ],
   "source": [
    "dict1 = {'Jessa': 70, 'Emma': 55}\n",
    "\n",
    "# Copy dictionary using copy() method\n",
    "dict2 = dict1.copy()\n",
    "print(dict2)\n",
    "\n",
    "# Copy dictionary using dict() constructor\n",
    "dict3 = dict(dict1)\n",
    "print(dict3)\n",
    "\n",
    "# Copy dictionary using the output of items() methods\n",
    "dict4 = dict(dict1.items())\n",
    "print(dict4)"
   ]
  },
  {
   "cell_type": "code",
   "execution_count": 47,
   "metadata": {},
   "outputs": [
    {
     "name": "stdout",
     "output_type": "stream",
     "text": [
      "{'Jessa': 90, 'Emma': 55}\n",
      "{'Jessa': 90, 'Emma': 55}\n"
     ]
    }
   ],
   "source": [
    "#Copy using the assignment operator\n",
    "# When you set dict2 = dict1, you are making them refer to the same dict object\n",
    "\n",
    "dict1 = {'Jessa': 70, 'Emma': 55}\n",
    "\n",
    "# Copy dictionary using assignment = operator\n",
    "dict2 = dict1\n",
    "\n",
    "# modify dict2\n",
    "dict2.update({'Jessa': 90})\n",
    "\n",
    "print(dict2)\n",
    "print(dict1)"
   ]
  },
  {
   "cell_type": "markdown",
   "metadata": {},
   "source": [
    "<b><h3 style=\"color:#6833FF;\" >Checking if a key exists</h3>"
   ]
  },
  {
   "cell_type": "code",
   "execution_count": 48,
   "metadata": {},
   "outputs": [
    {
     "name": "stdout",
     "output_type": "stream",
     "text": [
      "country name is USA\n"
     ]
    }
   ],
   "source": [
    "person = {'name': 'Jessa', 'country': 'USA', 'telephone': 1178}\n",
    "\n",
    "# Get the list of keys and check if 'country' key is present\n",
    "key_name = 'country'\n",
    "if key_name in person.keys():\n",
    "    print(\"country name is\", person[key_name])\n",
    "else:\n",
    "    print(\"Key not found\")"
   ]
  },
  {
   "cell_type": "markdown",
   "metadata": {},
   "source": [
    "<b><h3 style=\"color:#6833FF;\" >Sort dictionary</h3>"
   ]
  },
  {
   "cell_type": "code",
   "execution_count": 49,
   "metadata": {},
   "outputs": [
    {
     "name": "stdout",
     "output_type": "stream",
     "text": [
      "['a', 'b', 'c']\n",
      "[('a', 35), ('b', 95), ('c', 45)]\n",
      "[35, 45, 95]\n"
     ]
    }
   ],
   "source": [
    "#The built-in method sorted() will sort the keys in the dictionary and returns a sorted list\n",
    "\n",
    "dict1 = {'c': 45, 'b': 95, 'a': 35}\n",
    "\n",
    "# sort dict keys\n",
    "print(sorted(dict1))\n",
    "\n",
    "# sorting dictionary by keys\n",
    "print(sorted(dict1.items()))\n",
    "\n",
    "# sort dictionary values\n",
    "print(sorted(dict1.values()))"
   ]
  },
  {
   "cell_type": "markdown",
   "metadata": {},
   "source": [
    "<b><h3 style=\"color:#6833FF;\" >Python Built-in functions with dictionary</h3>"
   ]
  },
  {
   "cell_type": "code",
   "execution_count": 50,
   "metadata": {},
   "outputs": [
    {
     "name": "stdout",
     "output_type": "stream",
     "text": [
      "Maximum Key 3\n",
      "Minimum Key 1\n"
     ]
    }
   ],
   "source": [
    "#max() and min()\n",
    "myDict = {1:'aaa',2:'bbb',3:'AAA'}\n",
    "print('Maximum Key',max(myDict)) # 3\n",
    "print('Minimum Key',min(myDict)) # 1"
   ]
  },
  {
   "cell_type": "code",
   "execution_count": 52,
   "metadata": {},
   "outputs": [
    {
     "name": "stdout",
     "output_type": "stream",
     "text": [
      "All True Keys :  True\n",
      "One False Key with all :  False\n",
      "One False Key with any :  True\n"
     ]
    }
   ],
   "source": [
    "#any() and all()\n",
    "\n",
    "#dictionary with both 'true' keys\n",
    "dict1 = {1:'True',1:'False'}\n",
    "\n",
    "#dictionary with one false key\n",
    "dict2 = {0:'True',1:'False'}\n",
    "\n",
    "print('All True Keys : ',all(dict1))\n",
    "print('One False Key with all : ',all(dict2))\n",
    "print('One False Key with any : ',any(dict2))"
   ]
  },
  {
   "cell_type": "markdown",
   "metadata": {},
   "source": [
    "<b><h3 style=\"color:#FFC300;\" >Dictionary Comprehension</h3><br>"
   ]
  },
  {
   "cell_type": "code",
   "execution_count": 53,
   "metadata": {},
   "outputs": [
    {
     "name": "stdout",
     "output_type": "stream",
     "text": [
      "{1: 1, 2: 4, 3: 9, 4: 16, 5: 25, 6: 36, 7: 49, 8: 64, 9: 81, 10: 100}\n"
     ]
    }
   ],
   "source": [
    "square_dict = dict()\n",
    "for num in range(1, 11):\n",
    "    square_dict[num] = num*num\n",
    "print(square_dict)"
   ]
  },
  {
   "attachments": {},
   "cell_type": "markdown",
   "metadata": {},
   "source": [
    "<img src='https://cdn.programiz.com/sites/tutorial2program/files/Python-dictionary-comprehension.png'>"
   ]
  },
  {
   "cell_type": "code",
   "execution_count": 54,
   "metadata": {},
   "outputs": [
    {
     "name": "stdout",
     "output_type": "stream",
     "text": [
      "{1: 1, 2: 4, 3: 9, 4: 16, 5: 25, 6: 36, 7: 49, 8: 64, 9: 81, 10: 100}\n"
     ]
    }
   ],
   "source": [
    "# dictionary comprehension \n",
    "square_dict = {num: num*num for num in range(1, 11)}\n",
    "print(square_dict)"
   ]
  },
  {
   "cell_type": "code",
   "execution_count": 55,
   "metadata": {},
   "outputs": [
    {
     "name": "stdout",
     "output_type": "stream",
     "text": [
      "{'milk': 0.7752, 'coffee': 1.9, 'bread': 1.9}\n"
     ]
    }
   ],
   "source": [
    "#item price in dollars\n",
    "old_price = {'milk': 1.02, 'coffee': 2.5, 'bread': 2.5}\n",
    "\n",
    "dollar_to_pound = 0.76\n",
    "new_price = {item: value*dollar_to_pound for (item, value) in old_price.items()}\n",
    "print(new_price)"
   ]
  },
  {
   "cell_type": "code",
   "execution_count": 56,
   "metadata": {},
   "outputs": [
    {
     "name": "stdout",
     "output_type": "stream",
     "text": [
      "{'jack': 38, 'michael': 48}\n"
     ]
    }
   ],
   "source": [
    "#If Conditional Dictionary Comprehension\n",
    "original_dict = {'jack': 38, 'michael': 48, 'guido': 57, 'john': 33}\n",
    "\n",
    "even_dict = {k: v for (k, v) in original_dict.items() if v % 2 == 0}\n",
    "print(even_dict)"
   ]
  },
  {
   "cell_type": "code",
   "execution_count": 57,
   "metadata": {},
   "outputs": [
    {
     "name": "stdout",
     "output_type": "stream",
     "text": [
      "{'john': 33}\n"
     ]
    }
   ],
   "source": [
    "#Multiple if Conditional Dictionary Comprehension\n",
    "original_dict = {'jack': 38, 'michael': 48, 'guido': 57, 'john': 33}\n",
    "\n",
    "new_dict = {k: v for (k, v) in original_dict.items() if v % 2 != 0 if v < 40}\n",
    "print(new_dict)"
   ]
  },
  {
   "cell_type": "code",
   "execution_count": 58,
   "metadata": {},
   "outputs": [
    {
     "name": "stdout",
     "output_type": "stream",
     "text": [
      "{'jack': 'young', 'michael': 'old', 'guido': 'old', 'john': 'young'}\n"
     ]
    }
   ],
   "source": [
    "# if-else Conditional Dictionary Comprehension\n",
    "\n",
    "original_dict = {'jack': 38, 'michael': 48, 'guido': 57, 'john': 33}\n",
    "\n",
    "new_dict_1 = {k: ('old' if v > 40 else 'young') for (k, v) in original_dict.items()}\n",
    "print(new_dict_1)"
   ]
  },
  {
   "cell_type": "code",
   "execution_count": 59,
   "metadata": {},
   "outputs": [
    {
     "name": "stdout",
     "output_type": "stream",
     "text": [
      "{2: {1: 2, 2: 4, 3: 6, 4: 8, 5: 10}, 3: {1: 3, 2: 6, 3: 9, 4: 12, 5: 15}, 4: {1: 4, 2: 8, 3: 12, 4: 16, 5: 20}}\n"
     ]
    }
   ],
   "source": [
    "# Nested Dictionary Comprehension\n",
    "dictionary = {\n",
    "    k1: {k2: k1 * k2 for k2 in range(1, 6)} for k1 in range(2, 5)\n",
    "}\n",
    "print(dictionary)"
   ]
  },
  {
   "cell_type": "code",
   "execution_count": 61,
   "metadata": {},
   "outputs": [
    {
     "name": "stdout",
     "output_type": "stream",
     "text": [
      "{2: {1: 2, 2: 4, 3: 6, 4: 8, 5: 10}, 3: {1: 3, 2: 6, 3: 9, 4: 12, 5: 15}, 4: {1: 4, 2: 8, 3: 12, 4: 16, 5: 20}}\n"
     ]
    }
   ],
   "source": [
    "#the above code would be equivalent to:\n",
    "dictionary = dict()\n",
    "for k1 in range(2, 5):\n",
    "    dictionary[k1] = {k2: k1*k2 for k2 in range(1, 6)}\n",
    "print(dictionary)"
   ]
  },
  {
   "cell_type": "code",
   "execution_count": 62,
   "metadata": {},
   "outputs": [
    {
     "name": "stdout",
     "output_type": "stream",
     "text": [
      "{2: {1: 2, 2: 4, 3: 6, 4: 8, 5: 10}, 3: {1: 3, 2: 6, 3: 9, 4: 12, 5: 15}, 4: {1: 4, 2: 8, 3: 12, 4: 16, 5: 20}}\n"
     ]
    }
   ],
   "source": [
    "#It can further be unfolded:\n",
    "dictionary = dict()\n",
    "for k1 in range(2,5):\n",
    "    dictionary[k1] = dict()\n",
    "    for k2 in range(1, 6):\n",
    "        dictionary[k1][k2] = k1*k2\n",
    "print(dictionary)"
   ]
  },
  {
   "cell_type": "markdown",
   "metadata": {},
   "source": [
    "<b><h2>When to use dictionaries ? : </h2> <br>\n",
    "    \n",
    "<br>\n",
    "<li>Python dictionaries allow us to associate a value to a unique key, and then to quickly access this value. It’s a good idea to use them whenever we want to find (lookup for) a certain Python object. We can also use lists for this scope, but they are much slower than dictionaries.</li><br>\n",
    "<li>This speed is due to the fact that dictionary keys are hashable. Every immutable object in Python is hashable, so we can pass it to the hash() function, which will return the hash value of this object. These values are then used to lookup for a value associated with its unique key. </li>"
   ]
  },
  {
   "cell_type": "markdown",
   "metadata": {},
   "source": [
    "<b><h3>Python Interview Questions on Dictionaries</h3><br>\n",
    "<li>What is a Python dictionary ? How does it work ?</li><br>\n",
    "<li>What’s the difference between list.pop( ) and dictionary.pop( )</li><br>\n",
    "<li>What python object do you cast to a dataframe ?</li><br>\n",
    "<li>How dicts are better than lists ?</li><br>\n",
    "<li>What are properties of python dicts ?</li><br>"
   ]
  },
  {
   "cell_type": "markdown",
   "metadata": {},
   "source": [
    "<h4> To-Do: </h4><br>\n",
    "<ol>\n",
    "<b>\n",
    "<li>Write a Python function to interchange Keys and Values  in a Dictionaries</li><br>\n",
    "<li>Write a Python function to get min and max keys corresponding to min and max value in Dictionary</li><br>\n",
    "<li>Write a Python function to remove none value items from Dictionary.</li><br>\n",
    "<li>Write a Python function for Counting the frequencies of elements in a list or String using dictionary</li><br>\n",
    "<li>Write a function in Python that takes a list of integers as a parameter and returns a dictionary whose keys are the list integers and whose values are \"even\" or \"odd\" depending on the number parity.</li><br>\n",
    "<li>There are 36 possible combinations of two dice. A sim→ple pair of loops over range(6)+1 will enumerate all combinations. The sum of the two dice is more interesting than the actual combination. Create a dict of all combinations, using the sum of the two dice as the key.Each value in the dict should be a list of tuples; each tuple has the value of two dice</li><br>\n",
    "<li>Write a Python function to Check if the Substring Matches Any Key in a Dictionary</li><br>\n",
    "<li>Create a database in the following format :<br></li>\n",
    "                    Interface\t\tIP\t\t\tstatus\n",
    "\n",
    "                1\tEthernet0\t\t1.1.1.1\t\t\tup\n",
    "                2\tEthernet1\t\t2.2.2.2\t\t\tdown\n",
    "                3\tSerial0\t\t\t3.3.3.3\t\t\tup\n",
    "                4\tSerial1\t\t\t4.4.4.4\t\t\tup\n",
    "<li>Write a python program to find status of a given interface</li><br>\n",
    "<li>Write a python program to find interface and IP of all interfaces which are up</li><br>\n",
    "<li>Write a python program to count how many ethernet interfaces are there</li><br>\n",
    "<li>Write a python program to add a new entry to above database</li><br>\n",
    "<li> Write a Python Program to sort (ascending and descending) a dictionary by value. </li><br>\n",
    "    "
   ]
  },
  {
   "cell_type": "markdown",
   "metadata": {},
   "source": [
    "&copy; **Nitheesh Reddy**"
   ]
  }
 ],
 "metadata": {
  "kernelspec": {
   "display_name": "Python 3",
   "language": "python",
   "name": "python3"
  },
  "language_info": {
   "codemirror_mode": {
    "name": "ipython",
    "version": 3
   },
   "file_extension": ".py",
   "mimetype": "text/x-python",
   "name": "python",
   "nbconvert_exporter": "python",
   "pygments_lexer": "ipython3",
   "version": "3.8.5"
  }
 },
 "nbformat": 4,
 "nbformat_minor": 4
}

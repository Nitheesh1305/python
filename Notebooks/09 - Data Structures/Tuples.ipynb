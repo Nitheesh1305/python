{
 "cells": [
  {
   "cell_type": "markdown",
   "metadata": {},
   "source": [
    "<center><b><h1 style=\"color:#ff0066;\" >Python Data Structures - Tuples</h1>"
   ]
  },
  {
   "cell_type": "markdown",
   "metadata": {},
   "source": [
    "<b><h1 style=\"color:#cc33ff;\" >Tuples</h1><br>\n",
    "A tuple represents a sequence of any objects separated by commas and enclosed in parentheses(  ).<br><br>\n",
    "In some ways, a tuple is similar to a list in terms of indexing, nested objects, and repetition<br><br>\n",
    "But a tuple is immutable, unlike lists which are mutable"
   ]
  },
  {
   "cell_type": "markdown",
   "metadata": {},
   "source": [
    "<b><h2 style=\"color:#FF3333;\" >Features of Python Tuple :</h2> <br>\n",
    "    <li>The tuple is an immutable data type i.e, Tuples are not modifiable.</li><br>\n",
    "    <li>Tuples are ordered sequence which means that all the elements have a defined order</li><br>\n",
    "    <li>The element of the tuple can access by index</li><br>\n",
    "    <li>A tuple can have any number of items and they may be of different types (Heterogenous)</li><br>\n",
    "    <li>A tuple may contain duplicate values</li><br>\n",
    "    <li>Tuple are iterable.</li>"
   ]
  },
  {
   "cell_type": "markdown",
   "metadata": {},
   "source": [
    "<img src='9.png'>"
   ]
  },
  {
   "cell_type": "markdown",
   "metadata": {},
   "source": [
    "<b><h3 style=\"color:#6833FF;\" >Creating a Tuple </h3>"
   ]
  },
  {
   "cell_type": "code",
   "execution_count": 3,
   "metadata": {},
   "outputs": [
    {
     "name": "stdout",
     "output_type": "stream",
     "text": [
      "() --> <class 'tuple'>\n",
      "(1, 2, 3) --> <class 'tuple'>\n",
      "(1, 'Hello', 3.4) --> <class 'tuple'>\n",
      "('mouse', [8, 4, 6], (1, 2, 3)) --> <class 'tuple'>\n"
     ]
    }
   ],
   "source": [
    "#Tuples in Python can be created by just placing the sequence inside the ( ) separated by commas (,).\n",
    "\n",
    "# Empty tuple\n",
    "emptyTuple = ()\n",
    "print(emptyTuple,\"-->\",type(emptyTuple))\n",
    "\n",
    "# Tuple having integers\n",
    "integersTuple = (1, 2, 3)\n",
    "print(integersTuple,\"-->\",type(integersTuple))\n",
    "\n",
    "# tuple with mixed datatypes\n",
    "mixedTuple = (1, \"Hello\", 3.4)\n",
    "print(mixedTuple,\"-->\",type(mixedTuple ))\n",
    "\n",
    "# nested tuple\n",
    "Nestedtuple = (\"mouse\", [8, 4, 6], (1, 2, 3))\n",
    "print(Nestedtuple,\"-->\",type(Nestedtuple))"
   ]
  },
  {
   "cell_type": "code",
   "execution_count": 4,
   "metadata": {},
   "outputs": [
    {
     "name": "stdout",
     "output_type": "stream",
     "text": [
      "(3, 4.6, 'dog') --> <class 'tuple'>\n",
      "3\n",
      "4.6\n",
      "dog\n"
     ]
    }
   ],
   "source": [
    "#A tuple can also be created without using parentheses. This is known as tuple packing.\n",
    "\n",
    "my_tuple = 3, 4.6, \"dog\"\n",
    "print(my_tuple,\"-->\",type(my_tuple))\n",
    "\n",
    "# tuple unpacking is also possible\n",
    "a, b, c = my_tuple\n",
    "\n",
    "print(a)      # 3\n",
    "print(b)      # 4.6\n",
    "print(c)      # dog"
   ]
  },
  {
   "cell_type": "code",
   "execution_count": 5,
   "metadata": {},
   "outputs": [
    {
     "name": "stdout",
     "output_type": "stream",
     "text": [
      "hello --> <class 'str'>\n",
      "('hello',) --> <class 'tuple'>\n",
      "('hello',) --> <class 'tuple'>\n"
     ]
    }
   ],
   "source": [
    "#Creating a tuple with one element is a bit tricky.\n",
    "\n",
    "my_tuple = (\"hello\")\n",
    "print(my_tuple,\"-->\",type(my_tuple))  # <class 'str'>\n",
    "\n",
    "# Creating a tuple having one element\n",
    "my_tuple = (\"hello\",)\n",
    "print(my_tuple,\"-->\",type(my_tuple))  # <class 'tuple'>\n",
    "\n",
    "# Parentheses is optional\n",
    "my_tuple = \"hello\",\n",
    "print(my_tuple,\"-->\",type(my_tuple))  # <class 'tuple'>"
   ]
  },
  {
   "cell_type": "markdown",
   "metadata": {},
   "source": [
    "<b><h3 style=\"color:#6833FF;\" >Accessing elements from the Tuple Using Indexing and Slicing</h3>"
   ]
  },
  {
   "cell_type": "code",
   "execution_count": 6,
   "metadata": {},
   "outputs": [
    {
     "name": "stdout",
     "output_type": "stream",
     "text": [
      "The first element: 0\n",
      "The last element: 7.0\n",
      "The second element of the inner tuple: 5\n",
      "The data type of the second element: <class 'list'>\n"
     ]
    }
   ],
   "source": [
    "#Indexing\n",
    "a_tuple = (0, [1, 2, 3], (4, 5, 6), 7.0)\n",
    "\n",
    "print('The first element:', a_tuple[0])\n",
    "print('The last element:', a_tuple[-1])\n",
    "print('The second element of the inner tuple:',a_tuple[2][1])\n",
    "print('The data type of the second element:', type(a_tuple[1]))"
   ]
  },
  {
   "cell_type": "code",
   "execution_count": 7,
   "metadata": {},
   "outputs": [
    {
     "name": "stdout",
     "output_type": "stream",
     "text": [
      "(2, 4, 5)\n",
      "(8, 10)\n",
      "(7, 8, 10)\n",
      "(5, 7, 8)\n"
     ]
    }
   ],
   "source": [
    "#Slicing\n",
    "num_tuple = 2, 4, 5, 7, 8, 10\n",
    "print(num_tuple[:3])\n",
    "print(num_tuple[4:])\n",
    "print(num_tuple[-3:])\n",
    "print(num_tuple[2:5])"
   ]
  },
  {
   "cell_type": "markdown",
   "metadata": {},
   "source": [
    "<b><h3 style=\"color:#6833FF;\" >Updating / Changing Tuples in Python</h3>"
   ]
  },
  {
   "cell_type": "code",
   "execution_count": 47,
   "metadata": {},
   "outputs": [
    {
     "name": "stdout",
     "output_type": "stream",
     "text": [
      "(4, 2, 3, [9])\n",
      "('Have', 'a', 'great', 'day', [1, 2, 3])\n"
     ]
    }
   ],
   "source": [
    "#Adding a new element or deleting one is not really an option when dealing with tuples in python,\n",
    "#as they are immutable. Even the elements of the tuple cannot be updated \n",
    "#until and unless the element is mutable for example a list.\n",
    "\n",
    "# Changing tuple values\n",
    "my_tuple = (4, 2, 3, [6, 5])\n",
    "\n",
    "# TypeError: 'tuple' object does not support item assignment\n",
    "#my_tuple[1] = 9\n",
    "\n",
    "# However, item of mutable element can be changed\n",
    "my_tuple[3][0] = 9    # Output: (4, 2, 3, [9, 5])\n",
    "my_tuple[3].pop(1)\n",
    "print(my_tuple)\n",
    "\n",
    "# Tuples can be reassigned - Assigning tuple all over again\n",
    "my_tuple = ('Have', 'a', 'great', 'day', [1, 2, 3])\n",
    "print(my_tuple) "
   ]
  },
  {
   "cell_type": "markdown",
   "metadata": {},
   "source": [
    "<b><h3 style=\"color:#6833FF;\" >Deleting a Tuple </h3>"
   ]
  },
  {
   "cell_type": "code",
   "execution_count": 10,
   "metadata": {},
   "outputs": [
    {
     "name": "stdout",
     "output_type": "stream",
     "text": [
      "(1, 2, 3, 4, 5)\n"
     ]
    },
    {
     "ename": "NameError",
     "evalue": "name 'tempTuple' is not defined",
     "output_type": "error",
     "traceback": [
      "\u001b[1;31m---------------------------------------------------------------------------\u001b[0m",
      "\u001b[1;31mNameError\u001b[0m                                 Traceback (most recent call last)",
      "\u001b[1;32m<ipython-input-10-689e943e8a01>\u001b[0m in \u001b[0;36m<module>\u001b[1;34m\u001b[0m\n\u001b[0;32m     10\u001b[0m \u001b[1;33m\u001b[0m\u001b[0m\n\u001b[0;32m     11\u001b[0m \u001b[1;32mdel\u001b[0m \u001b[0mtempTuple\u001b[0m\u001b[1;33m\u001b[0m\u001b[1;33m\u001b[0m\u001b[0m\n\u001b[1;32m---> 12\u001b[1;33m \u001b[0mprint\u001b[0m\u001b[1;33m(\u001b[0m\u001b[0mtempTuple\u001b[0m\u001b[1;33m)\u001b[0m \u001b[1;31m# throws NameError: name 'tempTuple' is not defined\u001b[0m\u001b[1;33m\u001b[0m\u001b[1;33m\u001b[0m\u001b[0m\n\u001b[0m",
      "\u001b[1;31mNameError\u001b[0m: name 'tempTuple' is not defined"
     ]
    }
   ],
   "source": [
    "#You can delete a tuple as a whole, \n",
    "#but deleting a specific value/element in a tuple is not possible\n",
    "\n",
    "tempTuple = (1, 2, 3, 4, 5)\n",
    "\n",
    "# tempTuple.pop() # throws error as object has no attribute pop\n",
    "# del tempTuple[3] # throws error as tuple does not support object deletion\n",
    "\n",
    "print(tempTuple) # OUTPUT: (1, 2, 3, 4, 5)\n",
    "\n",
    "del tempTuple\n",
    "print(tempTuple) # throws NameError: name 'tempTuple' is not defined"
   ]
  },
  {
   "cell_type": "markdown",
   "metadata": {},
   "source": [
    "<b><h3 style=\"color:#6833FF;\" >Basic Python Tuple Operations</h3>"
   ]
  },
  {
   "cell_type": "code",
   "execution_count": 11,
   "metadata": {},
   "outputs": [
    {
     "name": "stdout",
     "output_type": "stream",
     "text": [
      "concatenation of a tuple ('apple', 'mango', 1, 2, 3)\n",
      "repetition of a tuple ('apple', 'mango', 'apple', 'mango', 'apple', 'mango')\n",
      "length of the tuple: 2\n",
      "membership check True\n"
     ]
    }
   ],
   "source": [
    "#Just like ‘+’ and ‘*’ operations, tuple also respond to other sequential operations like \n",
    "#length, membership and for loop\n",
    "#Both + and * operations result in a new tuple.\n",
    "\n",
    "tempTuple = ('apple', 'mango')\n",
    "result = tempTuple + (1, 2, 3) # concatenating two different tuples\n",
    "print('concatenation of a tuple', result) # OUTPUT: concatenation of a tuple (‘apple’, ‘mango’, 1, 2, 3)\n",
    "\n",
    "result = tempTuple * 3 # repeat a tuple 3 times\n",
    "print('repetition of a tuple', result) # OUTPUT: repetition of a tuple (‘apple’, ‘mango’, ‘apple’, ‘mango’, ‘apple’, ‘mango’)\n",
    "\n",
    "result = len(tempTuple) # length of a tuple\n",
    "print('length of the tuple:', result) # OUTPUT: length of the tuple: 2\n",
    "\n",
    "result = 'apple' in tempTuple # checking membership of an element in tuple\n",
    "print('membership check', result) # OUTPUT: membership check True\n"
   ]
  },
  {
   "cell_type": "markdown",
   "metadata": {},
   "source": [
    "<b><h3 style=\"color:#6833FF;\" >Iterating Through a Tuple</h3>"
   ]
  },
  {
   "cell_type": "code",
   "execution_count": 13,
   "metadata": {},
   "outputs": [
    {
     "name": "stdout",
     "output_type": "stream",
     "text": [
      "Hello John\n",
      "Hello Kate\n"
     ]
    }
   ],
   "source": [
    "# Using a for loop to iterate through a tuple\n",
    "for name in ('John', 'Kate'):\n",
    "    print(\"Hello\", name)"
   ]
  },
  {
   "cell_type": "code",
   "execution_count": 14,
   "metadata": {},
   "outputs": [
    {
     "name": "stdout",
     "output_type": "stream",
     "text": [
      "0 Steve\n",
      "1 Rachel\n",
      "2 Michael\n",
      "3 Monica\n"
     ]
    }
   ],
   "source": [
    "#The enumerate function returns a tuple containing a count for every iteration\n",
    "friends = ('Steve', 'Rachel', 'Michael', 'Monica')\n",
    "for index, friend in enumerate(friends):\n",
    "    print(index,friend)"
   ]
  },
  {
   "cell_type": "markdown",
   "metadata": {},
   "source": [
    " <b><h3 style=\"color:#6833FF;\" >Usage of Tuples</h3>"
   ]
  },
  {
   "cell_type": "code",
   "execution_count": 23,
   "metadata": {},
   "outputs": [
    {
     "name": "stdout",
     "output_type": "stream",
     "text": [
      "(8, 22)\n",
      "<class 'tuple'>\n"
     ]
    }
   ],
   "source": [
    "#One of the most common use cases of tuples is with functions that return multiple values. \n",
    "\n",
    "import numpy as np\n",
    "\n",
    "#A function that returns count and sum of a array passed\n",
    "def count_sum(arr):\n",
    "   count = len(arr)\n",
    "   sum = arr.sum()\n",
    "   return count, sum\n",
    "\n",
    "\n",
    "arr = np.random.randint(10, size=8)\n",
    "a = count_sum(arr)\n",
    "print(a)\n",
    "(8, 39)\n",
    "print(type(a))"
   ]
  },
  {
   "cell_type": "code",
   "execution_count": 28,
   "metadata": {},
   "outputs": [
    {
     "name": "stdout",
     "output_type": "stream",
     "text": [
      "Value of x is 7, the value of y is 10.\n"
     ]
    }
   ],
   "source": [
    "#Tuples are useful for sequence unpacking.\n",
    "x, y = (7, 10);\n",
    "print(\"Value of x is {}, the value of y is {}.\".format(x, y))"
   ]
  },
  {
   "cell_type": "code",
   "execution_count": 30,
   "metadata": {},
   "outputs": [
    {
     "name": "stdout",
     "output_type": "stream",
     "text": [
      "Before swapping:\n",
      "x = 19, y = 91\n",
      "After swapping:\n",
      "x = 91, y = 19\n"
     ]
    }
   ],
   "source": [
    "#Tuple Element Swapping\n",
    "x = 19\n",
    "y = 91\n",
    "print('Before swapping:')\n",
    "print(f'x = {x}, y = {y}')\n",
    "(x, y) = (y, x)\n",
    "print('After swapping:')\n",
    "print(f'x = {x}, y = {y}')"
   ]
  },
  {
   "cell_type": "markdown",
   "metadata": {},
   "source": [
    " <b><h3 style=\"color:#6833FF;\" >Tuple Methods</h3>"
   ]
  },
  {
   "cell_type": "code",
   "execution_count": 25,
   "metadata": {},
   "outputs": [
    {
     "name": "stdout",
     "output_type": "stream",
     "text": [
      "2\n",
      "3\n"
     ]
    }
   ],
   "source": [
    "#Methods that add items or remove items are not available with tuple. \n",
    "#Only the index(),count() methods are available\n",
    "\n",
    "my_tuple = ('a', 'p', 'p', 'l', 'e',)\n",
    "\n",
    "print(my_tuple.count('p'))  # Output: 2\n",
    "print(my_tuple.index('l'))  # Output: 3"
   ]
  },
  {
   "cell_type": "markdown",
   "metadata": {},
   "source": [
    " <b><h3 style=\"color:#6833FF;\" >Tuple Functions</h3>"
   ]
  },
  {
   "cell_type": "code",
   "execution_count": 26,
   "metadata": {},
   "outputs": [
    {
     "name": "stdout",
     "output_type": "stream",
     "text": [
      "6\n",
      "0\n",
      "21\n",
      "True\n",
      "False\n",
      "[0, 1, 2, 3, 4, 5, 6]\n"
     ]
    }
   ],
   "source": [
    "a=(3,1,2,5,4,6,0)\n",
    "print(max(a))\n",
    "print(min(a))\n",
    "print(sum(a))\n",
    "print(any(a))\n",
    "print(all(a))\n",
    "print(sorted(a))"
   ]
  },
  {
   "cell_type": "code",
   "execution_count": 27,
   "metadata": {},
   "outputs": [
    {
     "name": "stdout",
     "output_type": "stream",
     "text": [
      "(1, 2, 3)\n",
      "()\n"
     ]
    }
   ],
   "source": [
    "#tuple( )\n",
    "list1=[1,2,3]\n",
    "print(tuple(list1))\n",
    "\n",
    "emptyTuple=tuple()\n",
    "print(emptyTuple)"
   ]
  },
  {
   "cell_type": "markdown",
   "metadata": {},
   "source": [
    " <b><h3 style=\"color:#6833FF;\" >Zipping Tuples</h3>"
   ]
  },
  {
   "cell_type": "code",
   "execution_count": 31,
   "metadata": {},
   "outputs": [
    {
     "name": "stdout",
     "output_type": "stream",
     "text": [
      "<zip object at 0x000002DE84B35500>\n"
     ]
    }
   ],
   "source": [
    "#The zip() method takes multiple sequence objects \n",
    "#and returns an iterable object by matching their elements. \n",
    "\n",
    "first_names = ('Simon', 'Sarah', 'Mehdi', 'Fatime')\n",
    "last_names = ('Sinek', 'Smith', 'Lotfinejad', 'Lopes')\n",
    "ages = (49, 55, 39, 33)\n",
    "zipped = zip(first_names, last_names,ages)\n",
    "print(zipped)"
   ]
  },
  {
   "cell_type": "code",
   "execution_count": 32,
   "metadata": {},
   "outputs": [
    {
     "name": "stdout",
     "output_type": "stream",
     "text": [
      "(('Simon', 'Sinek', 49), ('Sarah', 'Smith', 55), ('Mehdi', 'Lotfinejad', 39), ('Fatime', 'Lopes', 33))\n"
     ]
    }
   ],
   "source": [
    "# To consume the iterator object, we need to convert it to either a list or a tuple\n",
    "customers = tuple(zipped)\n",
    "print(customers)"
   ]
  },
  {
   "cell_type": "code",
   "execution_count": 33,
   "metadata": {},
   "outputs": [
    {
     "name": "stdout",
     "output_type": "stream",
     "text": [
      "Mehdi Lotfinejad , 39 years old\n"
     ]
    }
   ],
   "source": [
    "#Unpacking Tuples\n",
    "first_name, last_name, age = customers[2]\n",
    "print(first_name, last_name, ',', age, 'years old')"
   ]
  },
  {
   "cell_type": "markdown",
   "metadata": {},
   "source": [
    " <b><h3 style=\"color:#6833FF;\" >Difference Between Tuples and Lists in Python</h3>"
   ]
  },
  {
   "cell_type": "code",
   "execution_count": 34,
   "metadata": {},
   "outputs": [
    {
     "name": "stdout",
     "output_type": "stream",
     "text": [
      "The list size: 104 bytes\n",
      "The tuple size: 88 bytes\n"
     ]
    }
   ],
   "source": [
    "# a list object occupies more memory than a tuple object\n",
    "import sys\n",
    "a_list = ['abc', 'xyz', 123, 231, 13.31, 0.1312]\n",
    "a_tuple = ('abc', 'xyz', 123, 231, 13.31, 0.1312)\n",
    "print('The list size:', sys.getsizeof(a_list), 'bytes')\n",
    "print('The tuple size:', sys.getsizeof(a_tuple), 'bytes')"
   ]
  },
  {
   "cell_type": "code",
   "execution_count": 36,
   "metadata": {
    "scrolled": true
   },
   "outputs": [
    {
     "name": "stdout",
     "output_type": "stream",
     "text": [
      "0.024328699999387027\n",
      "0.09889449999991484\n"
     ]
    }
   ],
   "source": [
    "#In addition to occupying less memory, processing tuple objects is much faster than lists,\n",
    "import timeit\n",
    "print(timeit.timeit('x=(1,2,3,4,5,6,7,8,9,10,11,12)'))\n",
    "print(timeit.timeit('x=[1,2,3,4,5,6,7,8,9,10,11,12]'))"
   ]
  },
  {
   "cell_type": "code",
   "execution_count": 38,
   "metadata": {},
   "outputs": [
    {
     "name": "stdout",
     "output_type": "stream",
     "text": [
      "{('this', 'is'): 23}\n"
     ]
    },
    {
     "ename": "TypeError",
     "evalue": "unhashable type: 'list'",
     "output_type": "error",
     "traceback": [
      "\u001b[1;31m---------------------------------------------------------------------------\u001b[0m",
      "\u001b[1;31mTypeError\u001b[0m                                 Traceback (most recent call last)",
      "\u001b[1;32m<ipython-input-38-9395ff866797>\u001b[0m in \u001b[0;36m<module>\u001b[1;34m\u001b[0m\n\u001b[0;32m      5\u001b[0m \u001b[0mprint\u001b[0m\u001b[1;33m(\u001b[0m\u001b[0mbigramsTupleDict\u001b[0m \u001b[1;33m)\u001b[0m\u001b[1;33m\u001b[0m\u001b[1;33m\u001b[0m\u001b[0m\n\u001b[0;32m      6\u001b[0m \u001b[1;33m\u001b[0m\u001b[0m\n\u001b[1;32m----> 7\u001b[1;33m \u001b[0mbigramsTupleDict\u001b[0m \u001b[1;33m=\u001b[0m \u001b[1;33m{\u001b[0m\u001b[1;33m[\u001b[0m\u001b[1;34m'this'\u001b[0m\u001b[1;33m,\u001b[0m\u001b[1;34m'is'\u001b[0m\u001b[1;33m]\u001b[0m\u001b[1;33m:\u001b[0m\u001b[1;36m23\u001b[0m\u001b[1;33m}\u001b[0m\u001b[1;33m\u001b[0m\u001b[1;33m\u001b[0m\u001b[0m\n\u001b[0m\u001b[0;32m      8\u001b[0m \u001b[0mprint\u001b[0m\u001b[1;33m(\u001b[0m\u001b[0mbigramsTupleDict\u001b[0m \u001b[1;33m)\u001b[0m\u001b[1;33m\u001b[0m\u001b[1;33m\u001b[0m\u001b[0m\n",
      "\u001b[1;31mTypeError\u001b[0m: unhashable type: 'list'"
     ]
    }
   ],
   "source": [
    "#Some tuples can be used as dictionary keys specifically, tuples that contain immutable values \n",
    "# Lists can never be used as dictionary keys, because lists are not immutable\n",
    "\n",
    "bigramsTupleDict = {('this','is'):23}\n",
    "print(bigramsTupleDict )\n",
    "\n",
    "bigramsTupleDict = {['this','is']:23}\n",
    "print(bigramsTupleDict )"
   ]
  },
  {
   "cell_type": "code",
   "execution_count": 40,
   "metadata": {},
   "outputs": [
    {
     "name": "stdout",
     "output_type": "stream",
     "text": [
      "{('this', 'is'), ('Nitheesh',)}\n"
     ]
    },
    {
     "ename": "TypeError",
     "evalue": "unhashable type: 'list'",
     "output_type": "error",
     "traceback": [
      "\u001b[1;31m---------------------------------------------------------------------------\u001b[0m",
      "\u001b[1;31mTypeError\u001b[0m                                 Traceback (most recent call last)",
      "\u001b[1;32m<ipython-input-40-0e9d4c7b5661>\u001b[0m in \u001b[0;36m<module>\u001b[1;34m\u001b[0m\n\u001b[0;32m      4\u001b[0m \u001b[0mprint\u001b[0m\u001b[1;33m(\u001b[0m\u001b[0mtupleSet\u001b[0m\u001b[1;33m)\u001b[0m\u001b[1;33m\u001b[0m\u001b[1;33m\u001b[0m\u001b[0m\n\u001b[0;32m      5\u001b[0m \u001b[1;33m\u001b[0m\u001b[0m\n\u001b[1;32m----> 6\u001b[1;33m \u001b[0mListSet\u001b[0m\u001b[1;33m=\u001b[0m\u001b[1;33m{\u001b[0m\u001b[1;33m[\u001b[0m\u001b[1;34m'this'\u001b[0m\u001b[1;33m,\u001b[0m\u001b[1;34m'is'\u001b[0m\u001b[1;33m]\u001b[0m\u001b[1;33m,\u001b[0m\u001b[1;33m[\u001b[0m\u001b[1;34m'Nitheesh'\u001b[0m\u001b[1;33m]\u001b[0m\u001b[1;33m}\u001b[0m\u001b[1;33m\u001b[0m\u001b[1;33m\u001b[0m\u001b[0m\n\u001b[0m\u001b[0;32m      7\u001b[0m \u001b[0mprint\u001b[0m\u001b[1;33m(\u001b[0m\u001b[0mListSet\u001b[0m\u001b[1;33m)\u001b[0m\u001b[1;33m\u001b[0m\u001b[1;33m\u001b[0m\u001b[0m\n",
      "\u001b[1;31mTypeError\u001b[0m: unhashable type: 'list'"
     ]
    }
   ],
   "source": [
    "#Tuples can be used as values in sets whereas lists can not\n",
    "\n",
    "tupleSet={('this','is'),('Nitheesh',)}\n",
    "print(tupleSet)\n",
    "\n",
    "ListSet={['this','is'],['Nitheesh']}\n",
    "print(ListSet)"
   ]
  },
  {
   "cell_type": "code",
   "execution_count": 43,
   "metadata": {},
   "outputs": [
    {
     "name": "stdout",
     "output_type": "stream",
     "text": [
      "(1, 2, 3)\n"
     ]
    }
   ],
   "source": [
    "#Due to the immutability, copying tuples and lists are different.\n",
    "#We need to more careful when copying lists since they are mutable.\n",
    "#However, we should not have the same concern with tuples because they are immutable.\n",
    "#When you copy a tuple and assign it to a new variable, they all point to the same values in the memory.\n",
    "\n",
    "a = (1, 2, 3)\n",
    "b = a\n",
    "c = a[:]\n",
    "\n",
    "print(c)"
   ]
  },
  {
   "cell_type": "markdown",
   "metadata": {},
   "source": [
    "<b><h5>If you have data that doesn't change, implementing it as tuple will guarantee that it remains write-protected."
   ]
  },
  {
   "cell_type": "markdown",
   "metadata": {},
   "source": [
    "<b><h3>Python Interview Questions on Tuples</h3><br>\n",
    "<ol>\n",
    "<li>What are tuples in Python ?</li><br>\n",
    "<li>What are characterstics/features of tuples in Python ?</li><br>\n",
    "<li>How do you initialize a tuple in Python ?</li><br>\n",
    "<li>What is the difference between a Python Tuple and Python list ?</li><br>\n",
    "<li>Which one is faster list or tuple ?</li><br>\n",
    "<li>Why use a tuple instead of a list ?</li>"
   ]
  },
  {
   "cell_type": "markdown",
   "metadata": {},
   "source": [
    "<h4> To-Do: </h4><br>\n",
    "<ol>\n",
    "<b>\n",
    "    <li>Write a Python program to unpack a tuple in several variables</li><br>\n",
    "    <li>Write a Python program to add an item in a tuple.</li><br>\n",
    "    <li>Write a Python program to convert a tuple to a string</li><br>\n",
    "    <li>Sort a tuple of tuples by 2nd item</li><br>\n",
    "    <li>Write a program to accept five numbers from the user and store it in a tuple</li><br>"
   ]
  },
  {
   "cell_type": "markdown",
   "metadata": {},
   "source": [
    "&copy; **Nitheesh Reddy**"
   ]
  }
 ],
 "metadata": {
  "kernelspec": {
   "display_name": "Python 3",
   "language": "python",
   "name": "python3"
  },
  "language_info": {
   "codemirror_mode": {
    "name": "ipython",
    "version": 3
   },
   "file_extension": ".py",
   "mimetype": "text/x-python",
   "name": "python",
   "nbconvert_exporter": "python",
   "pygments_lexer": "ipython3",
   "version": "3.8.5"
  }
 },
 "nbformat": 4,
 "nbformat_minor": 4
}

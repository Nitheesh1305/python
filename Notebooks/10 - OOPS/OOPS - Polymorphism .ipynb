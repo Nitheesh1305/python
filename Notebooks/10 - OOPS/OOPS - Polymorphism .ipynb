{
 "cells": [
  {
   "cell_type": "markdown",
   "metadata": {},
   "source": [
    "<b><h1 style=\"color:#ff0066;\" ><center>Polymorphism In Python</center></h1><br>\n",
    "<center><img src='https://www.techgeekbuzz.com/media/post_images/uploads/2021/12/python-polymorphism-example-1024x412.jpeg' width=\"600\" height=\"600\"></center>"
   ]
  },
  {
   "cell_type": "markdown",
   "metadata": {},
   "source": [
    "<b><h1 style=\"color:#cc33ff;\" >What Is Meant By Polymorphism ?</h1>\n",
    "<br>\n",
    "<li>let's break down the word polymorphism to poly and morphism</li><br>\n",
    "<li> In plain English, poly means many and morph means form. So polymorphism means many forms.</li><br>\n",
    "<center><img src='https://learnetutorials.com/assets/images/tutorials/over/poly.png' width=\"400\" height=\"500\"></center>  <br>\n",
    "<li>Polymorphism refers to a function having the same name but being used in different ways and different scenarios.</li> <br>\n",
    "<li>It allows us to define methods in the child class with the same name as their parent class</li><br>\n",
    "<center><img src='https://www.askpython.com/wp-content/uploads/2019/12/Polymorphism-in-Python.png.webp' width=\"400\" height=\"400\"></center> \n",
    " \n",
    "<h3 style=\"color:#FF900C;\" >Benefits of Polymorphism :</h3>\n",
    "<br>\n",
    "<li>It helps in code reusability.</li><br>\n",
    "<li>Saves a lot of time for the programmers.</li><br>\n",
    "<li>A single variable can be used to store multiple data types.</li><br>\n",
    "<li>Easy to debug the codes.</li>"
   ]
  },
  {
   "cell_type": "markdown",
   "metadata": {},
   "source": [
    "<b><h3 style=\"color:#024C4C;\" >Polymorphism in Built-in function len( ):</h3>\n",
    "<br>\n",
    "<center><img src='https://pynative.com/wp-content/uploads/2021/08/polymorphic_len_function.png' width=\"400\" height=\"400\"></center> "
   ]
  },
  {
   "cell_type": "code",
   "execution_count": 1,
   "metadata": {},
   "outputs": [
    {
     "name": "stdout",
     "output_type": "stream",
     "text": [
      "3\n",
      "10\n",
      "3\n"
     ]
    }
   ],
   "source": [
    "#Polymorphism in Built-in function len( )\n",
    "students = ['Emma', 'Jessa', 'Kelly']\n",
    "school = 'ABC School'\n",
    "details = {\"name\":\"Emma\",\"class\":10,\"school\":\"ABC School\"}\n",
    "# calculate count\n",
    "print(len(students))\n",
    "print(len(school))\n",
    "print(len(details))"
   ]
  },
  {
   "cell_type": "markdown",
   "metadata": {},
   "source": [
    "<b><h3 style=\"color:#024C4C;\" >Polymorphism with user define function :</h3>"
   ]
  },
  {
   "cell_type": "code",
   "execution_count": 5,
   "metadata": {},
   "outputs": [
    {
     "name": "stdout",
     "output_type": "stream",
     "text": [
      "5\n",
      "10\n"
     ]
    }
   ],
   "source": [
    "#add function - we can create user-defined methods with the same name and different attributes list\n",
    "\n",
    "def add(a,b,c=0):\n",
    "    return a+b+c\n",
    "\n",
    "print(add(2,3))\n",
    "print(add(2,3,5))"
   ]
  },
  {
   "cell_type": "markdown",
   "metadata": {},
   "source": [
    "<h3 style=\"color:#FF900C;\" >Types of Polymorphism :  </h3><br>\n",
    "<center><img src=\"https://i.imgur.com/zop0q7T.png\" width=\"500\" height=\"500\"></center><br>"
   ]
  },
  {
   "cell_type": "markdown",
   "metadata": {},
   "source": [
    "<b><h3 style=\"color:#cc33ff;\" > Duck Typing In Python :  </h3><br>\n",
    "<li>Duck typing is one of the concepts in polymorphism.</li><br>\n",
    "<li>It is derived from the following quote : If it looks like a duck and quacks like a duck, it’s a duck</li><br>\n",
    "<li>It means something that is similar in its behavior to anything then it will consider a thing of that category<br><br> to which it is similar to</li><br>\n",
    "<li>The key takeaway is that when using duck typing it does not matter which class object we are passing,<br><br> rather what matters is the object should have the related method in it.</li><br>\n",
    "<li>We don’t check types at all in this functionality, we check for the methods and their definition instead</li><br>"
   ]
  },
  {
   "cell_type": "code",
   "execution_count": 3,
   "metadata": {},
   "outputs": [
    {
     "name": "stdout",
     "output_type": "stream",
     "text": [
      "19.0\n",
      "50\n",
      "19.0\n"
     ]
    }
   ],
   "source": [
    "#Polymorphism With Class Method\n",
    "#Different classes can hold different class method of same name \n",
    "class Mercury:\n",
    "  def weight(self, w):\n",
    "    print(w * 0.38)\n",
    "\n",
    "class Mars:\n",
    "  def weight(self, w):\n",
    "    print(w * 0.38)\n",
    "\n",
    "class Earth:\n",
    "  def weight(self, w):\n",
    "    print(w)\n",
    "#we can see we have called the same method name in every class\n",
    "#but their functionality is different, and that is what we focus on.  \n",
    "for obj in Mercury(), Earth(), Mars():\n",
    "  obj.weight(50)"
   ]
  },
  {
   "cell_type": "code",
   "execution_count": 9,
   "metadata": {},
   "outputs": [
    {
     "name": "stdout",
     "output_type": "stream",
     "text": [
      "Calling Method : <__main__.Rabbit object at 0x000002A43BDD9520>\n",
      "This function determines the age of Rabbit.\n",
      "This function determines the color of Rabbit.\n",
      "\n",
      "Calling Method : <__main__.Horse object at 0x000002A43BDD9C10>\n",
      "This function determines the age of Horse.\n",
      "This function determines the color of Horse.\n",
      "\n"
     ]
    }
   ],
   "source": [
    "##Polymorphism With Class Method\n",
    "class Rabbit():\n",
    "    def age(self):\n",
    "        print(\"This function determines the age of Rabbit.\")\n",
    "    def color(self):\n",
    "        print(\"This function determines the color of Rabbit.\")\n",
    "\n",
    "class Horse():\n",
    "    def age(self):\n",
    "        print(\"This function determines the age of Horse.\")\n",
    "    def color(self):\n",
    "        print(\"This function determines the color of Horse.\")\n",
    "\n",
    "obj1=Rabbit()\n",
    "obj2=Horse()\n",
    "        \n",
    "#For serving the purpose of Polymorphism, \n",
    "#a loop can be created that iterates through the tuple of objects\n",
    "for method in (obj1,obj2):\n",
    "    # One can then call a method without looking at the type of class to which the objects belong\n",
    "    print(\"Calling Method :\",method)\n",
    "    method.age()\n",
    "    method.color()\n",
    "    print()"
   ]
  },
  {
   "cell_type": "markdown",
   "metadata": {},
   "source": [
    "<b><h3 style=\"color:#cc33ff;\" > Run-Time Polymorphism :  </h3><br>\n",
    "<li>Whenever an object is bound with the functionality at run time, this is known as runtime polymorphism</li><br>\n",
    "<li>The runtime polymorphism can be achieved by method overriding</li><br>\n",
    "<li>It is also called dynamic or late binding</li>\n",
    "    \n",
    "<b><h3 style=\"color:#FF5733;\" >Polymorphism With Inheritance - Method Over Riding :</h3>\n",
    "<br>\n",
    "<li>Method Overriding,supports runtime polymorphism</li><br>\n",
    "<li>we can reimplement a method and change its functionality in child class according to our needs</li><br>\n",
    "<li>The process of re-implementing the inherited method in the child class is known as Method Overriding.</li><br>\n",
    "<li>We can inherit methods in the child class from the parent class that have the same name,<br><br> maybe the same parameters but differ in functionality.</li><br>\n",
    "<li>It is very beneficial in case our parent class method’s functionality is not suitable in child class</li><br>\n",
    "<li>In method overriding we have two methods, one in parent class which is referred to as overridden method </li><br>\n",
    "<li>And one is the inherited method in child class which is referred to as an overriding method,<br><br>Both methods have the same name and same signature.</li><br>\n",
    "<center><img src='https://pynative.com/wp-content/uploads/2021/08/polymorphism_with_inheritance.jpg' width=\"600\" height=\"350\"></center>"
   ]
  },
  {
   "cell_type": "code",
   "execution_count": 5,
   "metadata": {},
   "outputs": [
    {
     "name": "stdout",
     "output_type": "stream",
     "text": [
      "Details: Car x1 Red 20000\n",
      "Car max speed is 240\n",
      "Car change 7 gear\n",
      "\n",
      "Details: Truck x1 white 75000\n",
      "Vehicle max speed is 150\n",
      "Vehicle change 6 gear\n"
     ]
    }
   ],
   "source": [
    "#Parent Class\n",
    "class Vehicle:\n",
    "\n",
    "    def __init__(self, name, color, price):\n",
    "        self.name = name\n",
    "        self.color = color\n",
    "        self.price = price\n",
    "    \n",
    "    def show(self):\n",
    "        print('Details:', self.name, self.color, self.price)\n",
    "    #overridden method\n",
    "    def max_speed(self):\n",
    "        print('Vehicle max speed is 150')\n",
    "    #overridden method\n",
    "    def change_gear(self):\n",
    "        print('Vehicle change 6 gear')\n",
    "\n",
    "\n",
    "# inherit from vehicle class\n",
    "class Car(Vehicle):\n",
    "    #overriding method\n",
    "    def max_speed(self):\n",
    "        print('Car max speed is 240')\n",
    "    #overriding method\n",
    "    def change_gear(self):\n",
    "        print('Car change 7 gear')\n",
    "\n",
    "\n",
    "# Car Object\n",
    "car = Car('Car x1', 'Red', 20000)\n",
    "# calls method from a Vehicle class\n",
    "car.show()    \n",
    "# calls methods from Car class\n",
    "car.max_speed()\n",
    "car.change_gear()\n",
    "\n",
    "# Vehicle Object\n",
    "vehicle = Vehicle('Truck x1', 'white', 75000)\n",
    "print()\n",
    "# calls method from a Vehicle class\n",
    "vehicle.show()\n",
    "vehicle.max_speed()\n",
    "vehicle.change_gear()"
   ]
  },
  {
   "cell_type": "markdown",
   "metadata": {},
   "source": [
    "<b>TO DO : Create a class truck that inherits from vechicle and over ride the methods max_speed and change_gear"
   ]
  },
  {
   "cell_type": "markdown",
   "metadata": {},
   "source": [
    "<b><h3 style=\"color:#cc33ff;\" > Compile Time Polymorphism :  </h3><br>\n",
    "<li>Whenever an object is bound with its functionality at the compile time , is known as the<br><br> compile-time polymorphism.</li><br>\n",
    "<li>Compile-time polymorphism is achieved through method overloading</li><br>\n",
    "<li>It is also called  static or early binding.</li><br>\n",
    "    \n",
    "<b><h3 style=\"color:#FF5733;\" >Method Overloading :</h3>\n",
    "<br>\n",
    "<li>Method overloading supports compile-time polymorphism.</li><br>\n",
    "<li>The simple meaning of method overloading is a class containing multiple methods with the same name<br><br> but having different parameters.</li><br>\n",
    "<center><img src='https://static.tutorialandexample.com/python/method-overloading-in-python1.png' width=\"600\" height=\"200\"></center><br>\n",
    "<li>Python does not support method overloading.</li><br>\n",
    "<li>Python considers only the latest defined method even if you overload the method.</li><br>\n",
    "<li>Python will raise a TypeError if you overload the method.</li><br>"
   ]
  },
  {
   "cell_type": "code",
   "execution_count": 9,
   "metadata": {},
   "outputs": [
    {
     "name": "stdout",
     "output_type": "stream",
     "text": [
      "15\n"
     ]
    }
   ],
   "source": [
    "#Method OverLoading\n",
    "class A:\n",
    "    def add(self,a,b):\n",
    "        s = a+b\n",
    "        print(s)\n",
    "    def add(self,a,b,c):\n",
    "        s = a+b+c\n",
    "        print(s)\n",
    "\n",
    "ob = A()\n",
    "# the below line shows an error\n",
    "#ob.add(10,20)\n",
    "\n",
    "# This line will call the second add method\n",
    "ob.add(3,7,5)"
   ]
  },
  {
   "cell_type": "markdown",
   "metadata": {},
   "source": [
    "<b><h4 style=\"color:#028E8B;\" >Method Over Loading In Python</h4>\n",
    "<br>\n",
    "<li>To overcome the above problem, we can use different ways to achieve the method overloading</li><br>\n",
    "<li>In Python, to overload the class method, we need to write the method’s logic so that different code<br><br> executes inside the function depending on the parameter passes.</li><br>\n",
    "<li>For example, the built-in function range() takes three parameters and produce different result <br><br>depending upon the number of parameters passed to it.</li>"
   ]
  },
  {
   "cell_type": "code",
   "execution_count": 10,
   "metadata": {},
   "outputs": [
    {
     "name": "stdout",
     "output_type": "stream",
     "text": [
      "0, 1, 2, 3, 4, \n",
      "5, 6, 7, 8, 9, \n",
      "2, 4, 6, 8, 10, "
     ]
    }
   ],
   "source": [
    "#built-in function range() - start - stop - step\n",
    "for i in range(5): print(i, end=', ')\n",
    "print()\n",
    "for i in range(5, 10): print(i, end=', ')\n",
    "print()\n",
    "for i in range(2, 12, 2): print(i, end=', ')"
   ]
  },
  {
   "cell_type": "code",
   "execution_count": 20,
   "metadata": {},
   "outputs": [
    {
     "name": "stdout",
     "output_type": "stream",
     "text": [
      "With No Parameters\n",
      "No Food Item Booked\n",
      "****************\n",
      "With Single Parameter\n",
      "Lunch Booked\n",
      "****************\n",
      "With Two Parameters\n",
      "Lunch & Dinner Booked\n"
     ]
    }
   ],
   "source": [
    "#Method Loading in Python\n",
    "class Book_Food:\n",
    "  def book(self, lunch=None, dinner=None):\n",
    "    if lunch and dinner:\n",
    "      print(\"Lunch & Dinner Booked\")\n",
    "    elif lunch:\n",
    "      print(\"Lunch Booked\")\n",
    "    elif dinner:\n",
    "      print(\"Dinner Booked\")\n",
    "    else:\n",
    "      print(\"No Food Item Booked\")\n",
    "\n",
    "obj = Book_Food()\n",
    "print(\"With No Parameters\")\n",
    "obj.book()\n",
    "print(\"****************\")\n",
    "print(\"With Single Parameter\")\n",
    "obj.book(lunch=1)\n",
    "print(\"****************\")\n",
    "print(\"With Two Parameters\")\n",
    "obj.book(lunch=1,dinner=1)\n",
    "#Note : This is not the ideal way of achieving method overloading "
   ]
  },
  {
   "cell_type": "markdown",
   "metadata": {},
   "source": [
    "<b><h3 style=\"color:#FF5733;\" >Operator Overloading In python</h3>\n",
    "<br>\n",
    "<li>Another way of implementing polymorphism in python is through the use of operator overloading</li><br>\n",
    "<li>Operator Overloading is the process of using the same operator,in multiple forms depending<br><br> on the operands used.</li><br>\n",
    "<li>Lets say plus operator performs addition on two integers and at the same time it performs <br><br>concatenation on two strings and extension on lists</li>"
   ]
  },
  {
   "cell_type": "code",
   "execution_count": 21,
   "metadata": {},
   "outputs": [
    {
     "name": "stdout",
     "output_type": "stream",
     "text": [
      "+ with Integers : 30\n",
      "\n",
      "+ with strings : python  programming\n",
      "\n",
      "+ with lits : [2, 3, 4, 5, 6, 7, 8, 9, 10, 12]\n"
     ]
    }
   ],
   "source": [
    "#Polymorphism with + operator\n",
    "\n",
    "#For integer types “+” operator is used to add the two integers\n",
    "number = 10 + 20 \n",
    "print(\"+ with Integers :\",number)\n",
    "print()\n",
    "#For strings types “+” operator is used to concate the two strings\n",
    "str1 = \"python \"\n",
    "str2 = \" programming\"\n",
    "str3 = str1 + str2\n",
    "print(\"+ with strings :\",str3)\n",
    "\n",
    "print()\n",
    "#For lists types “+” operator is used to extend the elements in lists\n",
    "list1 = [2,3,4,5,6]\n",
    "list2 = [7,8,9,10,12]\n",
    "list3 = list1 + list2 \n",
    "print(\"+ with lits :\",list3)"
   ]
  },
  {
   "cell_type": "markdown",
   "metadata": {},
   "source": [
    "<b><h4 style=\"color:#028E8B;\" >How This Is Possible ?</h4>\n",
    "<br>\n",
    "<li>Always remember whatever happens in python is solely based on objects</li><br>\n",
    "<li>Obviously, the class must have some methods to compute its operands.</li><br>\n",
    "<li>So when you use a+b, python internally calls the magic method - int.__add__(a,b)method</li>"
   ]
  },
  {
   "cell_type": "code",
   "execution_count": 11,
   "metadata": {},
   "outputs": [
    {
     "name": "stdout",
     "output_type": "stream",
     "text": [
      "+ with Integers : 3\n",
      "\n",
      "+ with strings : Programming Language\n",
      "\n",
      "Magic Method Mul : Python Python Python \n"
     ]
    }
   ],
   "source": [
    "#Polymorphism with operators\n",
    "a = 1\n",
    "b = 2\n",
    "# a and b are the two attributes of class int\n",
    "print(\"+ with Integers :\",int.__add__(a,b))\n",
    "print()\n",
    "# d and e are the two attributes of class str\n",
    "d = 'Programming'\n",
    "e = ' Language'\n",
    "print(\"+ with strings :\",str.__add__(d,e)) \n",
    "print()\n",
    "#magic method mul\n",
    "c ='Python '\n",
    "print(\"Magic Method Mul :\",str.__mul__(c,3))"
   ]
  },
  {
   "cell_type": "markdown",
   "metadata": {},
   "source": [
    "So the moment you we use a\n",
    "<br><br>\n",
    "<li>+ operator it calls an obj.__add__( )method.</li><br>\n",
    "<li>- operator calls  an obj.__sub__( ) method.</li><br>\n",
    "<li>* operator calls  an obj.__mul__( ) method.</li>"
   ]
  },
  {
   "cell_type": "markdown",
   "metadata": {},
   "source": [
    "<b><h4 style=\"color:#028E8B;\" >Operator Over Loading to a user-defined class </h4>\n",
    "\n",
    "<h4 style=\"color:#FF5733;\" >Overloading + operator for custom objects</h4>\n",
    "<br>\n",
    "<li>Suppose we have two objects, and we want to add these two objects with a binary + operator</li><br>\n",
    "<li>However, it will throw an error if we perform addition because the compiler doesn’t add two objects</li>"
   ]
  },
  {
   "cell_type": "code",
   "execution_count": 34,
   "metadata": {},
   "outputs": [
    {
     "ename": "TypeError",
     "evalue": "unsupported operand type(s) for +: 'Book' and 'Book'",
     "output_type": "error",
     "traceback": [
      "\u001b[1;31m---------------------------------------------------------------------------\u001b[0m",
      "\u001b[1;31mTypeError\u001b[0m                                 Traceback (most recent call last)",
      "\u001b[1;32m<ipython-input-34-b341e452818c>\u001b[0m in \u001b[0;36m<module>\u001b[1;34m\u001b[0m\n\u001b[0;32m      8\u001b[0m \u001b[1;33m\u001b[0m\u001b[0m\n\u001b[0;32m      9\u001b[0m \u001b[1;31m# add two objects\u001b[0m\u001b[1;33m\u001b[0m\u001b[1;33m\u001b[0m\u001b[1;33m\u001b[0m\u001b[0m\n\u001b[1;32m---> 10\u001b[1;33m \u001b[0mprint\u001b[0m\u001b[1;33m(\u001b[0m\u001b[0mb1\u001b[0m \u001b[1;33m+\u001b[0m \u001b[0mb2\u001b[0m\u001b[1;33m)\u001b[0m\u001b[1;33m\u001b[0m\u001b[1;33m\u001b[0m\u001b[0m\n\u001b[0m",
      "\u001b[1;31mTypeError\u001b[0m: unsupported operand type(s) for +: 'Book' and 'Book'"
     ]
    }
   ],
   "source": [
    "class Book:\n",
    "    def __init__(self, pages):\n",
    "        self.pages = pages\n",
    "\n",
    "# creating two objects\n",
    "b1 = Book(400)\n",
    "b2 = Book(300)\n",
    "\n",
    "# add two objects\n",
    "print(b1 + b2)"
   ]
  },
  {
   "cell_type": "markdown",
   "metadata": {},
   "source": [
    "<b><h4 style=\"color:#028E8B;\" >How Can We Achive ?</h4>\n",
    "<br>\n",
    "<li>Internally + operator is implemented by using __add__() method</li><br>\n",
    "<li>We have to override this method in our class if you want to add two custom objects.</li>"
   ]
  },
  {
   "cell_type": "code",
   "execution_count": 35,
   "metadata": {},
   "outputs": [
    {
     "name": "stdout",
     "output_type": "stream",
     "text": [
      "Total number of pages:  700\n"
     ]
    }
   ],
   "source": [
    "class Book:\n",
    "    def __init__(self, pages):\n",
    "        self.pages = pages\n",
    "\n",
    "    # Overloading + operator with magic method\n",
    "    def __add__(self, other):\n",
    "        return self.pages + other.pages\n",
    "\n",
    "b1 = Book(400)\n",
    "b2 = Book(300)\n",
    "print(\"Total number of pages: \", b1 + b2)"
   ]
  },
  {
   "cell_type": "markdown",
   "metadata": {},
   "source": [
    "<b><h4 style=\"color:#FF5733;\" >Overloading the * Operator</h4>\n",
    "<br>\n",
    "<li>The * operator is used to perform the multiplication</li><br>\n",
    "<li>Internally * operator is implemented by using the __mul__() method.</li>"
   ]
  },
  {
   "cell_type": "code",
   "execution_count": 16,
   "metadata": {},
   "outputs": [
    {
     "name": "stdout",
     "output_type": "stream",
     "text": [
      "Worked for 50 days\n",
      "salary is:  40000\n"
     ]
    }
   ],
   "source": [
    "#Let’s see how to overload it to calculate the salary of an employee for a specific period\n",
    "class Employee:\n",
    "    def __init__(self, name, salary):\n",
    "        self.name = name\n",
    "        self.salary = salary\n",
    "\n",
    "    def __mul__(self, timesheet):\n",
    "        print('Worked for', timesheet.days, 'days')\n",
    "        # calculate salary\n",
    "        return self.salary * timesheet.days\n",
    "\n",
    "\n",
    "class TimeSheet:\n",
    "    def __init__(self, name, days):\n",
    "        self.name = name\n",
    "        self.days = days\n",
    "\n",
    "\n",
    "emp = Employee(\"Jessa\", 800)\n",
    "timesheet = TimeSheet(\"Jessa\", 50)\n",
    "print(\"salary is: \", emp * timesheet)"
   ]
  },
  {
   "cell_type": "markdown",
   "metadata": {},
   "source": [
    "<b><h3 style=\"color:#FF5733;\" >Python - Magic or Dunder Methods</h3><br>\n",
    "<li>Magic methods in Python are the special methods that start and end with the double underscores.</li><br>\n",
    "<li>They are also called Dunder methods ,Dunder here means “Double Under (Underscores)</li><br>\n",
    "<li>Magic methods are not meant to be called directly, but internally, through some other methods or actions.</li><br>\n",
    "<li>Built-in classes in Python define many magic methods.</li><br>\n",
    "<li>Use the dir() function to see the number of magic methods inherited by a class.</li><br>\n",
    "<li>Magic methods are most frequently used to define overloaded behaviours of predefined operators in Python</li><br>\n",
    "<li>In order to make the overloaded behaviour available in your own custom class, <br><br>the corresponding magic method should be overridden</li><br>"
   ]
  },
  {
   "cell_type": "code",
   "execution_count": 38,
   "metadata": {},
   "outputs": [
    {
     "name": "stdout",
     "output_type": "stream",
     "text": [
      "['__abs__', '__add__', '__and__', '__bool__', '__ceil__', '__class__', '__delattr__', '__dir__', '__divmod__', '__doc__', '__eq__', '__float__', '__floor__', '__floordiv__', '__format__', '__ge__', '__getattribute__', '__getnewargs__', '__gt__', '__hash__', '__index__', '__init__', '__init_subclass__', '__int__', '__invert__', '__le__', '__lshift__', '__lt__', '__mod__', '__mul__', '__ne__', '__neg__', '__new__', '__or__', '__pos__', '__pow__', '__radd__', '__rand__', '__rdivmod__', '__reduce__', '__reduce_ex__', '__repr__', '__rfloordiv__', '__rlshift__', '__rmod__', '__rmul__', '__ror__', '__round__', '__rpow__', '__rrshift__', '__rshift__', '__rsub__', '__rtruediv__', '__rxor__', '__setattr__', '__sizeof__', '__str__', '__sub__', '__subclasshook__', '__truediv__', '__trunc__', '__xor__', 'as_integer_ratio', 'bit_length', 'conjugate', 'denominator', 'from_bytes', 'imag', 'numerator', 'real', 'to_bytes']\n"
     ]
    }
   ],
   "source": [
    "#Use the dir() function to see the number of magic methods inherited by a class int.\n",
    "print(dir(int))"
   ]
  },
  {
   "cell_type": "code",
   "execution_count": 39,
   "metadata": {},
   "outputs": [
    {
     "data": {
      "text/plain": [
       "False"
      ]
     },
     "execution_count": 39,
     "metadata": {},
     "output_type": "execute_result"
    }
   ],
   "source": [
    "# __ge__() method class to overload the >= operator.\n",
    "class distance:\n",
    "    def __init__(self, x=None,y=None):\n",
    "        self.ft=x\n",
    "        self.inch=y\n",
    "    def __ge__(self, x):\n",
    "        val1=self.ft*12+self.inch\n",
    "        val2=x.ft*12+x.inch\n",
    "        if val1>=val2:\n",
    "            return True\n",
    "        else:\n",
    "            return False\n",
    "        \n",
    "d1=distance(2,1)\n",
    "d2=distance(4,10)\n",
    "#using >= to compare two objects\n",
    "d1>=d2"
   ]
  },
  {
   "cell_type": "markdown",
   "metadata": {},
   "source": [
    "<b><h4 style=\"color:#028E8B;\" >Important Magic Methods</h4>\n",
    "<br>\n",
    "<li>The following image list important magic methods in Python 3.</li><br>\n",
    "<center><img src='https://devopedia.org/images/article/366/8142.1641661840.svg' width=\"700\" height=\"200\"></center>"
   ]
  },
  {
   "cell_type": "markdown",
   "metadata": {},
   "source": [
    "<b><h2 style=\"color:#FF5733;\" >Polymorphism FAQ's :</h2><br>\n",
    "<li>What is Polymorphism ?</li><br>\n",
    "<li>What are the types of Polymorphism  ?</li><br>\n",
    "<li>What is method overloading ?</li><br>\n",
    "<li>What is operator overloading ?</li><br>\n",
    "<li>What is method overriding ?</li><br>\n",
    "<li>How is Inheritance useful to achieve Polymorphism ?</li><br>\n",
    "<li>What are the advantages of Polymorphism?</li><br>\n",
    "<li>What are the differences between Polymorphism and Inheritance ?</li><br>\n",
    "<li>Is it possible to implement method over loading in python ?</li><br>\n",
    "<li>What are magic methods in python ?</li>"
   ]
  },
  {
   "cell_type": "markdown",
   "metadata": {},
   "source": [
    "&copy; **Nitheesh Reddy**"
   ]
  }
 ],
 "metadata": {
  "kernelspec": {
   "display_name": "Python 3",
   "language": "python",
   "name": "python3"
  },
  "language_info": {
   "codemirror_mode": {
    "name": "ipython",
    "version": 3
   },
   "file_extension": ".py",
   "mimetype": "text/x-python",
   "name": "python",
   "nbconvert_exporter": "python",
   "pygments_lexer": "ipython3",
   "version": "3.8.5"
  }
 },
 "nbformat": 4,
 "nbformat_minor": 4
}

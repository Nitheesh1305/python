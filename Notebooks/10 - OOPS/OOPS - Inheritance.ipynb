{
 "cells": [
  {
   "cell_type": "markdown",
   "metadata": {},
   "source": [
    "<b><h1 style=\"color:#ff0066;\" ><center>Inheritance In Python</center></h1><br>\n",
    "<img src='https://www.fireblazeaischool.in/blogs/wp-content/uploads/2020/06/Inheritance-In-Python-1024x576.png' width=\"600\" height=\"600\">"
   ]
  },
  {
   "cell_type": "markdown",
   "metadata": {},
   "source": [
    "<b><h1 style=\"color:#cc33ff;\" >What is meant by Inheritance ?</h1>\n",
    "<br>\n",
    "<li>Simply, Inheritance is when a class uses code constructed within another class.</li><br>\n",
    "<li>Inheritance enables us to define a class that takes all the functionality from a parent class and allows us to add more</li><br>\n",
    "<li>In terms of biology, we can think of a child inheriting certain traits from their parents.</li> \n",
    "<h3 style=\"color:#FF900C;\" >Parent Class :  </h3><br>\n",
    "<li>It is the class being inherited from, also called a base class.</li>\n",
    "<h3 style=\"color:#FF900C;\" >Child Class :  </h3><br>\n",
    "<li>It is the class that inherits from another class, also called a derived class.</li><br>\n",
    "<img src='https://www.scaler.com/topics/images/advantages-of-inheritance-in-python.gif' width=\"700\" height=\"700\" >"
   ]
  },
  {
   "cell_type": "markdown",
   "metadata": {},
   "source": [
    "<b><h1 style=\"color:#FF5733;\" >Benefits of Inheritance :</h1>\n",
    "<br>\n",
    "<li>Code re usability, here are many possible methods to let you reuse the same functions and properties in your code.</li><br>\n",
    "<li>It is transitive in nature, which means if class B inherits from another class A, then all subclasses of B would automatically inherit from class A.</li><br>\n",
    "<li>Less Development : Changes just need to be made in the base class, all derived classes will automatically follow.</li><br>\n",
    "<li>Modular Codebase: Increases modularity i.e. breaking down codebase into modules which makes it easier to understand. </li>\n"
   ]
  },
  {
   "cell_type": "code",
   "execution_count": 1,
   "metadata": {},
   "outputs": [],
   "source": [
    "#Suppose you have the following Person class:Parent Class\n",
    "class Person:\n",
    "    def __init__(self, name):\n",
    "        self.name = name\n",
    "\n",
    "    def greet(self):\n",
    "        return f\"Hi, it's {self.name}\""
   ]
  },
  {
   "cell_type": "code",
   "execution_count": 2,
   "metadata": {},
   "outputs": [],
   "source": [
    "#Now, you want to define the Employee that is similar to the Person class:\n",
    "class Employee:\n",
    "    def __init__(self, name, job_title):\n",
    "        self.name = name\n",
    "        self.job_title = job_title\n",
    "\n",
    "    def greet(self):\n",
    "        return f\"Hi, it's {self.name}\""
   ]
  },
  {
   "cell_type": "code",
   "execution_count": 3,
   "metadata": {},
   "outputs": [],
   "source": [
    "#The following redefines the Employee class that inherits from the Person class:Child Class\n",
    "\n",
    "class Employee(Person):\n",
    "    '''\n",
    "    The Person class is the parent class, the base class, or the super class of the Employee class\n",
    "    The Employee class is a child class, a derived class, or a subclass of the Person class.\n",
    "    '''\n",
    "    def __init__(self, name, job_title):\n",
    "        self.name = name\n",
    "        self.job_title = job_title"
   ]
  },
  {
   "cell_type": "code",
   "execution_count": 4,
   "metadata": {},
   "outputs": [
    {
     "name": "stdout",
     "output_type": "stream",
     "text": [
      "Hi, it's John\n"
     ]
    }
   ],
   "source": [
    "employee = Employee('John', 'Python Developer') #object\n",
    "print(employee.greet())"
   ]
  },
  {
   "cell_type": "code",
   "execution_count": 5,
   "metadata": {},
   "outputs": [
    {
     "name": "stdout",
     "output_type": "stream",
     "text": [
      "['__class__', '__delattr__', '__dict__', '__dir__', '__doc__', '__eq__', '__format__', '__ge__', '__getattribute__', '__gt__', '__hash__', '__init__', '__init_subclass__', '__le__', '__lt__', '__module__', '__ne__', '__new__', '__reduce__', '__reduce_ex__', '__repr__', '__setattr__', '__sizeof__', '__str__', '__subclasshook__', '__weakref__', 'greet']\n"
     ]
    }
   ],
   "source": [
    "print(dir(Employee))"
   ]
  },
  {
   "cell_type": "code",
   "execution_count": 6,
   "metadata": {},
   "outputs": [
    {
     "name": "stdout",
     "output_type": "stream",
     "text": [
      "True\n"
     ]
    }
   ],
   "source": [
    "#To check if an object is an instance of a class, you use the isinstance() method\n",
    "print(isinstance(employee, Person)) "
   ]
  },
  {
   "cell_type": "code",
   "execution_count": 8,
   "metadata": {},
   "outputs": [
    {
     "name": "stdout",
     "output_type": "stream",
     "text": [
      "True\n"
     ]
    }
   ],
   "source": [
    "#To check if a class is a subclass of another class, you use the issubclass() function. \n",
    "print(issubclass(Employee, Person)) "
   ]
  },
  {
   "cell_type": "markdown",
   "metadata": {},
   "source": [
    "<b><h1 style=\"color:#cc33ff;\" >Types Inheritance </h1>\n",
    "<br>\n",
    "Depending upon the number of classes(i.e. Child and parent classes). There are five types of inheritance in Python.\n",
    "<br><br>\n",
    "<li>Single Inheritance</li><br>\n",
    "<li>Multiple Inheritance</li><br>\n",
    "<li>Multilevel Inheritance</li><br>\n",
    "<li>Hierarchical Inheritance</li><br>\n",
    "<li>Hybrid Inheritance</li>"
   ]
  },
  {
   "cell_type": "markdown",
   "metadata": {},
   "source": [
    "<b><h1 style=\"color:#028E8B;\" >Single Inheritance</h1>\n",
    "<br>\n",
    "<li>Single Inheritance is the simplest form of inheritance where a single child class is derived from a single parent class</li><br>\n",
    "<li> Due to its candid nature, it is also known as simple inheritance.</li><br>\n",
    "<img src=\"https://pynative.com/wp-content/uploads/2021/03/python_single_inheritance.png\">"
   ]
  },
  {
   "cell_type": "code",
   "execution_count": 10,
   "metadata": {},
   "outputs": [
    {
     "name": "stdout",
     "output_type": "stream",
     "text": [
      "Inside Vehicle class\n",
      "Inside Car class\n"
     ]
    }
   ],
   "source": [
    "#Single Inheritance\n",
    "\n",
    "# Base class\n",
    "class Vehicle:\n",
    "    def Vehicle_info(self):\n",
    "        print('Inside Vehicle class')\n",
    "\n",
    "# Child class\n",
    "class Car(Vehicle):\n",
    "    def car_info(self):\n",
    "        print('Inside Car class')\n",
    "\n",
    "# Create object of Car\n",
    "car = Car()\n",
    "\n",
    "# access Vehicle's info using car object\n",
    "car.Vehicle_info()\n",
    "car.car_info()"
   ]
  },
  {
   "cell_type": "markdown",
   "metadata": {},
   "source": [
    "<b><h1 style=\"color:#028E8B;\" >Multiple Inheritance</h1>\n",
    "<br>\n",
    "<li>In multiple inheritance, one child class can inherit from multiple parent classes</li><br>\n",
    "<li>So here is one child class and multiple parent classes.</li><br>\n",
    "<img src=\"https://pynative.com/wp-content/uploads/2021/03/python_multiple_inheritance.png\">"
   ]
  },
  {
   "cell_type": "code",
   "execution_count": 22,
   "metadata": {},
   "outputs": [
    {
     "name": "stdout",
     "output_type": "stream",
     "text": [
      "Inside Person class\n",
      "Name: Jessa Age: 28\n",
      "\n",
      "Inside Company class\n",
      "Name: Google location: Atlanta\n",
      "\n",
      "Inside Employee class\n",
      "Salary: 12000 Skill: Machine Learning\n"
     ]
    }
   ],
   "source": [
    "# Parent class 1\n",
    "class Person:\n",
    "    def person_info(self, name, age):\n",
    "        print('Inside Person class')\n",
    "        print('Name:', name, 'Age:', age)\n",
    "\n",
    "# Parent class 2\n",
    "class Company:\n",
    "    def company_info(self, company_name, location):\n",
    "        print('Inside Company class')\n",
    "        print('Name:', company_name, 'location:', location)\n",
    "\n",
    "# Child class\n",
    "class Employee(Person, Company):\n",
    "    def Employee_info(self, salary, skill):\n",
    "        print('Inside Employee class')\n",
    "        print('Salary:', salary, 'Skill:', skill)\n",
    "\n",
    "# Create object of Employee\n",
    "emp = Employee()\n",
    "\n",
    "# access data\n",
    "emp.person_info('Jessa', 28)\n",
    "print()\n",
    "emp.company_info('Google', 'Atlanta')\n",
    "print()\n",
    "emp.Employee_info(12000, 'Machine Learning')"
   ]
  },
  {
   "cell_type": "code",
   "execution_count": 8,
   "metadata": {},
   "outputs": [
    {
     "name": "stdout",
     "output_type": "stream",
     "text": [
      "Hello Parent1\n",
      "Hello Parent3\n",
      "Hello Child\n",
      "(<class '__main__.child'>, <class '__main__.parent1'>, <class '__main__.parent3'>, <class '__main__.parent2'>, <class 'object'>)\n"
     ]
    }
   ],
   "source": [
    "#However, if two parents have the same “named” methods, \n",
    "#the child class performs the method of the first parent in order of reference\n",
    " \n",
    "class parent1:                      # first parent class\n",
    "    def func1(self):                   \n",
    "        print(\"Hello Parent1\")\n",
    " \n",
    "class parent2:                      # second parent class\n",
    "    def func2(self):                   \n",
    "        print(\"Hello Parent2\")\n",
    "  \n",
    "class parent3:                      # third parent class\n",
    "    def func2(self):                # the function name is same as parent2\n",
    "        print(\"Hello Parent3\")\n",
    " \n",
    "class child(parent1, parent3, parent2):     # child class\n",
    "    def func3(self):                        # we include the parent classes\n",
    "        print(\"Hello Child\")                # as an argument comma separated\n",
    "                           \n",
    "# Driver Code\n",
    "test = child()        # object created\n",
    "test.func1()          # parent1 method called via child\n",
    "test.func2()          # parent2 method called via child instead of parent3\n",
    "test.func3()          # child method called\n",
    " \n",
    "# to find the order of classes visited by the child class, we use __mro__ (Method Resolution Order)on the child class\n",
    "print(child.__mro__)"
   ]
  },
  {
   "cell_type": "markdown",
   "metadata": {},
   "source": [
    "<b><h1 style=\"color:#028E8B;\" >Multilevel inheritance</h1>\n",
    "<br>\n",
    "<li>We can also inherit from a derived class. This is called multilevel inheritance.</li><br>\n",
    "<li>Suppose three classes A, B, C. A is the superclass, B is the child class of A, C is the child class of B.</li><br>\n",
    "<li>In other words, we can say a chain of classes is called multilevel inheritance.</li><br>\n",
    "<img src=\"https://pynative.com/wp-content/uploads/2021/03/python_multilevel_inheritance.png\">"
   ]
  },
  {
   "cell_type": "code",
   "execution_count": 9,
   "metadata": {},
   "outputs": [
    {
     "name": "stdout",
     "output_type": "stream",
     "text": [
      "Inside Vehicle class\n",
      "Inside Car class\n",
      "Inside SportsCar class\n"
     ]
    }
   ],
   "source": [
    "#Multi level Inheritence\n",
    "# Base class\n",
    "class Vehicle:\n",
    "    def Vehicle_info(self):\n",
    "        print('Inside Vehicle class')\n",
    "\n",
    "# Child class for Vechile , Parent Class for SportsCar\n",
    "class Car(Vehicle):\n",
    "    def car_info(self):\n",
    "        print('Inside Car class')\n",
    "\n",
    "# Child class\n",
    "class SportsCar(Car):\n",
    "    def sports_car_info(self):\n",
    "        print('Inside SportsCar class')\n",
    "\n",
    "# Create object of SportsCar\n",
    "s_car = SportsCar()\n",
    "\n",
    "# access Vehicle's and Car info using SportsCar object\n",
    "s_car.Vehicle_info()\n",
    "s_car.car_info()\n",
    "s_car.sports_car_info()"
   ]
  },
  {
   "cell_type": "markdown",
   "metadata": {},
   "source": [
    "<b><h1 style=\"color:#028E8B;\" >Hierarchical Inheritance</h1>\n",
    "<br>\n",
    "<li>In Hierarchical inheritance, more than one child class is derived from a single parent class</li><br>\n",
    "<li>In other words, we can say one parent class and multiple child classes.</li><br>\n",
    "<li>Hierarchical Inheritance is the right opposite of multiple inheritance</li><br>\n",
    "<img src=\"https://pynative.com/wp-content/uploads/2021/03/python_hierarchical_inheritance.png\">"
   ]
  },
  {
   "cell_type": "code",
   "execution_count": 25,
   "metadata": {},
   "outputs": [
    {
     "name": "stdout",
     "output_type": "stream",
     "text": [
      "This is Vehicle\n",
      "Car name is: BMW\n",
      "\n",
      "This is Vehicle\n",
      "Truck name is: Ford\n"
     ]
    }
   ],
   "source": [
    "#Hierarchical Inheritance\n",
    "\n",
    "#Base Class\n",
    "class Vehicle:                     \n",
    "    def info(self):\n",
    "        print(\"This is Vehicle\")\n",
    "        \n",
    "#Child Class 1\n",
    "class Car(Vehicle):\n",
    "    def car_info(self, name):\n",
    "        print(\"Car name is:\", name)\n",
    "        \n",
    "#Child Class 2\n",
    "class Truck(Vehicle):\n",
    "    def truck_info(self, name):\n",
    "        print(\"Truck name is:\", name)\n",
    "\n",
    "obj1 = Car()\n",
    "obj1.info() #info is method of parent class\n",
    "obj1.car_info('BMW')\n",
    "print()\n",
    "obj2 = Truck() \n",
    "obj2.info() #info is method of parent class\n",
    "obj2.truck_info('Ford')"
   ]
  },
  {
   "cell_type": "markdown",
   "metadata": {},
   "source": [
    "<b><h1 style=\"color:#028E8B;\" >Hybrid Inheritance</h1>\n",
    "<br>\n",
    "<li>When inheritance is consists of multiple types or a combination of different inheritance is called hybrid inheritance.</li><br>\n",
    "<li>Here we can have many to many relations between parent classes and child classes with multiple levels.</li><br>\n",
    "\n",
    "<img src=\"https://pynative.com/wp-content/uploads/2021/03/python_hybrid_inheritance.png\">"
   ]
  },
  {
   "cell_type": "code",
   "execution_count": 31,
   "metadata": {},
   "outputs": [
    {
     "name": "stdout",
     "output_type": "stream",
     "text": [
      "This is our family:\n",
      "Father : Mark\n",
      "Mother : Sonia\n"
     ]
    }
   ],
   "source": [
    "#Base Class\n",
    "class Family: \n",
    "    def show_family(self): \n",
    "        print(\"This is our family:\") \n",
    "\n",
    "# Father class inherited from Family \n",
    "class Father(Family): \n",
    "    fathername = \"\" \n",
    "    def show_father(self):\n",
    "        print(self.fathername) \n",
    "\n",
    "# Mother class inherited from Family \n",
    "class Mother(Family): \n",
    "    mothername = \"\"\n",
    "    def show_mother(self): \n",
    "        print(self.mothername)     #-->Hierarchical Inheritance\n",
    "\n",
    "# Son class inherited from Father and Mother classes \n",
    "class Son(Father, Mother):        #-->Multiple Inheritance\n",
    "    def show_parent(self):\n",
    "        print(\"Father :\", self.fathername) \n",
    "        print(\"Mother :\", self.mothername) \n",
    "\n",
    "\n",
    "s = Son() # Object of Son class \n",
    "s.fathername = \"Mark\" \n",
    "s.mothername = \"Sonia\" \n",
    "s.show_family()\n",
    "s.show_parent()"
   ]
  },
  {
   "cell_type": "markdown",
   "metadata": {},
   "source": [
    "<b><h1 style=\"color:#B228F3;\" >Super function</h1>\n",
    "<br>\n",
    "<li>In child class, we can refer to parent class by using the super() function.</li><br>\n",
    "<li>The super function returns a temporary object of the parent class that allows us to call a parent class method inside a child class method.</li><br>\n",
    "    \n",
    "<h3 style=\"color:#6833FF;\" >Benefits of using the super ( ) function. </h3><br>\n",
    "<li>We are not required to remember or specify the parent class name to access its methods.</li><br>\n",
    "<li>We can use the super ( ) function in both single and multiple inheritances.</li><br>\n",
    "<li>The super ( ) function support code reusability as there is no need to write the entire function</li>"
   ]
  },
  {
   "cell_type": "code",
   "execution_count": 32,
   "metadata": {},
   "outputs": [
    {
     "name": "stdout",
     "output_type": "stream",
     "text": [
      "Jessa works at Google\n"
     ]
    }
   ],
   "source": [
    "class Company:\n",
    "    def company_name(self):\n",
    "        return 'Google'\n",
    "\n",
    "class Employee(Company):\n",
    "    def info(self):\n",
    "        # Calling the superclass method using super()function\n",
    "        c_name = super().company_name()\n",
    "        print(\"Jessa works at\", c_name)\n",
    "\n",
    "# Creating object of child class\n",
    "emp = Employee()\n",
    "emp.info()"
   ]
  },
  {
   "cell_type": "markdown",
   "metadata": {},
   "source": [
    "<b><h1 style=\"color:#FF5733;\" >Disadvantages of Inheritance in Python :</h1>\n",
    "<br>\n",
    "<li>Decreases the Execution Speed: loading multiple classes because they are interdependent on each other</li><br>\n",
    "<li>Tightly Coupled Classes: this means that even though parent classes can be executed independently,<br><br> child classes cannot be executed without defining their parent classes.</li><br>\n",
    "\n"
   ]
  },
  {
   "cell_type": "markdown",
   "metadata": {},
   "source": [
    "&copy; **Nitheesh Reddy**"
   ]
  }
 ],
 "metadata": {
  "kernelspec": {
   "display_name": "Python 3",
   "language": "python",
   "name": "python3"
  },
  "language_info": {
   "codemirror_mode": {
    "name": "ipython",
    "version": 3
   },
   "file_extension": ".py",
   "mimetype": "text/x-python",
   "name": "python",
   "nbconvert_exporter": "python",
   "pygments_lexer": "ipython3",
   "version": "3.8.5"
  }
 },
 "nbformat": 4,
 "nbformat_minor": 4
}

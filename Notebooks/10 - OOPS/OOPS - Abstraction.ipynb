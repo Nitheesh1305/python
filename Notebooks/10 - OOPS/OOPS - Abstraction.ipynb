{
 "cells": [
  {
   "cell_type": "markdown",
   "metadata": {},
   "source": [
    "<b><h1 style=\"color:#ff0066;\" ><center>Data Abstraction In Python</center></h1><br>\n",
    "<center><img src='https://i.imgur.com/oWNUISB.png' width=\"600\" height=\"600\"></center>"
   ]
  },
  {
   "cell_type": "markdown",
   "metadata": {},
   "source": [
    "<b><h1 style=\"color:#cc33ff;\" >What Is Meant By Abstraction ?</h1>\n",
    "<br>\n",
    "<li>Abstraction aims to hide complexity from users and show them only relevant information..</li><br>\n",
    "<li>The main focus of data abstraction is to separate the interface and the implementation of the program</li><br>\n",
    "<li>For example, if you’re driving a car, you don’t need to know about its internal workings.</li> \n",
    "    \n",
    "<h3 style=\"color:#FF900C;\" >How abstraction can be achieved :  </h3><br>\n",
    "<li>Python abstraction can be achieved through the use of abstract classes and methods in programs</li><br>\n",
    "<center><img src='https://learnetutorials.com/assets/images/tutorials/encapsulation/abs.png' width=\"400\" height=\"400\"></center>\n",
    "    \n",
    "<h4 style=\"color:#cc33ff;\" >Abstract Class in Python :  </h4><br>\n",
    "<li>The classes that cannot be instantiated.</li><br>\n",
    "<li>This means that we cannot create objects of an abstract class and these are only meant to be inherited</li><br>\n",
    "<li>These are created to declare a set of methods that must be created in any child class built on top of abstract class.</li><br>\n",
    "<li>These are specifically defined to lay a foundation of other classes that exhibit common behavior.</li><br>\n",
    "<li>The abstract class is an interface which enable a sub class to inherit data and functions and extend it</li><br>\n",
    "<li>Abstract class just serves as a template/blueprint for other classes</li>\n",
    "\n",
    "<h4 style=\"color:#cc33ff;\" >Abstract Method in Python :  </h4><br>\n",
    "<li>Similarly, an abstract method is one that doesn't have any implementation.</li><br>\n",
    "<li> Abstract methods force the child classes to give the implementation of these methods in them.</li><br>\n",
    "<li>A class containing one or more  abstract method is called an abstract class.</li>\n",
    " \n",
    "<h3 style=\"color:#FF900C;\" >Benefits of Abstraction :</h3>\n",
    "<br>\n",
    "<li>Hides the underlying complexity of data.</li><br>\n",
    "<li>Helps avoid repetitive code.</li><br>\n",
    "<li>Presents only the signature of internal functionality.</li><br>\n",
    "<li>Gives flexibility to programmers to change the implementation of abstract behavior.</li>"
   ]
  },
  {
   "cell_type": "markdown",
   "metadata": {},
   "source": [
    "<b><h2 style=\"color:#FF5733;\" >Abstract Base Class :</h2>\n",
    "<br>\n",
    "<li>Unlike other high-level programming languages, Python does not provide the abstract class itself</li><br>\n",
    "<li>To achieve that, we use the abc module of Python, which provides the base and necessary tools for defining<br><br>  Abstract Base Classes (ABC).</li><br>\n",
    "We can use the following syntax to create an abstract class in Python : <br>\n",
    "<pre>from abc import ABC\n",
    "class <Abstract_Class_Name>(ABC):\n",
    "\t# body of the class\n",
    "</pre>\n",
    "<li>To define an abstract method we use the @abstractmethod decorator of the abc module.</li><br>\n",
    "We can use the following syntax to create an abstract method in Python :<br>\n",
    "<pre>from abc import ABC\n",
    "class <Abstract_Class_Name>(ABC):\n",
    "    def <abstract_method_name>(self,other_parameters):\n",
    "    Pass\n",
    "</pre>"
   ]
  },
  {
   "cell_type": "code",
   "execution_count": 2,
   "metadata": {},
   "outputs": [],
   "source": [
    "# let's take following example to demonstrate abstract classes:\n",
    "from abc import ABC, abstractmethod\n",
    "class DemoAbstractClass(ABC):\n",
    "    @abstractmethod\n",
    "    def abstract_method_name(self):\n",
    "        Pass"
   ]
  },
  {
   "cell_type": "markdown",
   "metadata": {},
   "source": [
    "<b><h3 style=\"color:#024C4C;\" >Python Abstract Class Example :</h3>"
   ]
  },
  {
   "cell_type": "code",
   "execution_count": 2,
   "metadata": {},
   "outputs": [],
   "source": [
    "#Let’s create a basic abstract class Shape which would contain the blueprint for specific shapes\n",
    "from abc import ABC, abstractmethod\n",
    " \n",
    "class Shape(ABC):\n",
    "    def __init__(self, shape_name):\n",
    "        self.shape_name = shape_name\n",
    "    \n",
    "    @abstractmethod\n",
    "    def draw(self):\n",
    "        pass"
   ]
  },
  {
   "cell_type": "code",
   "execution_count": 3,
   "metadata": {},
   "outputs": [
    {
     "name": "stdout",
     "output_type": "stream",
     "text": [
      "Drawing a Circle\n"
     ]
    }
   ],
   "source": [
    "#Lets create a class Circle that will inherit the Shape class and implement the draw() method. \n",
    "class Circle(Shape):\n",
    "    def __init__(self):\n",
    "        super().__init__(\"circle\")\n",
    " \n",
    "    def draw(self):\n",
    "        print(\"Drawing a Circle\")\n",
    "        \n",
    "#create a circle object\n",
    "circle = Circle()\n",
    "circle.draw()"
   ]
  },
  {
   "cell_type": "code",
   "execution_count": 4,
   "metadata": {},
   "outputs": [
    {
     "name": "stdout",
     "output_type": "stream",
     "text": [
      "Drawing a Triangle\n"
     ]
    }
   ],
   "source": [
    "#Lets create a class Triangle that will inherit the Shape class and implement the draw() method. \n",
    "\n",
    "class Triangle(Shape):\n",
    "    def __init__(self):\n",
    "        super().__init__(\"triangle\")\n",
    "    def draw(self):\n",
    "        print(\"Drawing a Triangle\")\n",
    "\n",
    "#create a triangle object\n",
    "triangle = Triangle()\n",
    "triangle.draw()"
   ]
  },
  {
   "cell_type": "markdown",
   "metadata": {},
   "source": [
    "<b><h3 style=\"color:#024C4C;\" >Importance of Abstract Classes :</h3>\n",
    "<br>\n",
    "<li>The importance of using abstract class in Python is that if our subclasses don’t follow that blueprint,<br><br> Python will give an error.</li><br>\n",
    "<li>Thus we can make sure that our classes follow the structure and implement all the abstract methods<br><br>  defined in our abstract class.</li>"
   ]
  },
  {
   "cell_type": "code",
   "execution_count": 6,
   "metadata": {},
   "outputs": [
    {
     "ename": "TypeError",
     "evalue": "Can't instantiate abstract class Circle with abstract methods draw",
     "output_type": "error",
     "traceback": [
      "\u001b[1;31m---------------------------------------------------------------------------\u001b[0m",
      "\u001b[1;31mTypeError\u001b[0m                                 Traceback (most recent call last)",
      "\u001b[1;32m<ipython-input-6-f6cfba957473>\u001b[0m in \u001b[0;36m<module>\u001b[1;34m\u001b[0m\n\u001b[0;32m      8\u001b[0m \u001b[1;33m\u001b[0m\u001b[0m\n\u001b[0;32m      9\u001b[0m \u001b[1;31m#create a circle object\u001b[0m\u001b[1;33m\u001b[0m\u001b[1;33m\u001b[0m\u001b[1;33m\u001b[0m\u001b[0m\n\u001b[1;32m---> 10\u001b[1;33m \u001b[0mcircle\u001b[0m \u001b[1;33m=\u001b[0m \u001b[0mCircle\u001b[0m\u001b[1;33m(\u001b[0m\u001b[1;33m)\u001b[0m\u001b[1;33m\u001b[0m\u001b[1;33m\u001b[0m\u001b[0m\n\u001b[0m",
      "\u001b[1;31mTypeError\u001b[0m: Can't instantiate abstract class Circle with abstract methods draw"
     ]
    }
   ],
   "source": [
    "#Let’s see what happens if we do that\n",
    "class Circle(Shape):\n",
    "    def __init__(self):\n",
    "        super().__init__(\"circle\")\n",
    " \n",
    "    def draw_circle(self):\n",
    "        print(\"drawing circle\")\n",
    "        \n",
    "#create a circle object\n",
    "circle = Circle()"
   ]
  },
  {
   "cell_type": "markdown",
   "metadata": {},
   "source": [
    "<b><h3 style=\"color:#024C4C;\" >Abstract Properties  </h3>\n",
    "<br>\n",
    "<li>Abstract class in Python also provides the functionality of abstract properties in addition to abstract methods</li><br>\n",
    "<li>The abc module has a @abstractproperty decorator to use abstract properties</li>"
   ]
  },
  {
   "cell_type": "code",
   "execution_count": 12,
   "metadata": {},
   "outputs": [],
   "source": [
    "from abc import ABC, abstractmethod, abstractproperty\n",
    " \n",
    "class Shape(ABC):\n",
    "    def __init__(self, shape_name):\n",
    "        self.shape_name = shape_name\n",
    "    \n",
    "    @abstractproperty\n",
    "    def name(self):\n",
    "        pass\n",
    "     \n",
    "    @abstractmethod\n",
    "    def draw(self):\n",
    "        pass"
   ]
  },
  {
   "cell_type": "code",
   "execution_count": 14,
   "metadata": {},
   "outputs": [
    {
     "ename": "TypeError",
     "evalue": "Can't instantiate abstract class Circle with abstract methods draw, name",
     "output_type": "error",
     "traceback": [
      "\u001b[1;31m---------------------------------------------------------------------------\u001b[0m",
      "\u001b[1;31mTypeError\u001b[0m                                 Traceback (most recent call last)",
      "\u001b[1;32m<ipython-input-14-4e8f9859ccea>\u001b[0m in \u001b[0;36m<module>\u001b[1;34m\u001b[0m\n\u001b[0;32m      6\u001b[0m         \u001b[0mprint\u001b[0m\u001b[1;33m(\u001b[0m\u001b[1;34m\"drawing circle\"\u001b[0m\u001b[1;33m)\u001b[0m\u001b[1;33m\u001b[0m\u001b[1;33m\u001b[0m\u001b[0m\n\u001b[0;32m      7\u001b[0m \u001b[1;33m\u001b[0m\u001b[0m\n\u001b[1;32m----> 8\u001b[1;33m \u001b[0mcircle\u001b[0m \u001b[1;33m=\u001b[0m \u001b[0mCircle\u001b[0m\u001b[1;33m(\u001b[0m\u001b[1;33m)\u001b[0m\u001b[1;33m\u001b[0m\u001b[1;33m\u001b[0m\u001b[0m\n\u001b[0m",
      "\u001b[1;31mTypeError\u001b[0m: Can't instantiate abstract class Circle with abstract methods draw, name"
     ]
    }
   ],
   "source": [
    "class Circle(Shape):\n",
    "    def __init__(self):\n",
    "        super().__init__(\"circle\")\n",
    " \n",
    "    def draw_circle(self):\n",
    "        print(\"drawing circle\")\n",
    "        \n",
    "circle = Circle()"
   ]
  },
  {
   "cell_type": "code",
   "execution_count": 18,
   "metadata": {},
   "outputs": [
    {
     "name": "stdout",
     "output_type": "stream",
     "text": [
      "The shape name is: circle\n"
     ]
    }
   ],
   "source": [
    "# Let’s rectify this by defining the name property in the Circle class:\n",
    "class Circle(Shape):\n",
    "    def __init__(self):\n",
    "        super().__init__(\"circle\")\n",
    "    @property\n",
    "    def name(self):\n",
    "        return self.shape_name\n",
    "    def draw(self):    \n",
    "        print(\"Drawing a Circle\")\n",
    "        \n",
    "circle = Circle()\n",
    "print(f\"The shape name is: {circle.name}\")"
   ]
  },
  {
   "cell_type": "markdown",
   "metadata": {},
   "source": [
    "<b><h3 style=\"color:#028E8B;\" >Abstract Class Instantiation</h3>\n",
    "<br>\n",
    "<li>Abstract classes are not complete as they may have some methods that are not defined</li><br>\n",
    "<li>So we cannot create an instance or object of an abstract class in Python.</li>"
   ]
  },
  {
   "cell_type": "code",
   "execution_count": 8,
   "metadata": {},
   "outputs": [
    {
     "name": "stdout",
     "output_type": "stream",
     "text": [
      "===========ERROR OCCURRED===============\n",
      "Can't instantiate abstract class Shape with abstract methods draw\n"
     ]
    }
   ],
   "source": [
    "#Let’s verify this by trying to instantiate our Shape class\n",
    "try :\n",
    "    shape = Shape()\n",
    "except Exception as error:\n",
    "    print(\"===========ERROR OCCURRED===============\")\n",
    "    print(error)"
   ]
  },
  {
   "cell_type": "markdown",
   "metadata": {},
   "source": [
    "<b><h3 style=\"color:#028E8B;\" >Invoke Methods from Abstract Classes</h3>\n",
    "<br>\n",
    "<li>Unlike some other programming languages, Python abstract methods don’t need to be completely abstract</li><br>\n",
    "<li>They can have some basic level implementation that can be used by all the concrete classes.</li><br>\n",
    "<li>A Concrete class is a class that has a definition for all its methods and has no abstract method.</li>"
   ]
  },
  {
   "cell_type": "code",
   "execution_count": 21,
   "metadata": {},
   "outputs": [
    {
     "name": "stdout",
     "output_type": "stream",
     "text": [
      "Preparing the Canvas\n",
      "Drawing a Circle\n"
     ]
    }
   ],
   "source": [
    "from abc import ABC, abstractmethod, abstractproperty\n",
    "#Abstract Class \n",
    "class Shape(ABC):\n",
    "    def __init__(self, shape_name):\n",
    "        self.shape_name = shape_name\n",
    "    \n",
    "    @abstractmethod\n",
    "    def draw(self):\n",
    "        print(\"Preparing the Canvas\")\n",
    "        \n",
    "#Concret Class\n",
    "class Circle(Shape):\n",
    "    def __init__(self):\n",
    "        super().__init__(\"circle\")\n",
    " \n",
    "    def draw(self):\n",
    "        super().draw()\n",
    "        print(\"Drawing a Circle\")\n",
    "\n",
    "#create a circle object\n",
    "circle = Circle()\n",
    "circle.draw()"
   ]
  },
  {
   "cell_type": "markdown",
   "metadata": {},
   "source": [
    "<b><h3 style=\"color:#028E8B;\" >Concrete Methods in Abstract Base Classes</h3>\n",
    "<br>\n",
    "<li>The abstract classes may also contain concrete methods that have the implementation of the method <br><br>and can be used by all the concrete classes.</li><br>\n",
    "<li>To define a concrete method in an abstract class, we simply define a method with implementation <br><br>and don’t decorate it with the @abstractmethod decorator.</li><br>\n",
    "<li> If needed, we may also override this concrete method in the concrete class to provide any <br><br>additional functionality as per user needs</li><br>\n",
    "    <li>These methods will help to reduce the repeated code </li><br>\n",
    "<center><img src='https://scaler.com/topics/images/abstraction-in-python.webp' width=\"600\" height=\"350\"></center>"
   ]
  },
  {
   "cell_type": "code",
   "execution_count": 22,
   "metadata": {},
   "outputs": [],
   "source": [
    "from abc import ABC,abstractmethod\n",
    " \n",
    "class Animal(ABC):\n",
    "    #concrete method\n",
    "    def sleep(self):\n",
    "        print(\"I am going to sleep in a while\")\n",
    " \n",
    "    @abstractmethod\n",
    "    def sound(self):\n",
    "        print(\"This function is for defining the sound by any animal\")\n",
    "        pass\n",
    " \n",
    "class Snake(Animal):\n",
    "    def sound(self):\n",
    "        print(\"I can hiss\")\n",
    " \n",
    "class Dog(Animal):\n",
    "    def sound(self):\n",
    "        print(\"I can bark\")\n",
    " \n",
    "class Lion(Animal):\n",
    "    def sound(self):\n",
    "        print(\"I can roar\")\n",
    "       \n",
    "class Cat(Animal):\n",
    "    def sound(self):\n",
    "        print(\"I can meow\")"
   ]
  },
  {
   "cell_type": "code",
   "execution_count": 24,
   "metadata": {},
   "outputs": [
    {
     "name": "stdout",
     "output_type": "stream",
     "text": [
      "I am going to sleep in a while\n",
      "I can meow\n",
      "I am going to sleep in a while\n",
      "I can hiss\n"
     ]
    }
   ],
   "source": [
    "c = Cat()\n",
    "c.sleep()\n",
    "c.sound()\n",
    " \n",
    "c = Snake()\n",
    "c.sleep()\n",
    "c.sound()"
   ]
  },
  {
   "cell_type": "code",
   "execution_count": 25,
   "metadata": {},
   "outputs": [
    {
     "name": "stdout",
     "output_type": "stream",
     "text": [
      "This function is for defining the sound by any animal\n",
      "I can squeak\n"
     ]
    }
   ],
   "source": [
    "#we can access the sound() function of the base class itself - Invoke Methods from Abstract Classes\n",
    "class Rabbit(Animal): \n",
    "    def sound(self):\n",
    "        super().sound()\n",
    "        print(\"I can squeak\")\n",
    " \n",
    "c = Rabbit()\n",
    "c.sound()"
   ]
  },
  {
   "cell_type": "markdown",
   "metadata": {},
   "source": [
    "<b><h2 style=\"color:#FF5733;\" >Abstraction Vs Encapsulation :</h2>\n",
    "<br>\n",
    "<li>Encapsulation means-hiding data like using getter and setter etc.</li><br>\n",
    "<li>Abstraction means- hiding implementation using abstract class and interfaces etc.</li><br>\n",
    "<li>Abstraction\tsolves an issue at the design level.</li><br>\n",
    "<li>Encapsulation solves an issue at implementation level.</li><br>\n",
    "<center><img src='https://i.stack.imgur.com/4Mcwq.png' width=\"600\" height=\"200\"></center>"
   ]
  },
  {
   "cell_type": "markdown",
   "metadata": {},
   "source": [
    "<b><h2 style=\"color:#FF5733;\" >Summary :</h2><br>\n",
    "<li>Data Abstraction firstly saves a lot of our time as we do not have to repeat the code that is same for all  classes.</li><br>\n",
    "<li>Moreover, if there are any additional features, they can be easily added, thus improving flexibility.</li><br>\n",
    "<li>We can make abstract classes in Python using abc module of Python.</li><br>\n",
    "<li>We can implement abstract classes by inheriting the ABC class.</li><br>\n",
    "<li>We use @abstractmethod decorators to define abstract methods in Python.</li><br>\n",
    "<li>Abstract classes help to provide the blueprint for another class.</li><br>\n",
    "<li>Abstract classes may contain concrete methods.</li><br>\n",
    "<li>Abstract classes cannot be instantiated.</li>"
   ]
  },
  {
   "cell_type": "markdown",
   "metadata": {},
   "source": [
    "<b><h2 style=\"color:#FF5733;\" >Data Abstraction FAQ's :</h2><br>\n",
    "<li>What is data abstraction ?</li><br>\n",
    "<li>How to achieve data abstraction ?</li><br>\n",
    "<li>What is an abstract class ?</li><br>\n",
    "<li>Can you create an instance of an abstract class ?</li><br>\n",
    "<li>What is an interface ?</li><br>\n",
    "<li>Differentiate between data abstraction and encapsulation.</li>"
   ]
  },
  {
   "cell_type": "markdown",
   "metadata": {},
   "source": [
    "&copy; **Nitheesh Reddy**"
   ]
  }
 ],
 "metadata": {
  "kernelspec": {
   "display_name": "Python 3",
   "language": "python",
   "name": "python3"
  },
  "language_info": {
   "codemirror_mode": {
    "name": "ipython",
    "version": 3
   },
   "file_extension": ".py",
   "mimetype": "text/x-python",
   "name": "python",
   "nbconvert_exporter": "python",
   "pygments_lexer": "ipython3",
   "version": "3.8.5"
  }
 },
 "nbformat": 4,
 "nbformat_minor": 4
}
